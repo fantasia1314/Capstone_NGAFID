{
 "cells": [
  {
   "cell_type": "code",
   "execution_count": 1,
   "id": "a9032074",
   "metadata": {},
   "outputs": [
    {
     "name": "stdout",
     "output_type": "stream",
     "text": [
      "Num GPUs Available:  1\n"
     ]
    }
   ],
   "source": [
    "import tensorflow as tf\n",
    "print(\"Num GPUs Available: \", len(tf.config.list_physical_devices('GPU')))\n",
    "import pandas as pd \n",
    "import pydot\n",
    "import graphviz\n",
    "import numpy as np \n",
    "import seaborn as sns\n",
    "import random \n",
    "import matplotlib.pyplot as plt\n",
    "%matplotlib inline\n",
    "from sklearn.model_selection import train_test_split, KFold\n",
    "from sklearn import preprocessing\n",
    "\n",
    "tfku= tf.keras.utils\n",
    "tfk = tf.keras\n",
    "tfkl = tf.keras.layers"
   ]
  },
  {
   "cell_type": "code",
   "execution_count": 2,
   "id": "c16f9cce",
   "metadata": {},
   "outputs": [],
   "source": [
    "BATCH_SIZE = 32\n",
    "SHAPE = (4096, 23)\n",
    "BLOCK_SHAPE = (64, 23)\n",
    "EPOCHS = 30\n",
    "VARIABLES = 23\n",
    "NFOLD = 5 \n",
    "STEPS_PER_EPOCH = 200\n",
    "ID = 28"
   ]
  },
  {
   "cell_type": "code",
   "execution_count": 3,
   "id": "9ad27f44",
   "metadata": {},
   "outputs": [],
   "source": [
    "if ID == 28:\n",
    "    file='D:/Document/DSCI-601/NGAFID/NGAFID_MC_C28.csv'\n",
    "elif ID == 37:\n",
    "    file='D:/Document/DSCI-601/NGAFID/NGAFID_MC_C37.csv'\n",
    "else:\n",
    "    print('Invalid ID')\n",
    "df_test = pd.read_csv(file, nrows=100)\n",
    "float_cols = [c for c in df_test if df_test[c].dtype == \"float64\"]\n",
    "float32_cols = {c: np.float16 for c in float_cols}\n",
    "\n",
    "df = pd.read_csv(file, dtype=float32_cols, engine='c')\n",
    "df['id'] = df.id.astype('int32')\n",
    "df = df.dropna()"
   ]
  },
  {
   "cell_type": "code",
   "execution_count": 4,
   "id": "d767f07f",
   "metadata": {
    "scrolled": false
   },
   "outputs": [
    {
     "data": {
      "text/html": [
       "<div>\n",
       "<style scoped>\n",
       "    .dataframe tbody tr th:only-of-type {\n",
       "        vertical-align: middle;\n",
       "    }\n",
       "\n",
       "    .dataframe tbody tr th {\n",
       "        vertical-align: top;\n",
       "    }\n",
       "\n",
       "    .dataframe thead th {\n",
       "        text-align: right;\n",
       "    }\n",
       "</style>\n",
       "<table border=\"1\" class=\"dataframe\">\n",
       "  <thead>\n",
       "    <tr style=\"text-align: right;\">\n",
       "      <th></th>\n",
       "      <th></th>\n",
       "      <th>id</th>\n",
       "    </tr>\n",
       "    <tr>\n",
       "      <th>split</th>\n",
       "      <th>before_after</th>\n",
       "      <th></th>\n",
       "    </tr>\n",
       "  </thead>\n",
       "  <tbody>\n",
       "    <tr>\n",
       "      <th rowspan=\"2\" valign=\"top\">0</th>\n",
       "      <th>0</th>\n",
       "      <td>589</td>\n",
       "    </tr>\n",
       "    <tr>\n",
       "      <th>1</th>\n",
       "      <td>484</td>\n",
       "    </tr>\n",
       "    <tr>\n",
       "      <th rowspan=\"2\" valign=\"top\">1</th>\n",
       "      <th>0</th>\n",
       "      <td>555</td>\n",
       "    </tr>\n",
       "    <tr>\n",
       "      <th>1</th>\n",
       "      <td>449</td>\n",
       "    </tr>\n",
       "    <tr>\n",
       "      <th rowspan=\"2\" valign=\"top\">2</th>\n",
       "      <th>0</th>\n",
       "      <td>641</td>\n",
       "    </tr>\n",
       "    <tr>\n",
       "      <th>1</th>\n",
       "      <td>552</td>\n",
       "    </tr>\n",
       "    <tr>\n",
       "      <th rowspan=\"2\" valign=\"top\">3</th>\n",
       "      <th>0</th>\n",
       "      <td>343</td>\n",
       "    </tr>\n",
       "    <tr>\n",
       "      <th>1</th>\n",
       "      <td>282</td>\n",
       "    </tr>\n",
       "    <tr>\n",
       "      <th rowspan=\"2\" valign=\"top\">4</th>\n",
       "      <th>0</th>\n",
       "      <td>456</td>\n",
       "    </tr>\n",
       "    <tr>\n",
       "      <th>1</th>\n",
       "      <td>382</td>\n",
       "    </tr>\n",
       "  </tbody>\n",
       "</table>\n",
       "</div>"
      ],
      "text/plain": [
       "                     id\n",
       "split before_after     \n",
       "0     0             589\n",
       "      1             484\n",
       "1     0             555\n",
       "      1             449\n",
       "2     0             641\n",
       "      1             552\n",
       "3     0             343\n",
       "      1             282\n",
       "4     0             456\n",
       "      1             382"
      ]
     },
     "execution_count": 4,
     "metadata": {},
     "output_type": "execute_result"
    }
   ],
   "source": [
    "sources = df[['id', 'plane_id', 'split', 'date_diff', 'before_after']].drop_duplicates()\n",
    "sources.loc[: , ['split', 'before_after', 'id']].groupby(['split', 'before_after']).count()"
   ]
  },
  {
   "cell_type": "code",
   "execution_count": 5,
   "id": "d03f75fd",
   "metadata": {},
   "outputs": [],
   "source": [
    "input_columns = ['volt1',\n",
    " 'volt2',\n",
    " 'amp1',\n",
    " 'amp2',\n",
    " 'FQtyL',\n",
    " 'FQtyR',\n",
    " 'E1 FFlow',\n",
    " 'E1 OilT',\n",
    " 'E1 OilP',\n",
    " 'E1 RPM',\n",
    " 'E1 CHT1',\n",
    " 'E1 CHT2',\n",
    " 'E1 CHT3',\n",
    " 'E1 CHT4',\n",
    " 'E1 EGT1',\n",
    " 'E1 EGT2',\n",
    " 'E1 EGT3',\n",
    " 'E1 EGT4',\n",
    " 'OAT',\n",
    " 'IAS',\n",
    " 'VSpd',\n",
    " 'NormAc',\n",
    " 'AltMSL']"
   ]
  },
  {
   "cell_type": "code",
   "execution_count": 6,
   "id": "724fc0cc",
   "metadata": {},
   "outputs": [
    {
     "name": "stderr",
     "output_type": "stream",
     "text": [
      "D:\\Python-Anaconda\\envs\\tf\\lib\\site-packages\\sklearn\\base.py:450: UserWarning: X does not have valid feature names, but MinMaxScaler was fitted with feature names\n",
      "  warnings.warn(\n"
     ]
    }
   ],
   "source": [
    "preprocess = preprocessing.MinMaxScaler()\n",
    "preprocess.fit(df.loc[:, input_columns].sample(100000, random_state = 0 ))\n",
    "org_value = df.loc[:, input_columns].values\n",
    "res = preprocess.transform(org_value)\n",
    "for i, col in enumerate(input_columns):\n",
    "    df.loc[:, col] = res[:, i]"
   ]
  },
  {
   "cell_type": "code",
   "execution_count": 7,
   "id": "03a94172",
   "metadata": {},
   "outputs": [],
   "source": [
    "def get_dataset(df): \n",
    "\n",
    "    ids = df.id.unique()\n",
    "\n",
    "    sensor_datas = []\n",
    "    afters = [] \n",
    "\n",
    "    for id in ids: \n",
    "        sensor_data = df[df.id == id].iloc[-SHAPE[0]:, :23].values\n",
    "\n",
    "        sensor_data = np.pad(sensor_data, [[0, SHAPE[0]- len(sensor_data)], [0,0]])\n",
    "\n",
    "        sensor_data = tf.convert_to_tensor(sensor_data, dtype = tf.float32) \n",
    "\n",
    "        after = df[df.id == id]['before_after'].iloc[0]\n",
    "\n",
    "        sensor_datas.append(sensor_data)\n",
    "        afters.append(after)\n",
    "\n",
    "\n",
    "    sensor_datas = tf.stack(sensor_datas)\n",
    "    afters = np.stack(afters)\n",
    "\n",
    "    ds = tf.data.Dataset.from_tensor_slices( (sensor_datas, afters))\n",
    "    \n",
    "    return ds"
   ]
  },
  {
   "cell_type": "code",
   "execution_count": 8,
   "id": "7b1ab448",
   "metadata": {},
   "outputs": [],
   "source": [
    "def slice_random(x, y):\n",
    "    start = tf.random.uniform(shape=[], minval=0, maxval=4096-BLOCK_SHAPE[0], dtype=tf.int64)\n",
    "    x = x[start: start + BLOCK_SHAPE[0]]\n",
    "    x = tf.reshape(x, (BLOCK_SHAPE))\n",
    "    return x, y "
   ]
  },
  {
   "cell_type": "code",
   "execution_count": 9,
   "id": "841df979",
   "metadata": {},
   "outputs": [],
   "source": [
    "def fix_type(x, y):\n",
    "\n",
    "    return tf.cast(x, tf.float32), tf.cast(y, tf.float32)"
   ]
  },
  {
   "cell_type": "code",
   "execution_count": 10,
   "id": "cb464957",
   "metadata": {},
   "outputs": [],
   "source": [
    "def prepare_for_training(ds, shuffle = False, repeat = False, predict= True):\n",
    "    \n",
    "    ds = ds.map(fix_type)\n",
    "    ds = ds.map(slice_random)\n",
    "\n",
    "    ds = ds.shuffle(512) if shuffle else ds \n",
    "    ds = ds.repeat() if repeat else ds \n",
    "    ds = ds.batch(BATCH_SIZE, drop_remainder=True)\n",
    "\n",
    "    if not predict: \n",
    "        ds = ds.map(lambda x, y : (x, x) ) \n",
    "    else: \n",
    "        ds = ds.map(lambda x, y : (x, tf.reshape(y, (-1, 1))) )\n",
    "         \n",
    "    return ds"
   ]
  },
  {
   "cell_type": "code",
   "execution_count": 11,
   "id": "c975ce51",
   "metadata": {},
   "outputs": [],
   "source": [
    "def get_train_and_val_for_fold(folded_datasets, fold):\n",
    "    predict = True\n",
    "\n",
    "    train = []\n",
    "    for i in range(NFOLD-1): \n",
    "        if i == fold:\n",
    "            val_ds = folded_datasets[i][0].concatenate(folded_datasets[i][1])\n",
    "        else: \n",
    "            train.append(folded_datasets[i][0])\n",
    "    \n",
    "    test_ds = folded_datasets[4][0].concatenate(folded_datasets[4][1])\n",
    "    \n",
    "    train_ds = None\n",
    "    for ds in train: \n",
    "        train_ds = ds if train_ds is None else train_ds.concatenate(ds)\n",
    "\n",
    "    test_ds = prepare_for_training(test_ds, shuffle=False)\n",
    "    train_ds = prepare_for_training(train_ds, shuffle=True, repeat = True)\n",
    "    val_ds = prepare_for_training(val_ds, shuffle=False)\n",
    "    \n",
    "    return train_ds, val_ds, test_ds"
   ]
  },
  {
   "cell_type": "code",
   "execution_count": 12,
   "id": "f6d0ced2",
   "metadata": {},
   "outputs": [],
   "source": [
    "folded_datasets = []\n",
    "\n",
    "for i in range(NFOLD):\n",
    "    after = get_dataset(df[(df.split == i) & (df.before_after == 1)])\n",
    "    before = get_dataset(df[(df.split == i) & (df.before_after == 0)])\n",
    "    folded_datasets.append((after, before))"
   ]
  },
  {
   "cell_type": "code",
   "execution_count": 13,
   "id": "af01f60a",
   "metadata": {},
   "outputs": [
    {
     "data": {
      "text/plain": [
       "\"class Autoencoder_subclass(tfk.Model):\\n    def __init__(self):\\n        super(Autoencoder_subclass, self).__init__()\\n        self.encoder = tfk.Sequential([\\n            tfkl.Input(shape = BLOCK_SHAPE),\\n            tfkl.Conv1D(64, kernel_size= 7, strides= 2, activation='relu', padding='same'),\\n            tfkl.Conv1D(64, kernel_size= 7, strides= 2, activation='relu', padding='same'),\\n            tfkl.Conv1D(64, kernel_size= 7, strides= 2, activation='relu', padding='same'),\\n            tfkl.Conv1D(64, kernel_size= 7, strides= 2, activation='relu', padding='same'),\\n        ])\\n        \\n        self.decoder = tf.keras.Sequential([\\n            tfkl.Conv1DTranspose(64, kernel_size= 7, strides= 2, activation='relu', padding='same'),\\n            tfkl.Conv1DTranspose(64, kernel_size= 7, strides= 2, activation='relu', padding='same'),\\n            tfkl.Conv1DTranspose(64, kernel_size= 7, strides= 2, activation='relu', padding='same'),\\n            tfkl.Conv1DTranspose(64, kernel_size= 7, strides= 2, activation='relu', padding='same'),\\n            tfkl.GlobalAveragePooling1D(),\\n            tfkl.Dense(1, activation='sigmoid'),\\n        ])\\n    \\n    def call(self, x):\\n        encoded = self.encoder(x)\\n        decoded = self.decoder(encoded)\\n        return decoded\\n    \\n    def build_graph(self, BLOCK_SHAPE):\\n        x = tfkl.Input(shape=BLOCK_SHAPE)\\n        return tfk.Model(inputs=[x], outputs=self.call(x))\\n\""
      ]
     },
     "execution_count": 13,
     "metadata": {},
     "output_type": "execute_result"
    }
   ],
   "source": [
    "\"\"\"class Autoencoder_subclass(tfk.Model):\n",
    "    def __init__(self):\n",
    "        super(Autoencoder_subclass, self).__init__()\n",
    "        self.encoder = tfk.Sequential([\n",
    "            tfkl.Input(shape = BLOCK_SHAPE),\n",
    "            tfkl.Conv1D(64, kernel_size= 7, strides= 2, activation='relu', padding='same'),\n",
    "            tfkl.Conv1D(64, kernel_size= 7, strides= 2, activation='relu', padding='same'),\n",
    "            tfkl.Conv1D(64, kernel_size= 7, strides= 2, activation='relu', padding='same'),\n",
    "            tfkl.Conv1D(64, kernel_size= 7, strides= 2, activation='relu', padding='same'),\n",
    "        ])\n",
    "        \n",
    "        self.decoder = tf.keras.Sequential([\n",
    "            tfkl.Conv1DTranspose(64, kernel_size= 7, strides= 2, activation='relu', padding='same'),\n",
    "            tfkl.Conv1DTranspose(64, kernel_size= 7, strides= 2, activation='relu', padding='same'),\n",
    "            tfkl.Conv1DTranspose(64, kernel_size= 7, strides= 2, activation='relu', padding='same'),\n",
    "            tfkl.Conv1DTranspose(64, kernel_size= 7, strides= 2, activation='relu', padding='same'),\n",
    "            tfkl.GlobalAveragePooling1D(),\n",
    "            tfkl.Dense(1, activation='sigmoid'),\n",
    "        ])\n",
    "    \n",
    "    def call(self, x):\n",
    "        encoded = self.encoder(x)\n",
    "        decoded = self.decoder(encoded)\n",
    "        return decoded\n",
    "    \n",
    "    def build_graph(self, BLOCK_SHAPE):\n",
    "        x = tfkl.Input(shape=BLOCK_SHAPE)\n",
    "        return tfk.Model(inputs=[x], outputs=self.call(x))\n",
    "\"\"\"  "
   ]
  },
  {
   "cell_type": "code",
   "execution_count": 14,
   "id": "ef934780",
   "metadata": {},
   "outputs": [],
   "source": [
    "def Autoencoder():\n",
    "    model = tfk.Sequential([\n",
    "        tfk.Input(shape=BLOCK_SHAPE),\n",
    "        #encoder\n",
    "        tfkl.Conv1D(filters=64, kernel_size=7, padding=\"same\", strides=2, activation=\"relu\"),\n",
    "        tfkl.BatchNormalization(),\n",
    "        tfkl.Dropout(0.2),\n",
    "        tfkl.Conv1D(filters=64, kernel_size=7, padding=\"same\", strides=2, activation=\"relu\"),\n",
    "        tfkl.BatchNormalization(),\n",
    "        tfkl.Dropout(0.2),        \n",
    "        tfkl.Conv1D(filters=64, kernel_size=7, padding=\"same\", strides=2, activation=\"relu\"),\n",
    "        tfkl.BatchNormalization(),\n",
    "        tfkl.Dropout(0.2),         \n",
    "              \n",
    "        #decoder\n",
    "        tfkl.Conv1DTranspose(filters=64, kernel_size=7, padding=\"same\", strides=2, activation=\"relu\"),    \n",
    "        tfkl.Conv1DTranspose(filters=64, kernel_size=7, padding=\"same\", strides=2, activation=\"relu\"),    \n",
    "        tfkl.Conv1DTranspose(filters=64, kernel_size=7, padding=\"same\", strides=2, activation=\"relu\"),        \n",
    "        tfkl.GlobalAveragePooling1D(),\n",
    "        tfkl.Dense(1, activation='sigmoid'),\n",
    "    ])\n",
    "    \n",
    "    return model"
   ]
  },
  {
   "cell_type": "code",
   "execution_count": 15,
   "id": "3ea48038",
   "metadata": {},
   "outputs": [
    {
     "data": {
      "text/plain": [
       "\"class Conv1D_subclass(tfk.Model):\\n    def __init__(self):\\n        super(Conv1D_subclass, self).__init__()\\n        self.conv1D_model = tfk.Sequential([\\n            tfkl.Input(shape = BLOCK_SHAPE),\\n            tfkl.Conv1D(64, kernel_size= 7, strides=2, activation='relu', padding='same'),\\n            tfkl.Conv1D(64, kernel_size= 7, strides=2, activation='relu', padding='same'),\\n            tfkl.Conv1D(64, kernel_size= 7, strides=2, activation='relu', padding='same'),\\n            tfkl.Conv1D(64, kernel_size= 7, strides=2, activation='relu', padding='same'),\\n            tfkl.GlobalAveragePooling1D(),\\n            tfkl.Dense(1, activation='sigmoid'),\\n        ])\\n            \\n    def call(self, x):\\n        conv1D = self.conv1D_model(x)\\n        return conv1D\\n    \\n    def build_graph(self, BLOCK_SHAPE):\\n        x = tfkl.Input(shape=BLOCK_SHAPE)\\n        return tfk.Model(inputs=[x], outputs=self.call(x))\\n\""
      ]
     },
     "execution_count": 15,
     "metadata": {},
     "output_type": "execute_result"
    }
   ],
   "source": [
    "\"\"\"class Conv1D_subclass(tfk.Model):\n",
    "    def __init__(self):\n",
    "        super(Conv1D_subclass, self).__init__()\n",
    "        self.conv1D_model = tfk.Sequential([\n",
    "            tfkl.Input(shape = BLOCK_SHAPE),\n",
    "            tfkl.Conv1D(64, kernel_size= 7, strides=2, activation='relu', padding='same'),\n",
    "            tfkl.Conv1D(64, kernel_size= 7, strides=2, activation='relu', padding='same'),\n",
    "            tfkl.Conv1D(64, kernel_size= 7, strides=2, activation='relu', padding='same'),\n",
    "            tfkl.Conv1D(64, kernel_size= 7, strides=2, activation='relu', padding='same'),\n",
    "            tfkl.GlobalAveragePooling1D(),\n",
    "            tfkl.Dense(1, activation='sigmoid'),\n",
    "        ])\n",
    "            \n",
    "    def call(self, x):\n",
    "        conv1D = self.conv1D_model(x)\n",
    "        return conv1D\n",
    "    \n",
    "    def build_graph(self, BLOCK_SHAPE):\n",
    "        x = tfkl.Input(shape=BLOCK_SHAPE)\n",
    "        return tfk.Model(inputs=[x], outputs=self.call(x))\n",
    "\"\"\""
   ]
  },
  {
   "cell_type": "code",
   "execution_count": 16,
   "id": "0065c5f7",
   "metadata": {},
   "outputs": [],
   "source": [
    "def Conv1D():\n",
    "    model = tfk.Sequential([\n",
    "        tfk.Input(shape=BLOCK_SHAPE),\n",
    "        tfkl.Conv1D(filters=64, kernel_size=7, padding=\"same\", strides=2, activation=\"relu\"),\n",
    "        tfkl.Conv1D(filters=64, kernel_size=7, padding=\"same\", strides=2, activation=\"relu\"),\n",
    "        tfkl.Conv1D(filters=64, kernel_size=7, padding=\"same\", strides=2, activation=\"relu\"),\n",
    "        tfkl.Conv1D(filters=64, kernel_size=7, padding=\"same\", strides=2, activation=\"relu\"),\n",
    "        tfkl.GlobalAveragePooling1D(),\n",
    "        tfkl.Dense(1, activation='sigmoid'),\n",
    "    ])\n",
    "    \n",
    "    return model"
   ]
  },
  {
   "cell_type": "code",
   "execution_count": 17,
   "id": "d119525b",
   "metadata": {
    "scrolled": false
   },
   "outputs": [
    {
     "name": "stdout",
     "output_type": "stream",
     "text": [
      "Epoch 1/30\n",
      "200/200 [==============================] - 23s 15ms/step - loss: 0.2884 - accuracy: 0.0000e+00 - root_mean_squared_error: 0.5370 - val_loss: 0.2490 - val_accuracy: 0.5417 - val_root_mean_squared_error: 0.4990\n",
      "Epoch 2/30\n",
      "200/200 [==============================] - 3s 13ms/step - loss: 0.2748 - accuracy: 0.0000e+00 - root_mean_squared_error: 0.5242 - val_loss: 0.2493 - val_accuracy: 0.5417 - val_root_mean_squared_error: 0.4993\n",
      "Epoch 3/30\n",
      "200/200 [==============================] - 3s 13ms/step - loss: 0.2615 - accuracy: 0.0181 - root_mean_squared_error: 0.5114 - val_loss: 0.2497 - val_accuracy: 0.5502 - val_root_mean_squared_error: 0.4997\n",
      "Epoch 4/30\n",
      "200/200 [==============================] - 3s 13ms/step - loss: 0.2486 - accuracy: 0.6002 - root_mean_squared_error: 0.4986 - val_loss: 0.2505 - val_accuracy: 0.4574 - val_root_mean_squared_error: 0.5005\n",
      "Epoch 5/30\n",
      "200/200 [==============================] - 3s 13ms/step - loss: 0.2359 - accuracy: 0.9948 - root_mean_squared_error: 0.4857 - val_loss: 0.2521 - val_accuracy: 0.4583 - val_root_mean_squared_error: 0.5021\n",
      "Epoch 6/30\n",
      "200/200 [==============================] - 3s 13ms/step - loss: 0.2231 - accuracy: 1.0000 - root_mean_squared_error: 0.4723 - val_loss: 0.2537 - val_accuracy: 0.4583 - val_root_mean_squared_error: 0.5037.0000 - root_mean_squared\n",
      "Epoch 7/30\n",
      "200/200 [==============================] - 3s 13ms/step - loss: 0.2099 - accuracy: 1.0000 - root_mean_squared_error: 0.4581 - val_loss: 0.2554 - val_accuracy: 0.4583 - val_root_mean_squared_error: 0.5054\n",
      "Epoch 8/30\n",
      "200/200 [==============================] - 3s 13ms/step - loss: 0.1966 - accuracy: 1.0000 - root_mean_squared_error: 0.4434 - val_loss: 0.2581 - val_accuracy: 0.4583 - val_root_mean_squared_error: 0.5080- loss: 0.1994 - accuracy: 1.0000 -\n",
      "Epoch 9/30\n",
      "200/200 [==============================] - 3s 13ms/step - loss: 0.1830 - accuracy: 1.0000 - root_mean_squared_error: 0.4278 - val_loss: 0.2606 - val_accuracy: 0.4583 - val_root_mean_squared_error: 0.5104\n",
      "Epoch 10/30\n",
      "200/200 [==============================] - 3s 13ms/step - loss: 0.1690 - accuracy: 1.0000 - root_mean_squared_error: 0.4111 - val_loss: 0.2642 - val_accuracy: 0.4583 - val_root_mean_squared_error: 0.5140\n",
      "Epoch 11/30\n",
      "200/200 [==============================] - 3s 13ms/step - loss: 0.1551 - accuracy: 1.0000 - root_mean_squared_error: 0.3938 - val_loss: 0.2681 - val_accuracy: 0.4583 - val_root_mean_squared_error: 0.5178\n",
      "Epoch 12/30\n",
      "200/200 [==============================] - 3s 13ms/step - loss: 0.1412 - accuracy: 1.0000 - root_mean_squared_error: 0.3758 - val_loss: 0.2738 - val_accuracy: 0.4583 - val_root_mean_squared_error: 0.5233\n",
      "Epoch 13/30\n",
      "200/200 [==============================] - 3s 13ms/step - loss: 0.1273 - accuracy: 1.0000 - root_mean_squared_error: 0.3567 - val_loss: 0.2787 - val_accuracy: 0.4583 - val_root_mean_squared_error: 0.5280 accuracy: 1.0000 - root_mean_squ - ETA: 0s - loss: 0.1293 - accuracy: 1.0000 - root_mean\n",
      "Epoch 14/30\n",
      "200/200 [==============================] - 3s 13ms/step - loss: 0.1138 - accuracy: 1.0000 - root_mean_squared_error: 0.3374 - val_loss: 0.2879 - val_accuracy: 0.4583 - val_root_mean_squared_error: 0.5366\n",
      "Epoch 15/30\n",
      "200/200 [==============================] - 3s 13ms/step - loss: 0.1012 - accuracy: 1.0000 - root_mean_squared_error: 0.3181 - val_loss: 0.2945 - val_accuracy: 0.4583 - val_root_mean_squared_error: 0.5427\n",
      "Epoch 16/30\n",
      "200/200 [==============================] - 3s 13ms/step - loss: 0.0890 - accuracy: 1.0000 - root_mean_squared_error: 0.2983 - val_loss: 0.3026 - val_accuracy: 0.4583 - val_root_mean_squared_error: 0.5501\n",
      "Epoch 17/30\n",
      "200/200 [==============================] - 3s 13ms/step - loss: 0.0777 - accuracy: 1.0000 - root_mean_squared_error: 0.2788 - val_loss: 0.3121 - val_accuracy: 0.4583 - val_root_mean_squared_error: 0.5586\n",
      "Epoch 18/30\n",
      "200/200 [==============================] - 3s 13ms/step - loss: 0.0677 - accuracy: 1.0000 - root_mean_squared_error: 0.2601 - val_loss: 0.3204 - val_accuracy: 0.4583 - val_root_mean_squared_error: 0.5661\n",
      "Epoch 19/30\n",
      "200/200 [==============================] - 3s 13ms/step - loss: 0.0584 - accuracy: 1.0000 - root_mean_squared_error: 0.2416 - val_loss: 0.3331 - val_accuracy: 0.4583 - val_root_mean_squared_error: 0.5771000 - root_mean_squared_err\n",
      "Epoch 20/30\n",
      "200/200 [==============================] - 3s 13ms/step - loss: 0.0503 - accuracy: 1.0000 - root_mean_squared_error: 0.2244 - val_loss: 0.3429 - val_accuracy: 0.4583 - val_root_mean_squared_error: 0.5856\n",
      "Epoch 21/30\n",
      "200/200 [==============================] - 3s 13ms/step - loss: 0.0433 - accuracy: 1.0000 - root_mean_squared_error: 0.2081 - val_loss: 0.3533 - val_accuracy: 0.4583 - val_root_mean_squared_error: 0.5944: 0.0452 - accu\n",
      "Epoch 22/30\n",
      "200/200 [==============================] - 3s 13ms/step - loss: 0.0370 - accuracy: 1.0000 - root_mean_squared_error: 0.1924 - val_loss: 0.3650 - val_accuracy: 0.4583 - val_root_mean_squared_error: 0.6042\n",
      "Epoch 23/30\n",
      "200/200 [==============================] - 3s 13ms/step - loss: 0.0315 - accuracy: 1.0000 - root_mean_squared_error: 0.1775 - val_loss: 0.3759 - val_accuracy: 0.4583 - val_root_mean_squared_error: 0.6131\n",
      "Epoch 24/30\n",
      "200/200 [==============================] - 3s 13ms/step - loss: 0.0271 - accuracy: 1.0000 - root_mean_squared_error: 0.1646 - val_loss: 0.3871 - val_accuracy: 0.4583 - val_root_mean_squared_error: 0.6222\n",
      "Epoch 25/30\n",
      "200/200 [==============================] - 3s 13ms/step - loss: 0.0229 - accuracy: 1.0000 - root_mean_squared_error: 0.1513 - val_loss: 0.3974 - val_accuracy: 0.4583 - val_root_mean_squared_error: 0.6304\n",
      "Epoch 26/30\n",
      "200/200 [==============================] - 3s 13ms/step - loss: 0.0194 - accuracy: 1.0000 - root_mean_squared_error: 0.1394 - val_loss: 0.4070 - val_accuracy: 0.4583 - val_root_mean_squared_error: 0.6380\n",
      "Epoch 27/30\n",
      "200/200 [==============================] - 3s 13ms/step - loss: 0.0166 - accuracy: 1.0000 - root_mean_squared_error: 0.1287 - val_loss: 0.4169 - val_accuracy: 0.4583 - val_root_mean_squared_error: 0.6457\n",
      "Epoch 28/30\n",
      "200/200 [==============================] - 3s 13ms/step - loss: 0.0143 - accuracy: 1.0000 - root_mean_squared_error: 0.1195 - val_loss: 0.4243 - val_accuracy: 0.4583 - val_root_mean_squared_error: 0.6514\n",
      "Epoch 29/30\n",
      "200/200 [==============================] - 3s 13ms/step - loss: 0.0121 - accuracy: 1.0000 - root_mean_squared_error: 0.1100 - val_loss: 0.4341 - val_accuracy: 0.4583 - val_root_mean_squared_error: 0.6589\n",
      "Epoch 30/30\n",
      "200/200 [==============================] - 3s 13ms/step - loss: 0.0104 - accuracy: 1.0000 - root_mean_squared_error: 0.1018 - val_loss: 0.4382 - val_accuracy: 0.4583 - val_root_mean_squared_error: 0.66200.0108 - accuracy: 1.0000\n",
      "Epoch 1/30\n",
      "200/200 [==============================] - 4s 13ms/step - loss: 0.2616 - accuracy: 0.0128 - root_mean_squared_error: 0.5115 - val_loss: 0.2498 - val_accuracy: 0.5454 - val_root_mean_squared_error: 0.4998\n",
      "Epoch 2/30\n",
      "200/200 [==============================] - 3s 13ms/step - loss: 0.2484 - accuracy: 0.5914 - root_mean_squared_error: 0.4984 - val_loss: 0.2505 - val_accuracy: 0.4556 - val_root_mean_squared_error: 0.5005\n",
      "Epoch 3/30\n",
      "200/200 [==============================] - 3s 13ms/step - loss: 0.2354 - accuracy: 0.9978 - root_mean_squared_error: 0.4852 - val_loss: 0.2515 - val_accuracy: 0.4526 - val_root_mean_squared_error: 0.5015\n",
      "Epoch 4/30\n",
      "200/200 [==============================] - 3s 13ms/step - loss: 0.2226 - accuracy: 1.0000 - root_mean_squared_error: 0.4718 - val_loss: 0.2530 - val_accuracy: 0.4526 - val_root_mean_squared_error: 0.5030\n",
      "Epoch 5/30\n",
      "200/200 [==============================] - 2s 12ms/step - loss: 0.2097 - accuracy: 1.0000 - root_mean_squared_error: 0.4579 - val_loss: 0.2552 - val_accuracy: 0.4526 - val_root_mean_squared_error: 0.5051\n",
      "Epoch 6/30\n",
      "200/200 [==============================] - 2s 12ms/step - loss: 0.1967 - accuracy: 1.0000 - root_mean_squared_error: 0.4435 - val_loss: 0.2576 - val_accuracy: 0.4526 - val_root_mean_squared_error: 0.5075\n",
      "Epoch 7/30\n",
      "200/200 [==============================] - 3s 13ms/step - loss: 0.1834 - accuracy: 1.0000 - root_mean_squared_error: 0.4282 - val_loss: 0.2602 - val_accuracy: 0.4526 - val_root_mean_squared_error: 0.5101\n"
     ]
    },
    {
     "name": "stdout",
     "output_type": "stream",
     "text": [
      "Epoch 8/30\n",
      "200/200 [==============================] - 2s 12ms/step - loss: 0.1701 - accuracy: 1.0000 - root_mean_squared_error: 0.4125 - val_loss: 0.2639 - val_accuracy: 0.4526 - val_root_mean_squared_error: 0.5137\n",
      "Epoch 9/30\n",
      "200/200 [==============================] - 2s 13ms/step - loss: 0.1566 - accuracy: 1.0000 - root_mean_squared_error: 0.3958 - val_loss: 0.2678 - val_accuracy: 0.4526 - val_root_mean_squared_error: 0.5175\n",
      "Epoch 10/30\n",
      "200/200 [==============================] - 3s 13ms/step - loss: 0.1434 - accuracy: 1.0000 - root_mean_squared_error: 0.3787 - val_loss: 0.2728 - val_accuracy: 0.4526 - val_root_mean_squared_error: 0.5223\n",
      "Epoch 11/30\n",
      "200/200 [==============================] - 3s 13ms/step - loss: 0.1300 - accuracy: 1.0000 - root_mean_squared_error: 0.3606 - val_loss: 0.2764 - val_accuracy: 0.4526 - val_root_mean_squared_error: 0.52571309 - accuracy: 1.0000 - root_mean_squared_e\n",
      "Epoch 12/30\n",
      "200/200 [==============================] - 3s 13ms/step - loss: 0.1171 - accuracy: 1.0000 - root_mean_squared_error: 0.3422 - val_loss: 0.2839 - val_accuracy: 0.4526 - val_root_mean_squared_error: 0.53281182 - accuracy: 1.0000 - root_mean_squared\n",
      "Epoch 13/30\n",
      "200/200 [==============================] - 3s 13ms/step - loss: 0.1046 - accuracy: 1.0000 - root_mean_squared_error: 0.3233 - val_loss: 0.2919 - val_accuracy: 0.4526 - val_root_mean_squared_error: 0.5403\n",
      "Epoch 14/30\n",
      "200/200 [==============================] - 2s 12ms/step - loss: 0.0928 - accuracy: 1.0000 - root_mean_squared_error: 0.3046 - val_loss: 0.2987 - val_accuracy: 0.4526 - val_root_mean_squared_error: 0.5465\n",
      "Epoch 15/30\n",
      "200/200 [==============================] - 2s 12ms/step - loss: 0.0817 - accuracy: 1.0000 - root_mean_squared_error: 0.2858 - val_loss: 0.3076 - val_accuracy: 0.4526 - val_root_mean_squared_error: 0.5546\n",
      "Epoch 16/30\n",
      "200/200 [==============================] - 2s 12ms/step - loss: 0.0712 - accuracy: 1.0000 - root_mean_squared_error: 0.2667 - val_loss: 0.3172 - val_accuracy: 0.4526 - val_root_mean_squared_error: 0.5632\n",
      "Epoch 17/30\n",
      "200/200 [==============================] - 2s 12ms/step - loss: 0.0615 - accuracy: 1.0000 - root_mean_squared_error: 0.2481 - val_loss: 0.3271 - val_accuracy: 0.4526 - val_root_mean_squared_error: 0.5719\n",
      "Epoch 18/30\n",
      "200/200 [==============================] - 2s 12ms/step - loss: 0.0533 - accuracy: 1.0000 - root_mean_squared_error: 0.2308 - val_loss: 0.3390 - val_accuracy: 0.4526 - val_root_mean_squared_error: 0.5823\n",
      "Epoch 19/30\n",
      "200/200 [==============================] - 2s 12ms/step - loss: 0.0457 - accuracy: 1.0000 - root_mean_squared_error: 0.2137 - val_loss: 0.3495 - val_accuracy: 0.4526 - val_root_mean_squared_error: 0.5912\n",
      "Epoch 20/30\n",
      "200/200 [==============================] - 2s 12ms/step - loss: 0.0389 - accuracy: 1.0000 - root_mean_squared_error: 0.1972 - val_loss: 0.3614 - val_accuracy: 0.4526 - val_root_mean_squared_error: 0.6011\n",
      "Epoch 21/30\n",
      "200/200 [==============================] - 2s 12ms/step - loss: 0.0330 - accuracy: 1.0000 - root_mean_squared_error: 0.1818 - val_loss: 0.3727 - val_accuracy: 0.4526 - val_root_mean_squared_error: 0.6105\n",
      "Epoch 22/30\n",
      "200/200 [==============================] - 2s 12ms/step - loss: 0.0279 - accuracy: 1.0000 - root_mean_squared_error: 0.1669 - val_loss: 0.3847 - val_accuracy: 0.4526 - val_root_mean_squared_error: 0.6202\n",
      "Epoch 23/30\n",
      "200/200 [==============================] - 2s 12ms/step - loss: 0.0238 - accuracy: 1.0000 - root_mean_squared_error: 0.1543 - val_loss: 0.3954 - val_accuracy: 0.4526 - val_root_mean_squared_error: 0.6288\n",
      "Epoch 24/30\n",
      "200/200 [==============================] - 2s 12ms/step - loss: 0.0198 - accuracy: 1.0000 - root_mean_squared_error: 0.1409 - val_loss: 0.4072 - val_accuracy: 0.4526 - val_root_mean_squared_error: 0.6382\n",
      "Epoch 25/30\n",
      "200/200 [==============================] - 2s 12ms/step - loss: 0.0168 - accuracy: 1.0000 - root_mean_squared_error: 0.1298 - val_loss: 0.4155 - val_accuracy: 0.4526 - val_root_mean_squared_error: 0.6446\n",
      "Epoch 26/30\n",
      "200/200 [==============================] - 2s 12ms/step - loss: 0.0142 - accuracy: 1.0000 - root_mean_squared_error: 0.1193 - val_loss: 0.4257 - val_accuracy: 0.4526 - val_root_mean_squared_error: 0.6525\n",
      "Epoch 27/30\n",
      "200/200 [==============================] - 2s 12ms/step - loss: 0.0120 - accuracy: 1.0000 - root_mean_squared_error: 0.1093 - val_loss: 0.4349 - val_accuracy: 0.4526 - val_root_mean_squared_error: 0.6594\n",
      "Epoch 28/30\n",
      "200/200 [==============================] - 2s 12ms/step - loss: 0.0102 - accuracy: 1.0000 - root_mean_squared_error: 0.1009 - val_loss: 0.4426 - val_accuracy: 0.4526 - val_root_mean_squared_error: 0.6653\n",
      "Epoch 29/30\n",
      "200/200 [==============================] - 2s 12ms/step - loss: 0.0086 - accuracy: 1.0000 - root_mean_squared_error: 0.0925 - val_loss: 0.4509 - val_accuracy: 0.4526 - val_root_mean_squared_error: 0.6715\n",
      "Epoch 30/30\n",
      "200/200 [==============================] - 3s 13ms/step - loss: 0.0073 - accuracy: 1.0000 - root_mean_squared_error: 0.0856 - val_loss: 0.4569 - val_accuracy: 0.4526 - val_root_mean_squared_error: 0.6759\n",
      "Epoch 1/30\n",
      "200/200 [==============================] - 4s 14ms/step - loss: 0.2928 - accuracy: 0.0000e+00 - root_mean_squared_error: 0.5411 - val_loss: 0.2493 - val_accuracy: 0.5338 - val_root_mean_squared_error: 0.4993\n",
      "Epoch 2/30\n",
      "200/200 [==============================] - 3s 13ms/step - loss: 0.2805 - accuracy: 0.0000e+00 - root_mean_squared_error: 0.5296 - val_loss: 0.2494 - val_accuracy: 0.5338 - val_root_mean_squared_error: 0.4994\n",
      "Epoch 3/30\n",
      "200/200 [==============================] - 3s 13ms/step - loss: 0.2688 - accuracy: 0.0000e+00 - root_mean_squared_error: 0.5185 - val_loss: 0.2498 - val_accuracy: 0.5279 - val_root_mean_squared_error: 0.4998\n",
      "Epoch 4/30\n",
      "200/200 [==============================] - 3s 13ms/step - loss: 0.2577 - accuracy: 0.0653 - root_mean_squared_error: 0.5076 - val_loss: 0.2501 - val_accuracy: 0.5034 - val_root_mean_squared_error: 0.5001\n",
      "Epoch 5/30\n",
      "200/200 [==============================] - 3s 13ms/step - loss: 0.2467 - accuracy: 0.7078 - root_mean_squared_error: 0.4967 - val_loss: 0.2507 - val_accuracy: 0.4679 - val_root_mean_squared_error: 0.5007\n",
      "Epoch 6/30\n",
      "200/200 [==============================] - 3s 13ms/step - loss: 0.2357 - accuracy: 0.9939 - root_mean_squared_error: 0.4855 - val_loss: 0.2513 - val_accuracy: 0.4671 - val_root_mean_squared_error: 0.5013\n",
      "Epoch 7/30\n",
      "200/200 [==============================] - 3s 13ms/step - loss: 0.2248 - accuracy: 1.0000 - root_mean_squared_error: 0.4741 - val_loss: 0.2524 - val_accuracy: 0.4662 - val_root_mean_squared_error: 0.5024\n",
      "Epoch 8/30\n",
      "200/200 [==============================] - 3s 13ms/step - loss: 0.2134 - accuracy: 1.0000 - root_mean_squared_error: 0.4620 - val_loss: 0.2539 - val_accuracy: 0.4662 - val_root_mean_squared_error: 0.5039\n",
      "Epoch 9/30\n",
      "200/200 [==============================] - 3s 13ms/step - loss: 0.2018 - accuracy: 1.0000 - root_mean_squared_error: 0.4492 - val_loss: 0.2555 - val_accuracy: 0.4662 - val_root_mean_squared_error: 0.5055uracy: 1.0000\n",
      "Epoch 10/30\n",
      "200/200 [==============================] - 3s 13ms/step - loss: 0.1896 - accuracy: 1.0000 - root_mean_squared_error: 0.4354 - val_loss: 0.2583 - val_accuracy: 0.4662 - val_root_mean_squared_error: 0.5083\n",
      "Epoch 11/30\n",
      "200/200 [==============================] - 3s 13ms/step - loss: 0.1771 - accuracy: 1.0000 - root_mean_squared_error: 0.4208 - val_loss: 0.2600 - val_accuracy: 0.4662 - val_root_mean_squared_error: 0.5099\n",
      "Epoch 12/30\n",
      "200/200 [==============================] - 3s 13ms/step - loss: 0.1644 - accuracy: 1.0000 - root_mean_squared_error: 0.4055 - val_loss: 0.2639 - val_accuracy: 0.4662 - val_root_mean_squared_error: 0.5137\n",
      "Epoch 13/30\n",
      "200/200 [==============================] - 3s 13ms/step - loss: 0.1515 - accuracy: 1.0000 - root_mean_squared_error: 0.3893 - val_loss: 0.2662 - val_accuracy: 0.4662 - val_root_mean_squared_error: 0.5160\n",
      "Epoch 14/30\n",
      "200/200 [==============================] - 3s 13ms/step - loss: 0.1384 - accuracy: 1.0000 - root_mean_squared_error: 0.3720 - val_loss: 0.2716 - val_accuracy: 0.4662 - val_root_mean_squared_error: 0.5212\n",
      "Epoch 15/30\n"
     ]
    },
    {
     "name": "stdout",
     "output_type": "stream",
     "text": [
      "200/200 [==============================] - 3s 13ms/step - loss: 0.1257 - accuracy: 1.0000 - root_mean_squared_error: 0.3546 - val_loss: 0.2759 - val_accuracy: 0.4662 - val_root_mean_squared_error: 0.5252\n",
      "Epoch 16/30\n",
      "200/200 [==============================] - 3s 13ms/step - loss: 0.1129 - accuracy: 1.0000 - root_mean_squared_error: 0.3361 - val_loss: 0.2824 - val_accuracy: 0.4662 - val_root_mean_squared_error: 0.5314\n",
      "Epoch 17/30\n",
      "200/200 [==============================] - 3s 13ms/step - loss: 0.1009 - accuracy: 1.0000 - root_mean_squared_error: 0.3177 - val_loss: 0.2889 - val_accuracy: 0.4662 - val_root_mean_squared_error: 0.5375ot_mean_squared_error\n",
      "Epoch 18/30\n",
      "200/200 [==============================] - 3s 13ms/step - loss: 0.0895 - accuracy: 1.0000 - root_mean_squared_error: 0.2991 - val_loss: 0.2980 - val_accuracy: 0.4662 - val_root_mean_squared_error: 0.5459\n",
      "Epoch 19/30\n",
      "200/200 [==============================] - 3s 13ms/step - loss: 0.0788 - accuracy: 1.0000 - root_mean_squared_error: 0.2807 - val_loss: 0.3037 - val_accuracy: 0.4662 - val_root_mean_squared_error: 0.5511\n",
      "Epoch 20/30\n",
      "200/200 [==============================] - 3s 13ms/step - loss: 0.0692 - accuracy: 1.0000 - root_mean_squared_error: 0.2631 - val_loss: 0.3142 - val_accuracy: 0.4662 - val_root_mean_squared_error: 0.5606\n",
      "Epoch 21/30\n",
      "200/200 [==============================] - 3s 13ms/step - loss: 0.0604 - accuracy: 1.0000 - root_mean_squared_error: 0.2458 - val_loss: 0.3239 - val_accuracy: 0.4662 - val_root_mean_squared_error: 0.5692 - accuracy: 1.0000 - root_me - ETA: 0s - loss: 0.0618 - accuracy: 1.0000 - roo\n",
      "Epoch 22/30\n",
      "200/200 [==============================] - 3s 13ms/step - loss: 0.0525 - accuracy: 1.0000 - root_mean_squared_error: 0.2292 - val_loss: 0.3339 - val_accuracy: 0.4662 - val_root_mean_squared_error: 0.5778ean_squared_error\n",
      "Epoch 23/30\n",
      "200/200 [==============================] - 3s 13ms/step - loss: 0.0450 - accuracy: 1.0000 - root_mean_squared_error: 0.2121 - val_loss: 0.3424 - val_accuracy: 0.4662 - val_root_mean_squared_error: 0.5852\n",
      "Epoch 24/30\n",
      "200/200 [==============================] - 3s 13ms/step - loss: 0.0387 - accuracy: 1.0000 - root_mean_squared_error: 0.1967 - val_loss: 0.3533 - val_accuracy: 0.4662 - val_root_mean_squared_error: 0.5944\n",
      "Epoch 25/30\n",
      "200/200 [==============================] - 3s 13ms/step - loss: 0.0333 - accuracy: 1.0000 - root_mean_squared_error: 0.1824 - val_loss: 0.3620 - val_accuracy: 0.4662 - val_root_mean_squared_error: 0.6017\n",
      "Epoch 26/30\n",
      "200/200 [==============================] - 3s 13ms/step - loss: 0.0285 - accuracy: 1.0000 - root_mean_squared_error: 0.1689 - val_loss: 0.3715 - val_accuracy: 0.4662 - val_root_mean_squared_error: 0.6095\n",
      "Epoch 27/30\n",
      "200/200 [==============================] - 3s 13ms/step - loss: 0.0242 - accuracy: 1.0000 - root_mean_squared_error: 0.1555 - val_loss: 0.3827 - val_accuracy: 0.4662 - val_root_mean_squared_error: 0.6186 1.0000 - root_mean_squared_error: 0.15\n",
      "Epoch 28/30\n",
      "200/200 [==============================] - 3s 13ms/step - loss: 0.0208 - accuracy: 1.0000 - root_mean_squared_error: 0.1441 - val_loss: 0.3904 - val_accuracy: 0.4662 - val_root_mean_squared_error: 0.6248\n",
      "Epoch 29/30\n",
      "200/200 [==============================] - 3s 13ms/step - loss: 0.0179 - accuracy: 1.0000 - root_mean_squared_error: 0.1337 - val_loss: 0.4009 - val_accuracy: 0.4662 - val_root_mean_squared_error: 0.6332\n",
      "Epoch 30/30\n",
      "200/200 [==============================] - 3s 13ms/step - loss: 0.0151 - accuracy: 1.0000 - root_mean_squared_error: 0.1230 - val_loss: 0.4100 - val_accuracy: 0.4662 - val_root_mean_squared_error: 0.6403\n",
      "Epoch 1/30\n",
      "200/200 [==============================] - 4s 13ms/step - loss: 0.2152 - accuracy: 1.0000 - root_mean_squared_error: 0.4639 - val_loss: 0.2518 - val_accuracy: 0.4638 - val_root_mean_squared_error: 0.5018loss: 0.219\n",
      "Epoch 2/30\n",
      "200/200 [==============================] - 2s 12ms/step - loss: 0.2028 - accuracy: 1.0000 - root_mean_squared_error: 0.4503 - val_loss: 0.2534 - val_accuracy: 0.4638 - val_root_mean_squared_error: 0.5034\n",
      "Epoch 3/30\n",
      "200/200 [==============================] - 2s 12ms/step - loss: 0.1900 - accuracy: 1.0000 - root_mean_squared_error: 0.4359 - val_loss: 0.2557 - val_accuracy: 0.4638 - val_root_mean_squared_error: 0.5056\n",
      "Epoch 4/30\n",
      "200/200 [==============================] - 2s 12ms/step - loss: 0.1769 - accuracy: 1.0000 - root_mean_squared_error: 0.4206 - val_loss: 0.2583 - val_accuracy: 0.4638 - val_root_mean_squared_error: 0.5083\n",
      "Epoch 5/30\n",
      "200/200 [==============================] - 2s 12ms/step - loss: 0.1634 - accuracy: 1.0000 - root_mean_squared_error: 0.4043 - val_loss: 0.2616 - val_accuracy: 0.4638 - val_root_mean_squared_error: 0.5114\n",
      "Epoch 6/30\n",
      "200/200 [==============================] - 2s 12ms/step - loss: 0.1495 - accuracy: 1.0000 - root_mean_squared_error: 0.3867 - val_loss: 0.2655 - val_accuracy: 0.4638 - val_root_mean_squared_error: 0.5152\n",
      "Epoch 7/30\n",
      "200/200 [==============================] - 2s 12ms/step - loss: 0.1356 - accuracy: 1.0000 - root_mean_squared_error: 0.3682 - val_loss: 0.2705 - val_accuracy: 0.4638 - val_root_mean_squared_error: 0.5201\n",
      "Epoch 8/30\n",
      "200/200 [==============================] - 2s 12ms/step - loss: 0.1218 - accuracy: 1.0000 - root_mean_squared_error: 0.3490 - val_loss: 0.2769 - val_accuracy: 0.4638 - val_root_mean_squared_error: 0.5262- loss: 0.1242 - accuracy: 1.0000 - roo\n",
      "Epoch 9/30\n",
      "200/200 [==============================] - 2s 12ms/step - loss: 0.1081 - accuracy: 1.0000 - root_mean_squared_error: 0.3288 - val_loss: 0.2841 - val_accuracy: 0.4638 - val_root_mean_squared_error: 0.5330\n",
      "Epoch 10/30\n",
      "200/200 [==============================] - 2s 12ms/step - loss: 0.0951 - accuracy: 1.0000 - root_mean_squared_error: 0.3084 - val_loss: 0.2913 - val_accuracy: 0.4638 - val_root_mean_squared_error: 0.5397\n",
      "Epoch 11/30\n",
      "200/200 [==============================] - 2s 12ms/step - loss: 0.0830 - accuracy: 1.0000 - root_mean_squared_error: 0.2880 - val_loss: 0.2996 - val_accuracy: 0.4638 - val_root_mean_squared_error: 0.5474\n",
      "Epoch 12/30\n",
      "200/200 [==============================] - 2s 12ms/step - loss: 0.0716 - accuracy: 1.0000 - root_mean_squared_error: 0.2676 - val_loss: 0.3090 - val_accuracy: 0.4638 - val_root_mean_squared_error: 0.5559\n",
      "Epoch 13/30\n",
      "200/200 [==============================] - 2s 12ms/step - loss: 0.0611 - accuracy: 1.0000 - root_mean_squared_error: 0.2472 - val_loss: 0.3211 - val_accuracy: 0.4638 - val_root_mean_squared_error: 0.5667acy: 1.\n",
      "Epoch 14/30\n",
      "200/200 [==============================] - 2s 12ms/step - loss: 0.0519 - accuracy: 1.0000 - root_mean_squared_error: 0.2277 - val_loss: 0.3336 - val_accuracy: 0.4638 - val_root_mean_squared_error: 0.5776\n",
      "Epoch 15/30\n",
      "200/200 [==============================] - 2s 12ms/step - loss: 0.0439 - accuracy: 1.0000 - root_mean_squared_error: 0.2094 - val_loss: 0.3416 - val_accuracy: 0.4638 - val_root_mean_squared_error: 0.5844\n",
      "Epoch 16/30\n",
      "200/200 [==============================] - 2s 12ms/step - loss: 0.0368 - accuracy: 1.0000 - root_mean_squared_error: 0.1920 - val_loss: 0.3536 - val_accuracy: 0.4638 - val_root_mean_squared_error: 0.5946\n",
      "Epoch 17/30\n",
      "200/200 [==============================] - 2s 12ms/step - loss: 0.0309 - accuracy: 1.0000 - root_mean_squared_error: 0.1758 - val_loss: 0.3638 - val_accuracy: 0.4638 - val_root_mean_squared_error: 0.6032 - accuracy: 1.0000 - root_mean_squared_e\n",
      "Epoch 18/30\n",
      "200/200 [==============================] - 2s 12ms/step - loss: 0.0259 - accuracy: 1.0000 - root_mean_squared_error: 0.1610 - val_loss: 0.3776 - val_accuracy: 0.4638 - val_root_mean_squared_error: 0.6145\n",
      "Epoch 19/30\n",
      "200/200 [==============================] - 2s 12ms/step - loss: 0.0215 - accuracy: 1.0000 - root_mean_squared_error: 0.1468 - val_loss: 0.3872 - val_accuracy: 0.4638 - val_root_mean_squared_error: 0.6222\n",
      "Epoch 20/30\n",
      "200/200 [==============================] - 2s 12ms/step - loss: 0.0181 - accuracy: 1.0000 - root_mean_squared_error: 0.1346 - val_loss: 0.3943 - val_accuracy: 0.4638 - val_root_mean_squared_error: 0.6279\n",
      "Epoch 21/30\n",
      "200/200 [==============================] - 2s 12ms/step - loss: 0.0150 - accuracy: 1.0000 - root_mean_squared_error: 0.1227 - val_loss: 0.4086 - val_accuracy: 0.4638 - val_root_mean_squared_error: 0.6392\n"
     ]
    },
    {
     "name": "stdout",
     "output_type": "stream",
     "text": [
      "Epoch 22/30\n",
      "200/200 [==============================] - 2s 12ms/step - loss: 0.0125 - accuracy: 1.0000 - root_mean_squared_error: 0.1119 - val_loss: 0.4163 - val_accuracy: 0.4638 - val_root_mean_squared_error: 0.6452\n",
      "Epoch 23/30\n",
      "200/200 [==============================] - 2s 12ms/step - loss: 0.0105 - accuracy: 1.0000 - root_mean_squared_error: 0.1024 - val_loss: 0.4263 - val_accuracy: 0.4638 - val_root_mean_squared_error: 0.6529\n",
      "Epoch 24/30\n",
      "200/200 [==============================] - 2s 12ms/step - loss: 0.0087 - accuracy: 1.0000 - root_mean_squared_error: 0.0934 - val_loss: 0.4338 - val_accuracy: 0.4638 - val_root_mean_squared_error: 0.6586\n",
      "Epoch 25/30\n",
      "200/200 [==============================] - 2s 12ms/step - loss: 0.0074 - accuracy: 1.0000 - root_mean_squared_error: 0.0860 - val_loss: 0.4411 - val_accuracy: 0.4638 - val_root_mean_squared_error: 0.6641\n",
      "Epoch 26/30\n",
      "200/200 [==============================] - 2s 12ms/step - loss: 0.0062 - accuracy: 1.0000 - root_mean_squared_error: 0.0787 - val_loss: 0.4476 - val_accuracy: 0.4638 - val_root_mean_squared_error: 0.6690\n",
      "Epoch 27/30\n",
      "200/200 [==============================] - 2s 12ms/step - loss: 0.0052 - accuracy: 1.0000 - root_mean_squared_error: 0.0723 - val_loss: 0.4531 - val_accuracy: 0.4638 - val_root_mean_squared_error: 0.6731\n",
      "Epoch 28/30\n",
      "200/200 [==============================] - 2s 12ms/step - loss: 0.0044 - accuracy: 1.0000 - root_mean_squared_error: 0.0666 - val_loss: 0.4580 - val_accuracy: 0.4638 - val_root_mean_squared_error: 0.6768 1.0000 - root_mean_squared_err\n",
      "Epoch 29/30\n",
      "200/200 [==============================] - 2s 12ms/step - loss: 0.0038 - accuracy: 1.0000 - root_mean_squared_error: 0.0618 - val_loss: 0.4667 - val_accuracy: 0.4638 - val_root_mean_squared_error: 0.6831\n",
      "Epoch 30/30\n",
      "200/200 [==============================] - 2s 12ms/step - loss: 0.0032 - accuracy: 1.0000 - root_mean_squared_error: 0.0562 - val_loss: 0.4711 - val_accuracy: 0.4638 - val_root_mean_squared_error: 0.6864\n"
     ]
    },
    {
     "data": {
      "text/html": [
       "<div>\n",
       "<style scoped>\n",
       "    .dataframe tbody tr th:only-of-type {\n",
       "        vertical-align: middle;\n",
       "    }\n",
       "\n",
       "    .dataframe tbody tr th {\n",
       "        vertical-align: top;\n",
       "    }\n",
       "\n",
       "    .dataframe thead th {\n",
       "        text-align: right;\n",
       "    }\n",
       "</style>\n",
       "<table border=\"1\" class=\"dataframe\">\n",
       "  <thead>\n",
       "    <tr style=\"text-align: right;\">\n",
       "      <th></th>\n",
       "      <th>0</th>\n",
       "      <th>1</th>\n",
       "      <th>2</th>\n",
       "      <th>3</th>\n",
       "    </tr>\n",
       "  </thead>\n",
       "  <tbody>\n",
       "    <tr>\n",
       "      <th>loss</th>\n",
       "      <td>[0.28838446736335754, 0.2747708857059479, 0.26...</td>\n",
       "      <td>[0.2616203725337982, 0.2483990490436554, 0.235...</td>\n",
       "      <td>[0.29277414083480835, 0.2805050015449524, 0.26...</td>\n",
       "      <td>[0.215230792760849, 0.20276455581188202, 0.190...</td>\n",
       "    </tr>\n",
       "    <tr>\n",
       "      <th>accuracy</th>\n",
       "      <td>[0.0, 0.0, 0.018124999478459358, 0.60015624761...</td>\n",
       "      <td>[0.012812499888241291, 0.5914062261581421, 0.9...</td>\n",
       "      <td>[0.0, 0.0, 0.0, 0.06531249731779099, 0.7078124...</td>\n",
       "      <td>[1.0, 1.0, 1.0, 1.0, 1.0, 1.0, 1.0, 1.0, 1.0, ...</td>\n",
       "    </tr>\n",
       "    <tr>\n",
       "      <th>root_mean_squared_error</th>\n",
       "      <td>[0.537014365196228, 0.5241858959197998, 0.5113...</td>\n",
       "      <td>[0.5114883780479431, 0.49839648604393005, 0.48...</td>\n",
       "      <td>[0.5410860776901245, 0.5296272039413452, 0.518...</td>\n",
       "      <td>[0.4639297127723694, 0.4502938389778137, 0.435...</td>\n",
       "    </tr>\n",
       "    <tr>\n",
       "      <th>val_loss</th>\n",
       "      <td>[0.24896664917469025, 0.2492539882659912, 0.24...</td>\n",
       "      <td>[0.24979425966739655, 0.2505333125591278, 0.25...</td>\n",
       "      <td>[0.24932065606117249, 0.249367818236351, 0.249...</td>\n",
       "      <td>[0.251771479845047, 0.25337132811546326, 0.255...</td>\n",
       "    </tr>\n",
       "    <tr>\n",
       "      <th>val_accuracy</th>\n",
       "      <td>[0.5416666865348816, 0.5416666865348816, 0.550...</td>\n",
       "      <td>[0.5453628897666931, 0.4556451737880707, 0.452...</td>\n",
       "      <td>[0.5337837934494019, 0.5337837934494019, 0.527...</td>\n",
       "      <td>[0.4638157784938812, 0.4638157784938812, 0.463...</td>\n",
       "    </tr>\n",
       "    <tr>\n",
       "      <th>val_root_mean_squared_error</th>\n",
       "      <td>[0.4989655911922455, 0.49925342202186584, 0.49...</td>\n",
       "      <td>[0.49979421496391296, 0.5005329847335815, 0.50...</td>\n",
       "      <td>[0.4993201792240143, 0.4993674159049988, 0.499...</td>\n",
       "      <td>[0.5017683506011963, 0.5033600330352783, 0.505...</td>\n",
       "    </tr>\n",
       "  </tbody>\n",
       "</table>\n",
       "</div>"
      ],
      "text/plain": [
       "                                                                             0  \\\n",
       "loss                         [0.28838446736335754, 0.2747708857059479, 0.26...   \n",
       "accuracy                     [0.0, 0.0, 0.018124999478459358, 0.60015624761...   \n",
       "root_mean_squared_error      [0.537014365196228, 0.5241858959197998, 0.5113...   \n",
       "val_loss                     [0.24896664917469025, 0.2492539882659912, 0.24...   \n",
       "val_accuracy                 [0.5416666865348816, 0.5416666865348816, 0.550...   \n",
       "val_root_mean_squared_error  [0.4989655911922455, 0.49925342202186584, 0.49...   \n",
       "\n",
       "                                                                             1  \\\n",
       "loss                         [0.2616203725337982, 0.2483990490436554, 0.235...   \n",
       "accuracy                     [0.012812499888241291, 0.5914062261581421, 0.9...   \n",
       "root_mean_squared_error      [0.5114883780479431, 0.49839648604393005, 0.48...   \n",
       "val_loss                     [0.24979425966739655, 0.2505333125591278, 0.25...   \n",
       "val_accuracy                 [0.5453628897666931, 0.4556451737880707, 0.452...   \n",
       "val_root_mean_squared_error  [0.49979421496391296, 0.5005329847335815, 0.50...   \n",
       "\n",
       "                                                                             2  \\\n",
       "loss                         [0.29277414083480835, 0.2805050015449524, 0.26...   \n",
       "accuracy                     [0.0, 0.0, 0.0, 0.06531249731779099, 0.7078124...   \n",
       "root_mean_squared_error      [0.5410860776901245, 0.5296272039413452, 0.518...   \n",
       "val_loss                     [0.24932065606117249, 0.249367818236351, 0.249...   \n",
       "val_accuracy                 [0.5337837934494019, 0.5337837934494019, 0.527...   \n",
       "val_root_mean_squared_error  [0.4993201792240143, 0.4993674159049988, 0.499...   \n",
       "\n",
       "                                                                             3  \n",
       "loss                         [0.215230792760849, 0.20276455581188202, 0.190...  \n",
       "accuracy                     [1.0, 1.0, 1.0, 1.0, 1.0, 1.0, 1.0, 1.0, 1.0, ...  \n",
       "root_mean_squared_error      [0.4639297127723694, 0.4502938389778137, 0.435...  \n",
       "val_loss                     [0.251771479845047, 0.25337132811546326, 0.255...  \n",
       "val_accuracy                 [0.4638157784938812, 0.4638157784938812, 0.463...  \n",
       "val_root_mean_squared_error  [0.5017683506011963, 0.5033600330352783, 0.505...  "
      ]
     },
     "execution_count": 17,
     "metadata": {},
     "output_type": "execute_result"
    }
   ],
   "source": [
    "cnn1D_encoder_result = {}\n",
    "\n",
    "for i in range(NFOLD-1):\n",
    "    autoencoder = Autoencoder()\n",
    "    tfku.plot_model(\n",
    "        autoencoder,\n",
    "        to_file='autoencoder_model.png', dpi=96,\n",
    "        show_shapes=True, show_layer_names=True,\n",
    "        expand_nested=False\n",
    "    )\n",
    "\n",
    "    autoencoder.compile(optimizer = tfk.optimizers.Adam(learning_rate=1e-6), \n",
    "                        metrics = ['accuracy', \n",
    "                                   tfk.metrics.RootMeanSquaredError(),\n",
    "                                  ],\n",
    "                        loss = tfk.losses.MeanSquaredError(reduction= tfk.losses.Reduction.SUM_OVER_BATCH_SIZE)\n",
    "                       )\n",
    "    train_dataset, val_dataset, test_dataset = get_train_and_val_for_fold(folded_datasets=folded_datasets,fold = i)   \n",
    "    \n",
    "    result = autoencoder.fit(train_dataset, epochs= EPOCHS,steps_per_epoch = STEPS_PER_EPOCH,validation_data= val_dataset,)\n",
    "    \n",
    "    cnn1D_encoder_result[i] = result.history\n",
    "\n",
    "pd.DataFrame(cnn1D_encoder_result)"
   ]
  },
  {
   "cell_type": "code",
   "execution_count": 18,
   "id": "6392f200",
   "metadata": {
    "scrolled": true
   },
   "outputs": [
    {
     "data": {
      "text/plain": [
       "\"cnn1D_encoder_subclass_result = {}\\n\\nfor i in range(NFOLD-1):\\n    autoencoder = Autoencoder_subclass()\\n    tfku.plot_model(\\n        autoencoder.build_graph(BLOCK_SHAPE),\\n        to_file='autoencoder_subclass_model.png', dpi=96,\\n        show_shapes=True, show_layer_names=True,\\n        expand_nested=False\\n    )\\n    autoencoder.compile(optimizer = tfk.optimizers.Adam(learning_rate=1e-6), \\n                        metrics = ['accuracy', \\n                                   tfk.metrics.RootMeanSquaredError(),\\n                                  ],\\n                        loss = tfk.losses.MeanSquaredError(reduction= tfk.losses.Reduction.SUM_OVER_BATCH_SIZE)\\n                       )\\n    train_dataset, val_dataset, test_dataset = get_train_and_val_for_fold(folded_datasets=folded_datasets,fold = i)   \\n    \\n    result = autoencoder.fit(train_dataset, epochs= EPOCHS,steps_per_epoch = STEPS_PER_EPOCH,validation_data= val_dataset,)\\n    \\n    cnn1D_encoder_subclass_result[i] = result.history\\n\\npd.DataFrame(cnn1D_encoder_subclass_result)\\n\""
      ]
     },
     "execution_count": 18,
     "metadata": {},
     "output_type": "execute_result"
    }
   ],
   "source": [
    "\"\"\"cnn1D_encoder_subclass_result = {}\n",
    "\n",
    "for i in range(NFOLD-1):\n",
    "    autoencoder = Autoencoder_subclass()\n",
    "    tfku.plot_model(\n",
    "        autoencoder.build_graph(BLOCK_SHAPE),\n",
    "        to_file='autoencoder_subclass_model.png', dpi=96,\n",
    "        show_shapes=True, show_layer_names=True,\n",
    "        expand_nested=False\n",
    "    )\n",
    "    autoencoder.compile(optimizer = tfk.optimizers.Adam(learning_rate=1e-6), \n",
    "                        metrics = ['accuracy', \n",
    "                                   tfk.metrics.RootMeanSquaredError(),\n",
    "                                  ],\n",
    "                        loss = tfk.losses.MeanSquaredError(reduction= tfk.losses.Reduction.SUM_OVER_BATCH_SIZE)\n",
    "                       )\n",
    "    train_dataset, val_dataset, test_dataset = get_train_and_val_for_fold(folded_datasets=folded_datasets,fold = i)   \n",
    "    \n",
    "    result = autoencoder.fit(train_dataset, epochs= EPOCHS,steps_per_epoch = STEPS_PER_EPOCH,validation_data= val_dataset,)\n",
    "    \n",
    "    cnn1D_encoder_subclass_result[i] = result.history\n",
    "\n",
    "pd.DataFrame(cnn1D_encoder_subclass_result)\n",
    "\"\"\""
   ]
  },
  {
   "cell_type": "code",
   "execution_count": 19,
   "id": "2ea41f5d",
   "metadata": {
    "scrolled": false
   },
   "outputs": [
    {
     "name": "stdout",
     "output_type": "stream",
     "text": [
      "Epoch 1/30\n",
      "200/200 [==============================] - 2s 8ms/step - loss: 0.2674 - accuracy: 0.0478 - root_mean_squared_error: 0.5171 - val_loss: 0.2495 - val_accuracy: 0.5492 - val_root_mean_squared_error: 0.4995\n",
      "Epoch 2/30\n",
      "200/200 [==============================] - 2s 8ms/step - loss: 0.2454 - accuracy: 0.7481 - root_mean_squared_error: 0.4954 - val_loss: 0.2514 - val_accuracy: 0.4621 - val_root_mean_squared_error: 0.5014\n",
      "Epoch 3/30\n",
      "200/200 [==============================] - 2s 8ms/step - loss: 0.2285 - accuracy: 0.9912 - root_mean_squared_error: 0.4780 - val_loss: 0.2534 - val_accuracy: 0.4602 - val_root_mean_squared_error: 0.5034\n",
      "Epoch 4/30\n",
      "200/200 [==============================] - 2s 8ms/step - loss: 0.2118 - accuracy: 0.9967 - root_mean_squared_error: 0.4602 - val_loss: 0.2566 - val_accuracy: 0.4583 - val_root_mean_squared_error: 0.5065\n",
      "Epoch 5/30\n",
      "200/200 [==============================] - 2s 8ms/step - loss: 0.1901 - accuracy: 1.0000 - root_mean_squared_error: 0.4360 - val_loss: 0.2622 - val_accuracy: 0.4583 - val_root_mean_squared_error: 0.5121\n",
      "Epoch 6/30\n",
      "200/200 [==============================] - 2s 8ms/step - loss: 0.1600 - accuracy: 1.0000 - root_mean_squared_error: 0.4000 - val_loss: 0.2774 - val_accuracy: 0.4583 - val_root_mean_squared_error: 0.5267\n",
      "Epoch 7/30\n",
      "200/200 [==============================] - 2s 8ms/step - loss: 0.1279 - accuracy: 1.0000 - root_mean_squared_error: 0.3577 - val_loss: 0.2927 - val_accuracy: 0.4583 - val_root_mean_squared_error: 0.5410\n",
      "Epoch 8/30\n",
      "200/200 [==============================] - 2s 8ms/step - loss: 0.0980 - accuracy: 1.0000 - root_mean_squared_error: 0.3130 - val_loss: 0.3148 - val_accuracy: 0.4583 - val_root_mean_squared_error: 0.5611\n",
      "Epoch 9/30\n",
      "200/200 [==============================] - 2s 8ms/step - loss: 0.0724 - accuracy: 1.0000 - root_mean_squared_error: 0.2691 - val_loss: 0.3420 - val_accuracy: 0.4583 - val_root_mean_squared_error: 0.5848\n",
      "Epoch 10/30\n",
      "200/200 [==============================] - 2s 8ms/step - loss: 0.0527 - accuracy: 1.0000 - root_mean_squared_error: 0.2295 - val_loss: 0.3686 - val_accuracy: 0.4583 - val_root_mean_squared_error: 0.6071\n",
      "Epoch 11/30\n",
      "200/200 [==============================] - 2s 8ms/step - loss: 0.0387 - accuracy: 1.0000 - root_mean_squared_error: 0.1966 - val_loss: 0.3912 - val_accuracy: 0.4583 - val_root_mean_squared_error: 0.6254\n",
      "Epoch 12/30\n",
      "200/200 [==============================] - 2s 8ms/step - loss: 0.0305 - accuracy: 1.0000 - root_mean_squared_error: 0.1747 - val_loss: 0.4095 - val_accuracy: 0.4583 - val_root_mean_squared_error: 0.6399\n",
      "Epoch 13/30\n",
      "200/200 [==============================] - 2s 8ms/step - loss: 0.0228 - accuracy: 1.0000 - root_mean_squared_error: 0.1511 - val_loss: 0.4352 - val_accuracy: 0.4583 - val_root_mean_squared_error: 0.6597\n",
      "Epoch 14/30\n",
      "200/200 [==============================] - 2s 8ms/step - loss: 0.0190 - accuracy: 1.0000 - root_mean_squared_error: 0.1379 - val_loss: 0.4449 - val_accuracy: 0.4583 - val_root_mean_squared_error: 0.6670\n",
      "Epoch 15/30\n",
      "200/200 [==============================] - 1s 7ms/step - loss: 0.0153 - accuracy: 1.0000 - root_mean_squared_error: 0.1236 - val_loss: 0.4581 - val_accuracy: 0.4583 - val_root_mean_squared_error: 0.6768\n",
      "Epoch 16/30\n",
      "200/200 [==============================] - 2s 8ms/step - loss: 0.0146 - accuracy: 1.0000 - root_mean_squared_error: 0.1208 - val_loss: 0.4679 - val_accuracy: 0.4583 - val_root_mean_squared_error: 0.6840\n",
      "Epoch 17/30\n",
      "200/200 [==============================] - 1s 7ms/step - loss: 0.0139 - accuracy: 1.0000 - root_mean_squared_error: 0.1178 - val_loss: 0.4768 - val_accuracy: 0.4583 - val_root_mean_squared_error: 0.6905\n",
      "Epoch 18/30\n",
      "200/200 [==============================] - 2s 8ms/step - loss: 0.0134 - accuracy: 1.0000 - root_mean_squared_error: 0.1158 - val_loss: 0.4819 - val_accuracy: 0.4583 - val_root_mean_squared_error: 0.6942\n",
      "Epoch 19/30\n",
      "200/200 [==============================] - 2s 8ms/step - loss: 0.0112 - accuracy: 1.0000 - root_mean_squared_error: 0.1058 - val_loss: 0.4867 - val_accuracy: 0.4583 - val_root_mean_squared_error: 0.6976\n",
      "Epoch 20/30\n",
      "200/200 [==============================] - 2s 8ms/step - loss: 0.0112 - accuracy: 1.0000 - root_mean_squared_error: 0.1059 - val_loss: 0.4936 - val_accuracy: 0.4583 - val_root_mean_squared_error: 0.7026\n",
      "Epoch 21/30\n",
      "200/200 [==============================] - 2s 8ms/step - loss: 0.0108 - accuracy: 1.0000 - root_mean_squared_error: 0.1040 - val_loss: 0.4935 - val_accuracy: 0.4583 - val_root_mean_squared_error: 0.7025\n",
      "Epoch 22/30\n",
      "200/200 [==============================] - 1s 7ms/step - loss: 0.0108 - accuracy: 1.0000 - root_mean_squared_error: 0.1038 - val_loss: 0.4967 - val_accuracy: 0.4583 - val_root_mean_squared_error: 0.7048\n",
      "Epoch 23/30\n",
      "200/200 [==============================] - 1s 7ms/step - loss: 0.0091 - accuracy: 1.0000 - root_mean_squared_error: 0.0954 - val_loss: 0.5001 - val_accuracy: 0.4583 - val_root_mean_squared_error: 0.7072\n",
      "Epoch 24/30\n",
      "200/200 [==============================] - 1s 7ms/step - loss: 0.0099 - accuracy: 1.0000 - root_mean_squared_error: 0.0993 - val_loss: 0.4979 - val_accuracy: 0.4583 - val_root_mean_squared_error: 0.7056\n",
      "Epoch 25/30\n",
      "200/200 [==============================] - 1s 7ms/step - loss: 0.0098 - accuracy: 1.0000 - root_mean_squared_error: 0.0991 - val_loss: 0.5025 - val_accuracy: 0.4583 - val_root_mean_squared_error: 0.7089\n",
      "Epoch 26/30\n",
      "200/200 [==============================] - 1s 7ms/step - loss: 0.0102 - accuracy: 1.0000 - root_mean_squared_error: 0.1009 - val_loss: 0.5113 - val_accuracy: 0.4583 - val_root_mean_squared_error: 0.7150\n",
      "Epoch 27/30\n",
      "200/200 [==============================] - 1s 7ms/step - loss: 0.0090 - accuracy: 1.0000 - root_mean_squared_error: 0.0951 - val_loss: 0.5084 - val_accuracy: 0.4583 - val_root_mean_squared_error: 0.7130\n",
      "Epoch 28/30\n",
      "200/200 [==============================] - 1s 7ms/step - loss: 0.0082 - accuracy: 1.0000 - root_mean_squared_error: 0.0906 - val_loss: 0.5071 - val_accuracy: 0.4583 - val_root_mean_squared_error: 0.7121\n",
      "Epoch 29/30\n",
      "200/200 [==============================] - 1s 7ms/step - loss: 0.0094 - accuracy: 1.0000 - root_mean_squared_error: 0.0967 - val_loss: 0.5142 - val_accuracy: 0.4583 - val_root_mean_squared_error: 0.7171\n",
      "Epoch 30/30\n",
      "200/200 [==============================] - 1s 7ms/step - loss: 0.0090 - accuracy: 1.0000 - root_mean_squared_error: 0.0948 - val_loss: 0.5161 - val_accuracy: 0.4583 - val_root_mean_squared_error: 0.7184\n",
      "Epoch 1/30\n",
      "200/200 [==============================] - 2s 9ms/step - loss: 0.2374 - accuracy: 0.9977 - root_mean_squared_error: 0.4872 - val_loss: 0.2527 - val_accuracy: 0.4526 - val_root_mean_squared_error: 0.5027\n",
      "Epoch 2/30\n",
      "200/200 [==============================] - 1s 7ms/step - loss: 0.2193 - accuracy: 1.0000 - root_mean_squared_error: 0.4683 - val_loss: 0.2556 - val_accuracy: 0.4526 - val_root_mean_squared_error: 0.5056\n",
      "Epoch 3/30\n",
      "200/200 [==============================] - 1s 7ms/step - loss: 0.2009 - accuracy: 1.0000 - root_mean_squared_error: 0.4483 - val_loss: 0.2600 - val_accuracy: 0.4526 - val_root_mean_squared_error: 0.5099\n",
      "Epoch 4/30\n",
      "200/200 [==============================] - 1s 7ms/step - loss: 0.1796 - accuracy: 1.0000 - root_mean_squared_error: 0.4238 - val_loss: 0.2672 - val_accuracy: 0.4526 - val_root_mean_squared_error: 0.5169\n",
      "Epoch 5/30\n",
      "200/200 [==============================] - 1s 7ms/step - loss: 0.1561 - accuracy: 1.0000 - root_mean_squared_error: 0.3950 - val_loss: 0.2767 - val_accuracy: 0.4526 - val_root_mean_squared_error: 0.5260\n",
      "Epoch 6/30\n",
      "200/200 [==============================] - 1s 7ms/step - loss: 0.1314 - accuracy: 1.0000 - root_mean_squared_error: 0.3625 - val_loss: 0.2890 - val_accuracy: 0.4526 - val_root_mean_squared_error: 0.5376\n",
      "Epoch 7/30\n",
      "200/200 [==============================] - 1s 7ms/step - loss: 0.1075 - accuracy: 1.0000 - root_mean_squared_error: 0.3279 - val_loss: 0.3068 - val_accuracy: 0.4526 - val_root_mean_squared_error: 0.5539\n",
      "Epoch 8/30\n",
      "200/200 [==============================] - 1s 7ms/step - loss: 0.0860 - accuracy: 1.0000 - root_mean_squared_error: 0.2932 - val_loss: 0.3279 - val_accuracy: 0.4526 - val_root_mean_squared_error: 0.5726\n",
      "Epoch 9/30\n"
     ]
    },
    {
     "name": "stdout",
     "output_type": "stream",
     "text": [
      "200/200 [==============================] - 1s 7ms/step - loss: 0.0677 - accuracy: 1.0000 - root_mean_squared_error: 0.2603 - val_loss: 0.3499 - val_accuracy: 0.4526 - val_root_mean_squared_error: 0.5915\n",
      "Epoch 10/30\n",
      "200/200 [==============================] - 1s 7ms/step - loss: 0.0534 - accuracy: 1.0000 - root_mean_squared_error: 0.2311 - val_loss: 0.3705 - val_accuracy: 0.4526 - val_root_mean_squared_error: 0.6087\n",
      "Epoch 11/30\n",
      "200/200 [==============================] - 1s 7ms/step - loss: 0.0406 - accuracy: 1.0000 - root_mean_squared_error: 0.2014 - val_loss: 0.3865 - val_accuracy: 0.4526 - val_root_mean_squared_error: 0.6217\n",
      "Epoch 12/30\n",
      "200/200 [==============================] - 1s 7ms/step - loss: 0.0322 - accuracy: 1.0000 - root_mean_squared_error: 0.1795 - val_loss: 0.4105 - val_accuracy: 0.4526 - val_root_mean_squared_error: 0.6407\n",
      "Epoch 13/30\n",
      "200/200 [==============================] - 1s 7ms/step - loss: 0.0259 - accuracy: 1.0000 - root_mean_squared_error: 0.1609 - val_loss: 0.4257 - val_accuracy: 0.4526 - val_root_mean_squared_error: 0.6525\n",
      "Epoch 14/30\n",
      "200/200 [==============================] - 1s 7ms/step - loss: 0.0221 - accuracy: 1.0000 - root_mean_squared_error: 0.1487 - val_loss: 0.4375 - val_accuracy: 0.4526 - val_root_mean_squared_error: 0.6615\n",
      "Epoch 15/30\n",
      "200/200 [==============================] - 1s 7ms/step - loss: 0.0188 - accuracy: 1.0000 - root_mean_squared_error: 0.1370 - val_loss: 0.4509 - val_accuracy: 0.4526 - val_root_mean_squared_error: 0.6715\n",
      "Epoch 16/30\n",
      "200/200 [==============================] - 1s 7ms/step - loss: 0.0156 - accuracy: 1.0000 - root_mean_squared_error: 0.1247 - val_loss: 0.4635 - val_accuracy: 0.4526 - val_root_mean_squared_error: 0.6808\n",
      "Epoch 17/30\n",
      "200/200 [==============================] - 1s 7ms/step - loss: 0.0147 - accuracy: 1.0000 - root_mean_squared_error: 0.1212 - val_loss: 0.4730 - val_accuracy: 0.4526 - val_root_mean_squared_error: 0.6877\n",
      "Epoch 18/30\n",
      "200/200 [==============================] - 1s 7ms/step - loss: 0.0145 - accuracy: 1.0000 - root_mean_squared_error: 0.1203 - val_loss: 0.4789 - val_accuracy: 0.4526 - val_root_mean_squared_error: 0.6921\n",
      "Epoch 19/30\n",
      "200/200 [==============================] - 1s 7ms/step - loss: 0.0134 - accuracy: 1.0000 - root_mean_squared_error: 0.1156 - val_loss: 0.4811 - val_accuracy: 0.4526 - val_root_mean_squared_error: 0.6936\n",
      "Epoch 20/30\n",
      "200/200 [==============================] - 1s 7ms/step - loss: 0.0121 - accuracy: 1.0000 - root_mean_squared_error: 0.1101 - val_loss: 0.4887 - val_accuracy: 0.4526 - val_root_mean_squared_error: 0.6991\n",
      "Epoch 21/30\n",
      "200/200 [==============================] - 1s 7ms/step - loss: 0.0124 - accuracy: 1.0000 - root_mean_squared_error: 0.1114 - val_loss: 0.4945 - val_accuracy: 0.4526 - val_root_mean_squared_error: 0.7032\n",
      "Epoch 22/30\n",
      "200/200 [==============================] - 1s 7ms/step - loss: 0.0113 - accuracy: 1.0000 - root_mean_squared_error: 0.1063 - val_loss: 0.5020 - val_accuracy: 0.4526 - val_root_mean_squared_error: 0.7085\n",
      "Epoch 23/30\n",
      "200/200 [==============================] - 1s 7ms/step - loss: 0.0097 - accuracy: 1.0000 - root_mean_squared_error: 0.0987 - val_loss: 0.5038 - val_accuracy: 0.4526 - val_root_mean_squared_error: 0.7098\n",
      "Epoch 24/30\n",
      "200/200 [==============================] - 1s 7ms/step - loss: 0.0100 - accuracy: 1.0000 - root_mean_squared_error: 0.1000 - val_loss: 0.5048 - val_accuracy: 0.4526 - val_root_mean_squared_error: 0.7105\n",
      "Epoch 25/30\n",
      "200/200 [==============================] - 1s 7ms/step - loss: 0.0107 - accuracy: 1.0000 - root_mean_squared_error: 0.1033 - val_loss: 0.5084 - val_accuracy: 0.4526 - val_root_mean_squared_error: 0.7130\n",
      "Epoch 26/30\n",
      "200/200 [==============================] - 1s 7ms/step - loss: 0.0097 - accuracy: 1.0000 - root_mean_squared_error: 0.0985 - val_loss: 0.5153 - val_accuracy: 0.4526 - val_root_mean_squared_error: 0.7178\n",
      "Epoch 27/30\n",
      "200/200 [==============================] - 1s 7ms/step - loss: 0.0093 - accuracy: 1.0000 - root_mean_squared_error: 0.0966 - val_loss: 0.5125 - val_accuracy: 0.4526 - val_root_mean_squared_error: 0.7159\n",
      "Epoch 28/30\n",
      "200/200 [==============================] - 1s 7ms/step - loss: 0.0095 - accuracy: 1.0000 - root_mean_squared_error: 0.0973 - val_loss: 0.5158 - val_accuracy: 0.4526 - val_root_mean_squared_error: 0.7182\n",
      "Epoch 29/30\n",
      "200/200 [==============================] - 1s 7ms/step - loss: 0.0088 - accuracy: 1.0000 - root_mean_squared_error: 0.0937 - val_loss: 0.5203 - val_accuracy: 0.4526 - val_root_mean_squared_error: 0.7213\n",
      "Epoch 30/30\n",
      "200/200 [==============================] - 1s 7ms/step - loss: 0.0097 - accuracy: 1.0000 - root_mean_squared_error: 0.0984 - val_loss: 0.5179 - val_accuracy: 0.4526 - val_root_mean_squared_error: 0.7196\n",
      "Epoch 1/30\n",
      "200/200 [==============================] - 2s 8ms/step - loss: 0.2602 - accuracy: 0.1961 - root_mean_squared_error: 0.5101 - val_loss: 0.2503 - val_accuracy: 0.4730 - val_root_mean_squared_error: 0.5003\n",
      "Epoch 2/30\n",
      "200/200 [==============================] - 2s 8ms/step - loss: 0.2308 - accuracy: 0.9861 - root_mean_squared_error: 0.4804 - val_loss: 0.2537 - val_accuracy: 0.4662 - val_root_mean_squared_error: 0.5037\n",
      "Epoch 3/30\n",
      "200/200 [==============================] - 2s 8ms/step - loss: 0.1991 - accuracy: 1.0000 - root_mean_squared_error: 0.4463 - val_loss: 0.2599 - val_accuracy: 0.4662 - val_root_mean_squared_error: 0.5098\n",
      "Epoch 4/30\n",
      "200/200 [==============================] - 2s 8ms/step - loss: 0.1678 - accuracy: 1.0000 - root_mean_squared_error: 0.4097 - val_loss: 0.2707 - val_accuracy: 0.4662 - val_root_mean_squared_error: 0.5203\n",
      "Epoch 5/30\n",
      "200/200 [==============================] - 2s 8ms/step - loss: 0.1392 - accuracy: 1.0000 - root_mean_squared_error: 0.3731 - val_loss: 0.2806 - val_accuracy: 0.4662 - val_root_mean_squared_error: 0.5297\n",
      "Epoch 6/30\n",
      "200/200 [==============================] - 1s 7ms/step - loss: 0.1137 - accuracy: 1.0000 - root_mean_squared_error: 0.3372 - val_loss: 0.2964 - val_accuracy: 0.4662 - val_root_mean_squared_error: 0.5444\n",
      "Epoch 7/30\n",
      "200/200 [==============================] - 2s 8ms/step - loss: 0.0907 - accuracy: 1.0000 - root_mean_squared_error: 0.3011 - val_loss: 0.3143 - val_accuracy: 0.4662 - val_root_mean_squared_error: 0.5606\n",
      "Epoch 8/30\n",
      "200/200 [==============================] - 2s 8ms/step - loss: 0.0711 - accuracy: 1.0000 - root_mean_squared_error: 0.2666 - val_loss: 0.3360 - val_accuracy: 0.4662 - val_root_mean_squared_error: 0.5796\n",
      "Epoch 9/30\n",
      "200/200 [==============================] - 1s 7ms/step - loss: 0.0558 - accuracy: 1.0000 - root_mean_squared_error: 0.2363 - val_loss: 0.3557 - val_accuracy: 0.4662 - val_root_mean_squared_error: 0.5964\n",
      "Epoch 10/30\n",
      "200/200 [==============================] - 1s 7ms/step - loss: 0.0437 - accuracy: 1.0000 - root_mean_squared_error: 0.2092 - val_loss: 0.3719 - val_accuracy: 0.4662 - val_root_mean_squared_error: 0.6098\n",
      "Epoch 11/30\n",
      "200/200 [==============================] - 1s 7ms/step - loss: 0.0351 - accuracy: 1.0000 - root_mean_squared_error: 0.1874 - val_loss: 0.3879 - val_accuracy: 0.4662 - val_root_mean_squared_error: 0.6228\n",
      "Epoch 12/30\n",
      "200/200 [==============================] - 1s 7ms/step - loss: 0.0287 - accuracy: 1.0000 - root_mean_squared_error: 0.1693 - val_loss: 0.4087 - val_accuracy: 0.4662 - val_root_mean_squared_error: 0.6393\n",
      "Epoch 13/30\n",
      "200/200 [==============================] - 1s 7ms/step - loss: 0.0230 - accuracy: 1.0000 - root_mean_squared_error: 0.1517 - val_loss: 0.4202 - val_accuracy: 0.4662 - val_root_mean_squared_error: 0.6482\n",
      "Epoch 14/30\n",
      "200/200 [==============================] - 1s 7ms/step - loss: 0.0205 - accuracy: 1.0000 - root_mean_squared_error: 0.1433 - val_loss: 0.4356 - val_accuracy: 0.4662 - val_root_mean_squared_error: 0.6600\n",
      "Epoch 15/30\n",
      "200/200 [==============================] - 1s 7ms/step - loss: 0.0191 - accuracy: 1.0000 - root_mean_squared_error: 0.1384 - val_loss: 0.4414 - val_accuracy: 0.4662 - val_root_mean_squared_error: 0.6643\n",
      "Epoch 16/30\n",
      "200/200 [==============================] - 1s 7ms/step - loss: 0.0161 - accuracy: 1.0000 - root_mean_squared_error: 0.1268 - val_loss: 0.4562 - val_accuracy: 0.4662 - val_root_mean_squared_error: 0.6754\n",
      "Epoch 17/30\n"
     ]
    },
    {
     "name": "stdout",
     "output_type": "stream",
     "text": [
      "200/200 [==============================] - 1s 7ms/step - loss: 0.0153 - accuracy: 1.0000 - root_mean_squared_error: 0.1239 - val_loss: 0.4585 - val_accuracy: 0.4662 - val_root_mean_squared_error: 0.6771\n",
      "Epoch 18/30\n",
      "200/200 [==============================] - 1s 7ms/step - loss: 0.0134 - accuracy: 1.0000 - root_mean_squared_error: 0.1156 - val_loss: 0.4684 - val_accuracy: 0.4662 - val_root_mean_squared_error: 0.6844\n",
      "Epoch 19/30\n",
      "200/200 [==============================] - 1s 7ms/step - loss: 0.0134 - accuracy: 1.0000 - root_mean_squared_error: 0.1157 - val_loss: 0.4725 - val_accuracy: 0.4662 - val_root_mean_squared_error: 0.6874\n",
      "Epoch 20/30\n",
      "200/200 [==============================] - 1s 7ms/step - loss: 0.0135 - accuracy: 1.0000 - root_mean_squared_error: 0.1162 - val_loss: 0.4760 - val_accuracy: 0.4662 - val_root_mean_squared_error: 0.6899\n",
      "Epoch 21/30\n",
      "200/200 [==============================] - 1s 7ms/step - loss: 0.0118 - accuracy: 1.0000 - root_mean_squared_error: 0.1086 - val_loss: 0.4862 - val_accuracy: 0.4662 - val_root_mean_squared_error: 0.6973\n",
      "Epoch 22/30\n",
      "200/200 [==============================] - 1s 7ms/step - loss: 0.0118 - accuracy: 1.0000 - root_mean_squared_error: 0.1086 - val_loss: 0.4806 - val_accuracy: 0.4662 - val_root_mean_squared_error: 0.6933\n",
      "Epoch 23/30\n",
      "200/200 [==============================] - 1s 7ms/step - loss: 0.0116 - accuracy: 1.0000 - root_mean_squared_error: 0.1079 - val_loss: 0.4891 - val_accuracy: 0.4662 - val_root_mean_squared_error: 0.6993\n",
      "Epoch 24/30\n",
      "200/200 [==============================] - 1s 7ms/step - loss: 0.0107 - accuracy: 1.0000 - root_mean_squared_error: 0.1033 - val_loss: 0.4928 - val_accuracy: 0.4662 - val_root_mean_squared_error: 0.7020\n",
      "Epoch 25/30\n",
      "200/200 [==============================] - 1s 7ms/step - loss: 0.0114 - accuracy: 1.0000 - root_mean_squared_error: 0.1068 - val_loss: 0.4994 - val_accuracy: 0.4662 - val_root_mean_squared_error: 0.7067\n",
      "Epoch 26/30\n",
      "200/200 [==============================] - 1s 7ms/step - loss: 0.0107 - accuracy: 1.0000 - root_mean_squared_error: 0.1034 - val_loss: 0.4999 - val_accuracy: 0.4662 - val_root_mean_squared_error: 0.7071\n",
      "Epoch 27/30\n",
      "200/200 [==============================] - 1s 7ms/step - loss: 0.0102 - accuracy: 1.0000 - root_mean_squared_error: 0.1009 - val_loss: 0.4993 - val_accuracy: 0.4662 - val_root_mean_squared_error: 0.7066\n",
      "Epoch 28/30\n",
      "200/200 [==============================] - 1s 7ms/step - loss: 0.0108 - accuracy: 1.0000 - root_mean_squared_error: 0.1039 - val_loss: 0.4999 - val_accuracy: 0.4662 - val_root_mean_squared_error: 0.7070\n",
      "Epoch 29/30\n",
      "200/200 [==============================] - 1s 7ms/step - loss: 0.0103 - accuracy: 1.0000 - root_mean_squared_error: 0.1014 - val_loss: 0.5050 - val_accuracy: 0.4662 - val_root_mean_squared_error: 0.7107\n",
      "Epoch 30/30\n",
      "200/200 [==============================] - 1s 7ms/step - loss: 0.0096 - accuracy: 1.0000 - root_mean_squared_error: 0.0980 - val_loss: 0.5082 - val_accuracy: 0.4662 - val_root_mean_squared_error: 0.7129\n",
      "Epoch 1/30\n",
      "200/200 [==============================] - 2s 7ms/step - loss: 0.2398 - accuracy: 0.8647 - root_mean_squared_error: 0.4897 - val_loss: 0.2528 - val_accuracy: 0.4638 - val_root_mean_squared_error: 0.5028\n",
      "Epoch 2/30\n",
      "200/200 [==============================] - 1s 6ms/step - loss: 0.2152 - accuracy: 0.9992 - root_mean_squared_error: 0.4639 - val_loss: 0.2563 - val_accuracy: 0.4638 - val_root_mean_squared_error: 0.5062\n",
      "Epoch 3/30\n",
      "200/200 [==============================] - 1s 6ms/step - loss: 0.1934 - accuracy: 1.0000 - root_mean_squared_error: 0.4398 - val_loss: 0.2612 - val_accuracy: 0.4638 - val_root_mean_squared_error: 0.5111\n",
      "Epoch 4/30\n",
      "200/200 [==============================] - 1s 6ms/step - loss: 0.1716 - accuracy: 1.0000 - root_mean_squared_error: 0.4143 - val_loss: 0.2688 - val_accuracy: 0.4638 - val_root_mean_squared_error: 0.5185\n",
      "Epoch 5/30\n",
      "200/200 [==============================] - 1s 6ms/step - loss: 0.1483 - accuracy: 1.0000 - root_mean_squared_error: 0.3851 - val_loss: 0.2791 - val_accuracy: 0.4638 - val_root_mean_squared_error: 0.5283\n",
      "Epoch 6/30\n",
      "200/200 [==============================] - 1s 6ms/step - loss: 0.1228 - accuracy: 1.0000 - root_mean_squared_error: 0.3504 - val_loss: 0.2962 - val_accuracy: 0.4638 - val_root_mean_squared_error: 0.5443\n",
      "Epoch 7/30\n",
      "200/200 [==============================] - 1s 6ms/step - loss: 0.0979 - accuracy: 1.0000 - root_mean_squared_error: 0.3128 - val_loss: 0.3133 - val_accuracy: 0.4638 - val_root_mean_squared_error: 0.5597\n",
      "Epoch 8/30\n",
      "200/200 [==============================] - 1s 6ms/step - loss: 0.0766 - accuracy: 1.0000 - root_mean_squared_error: 0.2768 - val_loss: 0.3333 - val_accuracy: 0.4638 - val_root_mean_squared_error: 0.5773\n",
      "Epoch 9/30\n",
      "200/200 [==============================] - 1s 6ms/step - loss: 0.0594 - accuracy: 1.0000 - root_mean_squared_error: 0.2438 - val_loss: 0.3542 - val_accuracy: 0.4638 - val_root_mean_squared_error: 0.5952\n",
      "Epoch 10/30\n",
      "200/200 [==============================] - 1s 6ms/step - loss: 0.0454 - accuracy: 1.0000 - root_mean_squared_error: 0.2131 - val_loss: 0.3722 - val_accuracy: 0.4638 - val_root_mean_squared_error: 0.6101\n",
      "Epoch 11/30\n",
      "200/200 [==============================] - 1s 6ms/step - loss: 0.0360 - accuracy: 1.0000 - root_mean_squared_error: 0.1896 - val_loss: 0.3909 - val_accuracy: 0.4638 - val_root_mean_squared_error: 0.6252\n",
      "Epoch 12/30\n",
      "200/200 [==============================] - 1s 6ms/step - loss: 0.0299 - accuracy: 1.0000 - root_mean_squared_error: 0.1730 - val_loss: 0.4130 - val_accuracy: 0.4638 - val_root_mean_squared_error: 0.6426\n",
      "Epoch 13/30\n",
      "200/200 [==============================] - 1s 6ms/step - loss: 0.0223 - accuracy: 1.0000 - root_mean_squared_error: 0.1492 - val_loss: 0.4350 - val_accuracy: 0.4638 - val_root_mean_squared_error: 0.6595\n",
      "Epoch 14/30\n",
      "200/200 [==============================] - 1s 6ms/step - loss: 0.0191 - accuracy: 1.0000 - root_mean_squared_error: 0.1382 - val_loss: 0.4467 - val_accuracy: 0.4638 - val_root_mean_squared_error: 0.6684\n",
      "Epoch 15/30\n",
      "200/200 [==============================] - 1s 6ms/step - loss: 0.0166 - accuracy: 1.0000 - root_mean_squared_error: 0.1287 - val_loss: 0.4555 - val_accuracy: 0.4638 - val_root_mean_squared_error: 0.6749\n",
      "Epoch 16/30\n",
      "200/200 [==============================] - 1s 6ms/step - loss: 0.0144 - accuracy: 1.0000 - root_mean_squared_error: 0.1201 - val_loss: 0.4652 - val_accuracy: 0.4638 - val_root_mean_squared_error: 0.6820\n",
      "Epoch 17/30\n",
      "200/200 [==============================] - 1s 6ms/step - loss: 0.0139 - accuracy: 1.0000 - root_mean_squared_error: 0.1177 - val_loss: 0.4701 - val_accuracy: 0.4638 - val_root_mean_squared_error: 0.6857\n",
      "Epoch 18/30\n",
      "200/200 [==============================] - 1s 6ms/step - loss: 0.0117 - accuracy: 1.0000 - root_mean_squared_error: 0.1083 - val_loss: 0.4758 - val_accuracy: 0.4638 - val_root_mean_squared_error: 0.6898\n",
      "Epoch 19/30\n",
      "200/200 [==============================] - 1s 6ms/step - loss: 0.0117 - accuracy: 1.0000 - root_mean_squared_error: 0.1083 - val_loss: 0.4834 - val_accuracy: 0.4638 - val_root_mean_squared_error: 0.6953\n",
      "Epoch 20/30\n",
      "200/200 [==============================] - 1s 6ms/step - loss: 0.0108 - accuracy: 1.0000 - root_mean_squared_error: 0.1040 - val_loss: 0.4916 - val_accuracy: 0.4638 - val_root_mean_squared_error: 0.7011\n",
      "Epoch 21/30\n",
      "200/200 [==============================] - 1s 6ms/step - loss: 0.0105 - accuracy: 1.0000 - root_mean_squared_error: 0.1025 - val_loss: 0.4967 - val_accuracy: 0.4638 - val_root_mean_squared_error: 0.7048\n",
      "Epoch 22/30\n",
      "200/200 [==============================] - 1s 6ms/step - loss: 0.0102 - accuracy: 1.0000 - root_mean_squared_error: 0.1011 - val_loss: 0.4981 - val_accuracy: 0.4638 - val_root_mean_squared_error: 0.7057\n",
      "Epoch 23/30\n",
      "200/200 [==============================] - 1s 6ms/step - loss: 0.0098 - accuracy: 1.0000 - root_mean_squared_error: 0.0990 - val_loss: 0.5015 - val_accuracy: 0.4638 - val_root_mean_squared_error: 0.7081\n",
      "Epoch 24/30\n",
      "200/200 [==============================] - 1s 6ms/step - loss: 0.0102 - accuracy: 1.0000 - root_mean_squared_error: 0.1011 - val_loss: 0.4988 - val_accuracy: 0.4638 - val_root_mean_squared_error: 0.7063\n",
      "Epoch 25/30\n"
     ]
    },
    {
     "name": "stdout",
     "output_type": "stream",
     "text": [
      "200/200 [==============================] - 1s 6ms/step - loss: 0.0100 - accuracy: 1.0000 - root_mean_squared_error: 0.1002 - val_loss: 0.5126 - val_accuracy: 0.4638 - val_root_mean_squared_error: 0.7160\n",
      "Epoch 26/30\n",
      "200/200 [==============================] - 1s 6ms/step - loss: 0.0091 - accuracy: 1.0000 - root_mean_squared_error: 0.0956 - val_loss: 0.5133 - val_accuracy: 0.4638 - val_root_mean_squared_error: 0.7165\n",
      "Epoch 27/30\n",
      "200/200 [==============================] - 1s 6ms/step - loss: 0.0097 - accuracy: 1.0000 - root_mean_squared_error: 0.0986 - val_loss: 0.5146 - val_accuracy: 0.4638 - val_root_mean_squared_error: 0.7173\n",
      "Epoch 28/30\n",
      "200/200 [==============================] - 1s 6ms/step - loss: 0.0090 - accuracy: 1.0000 - root_mean_squared_error: 0.0949 - val_loss: 0.5199 - val_accuracy: 0.4638 - val_root_mean_squared_error: 0.7210\n",
      "Epoch 29/30\n",
      "200/200 [==============================] - 1s 6ms/step - loss: 0.0099 - accuracy: 1.0000 - root_mean_squared_error: 0.0994 - val_loss: 0.5139 - val_accuracy: 0.4638 - val_root_mean_squared_error: 0.7169\n",
      "Epoch 30/30\n",
      "200/200 [==============================] - 1s 6ms/step - loss: 0.0098 - accuracy: 1.0000 - root_mean_squared_error: 0.0988 - val_loss: 0.5125 - val_accuracy: 0.4638 - val_root_mean_squared_error: 0.7159\n"
     ]
    },
    {
     "data": {
      "text/html": [
       "<div>\n",
       "<style scoped>\n",
       "    .dataframe tbody tr th:only-of-type {\n",
       "        vertical-align: middle;\n",
       "    }\n",
       "\n",
       "    .dataframe tbody tr th {\n",
       "        vertical-align: top;\n",
       "    }\n",
       "\n",
       "    .dataframe thead th {\n",
       "        text-align: right;\n",
       "    }\n",
       "</style>\n",
       "<table border=\"1\" class=\"dataframe\">\n",
       "  <thead>\n",
       "    <tr style=\"text-align: right;\">\n",
       "      <th></th>\n",
       "      <th>0</th>\n",
       "      <th>1</th>\n",
       "      <th>2</th>\n",
       "      <th>3</th>\n",
       "    </tr>\n",
       "  </thead>\n",
       "  <tbody>\n",
       "    <tr>\n",
       "      <th>loss</th>\n",
       "      <td>[0.26739606261253357, 0.24543626606464386, 0.2...</td>\n",
       "      <td>[0.23739659786224365, 0.2193402498960495, 0.20...</td>\n",
       "      <td>[0.26016634702682495, 0.23077107965946198, 0.1...</td>\n",
       "      <td>[0.2397681027650833, 0.21520274877548218, 0.19...</td>\n",
       "    </tr>\n",
       "    <tr>\n",
       "      <th>accuracy</th>\n",
       "      <td>[0.04781249910593033, 0.7481250166893005, 0.99...</td>\n",
       "      <td>[0.9976562261581421, 1.0, 1.0, 1.0, 1.0, 1.0, ...</td>\n",
       "      <td>[0.19609375298023224, 0.9860937595367432, 1.0,...</td>\n",
       "      <td>[0.8646875023841858, 0.999218761920929, 1.0, 1...</td>\n",
       "    </tr>\n",
       "    <tr>\n",
       "      <th>root_mean_squared_error</th>\n",
       "      <td>[0.5171034932136536, 0.49541524052619934, 0.47...</td>\n",
       "      <td>[0.48723360896110535, 0.468337744474411, 0.448...</td>\n",
       "      <td>[0.5100650191307068, 0.4803863763809204, 0.446...</td>\n",
       "      <td>[0.48966121673583984, 0.46389949321746826, 0.4...</td>\n",
       "    </tr>\n",
       "    <tr>\n",
       "      <th>val_loss</th>\n",
       "      <td>[0.24947181344032288, 0.25142034888267517, 0.2...</td>\n",
       "      <td>[0.252690851688385, 0.2555842697620392, 0.2600...</td>\n",
       "      <td>[0.25030517578125, 0.2536998391151428, 0.25985...</td>\n",
       "      <td>[0.2527863085269928, 0.2562705874443054, 0.261...</td>\n",
       "    </tr>\n",
       "    <tr>\n",
       "      <th>val_accuracy</th>\n",
       "      <td>[0.5492424368858337, 0.46212121844291687, 0.46...</td>\n",
       "      <td>[0.4526209533214569, 0.4526209533214569, 0.452...</td>\n",
       "      <td>[0.47297295928001404, 0.46621620655059814, 0.4...</td>\n",
       "      <td>[0.4638157784938812, 0.4638157784938812, 0.463...</td>\n",
       "    </tr>\n",
       "    <tr>\n",
       "      <th>val_root_mean_squared_error</th>\n",
       "      <td>[0.4994715452194214, 0.5014182925224304, 0.503...</td>\n",
       "      <td>[0.5026836395263672, 0.5055534243583679, 0.509...</td>\n",
       "      <td>[0.5003050565719604, 0.503686249256134, 0.5097...</td>\n",
       "      <td>[0.5027785897254944, 0.5062317252159119, 0.511...</td>\n",
       "    </tr>\n",
       "  </tbody>\n",
       "</table>\n",
       "</div>"
      ],
      "text/plain": [
       "                                                                             0  \\\n",
       "loss                         [0.26739606261253357, 0.24543626606464386, 0.2...   \n",
       "accuracy                     [0.04781249910593033, 0.7481250166893005, 0.99...   \n",
       "root_mean_squared_error      [0.5171034932136536, 0.49541524052619934, 0.47...   \n",
       "val_loss                     [0.24947181344032288, 0.25142034888267517, 0.2...   \n",
       "val_accuracy                 [0.5492424368858337, 0.46212121844291687, 0.46...   \n",
       "val_root_mean_squared_error  [0.4994715452194214, 0.5014182925224304, 0.503...   \n",
       "\n",
       "                                                                             1  \\\n",
       "loss                         [0.23739659786224365, 0.2193402498960495, 0.20...   \n",
       "accuracy                     [0.9976562261581421, 1.0, 1.0, 1.0, 1.0, 1.0, ...   \n",
       "root_mean_squared_error      [0.48723360896110535, 0.468337744474411, 0.448...   \n",
       "val_loss                     [0.252690851688385, 0.2555842697620392, 0.2600...   \n",
       "val_accuracy                 [0.4526209533214569, 0.4526209533214569, 0.452...   \n",
       "val_root_mean_squared_error  [0.5026836395263672, 0.5055534243583679, 0.509...   \n",
       "\n",
       "                                                                             2  \\\n",
       "loss                         [0.26016634702682495, 0.23077107965946198, 0.1...   \n",
       "accuracy                     [0.19609375298023224, 0.9860937595367432, 1.0,...   \n",
       "root_mean_squared_error      [0.5100650191307068, 0.4803863763809204, 0.446...   \n",
       "val_loss                     [0.25030517578125, 0.2536998391151428, 0.25985...   \n",
       "val_accuracy                 [0.47297295928001404, 0.46621620655059814, 0.4...   \n",
       "val_root_mean_squared_error  [0.5003050565719604, 0.503686249256134, 0.5097...   \n",
       "\n",
       "                                                                             3  \n",
       "loss                         [0.2397681027650833, 0.21520274877548218, 0.19...  \n",
       "accuracy                     [0.8646875023841858, 0.999218761920929, 1.0, 1...  \n",
       "root_mean_squared_error      [0.48966121673583984, 0.46389949321746826, 0.4...  \n",
       "val_loss                     [0.2527863085269928, 0.2562705874443054, 0.261...  \n",
       "val_accuracy                 [0.4638157784938812, 0.4638157784938812, 0.463...  \n",
       "val_root_mean_squared_error  [0.5027785897254944, 0.5062317252159119, 0.511...  "
      ]
     },
     "execution_count": 19,
     "metadata": {},
     "output_type": "execute_result"
    }
   ],
   "source": [
    "cnnv1D_result = {}\n",
    "\n",
    "for i in range(NFOLD-1):\n",
    "    conv1D = Conv1D()\n",
    "    tfku.plot_model(\n",
    "        conv1D,\n",
    "        to_file='conv1D_model.png', dpi=96,\n",
    "        show_shapes=True, show_layer_names=True,\n",
    "        expand_nested=False\n",
    "    )\n",
    "\n",
    "    conv1D.compile(optimizer = tfk.optimizers.Adam(learning_rate=1e-6), \n",
    "                        metrics = ['accuracy', tfk.metrics.RootMeanSquaredError(),],\n",
    "                        loss = tfk.losses.MeanSquaredError(reduction= tfk.losses.Reduction.SUM_OVER_BATCH_SIZE)\n",
    "                       )\n",
    "    train_dataset, val_dataset, test_dataset = get_train_and_val_for_fold(folded_datasets=folded_datasets,fold = i)   \n",
    "    \n",
    "    result = conv1D.fit(train_dataset, epochs= EPOCHS,steps_per_epoch = STEPS_PER_EPOCH,validation_data= val_dataset,)\n",
    "    \n",
    "    cnnv1D_result[i] = result.history\n",
    "\n",
    "pd.DataFrame(cnnv1D_result)"
   ]
  },
  {
   "cell_type": "code",
   "execution_count": 20,
   "id": "c649400a",
   "metadata": {},
   "outputs": [
    {
     "data": {
      "text/plain": [
       "\"cnnv1D_subclass_result = {}\\n\\nfor i in range(NFOLD-1):\\n    conv1D = Conv1D_subclass()\\n    tfku.plot_model(\\n        conv1D.build_graph(BLOCK_SHAPE),\\n        to_file='conv1D_model_subclass.png', dpi=96,\\n        show_shapes=True, show_layer_names=True,\\n        expand_nested=False\\n    )\\n    conv1D.compile(optimizer = tfk.optimizers.Adam(learning_rate=1e-6), \\n                        metrics = ['accuracy', tfk.metrics.RootMeanSquaredError(),],\\n                        loss = tfk.losses.MeanSquaredError(reduction= tfk.losses.Reduction.SUM_OVER_BATCH_SIZE)\\n                       )\\n    train_dataset, val_dataset, test_dataset = get_train_and_val_for_fold(folded_datasets=folded_datasets,fold = i)   \\n    \\n    result = conv1D.fit(train_dataset, epochs= EPOCHS,steps_per_epoch = STEPS_PER_EPOCH,validation_data= val_dataset,)\\n    \\n    cnnv1D_subclass_result[i] = result.history\\n\\npd.DataFrame(cnnv1D_subclass_result)\\n\""
      ]
     },
     "execution_count": 20,
     "metadata": {},
     "output_type": "execute_result"
    }
   ],
   "source": [
    "\"\"\"cnnv1D_subclass_result = {}\n",
    "\n",
    "for i in range(NFOLD-1):\n",
    "    conv1D = Conv1D_subclass()\n",
    "    tfku.plot_model(\n",
    "        conv1D.build_graph(BLOCK_SHAPE),\n",
    "        to_file='conv1D_model_subclass.png', dpi=96,\n",
    "        show_shapes=True, show_layer_names=True,\n",
    "        expand_nested=False\n",
    "    )\n",
    "    conv1D.compile(optimizer = tfk.optimizers.Adam(learning_rate=1e-6), \n",
    "                        metrics = ['accuracy', tfk.metrics.RootMeanSquaredError(),],\n",
    "                        loss = tfk.losses.MeanSquaredError(reduction= tfk.losses.Reduction.SUM_OVER_BATCH_SIZE)\n",
    "                       )\n",
    "    train_dataset, val_dataset, test_dataset = get_train_and_val_for_fold(folded_datasets=folded_datasets,fold = i)   \n",
    "    \n",
    "    result = conv1D.fit(train_dataset, epochs= EPOCHS,steps_per_epoch = STEPS_PER_EPOCH,validation_data= val_dataset,)\n",
    "    \n",
    "    cnnv1D_subclass_result[i] = result.history\n",
    "\n",
    "pd.DataFrame(cnnv1D_subclass_result)\n",
    "\"\"\""
   ]
  },
  {
   "cell_type": "code",
   "execution_count": 21,
   "id": "13e7a6d8",
   "metadata": {
    "scrolled": true
   },
   "outputs": [
    {
     "data": {
      "image/png": "[encoded data removed]",
      "text/plain": [
       "<Figure size 432x288 with 1 Axes>"
      ]
     },
     "metadata": {
      "needs_background": "light"
     },
     "output_type": "display_data"
    }
   ],
   "source": [
    "for i in range(NFOLD-1):\n",
    "    loss = cnn1D_encoder_result[i]['loss']\n",
    "    plt.plot(loss)\n",
    "    plt.title('Training loss for Autoencoder')"
   ]
  },
  {
   "cell_type": "code",
   "execution_count": 22,
   "id": "5092996d",
   "metadata": {},
   "outputs": [
    {
     "data": {
      "image/png": "[encoded data removed]",
      "text/plain": [
       "<Figure size 432x288 with 1 Axes>"
      ]
     },
     "metadata": {
      "needs_background": "light"
     },
     "output_type": "display_data"
    }
   ],
   "source": [
    "for i in range(NFOLD-1):\n",
    "    loss = cnnv1D_result[i]['loss']\n",
    "    plt.plot(loss)\n",
    "    plt.title('Training loss for Conv1D')"
   ]
  },
  {
   "cell_type": "code",
   "execution_count": 23,
   "id": "19a54a15",
   "metadata": {},
   "outputs": [
    {
     "data": {
      "image/png": "[encoded data removed]",
      "text/plain": [
       "<Figure size 432x288 with 1 Axes>"
      ]
     },
     "metadata": {
      "needs_background": "light"
     },
     "output_type": "display_data"
    }
   ],
   "source": [
    "for i in range(NFOLD-1):\n",
    "    mse = cnn1D_encoder_result[i]['root_mean_squared_error']\n",
    "    plt.plot(mse)\n",
    "    plt.title('Training Mse for Autoencoder')"
   ]
  },
  {
   "cell_type": "code",
   "execution_count": 24,
   "id": "163a65ad",
   "metadata": {},
   "outputs": [
    {
     "data": {
      "image/png": "[encoded data removed]",
      "text/plain": [
       "<Figure size 432x288 with 1 Axes>"
      ]
     },
     "metadata": {
      "needs_background": "light"
     },
     "output_type": "display_data"
    }
   ],
   "source": [
    "for i in range(NFOLD-1):\n",
    "    mse = cnnv1D_result[i]['root_mean_squared_error']\n",
    "    plt.plot(mse)\n",
    "    plt.title('Training Mse for Conv1D')"
   ]
  },
  {
   "cell_type": "code",
   "execution_count": 25,
   "id": "742b3586",
   "metadata": {},
   "outputs": [
    {
     "data": {
      "text/plain": [
       "\"for i in range(NFOLD-1):\\n    loss = cnn1D_encoder_subclass_result[i]['loss']\\n    plt.plot(loss)\\n    plt.title('Training loss for Autoencoder_subclass')\\n\""
      ]
     },
     "execution_count": 25,
     "metadata": {},
     "output_type": "execute_result"
    }
   ],
   "source": [
    "\"\"\"for i in range(NFOLD-1):\n",
    "    loss = cnn1D_encoder_subclass_result[i]['loss']\n",
    "    plt.plot(loss)\n",
    "    plt.title('Training loss for Autoencoder_subclass')\n",
    "\"\"\""
   ]
  },
  {
   "cell_type": "code",
   "execution_count": 26,
   "id": "57d6b108",
   "metadata": {},
   "outputs": [
    {
     "data": {
      "text/plain": [
       "\"\\nfor i in range(NFOLD-1):\\n    loss = cnnv1D_subclass_result[i]['loss']\\n    plt.plot(loss)\\n    plt.title('Training loss for Conv1D_subclass')\\n\""
      ]
     },
     "execution_count": 26,
     "metadata": {},
     "output_type": "execute_result"
    }
   ],
   "source": [
    "\"\"\"\n",
    "for i in range(NFOLD-1):\n",
    "    loss = cnnv1D_subclass_result[i]['loss']\n",
    "    plt.plot(loss)\n",
    "    plt.title('Training loss for Conv1D_subclass')\n",
    "\"\"\""
   ]
  },
  {
   "cell_type": "code",
   "execution_count": 27,
   "id": "3cae27c9",
   "metadata": {},
   "outputs": [
    {
     "data": {
      "text/plain": [
       "\"\\nfor i in range(NFOLD-1):\\n    mse = cnn1D_encoder_subclass_result[i]['root_mean_squared_error']\\n    plt.plot(mse)\\n    plt.title('Training Mse for Autoencoder_subclass')\\n\""
      ]
     },
     "execution_count": 27,
     "metadata": {},
     "output_type": "execute_result"
    }
   ],
   "source": [
    "\"\"\"\n",
    "for i in range(NFOLD-1):\n",
    "    mse = cnn1D_encoder_subclass_result[i]['root_mean_squared_error']\n",
    "    plt.plot(mse)\n",
    "    plt.title('Training Mse for Autoencoder_subclass')\n",
    "\"\"\""
   ]
  },
  {
   "cell_type": "code",
   "execution_count": 28,
   "id": "9239aa80",
   "metadata": {},
   "outputs": [
    {
     "data": {
      "text/plain": [
       "\"\\nfor i in range(NFOLD-1):\\n    mse = cnnv1D_subclass_result[i]['root_mean_squared_error']\\n    plt.plot(mse)\\n    plt.title('Training Mse for Conv1D_subclass')\\n\""
      ]
     },
     "execution_count": 28,
     "metadata": {},
     "output_type": "execute_result"
    }
   ],
   "source": [
    "\"\"\"\n",
    "for i in range(NFOLD-1):\n",
    "    mse = cnnv1D_subclass_result[i]['root_mean_squared_error']\n",
    "    plt.plot(mse)\n",
    "    plt.title('Training Mse for Conv1D_subclass')\n",
    "\"\"\""
   ]
  },
  {
   "cell_type": "code",
   "execution_count": 29,
   "id": "1fb2a1f6",
   "metadata": {
    "scrolled": true
   },
   "outputs": [
    {
     "name": "stdout",
     "output_type": "stream",
     "text": [
      "26/26 [==============================] - 1s 2ms/step\n"
     ]
    },
    {
     "data": {
      "text/plain": [
       "[<matplotlib.lines.Line2D at 0x182e3648a00>]"
      ]
     },
     "execution_count": 29,
     "metadata": {},
     "output_type": "execute_result"
    },
    {
     "data": {
      "image/png": "[encoded data removed]",
      "text/plain": [
       "<Figure size 432x288 with 1 Axes>"
      ]
     },
     "metadata": {
      "needs_background": "light"
     },
     "output_type": "display_data"
    }
   ],
   "source": [
    "cnn1D_enc_predict = autoencoder.predict(test_dataset, verbose = True)\n",
    "plt.title(\"conv1D_enc_prediction\")\n",
    "plt.plot(cnn1D_enc_predict)"
   ]
  },
  {
   "cell_type": "code",
   "execution_count": 30,
   "id": "8744679a",
   "metadata": {
    "scrolled": false
   },
   "outputs": [
    {
     "data": {
      "text/plain": [
       "(array([  3.,   6.,  11.,  73., 112., 250., 281.,  89.,   6.,   1.]),\n",
       " array([0.8632185 , 0.8761565 , 0.8890946 , 0.9020326 , 0.91497064,\n",
       "        0.92790866, 0.94084674, 0.95378476, 0.9667228 , 0.97966087,\n",
       "        0.9925989 ], dtype=float32),\n",
       " <BarContainer object of 10 artists>)"
      ]
     },
     "execution_count": 30,
     "metadata": {},
     "output_type": "execute_result"
    },
    {
     "data": {
      "image/png": "[encoded data removed]",
      "text/plain": [
       "<Figure size 432x288 with 1 Axes>"
      ]
     },
     "metadata": {
      "needs_background": "light"
     },
     "output_type": "display_data"
    }
   ],
   "source": [
    "plt.title(\"conv1D_enc_prediction hist\")\n",
    "plt.hist(cnn1D_enc_predict)"
   ]
  },
  {
   "cell_type": "code",
   "execution_count": 31,
   "id": "626027f5",
   "metadata": {},
   "outputs": [
    {
     "name": "stdout",
     "output_type": "stream",
     "text": [
      "26/26 [==============================] - 0s 2ms/step\n"
     ]
    },
    {
     "data": {
      "text/plain": [
       "[<matplotlib.lines.Line2D at 0x1837b2975e0>]"
      ]
     },
     "execution_count": 31,
     "metadata": {},
     "output_type": "execute_result"
    },
    {
     "data": {
      "image/png": "[encoded data removed]",
      "text/plain": [
       "<Figure size 432x288 with 1 Axes>"
      ]
     },
     "metadata": {
      "needs_background": "light"
     },
     "output_type": "display_data"
    }
   ],
   "source": [
    "conv1D_predict = conv1D.predict(test_dataset, verbose = True)\n",
    "plt.title(\"conv1D_prediction\")\n",
    "plt.plot(conv1D_predict)"
   ]
  },
  {
   "cell_type": "code",
   "execution_count": 32,
   "id": "4bcd3ed6",
   "metadata": {
    "scrolled": false
   },
   "outputs": [
    {
     "data": {
      "text/plain": [
       "(array([ 32.,   0.,   0.,   1.,   0.,   1.,   0.,   0.,   0., 798.]),\n",
       " array([0.5307338 , 0.57719713, 0.62366045, 0.6701237 , 0.716587  ,\n",
       "        0.7630503 , 0.8095136 , 0.85597694, 0.9024402 , 0.9489035 ,\n",
       "        0.9953668 ], dtype=float32),\n",
       " <BarContainer object of 10 artists>)"
      ]
     },
     "execution_count": 32,
     "metadata": {},
     "output_type": "execute_result"
    },
    {
     "data": {
      "image/png": "[encoded data removed]",
      "text/plain": [
       "<Figure size 432x288 with 1 Axes>"
      ]
     },
     "metadata": {
      "needs_background": "light"
     },
     "output_type": "display_data"
    }
   ],
   "source": [
    "plt.title(\"conv1D_predict hist\")\n",
    "plt.hist(conv1D_predict)"
   ]
  },
  {
   "cell_type": "code",
   "execution_count": null,
   "id": "6f519054",
   "metadata": {},
   "outputs": [],
   "source": []
  },
  {
   "cell_type": "code",
   "execution_count": null,
   "id": "dc05464c",
   "metadata": {},
   "outputs": [],
   "source": []
  },
  {
   "cell_type": "code",
   "execution_count": null,
   "id": "b49e0d50",
   "metadata": {},
   "outputs": [],
   "source": []
  }
 ],
 "metadata": {
  "kernelspec": {
   "display_name": "Python 3",
   "language": "python",
   "name": "python3"
  },
  "language_info": {
   "codemirror_mode": {
    "name": "ipython",
    "version": 3
   },
   "file_extension": ".py",
   "mimetype": "text/x-python",
   "name": "python",
   "nbconvert_exporter": "python",
   "pygments_lexer": "ipython3",
   "version": "3.9.7"
  }
 },
 "nbformat": 4,
 "nbformat_minor": 5
}
