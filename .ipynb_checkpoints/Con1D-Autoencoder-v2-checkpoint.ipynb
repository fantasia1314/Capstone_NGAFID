{
 "cells": [
  {
   "cell_type": "code",
   "execution_count": 1,
   "id": "a9032074",
   "metadata": {},
   "outputs": [
    {
     "name": "stdout",
     "output_type": "stream",
     "text": [
      "Num GPUs Available:  1\n"
     ]
    }
   ],
   "source": [
    "import tensorflow as tf\n",
    "print(\"Num GPUs Available: \", len(tf.config.list_physical_devices('GPU')))\n",
    "import pandas as pd \n",
    "import numpy as np \n",
    "import seaborn as sns\n",
    "import random \n",
    "import matplotlib.pyplot as plt\n",
    "%matplotlib inline\n",
    "from sklearn.model_selection import train_test_split, KFold\n",
    "from sklearn import preprocessing\n",
    "\n",
    "tfk = tf.keras\n",
    "tfkl = tf.keras.layers"
   ]
  },
  {
   "cell_type": "code",
   "execution_count": 2,
   "id": "c16f9cce",
   "metadata": {},
   "outputs": [],
   "source": [
    "BATCH_SIZE = 32\n",
    "SHAPE = (4096, 23)\n",
    "BLOCK_SHAPE = (64, 23)\n",
    "EPOCHS = 30\n",
    "VARIABLES = 23\n",
    "NFOLD = 5 \n",
    "STEPS_PER_EPOCH = 200\n",
    "ID = 28"
   ]
  },
  {
   "cell_type": "code",
   "execution_count": 3,
   "id": "9ad27f44",
   "metadata": {},
   "outputs": [],
   "source": [
    "if ID == 28:\n",
    "    file='D:/Document/DSCI-601/NGAFID/NGAFID_MC_C28.csv'\n",
    "elif ID == 37:\n",
    "    file='D:/Document/DSCI-601/NGAFID/NGAFID_MC_C37.csv'\n",
    "else:\n",
    "    print('Invalid ID')\n",
    "df_test = pd.read_csv(file, nrows=100)\n",
    "float_cols = [c for c in df_test if df_test[c].dtype == \"float64\"]\n",
    "float32_cols = {c: np.float16 for c in float_cols}\n",
    "\n",
    "df = pd.read_csv(file, dtype=float32_cols, engine='c')\n",
    "df['id'] = df.id.astype('int32')\n",
    "df = df.dropna()"
   ]
  },
  {
   "cell_type": "code",
   "execution_count": 4,
   "id": "d767f07f",
   "metadata": {
    "scrolled": false
   },
   "outputs": [
    {
     "data": {
      "text/html": [
       "<div>\n",
       "<style scoped>\n",
       "    .dataframe tbody tr th:only-of-type {\n",
       "        vertical-align: middle;\n",
       "    }\n",
       "\n",
       "    .dataframe tbody tr th {\n",
       "        vertical-align: top;\n",
       "    }\n",
       "\n",
       "    .dataframe thead th {\n",
       "        text-align: right;\n",
       "    }\n",
       "</style>\n",
       "<table border=\"1\" class=\"dataframe\">\n",
       "  <thead>\n",
       "    <tr style=\"text-align: right;\">\n",
       "      <th></th>\n",
       "      <th></th>\n",
       "      <th>id</th>\n",
       "    </tr>\n",
       "    <tr>\n",
       "      <th>split</th>\n",
       "      <th>before_after</th>\n",
       "      <th></th>\n",
       "    </tr>\n",
       "  </thead>\n",
       "  <tbody>\n",
       "    <tr>\n",
       "      <th rowspan=\"2\" valign=\"top\">0</th>\n",
       "      <th>0</th>\n",
       "      <td>589</td>\n",
       "    </tr>\n",
       "    <tr>\n",
       "      <th>1</th>\n",
       "      <td>484</td>\n",
       "    </tr>\n",
       "    <tr>\n",
       "      <th rowspan=\"2\" valign=\"top\">1</th>\n",
       "      <th>0</th>\n",
       "      <td>555</td>\n",
       "    </tr>\n",
       "    <tr>\n",
       "      <th>1</th>\n",
       "      <td>449</td>\n",
       "    </tr>\n",
       "    <tr>\n",
       "      <th rowspan=\"2\" valign=\"top\">2</th>\n",
       "      <th>0</th>\n",
       "      <td>641</td>\n",
       "    </tr>\n",
       "    <tr>\n",
       "      <th>1</th>\n",
       "      <td>552</td>\n",
       "    </tr>\n",
       "    <tr>\n",
       "      <th rowspan=\"2\" valign=\"top\">3</th>\n",
       "      <th>0</th>\n",
       "      <td>343</td>\n",
       "    </tr>\n",
       "    <tr>\n",
       "      <th>1</th>\n",
       "      <td>282</td>\n",
       "    </tr>\n",
       "    <tr>\n",
       "      <th rowspan=\"2\" valign=\"top\">4</th>\n",
       "      <th>0</th>\n",
       "      <td>456</td>\n",
       "    </tr>\n",
       "    <tr>\n",
       "      <th>1</th>\n",
       "      <td>382</td>\n",
       "    </tr>\n",
       "  </tbody>\n",
       "</table>\n",
       "</div>"
      ],
      "text/plain": [
       "                     id\n",
       "split before_after     \n",
       "0     0             589\n",
       "      1             484\n",
       "1     0             555\n",
       "      1             449\n",
       "2     0             641\n",
       "      1             552\n",
       "3     0             343\n",
       "      1             282\n",
       "4     0             456\n",
       "      1             382"
      ]
     },
     "execution_count": 4,
     "metadata": {},
     "output_type": "execute_result"
    }
   ],
   "source": [
    "sources = df[['id', 'plane_id', 'split', 'date_diff', 'before_after']].drop_duplicates()\n",
    "sources.loc[: , ['split', 'before_after', 'id']].groupby(['split', 'before_after']).count()"
   ]
  },
  {
   "cell_type": "code",
   "execution_count": 5,
   "id": "d03f75fd",
   "metadata": {},
   "outputs": [],
   "source": [
    "input_columns = ['volt1',\n",
    " 'volt2',\n",
    " 'amp1',\n",
    " 'amp2',\n",
    " 'FQtyL',\n",
    " 'FQtyR',\n",
    " 'E1 FFlow',\n",
    " 'E1 OilT',\n",
    " 'E1 OilP',\n",
    " 'E1 RPM',\n",
    " 'E1 CHT1',\n",
    " 'E1 CHT2',\n",
    " 'E1 CHT3',\n",
    " 'E1 CHT4',\n",
    " 'E1 EGT1',\n",
    " 'E1 EGT2',\n",
    " 'E1 EGT3',\n",
    " 'E1 EGT4',\n",
    " 'OAT',\n",
    " 'IAS',\n",
    " 'VSpd',\n",
    " 'NormAc',\n",
    " 'AltMSL']"
   ]
  },
  {
   "cell_type": "code",
   "execution_count": 6,
   "id": "724fc0cc",
   "metadata": {},
   "outputs": [
    {
     "name": "stderr",
     "output_type": "stream",
     "text": [
      "D:\\Python-Anaconda\\envs\\tf\\lib\\site-packages\\sklearn\\base.py:450: UserWarning: X does not have valid feature names, but MinMaxScaler was fitted with feature names\n",
      "  warnings.warn(\n"
     ]
    }
   ],
   "source": [
    "preprocess = preprocessing.MinMaxScaler()\n",
    "preprocess.fit(df.loc[:, input_columns].sample(100000, random_state = 0 ))\n",
    "org_value = df.loc[:, input_columns].values\n",
    "res = preprocess.transform(org_value)\n",
    "for i, col in enumerate(input_columns):\n",
    "    df.loc[:, col] = res[:, i]"
   ]
  },
  {
   "cell_type": "code",
   "execution_count": 7,
   "id": "03a94172",
   "metadata": {},
   "outputs": [],
   "source": [
    "def get_dataset(df): \n",
    "\n",
    "    ids = df.id.unique()\n",
    "\n",
    "    sensor_datas = []\n",
    "    afters = [] \n",
    "\n",
    "    for id in ids: \n",
    "        sensor_data = df[df.id == id].iloc[-SHAPE[0]:, :23].values\n",
    "\n",
    "        sensor_data = np.pad(sensor_data, [[0, SHAPE[0]- len(sensor_data)], [0,0]])\n",
    "\n",
    "        sensor_data = tf.convert_to_tensor(sensor_data, dtype = tf.float32) \n",
    "\n",
    "        after = df[df.id == id]['before_after'].iloc[0]\n",
    "\n",
    "        sensor_datas.append(sensor_data)\n",
    "        afters.append(after)\n",
    "\n",
    "\n",
    "    sensor_datas = tf.stack(sensor_datas)\n",
    "    afters = np.stack(afters)\n",
    "\n",
    "    ds = tf.data.Dataset.from_tensor_slices( (sensor_datas, afters))\n",
    "    \n",
    "    return ds"
   ]
  },
  {
   "cell_type": "code",
   "execution_count": 8,
   "id": "7b1ab448",
   "metadata": {},
   "outputs": [],
   "source": [
    "def slice_random(x, y):\n",
    "    start = tf.random.uniform(shape=[], minval=0, maxval=4096-BLOCK_SHAPE[0], dtype=tf.int64)\n",
    "    x = x[start: start + BLOCK_SHAPE[0]]\n",
    "    x = tf.reshape(x, (BLOCK_SHAPE))\n",
    "    return x, y "
   ]
  },
  {
   "cell_type": "code",
   "execution_count": 9,
   "id": "841df979",
   "metadata": {},
   "outputs": [],
   "source": [
    "def fix_type(x, y):\n",
    "\n",
    "    return tf.cast(x, tf.float32), tf.cast(y, tf.float32)"
   ]
  },
  {
   "cell_type": "code",
   "execution_count": 10,
   "id": "cb464957",
   "metadata": {},
   "outputs": [],
   "source": [
    "def prepare_for_training(ds, shuffle = False, repeat = False, predict= True):\n",
    "    \n",
    "    ds = ds.map(fix_type)\n",
    "    ds = ds.map(slice_random)\n",
    "\n",
    "    ds = ds.shuffle(512) if shuffle else ds \n",
    "    ds = ds.repeat() if repeat else ds \n",
    "    ds = ds.batch(BATCH_SIZE, drop_remainder=True)\n",
    "\n",
    "    if not predict: \n",
    "        ds = ds.map(lambda x, y : (x, x) ) \n",
    "    else: \n",
    "        ds = ds.map(lambda x, y : (x, tf.reshape(y, (-1, 1))) )\n",
    "         \n",
    "    return ds"
   ]
  },
  {
   "cell_type": "code",
   "execution_count": 11,
   "id": "c975ce51",
   "metadata": {},
   "outputs": [],
   "source": [
    "def get_train_and_val_for_fold(folded_datasets, fold):\n",
    "    predict = True\n",
    "\n",
    "    train = []\n",
    "    for i in range(NFOLD-1): \n",
    "        if i == fold:\n",
    "            val_ds = folded_datasets[i][0].concatenate(folded_datasets[i][1])\n",
    "        else: \n",
    "            train.append(folded_datasets[i][0])\n",
    "    \n",
    "    test_ds = folded_datasets[4][0].concatenate(folded_datasets[4][1])\n",
    "    \n",
    "    train_ds = None\n",
    "    for ds in train: \n",
    "        train_ds = ds if train_ds is None else train_ds.concatenate(ds)\n",
    "\n",
    "    test_ds = prepare_for_training(test_ds, shuffle=False)\n",
    "    train_ds = prepare_for_training(train_ds, shuffle=True, repeat = True)\n",
    "    val_ds = prepare_for_training(val_ds, shuffle=False)\n",
    "    \n",
    "    return train_ds, val_ds, test_ds"
   ]
  },
  {
   "cell_type": "code",
   "execution_count": 12,
   "id": "f6d0ced2",
   "metadata": {},
   "outputs": [],
   "source": [
    "folded_datasets = []\n",
    "\n",
    "for i in range(NFOLD):\n",
    "    after = get_dataset(df[(df.split == i) & (df.before_after == 1)])\n",
    "    before = get_dataset(df[(df.split == i) & (df.before_after == 0)])\n",
    "    folded_datasets.append((after, before))"
   ]
  },
  {
   "cell_type": "code",
   "execution_count": 13,
   "id": "af01f60a",
   "metadata": {},
   "outputs": [],
   "source": [
    "class Autoencoder(tfk.Model):\n",
    "    def __init__(self):\n",
    "        super(Autoencoder, self).__init__()\n",
    "        self.encoder = tfk.Sequential([\n",
    "            tfkl.Input(shape = BLOCK_SHAPE),\n",
    "            tfkl.Conv1D(64, kernel_size= 7, strides= 2, activation='relu', padding='same'),\n",
    "            tfkl.Dropout(0.5),\n",
    "            tfkl.Conv1D(64, kernel_size= 7, strides= 2, activation='relu', padding='same'),\n",
    "            tfkl.Dropout(0.5),\n",
    "            tfkl.Conv1D(64, kernel_size= 7, strides= 2, activation='relu', padding='same'),\n",
    "            tfkl.Dropout(0.5),\n",
    "            tfkl.Conv1D(64, kernel_size= 7, strides= 2, activation='relu', padding='same'),\n",
    "        ])\n",
    "        \n",
    "        self.decoder = tf.keras.Sequential([\n",
    "            tfkl.Conv1DTranspose(64, kernel_size= 7, strides= 2, activation='relu', padding='same'),\n",
    "            tfkl.Conv1DTranspose(64, kernel_size= 7, strides= 2, activation='relu', padding='same'),\n",
    "            tfkl.Conv1DTranspose(64, kernel_size= 7, strides= 2, activation='relu', padding='same'),\n",
    "            tfkl.Conv1DTranspose(64, kernel_size= 7, strides= 2, activation='relu', padding='same'),\n",
    "            tfkl.Conv1D(1, kernel_size = 3, activation='sigmoid', padding='same')\n",
    "        ])\n",
    "    \n",
    "    def call(self, x):\n",
    "        encoded = self.encoder(x)\n",
    "        decoded = self.decoder(encoded)\n",
    "        return decoded"
   ]
  },
  {
   "cell_type": "code",
   "execution_count": 14,
   "id": "3ea48038",
   "metadata": {},
   "outputs": [],
   "source": [
    "class Conv1D(tfk.Model):\n",
    "    def __init__(self):\n",
    "        super(Conv1D, self).__init__()\n",
    "        self.conv1D_model = tfk.Sequential([\n",
    "            tfkl.Input(shape = BLOCK_SHAPE),\n",
    "            tfkl.Conv1D(64, kernel_size= 7, strides=2, activation='relu', padding='same'),\n",
    "            tfkl.Conv1D(64, kernel_size= 7, strides=2, activation='relu', padding='same'),\n",
    "            tfkl.Conv1D(64, kernel_size= 7, strides=2, activation='relu', padding='same'),\n",
    "            tfkl.Conv1D(64, kernel_size= 7, strides=2, activation='relu', padding='same'),\n",
    "            tfkl.GlobalAveragePooling1D(),\n",
    "            tfkl.Dense(1, activation='sigmoid'),\n",
    "        ])\n",
    "            \n",
    "    def call(self, x):\n",
    "        conv1D = self.conv1D_model(x)\n",
    "        return conv1D"
   ]
  },
  {
   "cell_type": "code",
   "execution_count": 15,
   "id": "d119525b",
   "metadata": {
    "scrolled": false
   },
   "outputs": [
    {
     "name": "stdout",
     "output_type": "stream",
     "text": [
      "Epoch 1/30\n",
      "200/200 [==============================] - 22s 14ms/step - loss: 0.2452 - accuracy: 0.7541 - root_mean_squared_error: 0.4952 - val_loss: 0.2503 - val_accuracy: 0.4711 - val_root_mean_squared_error: 0.5003\n",
      "Epoch 2/30\n",
      "200/200 [==============================] - 2s 12ms/step - loss: 0.2412 - accuracy: 0.8614 - root_mean_squared_error: 0.4911 - val_loss: 0.2505 - val_accuracy: 0.4638 - val_root_mean_squared_error: 0.5005\n",
      "Epoch 3/30\n",
      "200/200 [==============================] - 2s 12ms/step - loss: 0.2345 - accuracy: 0.9447 - root_mean_squared_error: 0.4843 - val_loss: 0.2511 - val_accuracy: 0.4611 - val_root_mean_squared_error: 0.5011\n",
      "Epoch 4/30\n",
      "200/200 [==============================] - 2s 12ms/step - loss: 0.2236 - accuracy: 0.9880 - root_mean_squared_error: 0.4729 - val_loss: 0.2522 - val_accuracy: 0.4583 - val_root_mean_squared_error: 0.5022\n",
      "Epoch 5/30\n",
      "200/200 [==============================] - 2s 12ms/step - loss: 0.2058 - accuracy: 0.9987 - root_mean_squared_error: 0.4536 - val_loss: 0.2545 - val_accuracy: 0.4583 - val_root_mean_squared_error: 0.5045\n",
      "Epoch 6/30\n",
      "200/200 [==============================] - 3s 13ms/step - loss: 0.1775 - accuracy: 0.9999 - root_mean_squared_error: 0.4213 - val_loss: 0.2606 - val_accuracy: 0.4583 - val_root_mean_squared_error: 0.5105\n",
      "Epoch 7/30\n",
      "200/200 [==============================] - 3s 13ms/step - loss: 0.1399 - accuracy: 1.0000 - root_mean_squared_error: 0.3741 - val_loss: 0.2745 - val_accuracy: 0.4583 - val_root_mean_squared_error: 0.5239\n",
      "Epoch 8/30\n",
      "200/200 [==============================] - 3s 13ms/step - loss: 0.0991 - accuracy: 1.0000 - root_mean_squared_error: 0.3148 - val_loss: 0.2984 - val_accuracy: 0.4583 - val_root_mean_squared_error: 0.5463\n",
      "Epoch 9/30\n",
      "200/200 [==============================] - 3s 13ms/step - loss: 0.0654 - accuracy: 1.0000 - root_mean_squared_error: 0.2557 - val_loss: 0.3289 - val_accuracy: 0.4583 - val_root_mean_squared_error: 0.5735\n",
      "Epoch 10/30\n",
      "200/200 [==============================] - 3s 13ms/step - loss: 0.0449 - accuracy: 1.0000 - root_mean_squared_error: 0.2118 - val_loss: 0.3612 - val_accuracy: 0.4583 - val_root_mean_squared_error: 0.6010\n",
      "Epoch 11/30\n",
      "200/200 [==============================] - 3s 13ms/step - loss: 0.0330 - accuracy: 1.0000 - root_mean_squared_error: 0.1817 - val_loss: 0.3909 - val_accuracy: 0.4583 - val_root_mean_squared_error: 0.6252\n",
      "Epoch 12/30\n",
      "200/200 [==============================] - 3s 13ms/step - loss: 0.0254 - accuracy: 1.0000 - root_mean_squared_error: 0.1595 - val_loss: 0.4141 - val_accuracy: 0.4583 - val_root_mean_squared_error: 0.6435\n",
      "Epoch 13/30\n",
      "200/200 [==============================] - 3s 13ms/step - loss: 0.0221 - accuracy: 1.0000 - root_mean_squared_error: 0.1488 - val_loss: 0.4355 - val_accuracy: 0.4583 - val_root_mean_squared_error: 0.6599\n",
      "Epoch 14/30\n",
      "200/200 [==============================] - 3s 13ms/step - loss: 0.0189 - accuracy: 1.0000 - root_mean_squared_error: 0.1376 - val_loss: 0.4499 - val_accuracy: 0.4583 - val_root_mean_squared_error: 0.6707\n",
      "Epoch 15/30\n",
      "200/200 [==============================] - 3s 13ms/step - loss: 0.0169 - accuracy: 1.0000 - root_mean_squared_error: 0.1302 - val_loss: 0.4574 - val_accuracy: 0.4583 - val_root_mean_squared_error: 0.6763\n",
      "Epoch 16/30\n",
      "200/200 [==============================] - 2s 11ms/step - loss: 0.0156 - accuracy: 1.0000 - root_mean_squared_error: 0.1247 - val_loss: 0.4666 - val_accuracy: 0.4583 - val_root_mean_squared_error: 0.6831\n",
      "Epoch 17/30\n",
      "200/200 [==============================] - 2s 11ms/step - loss: 0.0147 - accuracy: 1.0000 - root_mean_squared_error: 0.1211 - val_loss: 0.4810 - val_accuracy: 0.4583 - val_root_mean_squared_error: 0.6936\n",
      "Epoch 18/30\n",
      "200/200 [==============================] - 2s 9ms/step - loss: 0.0131 - accuracy: 1.0000 - root_mean_squared_error: 0.1144 - val_loss: 0.4850 - val_accuracy: 0.4583 - val_root_mean_squared_error: 0.6964\n",
      "Epoch 19/30\n",
      "200/200 [==============================] - 2s 10ms/step - loss: 0.0131 - accuracy: 1.0000 - root_mean_squared_error: 0.1143 - val_loss: 0.4912 - val_accuracy: 0.4583 - val_root_mean_squared_error: 0.7009\n",
      "Epoch 20/30\n",
      "200/200 [==============================] - 2s 11ms/step - loss: 0.0111 - accuracy: 1.0000 - root_mean_squared_error: 0.1053 - val_loss: 0.4954 - val_accuracy: 0.4583 - val_root_mean_squared_error: 0.7038\n",
      "Epoch 21/30\n",
      "200/200 [==============================] - 2s 12ms/step - loss: 0.0112 - accuracy: 1.0000 - root_mean_squared_error: 0.1058 - val_loss: 0.5036 - val_accuracy: 0.4583 - val_root_mean_squared_error: 0.7097\n",
      "Epoch 22/30\n",
      "200/200 [==============================] - 2s 12ms/step - loss: 0.0104 - accuracy: 1.0000 - root_mean_squared_error: 0.1018 - val_loss: 0.5060 - val_accuracy: 0.4583 - val_root_mean_squared_error: 0.7113\n",
      "Epoch 23/30\n",
      "200/200 [==============================] - 3s 13ms/step - loss: 0.0103 - accuracy: 1.0000 - root_mean_squared_error: 0.1014 - val_loss: 0.5069 - val_accuracy: 0.4583 - val_root_mean_squared_error: 0.7120\n",
      "Epoch 24/30\n",
      "200/200 [==============================] - 3s 13ms/step - loss: 0.0097 - accuracy: 1.0000 - root_mean_squared_error: 0.0987 - val_loss: 0.5137 - val_accuracy: 0.4583 - val_root_mean_squared_error: 0.7167\n",
      "Epoch 25/30\n",
      "200/200 [==============================] - 3s 13ms/step - loss: 0.0090 - accuracy: 1.0000 - root_mean_squared_error: 0.0948 - val_loss: 0.5109 - val_accuracy: 0.4583 - val_root_mean_squared_error: 0.7147\n",
      "Epoch 26/30\n",
      "200/200 [==============================] - 3s 13ms/step - loss: 0.0093 - accuracy: 1.0000 - root_mean_squared_error: 0.0963 - val_loss: 0.5167 - val_accuracy: 0.4583 - val_root_mean_squared_error: 0.7188loss: 0.0092 - accuracy: 1.0000 - root_mean\n",
      "Epoch 27/30\n",
      "200/200 [==============================] - 3s 13ms/step - loss: 0.0090 - accuracy: 1.0000 - root_mean_squared_error: 0.0951 - val_loss: 0.5189 - val_accuracy: 0.4583 - val_root_mean_squared_error: 0.7204\n",
      "Epoch 28/30\n",
      "200/200 [==============================] - 3s 13ms/step - loss: 0.0094 - accuracy: 1.0000 - root_mean_squared_error: 0.0969 - val_loss: 0.5176 - val_accuracy: 0.4583 - val_root_mean_squared_error: 0.7194\n",
      "Epoch 29/30\n",
      "200/200 [==============================] - 3s 13ms/step - loss: 0.0087 - accuracy: 1.0000 - root_mean_squared_error: 0.0932 - val_loss: 0.5259 - val_accuracy: 0.4583 - val_root_mean_squared_error: 0.7252\n",
      "Epoch 30/30\n",
      "200/200 [==============================] - 3s 13ms/step - loss: 0.0079 - accuracy: 1.0000 - root_mean_squared_error: 0.0890 - val_loss: 0.5178 - val_accuracy: 0.4583 - val_root_mean_squared_error: 0.7196\n",
      "Epoch 1/30\n",
      "200/200 [==============================] - 4s 14ms/step - loss: 0.2504 - accuracy: 0.4114 - root_mean_squared_error: 0.5004 - val_loss: 0.2501 - val_accuracy: 0.4854 - val_root_mean_squared_error: 0.5001 accuracy: 0.3766 - root_me - ETA: 0s - loss: 0.2505 - accuracy: 0.4022 - root_mean_squared_error\n",
      "Epoch 2/30\n",
      "200/200 [==============================] - 2s 12ms/step - loss: 0.2477 - accuracy: 0.6249 - root_mean_squared_error: 0.4977 - val_loss: 0.2502 - val_accuracy: 0.4643 - val_root_mean_squared_error: 0.5002\n",
      "Epoch 3/30\n",
      "200/200 [==============================] - 3s 13ms/step - loss: 0.2435 - accuracy: 0.8435 - root_mean_squared_error: 0.4935 - val_loss: 0.2506 - val_accuracy: 0.4542 - val_root_mean_squared_error: 0.5006\n",
      "Epoch 4/30\n",
      "200/200 [==============================] - 2s 12ms/step - loss: 0.2360 - accuracy: 0.9657 - root_mean_squared_error: 0.4858 - val_loss: 0.2513 - val_accuracy: 0.4526 - val_root_mean_squared_error: 0.5013 0.9653 - root_mean_squared_error: 0.48\n",
      "Epoch 5/30\n",
      "200/200 [==============================] - 2s 12ms/step - loss: 0.2228 - accuracy: 0.9956 - root_mean_squared_error: 0.4720 - val_loss: 0.2530 - val_accuracy: 0.4526 - val_root_mean_squared_error: 0.5030\n",
      "Epoch 6/30\n",
      "200/200 [==============================] - 2s 12ms/step - loss: 0.2003 - accuracy: 0.9995 - root_mean_squared_error: 0.4475 - val_loss: 0.2571 - val_accuracy: 0.4526 - val_root_mean_squared_error: 0.5071\n",
      "Epoch 7/30\n",
      "200/200 [==============================] - 2s 12ms/step - loss: 0.1661 - accuracy: 1.0000 - root_mean_squared_error: 0.4075 - val_loss: 0.2675 - val_accuracy: 0.4526 - val_root_mean_squared_error: 0.5172\n",
      "Epoch 8/30\n"
     ]
    },
    {
     "name": "stdout",
     "output_type": "stream",
     "text": [
      "200/200 [==============================] - 2s 12ms/step - loss: 0.1240 - accuracy: 1.0000 - root_mean_squared_error: 0.3522 - val_loss: 0.2877 - val_accuracy: 0.4526 - val_root_mean_squared_error: 0.5363\n",
      "Epoch 9/30\n",
      "200/200 [==============================] - 2s 12ms/step - loss: 0.0851 - accuracy: 1.0000 - root_mean_squared_error: 0.2918 - val_loss: 0.3194 - val_accuracy: 0.4526 - val_root_mean_squared_error: 0.5652\n",
      "Epoch 10/30\n",
      "200/200 [==============================] - 2s 12ms/step - loss: 0.0567 - accuracy: 1.0000 - root_mean_squared_error: 0.2380 - val_loss: 0.3551 - val_accuracy: 0.4526 - val_root_mean_squared_error: 0.5959\n",
      "Epoch 11/30\n",
      "200/200 [==============================] - 2s 12ms/step - loss: 0.0417 - accuracy: 1.0000 - root_mean_squared_error: 0.2041 - val_loss: 0.3840 - val_accuracy: 0.4526 - val_root_mean_squared_error: 0.6197\n",
      "Epoch 12/30\n",
      "200/200 [==============================] - 2s 12ms/step - loss: 0.0314 - accuracy: 1.0000 - root_mean_squared_error: 0.1771 - val_loss: 0.4120 - val_accuracy: 0.4526 - val_root_mean_squared_error: 0.6418\n",
      "Epoch 13/30\n",
      "200/200 [==============================] - 2s 12ms/step - loss: 0.0248 - accuracy: 1.0000 - root_mean_squared_error: 0.1574 - val_loss: 0.4325 - val_accuracy: 0.4526 - val_root_mean_squared_error: 0.6577\n",
      "Epoch 14/30\n",
      "200/200 [==============================] - 2s 12ms/step - loss: 0.0207 - accuracy: 1.0000 - root_mean_squared_error: 0.1439 - val_loss: 0.4524 - val_accuracy: 0.4526 - val_root_mean_squared_error: 0.6726.0000 - root_mean_squared_err\n",
      "Epoch 15/30\n",
      "200/200 [==============================] - 2s 12ms/step - loss: 0.0192 - accuracy: 1.0000 - root_mean_squared_error: 0.1385 - val_loss: 0.4632 - val_accuracy: 0.4526 - val_root_mean_squared_error: 0.6806\n",
      "Epoch 16/30\n",
      "200/200 [==============================] - 2s 12ms/step - loss: 0.0172 - accuracy: 1.0000 - root_mean_squared_error: 0.1313 - val_loss: 0.4791 - val_accuracy: 0.4526 - val_root_mean_squared_error: 0.6922\n",
      "Epoch 17/30\n",
      "200/200 [==============================] - 2s 12ms/step - loss: 0.0139 - accuracy: 1.0000 - root_mean_squared_error: 0.1181 - val_loss: 0.4860 - val_accuracy: 0.4526 - val_root_mean_squared_error: 0.6971\n",
      "Epoch 18/30\n",
      "200/200 [==============================] - 2s 12ms/step - loss: 0.0140 - accuracy: 1.0000 - root_mean_squared_error: 0.1182 - val_loss: 0.4977 - val_accuracy: 0.4526 - val_root_mean_squared_error: 0.7055\n",
      "Epoch 19/30\n",
      "200/200 [==============================] - 2s 12ms/step - loss: 0.0132 - accuracy: 1.0000 - root_mean_squared_error: 0.1147 - val_loss: 0.5012 - val_accuracy: 0.4526 - val_root_mean_squared_error: 0.7080\n",
      "Epoch 20/30\n",
      "200/200 [==============================] - 2s 12ms/step - loss: 0.0126 - accuracy: 1.0000 - root_mean_squared_error: 0.1124 - val_loss: 0.5043 - val_accuracy: 0.4526 - val_root_mean_squared_error: 0.7101\n",
      "Epoch 21/30\n",
      "200/200 [==============================] - 2s 12ms/step - loss: 0.0116 - accuracy: 1.0000 - root_mean_squared_error: 0.1077 - val_loss: 0.5092 - val_accuracy: 0.4526 - val_root_mean_squared_error: 0.7136\n",
      "Epoch 22/30\n",
      "200/200 [==============================] - 2s 12ms/step - loss: 0.0108 - accuracy: 1.0000 - root_mean_squared_error: 0.1039 - val_loss: 0.5125 - val_accuracy: 0.4526 - val_root_mean_squared_error: 0.7159\n",
      "Epoch 23/30\n",
      "200/200 [==============================] - 2s 12ms/step - loss: 0.0105 - accuracy: 1.0000 - root_mean_squared_error: 0.1026 - val_loss: 0.5142 - val_accuracy: 0.4526 - val_root_mean_squared_error: 0.7171\n",
      "Epoch 24/30\n",
      "200/200 [==============================] - 2s 12ms/step - loss: 0.0101 - accuracy: 1.0000 - root_mean_squared_error: 0.1005 - val_loss: 0.5207 - val_accuracy: 0.4526 - val_root_mean_squared_error: 0.7216\n",
      "Epoch 25/30\n",
      "200/200 [==============================] - 2s 12ms/step - loss: 0.0101 - accuracy: 1.0000 - root_mean_squared_error: 0.1004 - val_loss: 0.5195 - val_accuracy: 0.4526 - val_root_mean_squared_error: 0.7208\n",
      "Epoch 26/30\n",
      "200/200 [==============================] - 2s 12ms/step - loss: 0.0092 - accuracy: 1.0000 - root_mean_squared_error: 0.0957 - val_loss: 0.5230 - val_accuracy: 0.4526 - val_root_mean_squared_error: 0.7232\n",
      "Epoch 27/30\n",
      "200/200 [==============================] - 2s 12ms/step - loss: 0.0089 - accuracy: 1.0000 - root_mean_squared_error: 0.0942 - val_loss: 0.5262 - val_accuracy: 0.4526 - val_root_mean_squared_error: 0.7254\n",
      "Epoch 28/30\n",
      "200/200 [==============================] - 2s 12ms/step - loss: 0.0099 - accuracy: 1.0000 - root_mean_squared_error: 0.0996 - val_loss: 0.5329 - val_accuracy: 0.4526 - val_root_mean_squared_error: 0.7300\n",
      "Epoch 29/30\n",
      "200/200 [==============================] - 2s 12ms/step - loss: 0.0086 - accuracy: 1.0000 - root_mean_squared_error: 0.0929 - val_loss: 0.5306 - val_accuracy: 0.4526 - val_root_mean_squared_error: 0.7284\n",
      "Epoch 30/30\n",
      "200/200 [==============================] - 2s 12ms/step - loss: 0.0089 - accuracy: 1.0000 - root_mean_squared_error: 0.0944 - val_loss: 0.5270 - val_accuracy: 0.4526 - val_root_mean_squared_error: 0.7260\n",
      "Epoch 1/30\n",
      "200/200 [==============================] - 4s 14ms/step - loss: 0.2473 - accuracy: 0.8960 - root_mean_squared_error: 0.4972 - val_loss: 0.2501 - val_accuracy: 0.4666 - val_root_mean_squared_error: 0.5001\n",
      "Epoch 2/30\n",
      "200/200 [==============================] - 3s 13ms/step - loss: 0.2448 - accuracy: 0.9802 - root_mean_squared_error: 0.4948 - val_loss: 0.2502 - val_accuracy: 0.4662 - val_root_mean_squared_error: 0.5002\n",
      "Epoch 3/30\n",
      "200/200 [==============================] - 3s 13ms/step - loss: 0.2409 - accuracy: 0.9982 - root_mean_squared_error: 0.4908 - val_loss: 0.2504 - val_accuracy: 0.4662 - val_root_mean_squared_error: 0.5004\n",
      "Epoch 4/30\n",
      "200/200 [==============================] - 3s 13ms/step - loss: 0.2342 - accuracy: 0.9999 - root_mean_squared_error: 0.4839 - val_loss: 0.2508 - val_accuracy: 0.4662 - val_root_mean_squared_error: 0.5008\n",
      "Epoch 5/30\n",
      "200/200 [==============================] - 3s 13ms/step - loss: 0.2225 - accuracy: 1.0000 - root_mean_squared_error: 0.4717 - val_loss: 0.2518 - val_accuracy: 0.4662 - val_root_mean_squared_error: 0.5018\n",
      "Epoch 6/30\n",
      "200/200 [==============================] - 3s 13ms/step - loss: 0.2019 - accuracy: 1.0000 - root_mean_squared_error: 0.4493 - val_loss: 0.2545 - val_accuracy: 0.4662 - val_root_mean_squared_error: 0.5044\n",
      "Epoch 7/30\n",
      "200/200 [==============================] - 3s 13ms/step - loss: 0.1677 - accuracy: 1.0000 - root_mean_squared_error: 0.4096 - val_loss: 0.2621 - val_accuracy: 0.4662 - val_root_mean_squared_error: 0.5119\n",
      "Epoch 8/30\n",
      "200/200 [==============================] - 3s 13ms/step - loss: 0.1238 - accuracy: 1.0000 - root_mean_squared_error: 0.3519 - val_loss: 0.2800 - val_accuracy: 0.4662 - val_root_mean_squared_error: 0.5291\n",
      "Epoch 9/30\n",
      "200/200 [==============================] - 3s 13ms/step - loss: 0.0813 - accuracy: 1.0000 - root_mean_squared_error: 0.2851 - val_loss: 0.3109 - val_accuracy: 0.4662 - val_root_mean_squared_error: 0.5576ss: 0.0952 \n",
      "Epoch 10/30\n",
      "200/200 [==============================] - 3s 13ms/step - loss: 0.0529 - accuracy: 1.0000 - root_mean_squared_error: 0.2300 - val_loss: 0.3457 - val_accuracy: 0.4662 - val_root_mean_squared_error: 0.5880\n",
      "Epoch 11/30\n",
      "200/200 [==============================] - 3s 13ms/step - loss: 0.0362 - accuracy: 1.0000 - root_mean_squared_error: 0.1902 - val_loss: 0.3758 - val_accuracy: 0.4662 - val_root_mean_squared_error: 0.6131\n",
      "Epoch 12/30\n",
      "200/200 [==============================] - 3s 13ms/step - loss: 0.0275 - accuracy: 1.0000 - root_mean_squared_error: 0.1659 - val_loss: 0.4015 - val_accuracy: 0.4662 - val_root_mean_squared_error: 0.63360278 - accuracy: 1.0000 - root_mean_squared_e\n",
      "Epoch 13/30\n",
      "200/200 [==============================] - 3s 13ms/step - loss: 0.0226 - accuracy: 1.0000 - root_mean_squared_error: 0.1502 - val_loss: 0.4231 - val_accuracy: 0.4662 - val_root_mean_squared_error: 0.6505\n",
      "Epoch 14/30\n",
      "200/200 [==============================] - 3s 13ms/step - loss: 0.0188 - accuracy: 1.0000 - root_mean_squared_error: 0.1371 - val_loss: 0.4363 - val_accuracy: 0.4662 - val_root_mean_squared_error: 0.6605\n",
      "Epoch 15/30\n"
     ]
    },
    {
     "name": "stdout",
     "output_type": "stream",
     "text": [
      "200/200 [==============================] - 3s 13ms/step - loss: 0.0163 - accuracy: 1.0000 - root_mean_squared_error: 0.1276 - val_loss: 0.4500 - val_accuracy: 0.4662 - val_root_mean_squared_error: 0.6709\n",
      "Epoch 16/30\n",
      "200/200 [==============================] - 3s 13ms/step - loss: 0.0154 - accuracy: 1.0000 - root_mean_squared_error: 0.1242 - val_loss: 0.4628 - val_accuracy: 0.4662 - val_root_mean_squared_error: 0.6803\n",
      "Epoch 17/30\n",
      "200/200 [==============================] - 3s 13ms/step - loss: 0.0145 - accuracy: 1.0000 - root_mean_squared_error: 0.1204 - val_loss: 0.4751 - val_accuracy: 0.4662 - val_root_mean_squared_error: 0.6893\n",
      "Epoch 18/30\n",
      "200/200 [==============================] - 3s 13ms/step - loss: 0.0130 - accuracy: 1.0000 - root_mean_squared_error: 0.1141 - val_loss: 0.4782 - val_accuracy: 0.4662 - val_root_mean_squared_error: 0.6915\n",
      "Epoch 19/30\n",
      "200/200 [==============================] - 3s 13ms/step - loss: 0.0123 - accuracy: 1.0000 - root_mean_squared_error: 0.1109 - val_loss: 0.4859 - val_accuracy: 0.4662 - val_root_mean_squared_error: 0.6970\n",
      "Epoch 20/30\n",
      "200/200 [==============================] - 3s 13ms/step - loss: 0.0116 - accuracy: 1.0000 - root_mean_squared_error: 0.1078 - val_loss: 0.4916 - val_accuracy: 0.4662 - val_root_mean_squared_error: 0.7011\n",
      "Epoch 21/30\n",
      "200/200 [==============================] - 3s 13ms/step - loss: 0.0106 - accuracy: 1.0000 - root_mean_squared_error: 0.1029 - val_loss: 0.4977 - val_accuracy: 0.4662 - val_root_mean_squared_error: 0.7055\n",
      "Epoch 22/30\n",
      "200/200 [==============================] - 3s 13ms/step - loss: 0.0101 - accuracy: 1.0000 - root_mean_squared_error: 0.1006 - val_loss: 0.4987 - val_accuracy: 0.4662 - val_root_mean_squared_error: 0.7062\n",
      "Epoch 23/30\n",
      "200/200 [==============================] - 3s 13ms/step - loss: 0.0100 - accuracy: 1.0000 - root_mean_squared_error: 0.1000 - val_loss: 0.5014 - val_accuracy: 0.4662 - val_root_mean_squared_error: 0.7081\n",
      "Epoch 24/30\n",
      "200/200 [==============================] - 3s 13ms/step - loss: 0.0096 - accuracy: 1.0000 - root_mean_squared_error: 0.0982 - val_loss: 0.5033 - val_accuracy: 0.4662 - val_root_mean_squared_error: 0.7094\n",
      "Epoch 25/30\n",
      "200/200 [==============================] - 3s 13ms/step - loss: 0.0086 - accuracy: 1.0000 - root_mean_squared_error: 0.0927 - val_loss: 0.5070 - val_accuracy: 0.4662 - val_root_mean_squared_error: 0.7121\n",
      "Epoch 26/30\n",
      "200/200 [==============================] - 3s 13ms/step - loss: 0.0094 - accuracy: 1.0000 - root_mean_squared_error: 0.0969 - val_loss: 0.5087 - val_accuracy: 0.4662 - val_root_mean_squared_error: 0.7132\n",
      "Epoch 27/30\n",
      "200/200 [==============================] - 3s 13ms/step - loss: 0.0088 - accuracy: 1.0000 - root_mean_squared_error: 0.0940 - val_loss: 0.5157 - val_accuracy: 0.4662 - val_root_mean_squared_error: 0.7181\n",
      "Epoch 28/30\n",
      "200/200 [==============================] - 3s 13ms/step - loss: 0.0081 - accuracy: 1.0000 - root_mean_squared_error: 0.0900 - val_loss: 0.5137 - val_accuracy: 0.4662 - val_root_mean_squared_error: 0.7167\n",
      "Epoch 29/30\n",
      "200/200 [==============================] - 3s 13ms/step - loss: 0.0088 - accuracy: 1.0000 - root_mean_squared_error: 0.0936 - val_loss: 0.5155 - val_accuracy: 0.4662 - val_root_mean_squared_error: 0.7180\n",
      "Epoch 30/30\n",
      "200/200 [==============================] - 3s 13ms/step - loss: 0.0083 - accuracy: 1.0000 - root_mean_squared_error: 0.0909 - val_loss: 0.5178 - val_accuracy: 0.4662 - val_root_mean_squared_error: 0.7196\n",
      "Epoch 1/30\n",
      "200/200 [==============================] - 4s 12ms/step - loss: 0.2504 - accuracy: 0.4451 - root_mean_squared_error: 0.5004 - val_loss: 0.2500 - val_accuracy: 0.4892 - val_root_mean_squared_error: 0.5000\n",
      "Epoch 2/30\n",
      "200/200 [==============================] - 2s 11ms/step - loss: 0.2491 - accuracy: 0.6271 - root_mean_squared_error: 0.4990 - val_loss: 0.2501 - val_accuracy: 0.4768 - val_root_mean_squared_error: 0.5001\n",
      "Epoch 3/30\n",
      "200/200 [==============================] - 2s 11ms/step - loss: 0.2472 - accuracy: 0.7917 - root_mean_squared_error: 0.4972 - val_loss: 0.2502 - val_accuracy: 0.4684 - val_root_mean_squared_error: 0.5002\n",
      "Epoch 4/30\n",
      "200/200 [==============================] - 2s 11ms/step - loss: 0.2438 - accuracy: 0.9030 - root_mean_squared_error: 0.4938 - val_loss: 0.2504 - val_accuracy: 0.4654 - val_root_mean_squared_error: 0.5004\n",
      "Epoch 5/30\n",
      "200/200 [==============================] - 2s 11ms/step - loss: 0.2374 - accuracy: 0.9628 - root_mean_squared_error: 0.4873 - val_loss: 0.2510 - val_accuracy: 0.4653 - val_root_mean_squared_error: 0.5010\n",
      "Epoch 6/30\n",
      "200/200 [==============================] - 2s 11ms/step - loss: 0.2253 - accuracy: 0.9926 - root_mean_squared_error: 0.4747 - val_loss: 0.2520 - val_accuracy: 0.4638 - val_root_mean_squared_error: 0.5020\n",
      "Epoch 7/30\n",
      "200/200 [==============================] - 2s 11ms/step - loss: 0.2037 - accuracy: 0.9998 - root_mean_squared_error: 0.4514 - val_loss: 0.2558 - val_accuracy: 0.4638 - val_root_mean_squared_error: 0.5058\n",
      "Epoch 8/30\n",
      "200/200 [==============================] - 2s 11ms/step - loss: 0.1694 - accuracy: 1.0000 - root_mean_squared_error: 0.4116 - val_loss: 0.2640 - val_accuracy: 0.4638 - val_root_mean_squared_error: 0.5138\n",
      "Epoch 9/30\n",
      "200/200 [==============================] - 2s 11ms/step - loss: 0.1255 - accuracy: 1.0000 - root_mean_squared_error: 0.3542 - val_loss: 0.2842 - val_accuracy: 0.4638 - val_root_mean_squared_error: 0.5331\n",
      "Epoch 10/30\n",
      "200/200 [==============================] - 2s 11ms/step - loss: 0.0838 - accuracy: 1.0000 - root_mean_squared_error: 0.2895 - val_loss: 0.3156 - val_accuracy: 0.4638 - val_root_mean_squared_error: 0.5618\n",
      "Epoch 11/30\n",
      "200/200 [==============================] - 2s 11ms/step - loss: 0.0548 - accuracy: 1.0000 - root_mean_squared_error: 0.2342 - val_loss: 0.3517 - val_accuracy: 0.4638 - val_root_mean_squared_error: 0.5930\n",
      "Epoch 12/30\n",
      "200/200 [==============================] - 2s 11ms/step - loss: 0.0386 - accuracy: 1.0000 - root_mean_squared_error: 0.1965 - val_loss: 0.3900 - val_accuracy: 0.4638 - val_root_mean_squared_error: 0.6245\n",
      "Epoch 13/30\n",
      "200/200 [==============================] - 2s 11ms/step - loss: 0.0288 - accuracy: 1.0000 - root_mean_squared_error: 0.1696 - val_loss: 0.4114 - val_accuracy: 0.4638 - val_root_mean_squared_error: 0.6414\n",
      "Epoch 14/30\n",
      "200/200 [==============================] - 2s 11ms/step - loss: 0.0236 - accuracy: 1.0000 - root_mean_squared_error: 0.1536 - val_loss: 0.4329 - val_accuracy: 0.4638 - val_root_mean_squared_error: 0.6580\n",
      "Epoch 15/30\n",
      "200/200 [==============================] - 2s 11ms/step - loss: 0.0204 - accuracy: 1.0000 - root_mean_squared_error: 0.1427 - val_loss: 0.4507 - val_accuracy: 0.4638 - val_root_mean_squared_error: 0.6713\n",
      "Epoch 16/30\n",
      "200/200 [==============================] - 2s 11ms/step - loss: 0.0168 - accuracy: 1.0000 - root_mean_squared_error: 0.1297 - val_loss: 0.4552 - val_accuracy: 0.4638 - val_root_mean_squared_error: 0.6747\n",
      "Epoch 17/30\n",
      "200/200 [==============================] - 2s 11ms/step - loss: 0.0149 - accuracy: 1.0000 - root_mean_squared_error: 0.1221 - val_loss: 0.4722 - val_accuracy: 0.4638 - val_root_mean_squared_error: 0.6872\n",
      "Epoch 18/30\n",
      "200/200 [==============================] - 2s 11ms/step - loss: 0.0130 - accuracy: 1.0000 - root_mean_squared_error: 0.1141 - val_loss: 0.4849 - val_accuracy: 0.4638 - val_root_mean_squared_error: 0.6963\n",
      "Epoch 19/30\n",
      "200/200 [==============================] - 2s 12ms/step - loss: 0.0129 - accuracy: 1.0000 - root_mean_squared_error: 0.1136 - val_loss: 0.4861 - val_accuracy: 0.4638 - val_root_mean_squared_error: 0.6972\n",
      "Epoch 20/30\n",
      "200/200 [==============================] - 2s 11ms/step - loss: 0.0122 - accuracy: 1.0000 - root_mean_squared_error: 0.1102 - val_loss: 0.4943 - val_accuracy: 0.4638 - val_root_mean_squared_error: 0.7031\n",
      "Epoch 21/30\n",
      "200/200 [==============================] - 2s 12ms/step - loss: 0.0107 - accuracy: 1.0000 - root_mean_squared_error: 0.1036 - val_loss: 0.4991 - val_accuracy: 0.4638 - val_root_mean_squared_error: 0.7065\n",
      "Epoch 22/30\n",
      "200/200 [==============================] - 2s 12ms/step - loss: 0.0106 - accuracy: 1.0000 - root_mean_squared_error: 0.1031 - val_loss: 0.5028 - val_accuracy: 0.4638 - val_root_mean_squared_error: 0.7091\n",
      "Epoch 23/30\n"
     ]
    },
    {
     "name": "stdout",
     "output_type": "stream",
     "text": [
      "200/200 [==============================] - 2s 12ms/step - loss: 0.0108 - accuracy: 1.0000 - root_mean_squared_error: 0.1037 - val_loss: 0.5070 - val_accuracy: 0.4638 - val_root_mean_squared_error: 0.7120\n",
      "Epoch 24/30\n",
      "200/200 [==============================] - 2s 12ms/step - loss: 0.0098 - accuracy: 1.0000 - root_mean_squared_error: 0.0992 - val_loss: 0.5202 - val_accuracy: 0.4638 - val_root_mean_squared_error: 0.7213\n",
      "Epoch 25/30\n",
      "200/200 [==============================] - 2s 11ms/step - loss: 0.0093 - accuracy: 1.0000 - root_mean_squared_error: 0.0962 - val_loss: 0.5139 - val_accuracy: 0.4638 - val_root_mean_squared_error: 0.7169\n",
      "Epoch 26/30\n",
      "200/200 [==============================] - 2s 11ms/step - loss: 0.0081 - accuracy: 1.0000 - root_mean_squared_error: 0.0903 - val_loss: 0.5165 - val_accuracy: 0.4638 - val_root_mean_squared_error: 0.7187\n",
      "Epoch 27/30\n",
      "200/200 [==============================] - 2s 10ms/step - loss: 0.0088 - accuracy: 1.0000 - root_mean_squared_error: 0.0938 - val_loss: 0.5211 - val_accuracy: 0.4638 - val_root_mean_squared_error: 0.7219\n",
      "Epoch 28/30\n",
      "200/200 [==============================] - 2s 11ms/step - loss: 0.0088 - accuracy: 1.0000 - root_mean_squared_error: 0.0937 - val_loss: 0.5192 - val_accuracy: 0.4638 - val_root_mean_squared_error: 0.7205\n",
      "Epoch 29/30\n",
      "200/200 [==============================] - 2s 11ms/step - loss: 0.0084 - accuracy: 1.0000 - root_mean_squared_error: 0.0916 - val_loss: 0.5213 - val_accuracy: 0.4638 - val_root_mean_squared_error: 0.7220\n",
      "Epoch 30/30\n",
      "200/200 [==============================] - 2s 12ms/step - loss: 0.0078 - accuracy: 1.0000 - root_mean_squared_error: 0.0884 - val_loss: 0.5218 - val_accuracy: 0.4638 - val_root_mean_squared_error: 0.7224\n"
     ]
    },
    {
     "data": {
      "text/html": [
       "<div>\n",
       "<style scoped>\n",
       "    .dataframe tbody tr th:only-of-type {\n",
       "        vertical-align: middle;\n",
       "    }\n",
       "\n",
       "    .dataframe tbody tr th {\n",
       "        vertical-align: top;\n",
       "    }\n",
       "\n",
       "    .dataframe thead th {\n",
       "        text-align: right;\n",
       "    }\n",
       "</style>\n",
       "<table border=\"1\" class=\"dataframe\">\n",
       "  <thead>\n",
       "    <tr style=\"text-align: right;\">\n",
       "      <th></th>\n",
       "      <th>0</th>\n",
       "      <th>1</th>\n",
       "      <th>2</th>\n",
       "      <th>3</th>\n",
       "    </tr>\n",
       "  </thead>\n",
       "  <tbody>\n",
       "    <tr>\n",
       "      <th>loss</th>\n",
       "      <td>[0.24524511396884918, 0.2411632090806961, 0.23...</td>\n",
       "      <td>[0.25036871433258057, 0.24767562747001648, 0.2...</td>\n",
       "      <td>[0.24725428223609924, 0.2447834461927414, 0.24...</td>\n",
       "      <td>[0.25044673681259155, 0.24905040860176086, 0.2...</td>\n",
       "    </tr>\n",
       "    <tr>\n",
       "      <th>accuracy</th>\n",
       "      <td>[0.7540649175643921, 0.8613622784614563, 0.944...</td>\n",
       "      <td>[0.41139891743659973, 0.6248754858970642, 0.84...</td>\n",
       "      <td>[0.8960351347923279, 0.9801806807518005, 0.998...</td>\n",
       "      <td>[0.4451220631599426, 0.6271069049835205, 0.791...</td>\n",
       "    </tr>\n",
       "    <tr>\n",
       "      <th>root_mean_squared_error</th>\n",
       "      <td>[0.4952223002910614, 0.49108371138572693, 0.48...</td>\n",
       "      <td>[0.5003685355186462, 0.4976702034473419, 0.493...</td>\n",
       "      <td>[0.4972466826438904, 0.49475595355033875, 0.49...</td>\n",
       "      <td>[0.5004465579986572, 0.49904951453208923, 0.49...</td>\n",
       "    </tr>\n",
       "    <tr>\n",
       "      <th>val_loss</th>\n",
       "      <td>[0.2502596080303192, 0.2504698932170868, 0.251...</td>\n",
       "      <td>[0.2500837445259094, 0.25023555755615234, 0.25...</td>\n",
       "      <td>[0.2500931918621063, 0.250180721282959, 0.2504...</td>\n",
       "      <td>[0.25002774596214294, 0.25008827447891235, 0.2...</td>\n",
       "    </tr>\n",
       "    <tr>\n",
       "      <th>val_accuracy</th>\n",
       "      <td>[0.47108784317970276, 0.46379321813583374, 0.4...</td>\n",
       "      <td>[0.4854460656642914, 0.4643239676952362, 0.454...</td>\n",
       "      <td>[0.46657252311706543, 0.46621620655059814, 0.4...</td>\n",
       "      <td>[0.48918071389198303, 0.4768194854259491, 0.46...</td>\n",
       "    </tr>\n",
       "    <tr>\n",
       "      <th>val_root_mean_squared_error</th>\n",
       "      <td>[0.500259518623352, 0.5004696846008301, 0.5010...</td>\n",
       "      <td>[0.5000836849212646, 0.5002354979515076, 0.500...</td>\n",
       "      <td>[0.5000931620597839, 0.5001806616783142, 0.500...</td>\n",
       "      <td>[0.5000277161598206, 0.5000882744789124, 0.500...</td>\n",
       "    </tr>\n",
       "  </tbody>\n",
       "</table>\n",
       "</div>"
      ],
      "text/plain": [
       "                                                                             0  \\\n",
       "loss                         [0.24524511396884918, 0.2411632090806961, 0.23...   \n",
       "accuracy                     [0.7540649175643921, 0.8613622784614563, 0.944...   \n",
       "root_mean_squared_error      [0.4952223002910614, 0.49108371138572693, 0.48...   \n",
       "val_loss                     [0.2502596080303192, 0.2504698932170868, 0.251...   \n",
       "val_accuracy                 [0.47108784317970276, 0.46379321813583374, 0.4...   \n",
       "val_root_mean_squared_error  [0.500259518623352, 0.5004696846008301, 0.5010...   \n",
       "\n",
       "                                                                             1  \\\n",
       "loss                         [0.25036871433258057, 0.24767562747001648, 0.2...   \n",
       "accuracy                     [0.41139891743659973, 0.6248754858970642, 0.84...   \n",
       "root_mean_squared_error      [0.5003685355186462, 0.4976702034473419, 0.493...   \n",
       "val_loss                     [0.2500837445259094, 0.25023555755615234, 0.25...   \n",
       "val_accuracy                 [0.4854460656642914, 0.4643239676952362, 0.454...   \n",
       "val_root_mean_squared_error  [0.5000836849212646, 0.5002354979515076, 0.500...   \n",
       "\n",
       "                                                                             2  \\\n",
       "loss                         [0.24725428223609924, 0.2447834461927414, 0.24...   \n",
       "accuracy                     [0.8960351347923279, 0.9801806807518005, 0.998...   \n",
       "root_mean_squared_error      [0.4972466826438904, 0.49475595355033875, 0.49...   \n",
       "val_loss                     [0.2500931918621063, 0.250180721282959, 0.2504...   \n",
       "val_accuracy                 [0.46657252311706543, 0.46621620655059814, 0.4...   \n",
       "val_root_mean_squared_error  [0.5000931620597839, 0.5001806616783142, 0.500...   \n",
       "\n",
       "                                                                             3  \n",
       "loss                         [0.25044673681259155, 0.24905040860176086, 0.2...  \n",
       "accuracy                     [0.4451220631599426, 0.6271069049835205, 0.791...  \n",
       "root_mean_squared_error      [0.5004465579986572, 0.49904951453208923, 0.49...  \n",
       "val_loss                     [0.25002774596214294, 0.25008827447891235, 0.2...  \n",
       "val_accuracy                 [0.48918071389198303, 0.4768194854259491, 0.46...  \n",
       "val_root_mean_squared_error  [0.5000277161598206, 0.5000882744789124, 0.500...  "
      ]
     },
     "execution_count": 15,
     "metadata": {},
     "output_type": "execute_result"
    }
   ],
   "source": [
    "cnn1D_encoder_result = {}\n",
    "for i in range(NFOLD-1):\n",
    "    autoencoder = Autoencoder()\n",
    "    autoencoder.compile(optimizer = tfk.optimizers.Adam(learning_rate=1e-6), \n",
    "                        metrics = ['accuracy', \n",
    "                                   tfk.metrics.RootMeanSquaredError(),\n",
    "                                  ],\n",
    "                        loss = tfk.losses.MeanSquaredError(reduction= tfk.losses.Reduction.SUM_OVER_BATCH_SIZE)\n",
    "                       )\n",
    "    train_dataset, val_dataset, test_dataset = get_train_and_val_for_fold(folded_datasets=folded_datasets,fold = i)   \n",
    "    \n",
    "    result = autoencoder.fit(train_dataset, epochs= EPOCHS,steps_per_epoch = STEPS_PER_EPOCH,validation_data= val_dataset,)\n",
    "    \n",
    "    cnn1D_encoder_result[i] = result.history\n",
    "\n",
    "pd.DataFrame(cnn1D_encoder_result)"
   ]
  },
  {
   "cell_type": "code",
   "execution_count": 16,
   "id": "2ea41f5d",
   "metadata": {
    "scrolled": false
   },
   "outputs": [
    {
     "name": "stdout",
     "output_type": "stream",
     "text": [
      "Epoch 1/30\n",
      "200/200 [==============================] - 2s 8ms/step - loss: 0.2339 - accuracy: 0.9887 - root_mean_squared_error: 0.4837 - val_loss: 0.2527 - val_accuracy: 0.4583 - val_root_mean_squared_error: 0.5027\n",
      "Epoch 2/30\n",
      "200/200 [==============================] - 2s 8ms/step - loss: 0.2135 - accuracy: 1.0000 - root_mean_squared_error: 0.4621 - val_loss: 0.2578 - val_accuracy: 0.4583 - val_root_mean_squared_error: 0.5078\n",
      "Epoch 3/30\n",
      "200/200 [==============================] - 2s 8ms/step - loss: 0.1897 - accuracy: 1.0000 - root_mean_squared_error: 0.4355 - val_loss: 0.2639 - val_accuracy: 0.4583 - val_root_mean_squared_error: 0.5138\n",
      "Epoch 4/30\n",
      "200/200 [==============================] - 1s 7ms/step - loss: 0.1651 - accuracy: 1.0000 - root_mean_squared_error: 0.4063 - val_loss: 0.2714 - val_accuracy: 0.4583 - val_root_mean_squared_error: 0.5210\n",
      "Epoch 5/30\n",
      "200/200 [==============================] - 1s 7ms/step - loss: 0.1403 - accuracy: 1.0000 - root_mean_squared_error: 0.3746 - val_loss: 0.2841 - val_accuracy: 0.4583 - val_root_mean_squared_error: 0.5330\n",
      "Epoch 6/30\n",
      "200/200 [==============================] - 1s 7ms/step - loss: 0.1162 - accuracy: 1.0000 - root_mean_squared_error: 0.3409 - val_loss: 0.2997 - val_accuracy: 0.4583 - val_root_mean_squared_error: 0.5475\n",
      "Epoch 7/30\n",
      "200/200 [==============================] - 1s 7ms/step - loss: 0.0934 - accuracy: 1.0000 - root_mean_squared_error: 0.3056 - val_loss: 0.3177 - val_accuracy: 0.4583 - val_root_mean_squared_error: 0.5636\n",
      "Epoch 8/30\n",
      "200/200 [==============================] - 1s 7ms/step - loss: 0.0737 - accuracy: 1.0000 - root_mean_squared_error: 0.2714 - val_loss: 0.3404 - val_accuracy: 0.4583 - val_root_mean_squared_error: 0.5835\n",
      "Epoch 9/30\n",
      "200/200 [==============================] - 1s 7ms/step - loss: 0.0559 - accuracy: 1.0000 - root_mean_squared_error: 0.2365 - val_loss: 0.3596 - val_accuracy: 0.4583 - val_root_mean_squared_error: 0.5997\n",
      "Epoch 10/30\n",
      "200/200 [==============================] - 1s 7ms/step - loss: 0.0437 - accuracy: 1.0000 - root_mean_squared_error: 0.2091 - val_loss: 0.3842 - val_accuracy: 0.4583 - val_root_mean_squared_error: 0.6198\n",
      "Epoch 11/30\n",
      "200/200 [==============================] - 1s 7ms/step - loss: 0.0334 - accuracy: 1.0000 - root_mean_squared_error: 0.1827 - val_loss: 0.4022 - val_accuracy: 0.4583 - val_root_mean_squared_error: 0.6342\n",
      "Epoch 12/30\n",
      "200/200 [==============================] - 1s 7ms/step - loss: 0.0268 - accuracy: 1.0000 - root_mean_squared_error: 0.1638 - val_loss: 0.4204 - val_accuracy: 0.4583 - val_root_mean_squared_error: 0.6484\n",
      "Epoch 13/30\n",
      "200/200 [==============================] - 1s 7ms/step - loss: 0.0223 - accuracy: 1.0000 - root_mean_squared_error: 0.1495 - val_loss: 0.4332 - val_accuracy: 0.4583 - val_root_mean_squared_error: 0.6582\n",
      "Epoch 14/30\n",
      "200/200 [==============================] - 1s 7ms/step - loss: 0.0182 - accuracy: 1.0000 - root_mean_squared_error: 0.1350 - val_loss: 0.4507 - val_accuracy: 0.4583 - val_root_mean_squared_error: 0.6713\n",
      "Epoch 15/30\n",
      "200/200 [==============================] - 1s 7ms/step - loss: 0.0166 - accuracy: 1.0000 - root_mean_squared_error: 0.1287 - val_loss: 0.4632 - val_accuracy: 0.4583 - val_root_mean_squared_error: 0.6806\n",
      "Epoch 16/30\n",
      "200/200 [==============================] - 1s 7ms/step - loss: 0.0143 - accuracy: 1.0000 - root_mean_squared_error: 0.1196 - val_loss: 0.4678 - val_accuracy: 0.4583 - val_root_mean_squared_error: 0.6840\n",
      "Epoch 17/30\n",
      "200/200 [==============================] - 1s 7ms/step - loss: 0.0128 - accuracy: 1.0000 - root_mean_squared_error: 0.1133 - val_loss: 0.4771 - val_accuracy: 0.4583 - val_root_mean_squared_error: 0.6907\n",
      "Epoch 18/30\n",
      "200/200 [==============================] - 1s 7ms/step - loss: 0.0125 - accuracy: 1.0000 - root_mean_squared_error: 0.1116 - val_loss: 0.4865 - val_accuracy: 0.4583 - val_root_mean_squared_error: 0.6975\n",
      "Epoch 19/30\n",
      "200/200 [==============================] - 1s 7ms/step - loss: 0.0117 - accuracy: 1.0000 - root_mean_squared_error: 0.1080 - val_loss: 0.4830 - val_accuracy: 0.4583 - val_root_mean_squared_error: 0.6949\n",
      "Epoch 20/30\n",
      "200/200 [==============================] - 1s 7ms/step - loss: 0.0112 - accuracy: 1.0000 - root_mean_squared_error: 0.1060 - val_loss: 0.4978 - val_accuracy: 0.4583 - val_root_mean_squared_error: 0.7056\n",
      "Epoch 21/30\n",
      "200/200 [==============================] - 1s 7ms/step - loss: 0.0106 - accuracy: 1.0000 - root_mean_squared_error: 0.1028 - val_loss: 0.4977 - val_accuracy: 0.4583 - val_root_mean_squared_error: 0.7055\n",
      "Epoch 22/30\n",
      "200/200 [==============================] - 1s 7ms/step - loss: 0.0102 - accuracy: 1.0000 - root_mean_squared_error: 0.1011 - val_loss: 0.5043 - val_accuracy: 0.4583 - val_root_mean_squared_error: 0.7101\n",
      "Epoch 23/30\n",
      "200/200 [==============================] - 1s 7ms/step - loss: 0.0093 - accuracy: 1.0000 - root_mean_squared_error: 0.0963 - val_loss: 0.5069 - val_accuracy: 0.4583 - val_root_mean_squared_error: 0.7120\n",
      "Epoch 24/30\n",
      "200/200 [==============================] - 1s 7ms/step - loss: 0.0104 - accuracy: 1.0000 - root_mean_squared_error: 0.1020 - val_loss: 0.5087 - val_accuracy: 0.4583 - val_root_mean_squared_error: 0.7132\n",
      "Epoch 25/30\n",
      "200/200 [==============================] - 1s 7ms/step - loss: 0.0092 - accuracy: 1.0000 - root_mean_squared_error: 0.0957 - val_loss: 0.5084 - val_accuracy: 0.4583 - val_root_mean_squared_error: 0.7130\n",
      "Epoch 26/30\n",
      "200/200 [==============================] - 1s 7ms/step - loss: 0.0093 - accuracy: 1.0000 - root_mean_squared_error: 0.0964 - val_loss: 0.5149 - val_accuracy: 0.4583 - val_root_mean_squared_error: 0.7176\n",
      "Epoch 27/30\n",
      "200/200 [==============================] - 1s 7ms/step - loss: 0.0089 - accuracy: 1.0000 - root_mean_squared_error: 0.0946 - val_loss: 0.5089 - val_accuracy: 0.4583 - val_root_mean_squared_error: 0.7134\n",
      "Epoch 28/30\n",
      "200/200 [==============================] - 1s 7ms/step - loss: 0.0092 - accuracy: 1.0000 - root_mean_squared_error: 0.0957 - val_loss: 0.5141 - val_accuracy: 0.4583 - val_root_mean_squared_error: 0.7170\n",
      "Epoch 29/30\n",
      "200/200 [==============================] - 1s 7ms/step - loss: 0.0092 - accuracy: 1.0000 - root_mean_squared_error: 0.0960 - val_loss: 0.5169 - val_accuracy: 0.4583 - val_root_mean_squared_error: 0.7189\n",
      "Epoch 30/30\n",
      "200/200 [==============================] - 1s 7ms/step - loss: 0.0081 - accuracy: 1.0000 - root_mean_squared_error: 0.0901 - val_loss: 0.5139 - val_accuracy: 0.4583 - val_root_mean_squared_error: 0.7169\n",
      "Epoch 1/30\n",
      "200/200 [==============================] - 2s 7ms/step - loss: 0.2704 - accuracy: 0.0464 - root_mean_squared_error: 0.5200 - val_loss: 0.2492 - val_accuracy: 0.5403 - val_root_mean_squared_error: 0.4992\n",
      "Epoch 2/30\n",
      "200/200 [==============================] - 1s 7ms/step - loss: 0.2419 - accuracy: 0.7797 - root_mean_squared_error: 0.4918 - val_loss: 0.2529 - val_accuracy: 0.4496 - val_root_mean_squared_error: 0.5029\n",
      "Epoch 3/30\n",
      "200/200 [==============================] - 1s 7ms/step - loss: 0.2140 - accuracy: 0.9936 - root_mean_squared_error: 0.4626 - val_loss: 0.2579 - val_accuracy: 0.4506 - val_root_mean_squared_error: 0.5078\n",
      "Epoch 4/30\n",
      "200/200 [==============================] - 1s 7ms/step - loss: 0.1896 - accuracy: 0.9984 - root_mean_squared_error: 0.4355 - val_loss: 0.2635 - val_accuracy: 0.4526 - val_root_mean_squared_error: 0.5133\n",
      "Epoch 5/30\n",
      "200/200 [==============================] - 1s 7ms/step - loss: 0.1676 - accuracy: 0.9995 - root_mean_squared_error: 0.4094 - val_loss: 0.2711 - val_accuracy: 0.4526 - val_root_mean_squared_error: 0.5206\n",
      "Epoch 6/30\n",
      "200/200 [==============================] - 1s 7ms/step - loss: 0.1457 - accuracy: 1.0000 - root_mean_squared_error: 0.3817 - val_loss: 0.2823 - val_accuracy: 0.4526 - val_root_mean_squared_error: 0.5313\n",
      "Epoch 7/30\n",
      "200/200 [==============================] - 1s 7ms/step - loss: 0.1214 - accuracy: 1.0000 - root_mean_squared_error: 0.3484 - val_loss: 0.2967 - val_accuracy: 0.4526 - val_root_mean_squared_error: 0.5447\n",
      "Epoch 8/30\n",
      "200/200 [==============================] - 1s 7ms/step - loss: 0.0979 - accuracy: 1.0000 - root_mean_squared_error: 0.3129 - val_loss: 0.3156 - val_accuracy: 0.4526 - val_root_mean_squared_error: 0.5618\n",
      "Epoch 9/30\n"
     ]
    },
    {
     "name": "stdout",
     "output_type": "stream",
     "text": [
      "200/200 [==============================] - 1s 7ms/step - loss: 0.0778 - accuracy: 1.0000 - root_mean_squared_error: 0.2789 - val_loss: 0.3361 - val_accuracy: 0.4526 - val_root_mean_squared_error: 0.5797\n",
      "Epoch 10/30\n",
      "200/200 [==============================] - 1s 7ms/step - loss: 0.0607 - accuracy: 1.0000 - root_mean_squared_error: 0.2464 - val_loss: 0.3571 - val_accuracy: 0.4526 - val_root_mean_squared_error: 0.5976\n",
      "Epoch 11/30\n",
      "200/200 [==============================] - 1s 7ms/step - loss: 0.0478 - accuracy: 1.0000 - root_mean_squared_error: 0.2187 - val_loss: 0.3748 - val_accuracy: 0.4526 - val_root_mean_squared_error: 0.6122\n",
      "Epoch 12/30\n",
      "200/200 [==============================] - 1s 7ms/step - loss: 0.0375 - accuracy: 1.0000 - root_mean_squared_error: 0.1936 - val_loss: 0.3945 - val_accuracy: 0.4526 - val_root_mean_squared_error: 0.6281\n",
      "Epoch 13/30\n",
      "200/200 [==============================] - 1s 7ms/step - loss: 0.0299 - accuracy: 1.0000 - root_mean_squared_error: 0.1729 - val_loss: 0.4103 - val_accuracy: 0.4526 - val_root_mean_squared_error: 0.6406\n",
      "Epoch 14/30\n",
      "200/200 [==============================] - 1s 7ms/step - loss: 0.0256 - accuracy: 1.0000 - root_mean_squared_error: 0.1600 - val_loss: 0.4291 - val_accuracy: 0.4526 - val_root_mean_squared_error: 0.6551\n",
      "Epoch 15/30\n",
      "200/200 [==============================] - 1s 7ms/step - loss: 0.0222 - accuracy: 1.0000 - root_mean_squared_error: 0.1489 - val_loss: 0.4427 - val_accuracy: 0.4526 - val_root_mean_squared_error: 0.6654\n",
      "Epoch 16/30\n",
      "200/200 [==============================] - 1s 7ms/step - loss: 0.0180 - accuracy: 1.0000 - root_mean_squared_error: 0.1342 - val_loss: 0.4529 - val_accuracy: 0.4526 - val_root_mean_squared_error: 0.6730\n",
      "Epoch 17/30\n",
      "200/200 [==============================] - 1s 7ms/step - loss: 0.0166 - accuracy: 1.0000 - root_mean_squared_error: 0.1289 - val_loss: 0.4651 - val_accuracy: 0.4526 - val_root_mean_squared_error: 0.6820\n",
      "Epoch 18/30\n",
      "200/200 [==============================] - 1s 7ms/step - loss: 0.0154 - accuracy: 1.0000 - root_mean_squared_error: 0.1239 - val_loss: 0.4738 - val_accuracy: 0.4526 - val_root_mean_squared_error: 0.6884\n",
      "Epoch 19/30\n",
      "200/200 [==============================] - 1s 8ms/step - loss: 0.0135 - accuracy: 1.0000 - root_mean_squared_error: 0.1162 - val_loss: 0.4758 - val_accuracy: 0.4526 - val_root_mean_squared_error: 0.6898 - loss: 0.0136 - accuracy: 1.0000 - root_mean\n",
      "Epoch 20/30\n",
      "200/200 [==============================] - 1s 7ms/step - loss: 0.0115 - accuracy: 1.0000 - root_mean_squared_error: 0.1071 - val_loss: 0.4852 - val_accuracy: 0.4526 - val_root_mean_squared_error: 0.6965\n",
      "Epoch 21/30\n",
      "200/200 [==============================] - 1s 7ms/step - loss: 0.0118 - accuracy: 1.0000 - root_mean_squared_error: 0.1087 - val_loss: 0.4930 - val_accuracy: 0.4526 - val_root_mean_squared_error: 0.7022\n",
      "Epoch 22/30\n",
      "200/200 [==============================] - 1s 7ms/step - loss: 0.0119 - accuracy: 1.0000 - root_mean_squared_error: 0.1091 - val_loss: 0.4972 - val_accuracy: 0.4526 - val_root_mean_squared_error: 0.7052\n",
      "Epoch 23/30\n",
      "200/200 [==============================] - 1s 7ms/step - loss: 0.0115 - accuracy: 1.0000 - root_mean_squared_error: 0.1074 - val_loss: 0.5031 - val_accuracy: 0.4526 - val_root_mean_squared_error: 0.7093\n",
      "Epoch 24/30\n",
      "200/200 [==============================] - 1s 7ms/step - loss: 0.0109 - accuracy: 1.0000 - root_mean_squared_error: 0.1045 - val_loss: 0.5062 - val_accuracy: 0.4526 - val_root_mean_squared_error: 0.7115\n",
      "Epoch 25/30\n",
      "200/200 [==============================] - 1s 7ms/step - loss: 0.0112 - accuracy: 1.0000 - root_mean_squared_error: 0.1057 - val_loss: 0.5070 - val_accuracy: 0.4526 - val_root_mean_squared_error: 0.7120\n",
      "Epoch 26/30\n",
      "200/200 [==============================] - 1s 7ms/step - loss: 0.0100 - accuracy: 1.0000 - root_mean_squared_error: 0.0998 - val_loss: 0.5076 - val_accuracy: 0.4526 - val_root_mean_squared_error: 0.7125\n",
      "Epoch 27/30\n",
      "200/200 [==============================] - 1s 7ms/step - loss: 0.0097 - accuracy: 1.0000 - root_mean_squared_error: 0.0984 - val_loss: 0.5150 - val_accuracy: 0.4526 - val_root_mean_squared_error: 0.7176\n",
      "Epoch 28/30\n",
      "200/200 [==============================] - 1s 7ms/step - loss: 0.0095 - accuracy: 1.0000 - root_mean_squared_error: 0.0973 - val_loss: 0.5210 - val_accuracy: 0.4526 - val_root_mean_squared_error: 0.7218\n",
      "Epoch 29/30\n",
      "200/200 [==============================] - 1s 7ms/step - loss: 0.0104 - accuracy: 1.0000 - root_mean_squared_error: 0.1021 - val_loss: 0.5171 - val_accuracy: 0.4526 - val_root_mean_squared_error: 0.7191\n",
      "Epoch 30/30\n",
      "200/200 [==============================] - 1s 7ms/step - loss: 0.0095 - accuracy: 1.0000 - root_mean_squared_error: 0.0977 - val_loss: 0.5196 - val_accuracy: 0.4526 - val_root_mean_squared_error: 0.7208\n",
      "Epoch 1/30\n",
      "200/200 [==============================] - 2s 8ms/step - loss: 0.1788 - accuracy: 0.9994 - root_mean_squared_error: 0.4228 - val_loss: 0.2657 - val_accuracy: 0.4662 - val_root_mean_squared_error: 0.5155\n",
      "Epoch 2/30\n",
      "200/200 [==============================] - 1s 7ms/step - loss: 0.1494 - accuracy: 1.0000 - root_mean_squared_error: 0.3865 - val_loss: 0.2785 - val_accuracy: 0.4662 - val_root_mean_squared_error: 0.5277\n",
      "Epoch 3/30\n",
      "200/200 [==============================] - 1s 7ms/step - loss: 0.1206 - accuracy: 1.0000 - root_mean_squared_error: 0.3472 - val_loss: 0.2956 - val_accuracy: 0.4662 - val_root_mean_squared_error: 0.5437\n",
      "Epoch 4/30\n",
      "200/200 [==============================] - 1s 7ms/step - loss: 0.0959 - accuracy: 1.0000 - root_mean_squared_error: 0.3096 - val_loss: 0.3164 - val_accuracy: 0.4662 - val_root_mean_squared_error: 0.5625\n",
      "Epoch 5/30\n",
      "200/200 [==============================] - 2s 8ms/step - loss: 0.0734 - accuracy: 1.0000 - root_mean_squared_error: 0.2709 - val_loss: 0.3358 - val_accuracy: 0.4662 - val_root_mean_squared_error: 0.5795\n",
      "Epoch 6/30\n",
      "200/200 [==============================] - 1s 7ms/step - loss: 0.0561 - accuracy: 1.0000 - root_mean_squared_error: 0.2368 - val_loss: 0.3582 - val_accuracy: 0.4662 - val_root_mean_squared_error: 0.5985\n",
      "Epoch 7/30\n",
      "200/200 [==============================] - 1s 7ms/step - loss: 0.0428 - accuracy: 1.0000 - root_mean_squared_error: 0.2068 - val_loss: 0.3774 - val_accuracy: 0.4662 - val_root_mean_squared_error: 0.6143\n",
      "Epoch 8/30\n",
      "200/200 [==============================] - 1s 7ms/step - loss: 0.0348 - accuracy: 1.0000 - root_mean_squared_error: 0.1866 - val_loss: 0.3959 - val_accuracy: 0.4662 - val_root_mean_squared_error: 0.6292\n",
      "Epoch 9/30\n",
      "200/200 [==============================] - 1s 7ms/step - loss: 0.0280 - accuracy: 1.0000 - root_mean_squared_error: 0.1672 - val_loss: 0.4128 - val_accuracy: 0.4662 - val_root_mean_squared_error: 0.6425\n",
      "Epoch 10/30\n",
      "200/200 [==============================] - 2s 8ms/step - loss: 0.0224 - accuracy: 1.0000 - root_mean_squared_error: 0.1497 - val_loss: 0.4286 - val_accuracy: 0.4662 - val_root_mean_squared_error: 0.6547\n",
      "Epoch 11/30\n",
      "200/200 [==============================] - 1s 7ms/step - loss: 0.0197 - accuracy: 1.0000 - root_mean_squared_error: 0.1403 - val_loss: 0.4395 - val_accuracy: 0.4662 - val_root_mean_squared_error: 0.6630\n",
      "Epoch 12/30\n",
      "200/200 [==============================] - 1s 7ms/step - loss: 0.0173 - accuracy: 1.0000 - root_mean_squared_error: 0.1316 - val_loss: 0.4549 - val_accuracy: 0.4662 - val_root_mean_squared_error: 0.6744\n",
      "Epoch 13/30\n",
      "200/200 [==============================] - 1s 7ms/step - loss: 0.0155 - accuracy: 1.0000 - root_mean_squared_error: 0.1244 - val_loss: 0.4599 - val_accuracy: 0.4662 - val_root_mean_squared_error: 0.6782\n",
      "Epoch 14/30\n",
      "200/200 [==============================] - 1s 7ms/step - loss: 0.0148 - accuracy: 1.0000 - root_mean_squared_error: 0.1216 - val_loss: 0.4679 - val_accuracy: 0.4662 - val_root_mean_squared_error: 0.6840\n",
      "Epoch 15/30\n",
      "200/200 [==============================] - 1s 7ms/step - loss: 0.0128 - accuracy: 1.0000 - root_mean_squared_error: 0.1130 - val_loss: 0.4729 - val_accuracy: 0.4662 - val_root_mean_squared_error: 0.6877\n",
      "Epoch 16/30\n",
      "200/200 [==============================] - 2s 8ms/step - loss: 0.0125 - accuracy: 1.0000 - root_mean_squared_error: 0.1118 - val_loss: 0.4803 - val_accuracy: 0.4662 - val_root_mean_squared_error: 0.6930\n"
     ]
    },
    {
     "name": "stdout",
     "output_type": "stream",
     "text": [
      "Epoch 17/30\n",
      "200/200 [==============================] - 2s 8ms/step - loss: 0.0122 - accuracy: 1.0000 - root_mean_squared_error: 0.1105 - val_loss: 0.4829 - val_accuracy: 0.4662 - val_root_mean_squared_error: 0.6949\n",
      "Epoch 18/30\n",
      "200/200 [==============================] - 2s 8ms/step - loss: 0.0123 - accuracy: 1.0000 - root_mean_squared_error: 0.1107 - val_loss: 0.4880 - val_accuracy: 0.4662 - val_root_mean_squared_error: 0.6985\n",
      "Epoch 19/30\n",
      "200/200 [==============================] - 2s 8ms/step - loss: 0.0114 - accuracy: 1.0000 - root_mean_squared_error: 0.1066 - val_loss: 0.4926 - val_accuracy: 0.4662 - val_root_mean_squared_error: 0.7019\n",
      "Epoch 20/30\n",
      "200/200 [==============================] - 2s 8ms/step - loss: 0.0109 - accuracy: 1.0000 - root_mean_squared_error: 0.1046 - val_loss: 0.4944 - val_accuracy: 0.4662 - val_root_mean_squared_error: 0.7031\n",
      "Epoch 21/30\n",
      "200/200 [==============================] - 2s 9ms/step - loss: 0.0101 - accuracy: 1.0000 - root_mean_squared_error: 0.1005 - val_loss: 0.4969 - val_accuracy: 0.4662 - val_root_mean_squared_error: 0.7049\n",
      "Epoch 22/30\n",
      "200/200 [==============================] - 2s 8ms/step - loss: 0.0113 - accuracy: 1.0000 - root_mean_squared_error: 0.1062 - val_loss: 0.4988 - val_accuracy: 0.4662 - val_root_mean_squared_error: 0.7062\n",
      "Epoch 23/30\n",
      "200/200 [==============================] - 2s 9ms/step - loss: 0.0102 - accuracy: 1.0000 - root_mean_squared_error: 0.1012 - val_loss: 0.5027 - val_accuracy: 0.4662 - val_root_mean_squared_error: 0.7090\n",
      "Epoch 24/30\n",
      "200/200 [==============================] - 2s 9ms/step - loss: 0.0107 - accuracy: 1.0000 - root_mean_squared_error: 0.1035 - val_loss: 0.5050 - val_accuracy: 0.4662 - val_root_mean_squared_error: 0.7107\n",
      "Epoch 25/30\n",
      "200/200 [==============================] - 2s 8ms/step - loss: 0.0100 - accuracy: 1.0000 - root_mean_squared_error: 0.0999 - val_loss: 0.5063 - val_accuracy: 0.4662 - val_root_mean_squared_error: 0.7115\n",
      "Epoch 26/30\n",
      "200/200 [==============================] - 2s 8ms/step - loss: 0.0110 - accuracy: 1.0000 - root_mean_squared_error: 0.1051 - val_loss: 0.5130 - val_accuracy: 0.4662 - val_root_mean_squared_error: 0.7162\n",
      "Epoch 27/30\n",
      "200/200 [==============================] - 2s 8ms/step - loss: 0.0099 - accuracy: 1.0000 - root_mean_squared_error: 0.0995 - val_loss: 0.5046 - val_accuracy: 0.4662 - val_root_mean_squared_error: 0.7103\n",
      "Epoch 28/30\n",
      "200/200 [==============================] - 2s 8ms/step - loss: 0.0092 - accuracy: 1.0000 - root_mean_squared_error: 0.0958 - val_loss: 0.5066 - val_accuracy: 0.4662 - val_root_mean_squared_error: 0.7117\n",
      "Epoch 29/30\n",
      "200/200 [==============================] - 2s 8ms/step - loss: 0.0100 - accuracy: 1.0000 - root_mean_squared_error: 0.1002 - val_loss: 0.5117 - val_accuracy: 0.4662 - val_root_mean_squared_error: 0.7153\n",
      "Epoch 30/30\n",
      "200/200 [==============================] - 2s 8ms/step - loss: 0.0097 - accuracy: 1.0000 - root_mean_squared_error: 0.0987 - val_loss: 0.5118 - val_accuracy: 0.4662 - val_root_mean_squared_error: 0.7154\n",
      "Epoch 1/30\n",
      "200/200 [==============================] - 2s 8ms/step - loss: 0.2846 - accuracy: 0.0370 - root_mean_squared_error: 0.5334 - val_loss: 0.2491 - val_accuracy: 0.5329 - val_root_mean_squared_error: 0.4991\n",
      "Epoch 2/30\n",
      "200/200 [==============================] - 1s 7ms/step - loss: 0.2561 - accuracy: 0.3102 - root_mean_squared_error: 0.5060 - val_loss: 0.2506 - val_accuracy: 0.4803 - val_root_mean_squared_error: 0.5006\n",
      "Epoch 3/30\n",
      "200/200 [==============================] - 1s 7ms/step - loss: 0.2283 - accuracy: 0.9850 - root_mean_squared_error: 0.4778 - val_loss: 0.2545 - val_accuracy: 0.4638 - val_root_mean_squared_error: 0.5045\n",
      "Epoch 4/30\n",
      "200/200 [==============================] - 1s 7ms/step - loss: 0.2029 - accuracy: 0.9997 - root_mean_squared_error: 0.4505 - val_loss: 0.2603 - val_accuracy: 0.4622 - val_root_mean_squared_error: 0.5102\n",
      "Epoch 5/30\n",
      "200/200 [==============================] - 1s 7ms/step - loss: 0.1776 - accuracy: 1.0000 - root_mean_squared_error: 0.4215 - val_loss: 0.2682 - val_accuracy: 0.4638 - val_root_mean_squared_error: 0.5178\n",
      "Epoch 6/30\n",
      "200/200 [==============================] - 1s 7ms/step - loss: 0.1517 - accuracy: 1.0000 - root_mean_squared_error: 0.3895 - val_loss: 0.2792 - val_accuracy: 0.4638 - val_root_mean_squared_error: 0.5284\n",
      "Epoch 7/30\n",
      "200/200 [==============================] - 2s 8ms/step - loss: 0.1253 - accuracy: 1.0000 - root_mean_squared_error: 0.3539 - val_loss: 0.2946 - val_accuracy: 0.4638 - val_root_mean_squared_error: 0.5428\n",
      "Epoch 8/30\n",
      "200/200 [==============================] - 1s 7ms/step - loss: 0.1008 - accuracy: 1.0000 - root_mean_squared_error: 0.3176 - val_loss: 0.3099 - val_accuracy: 0.4638 - val_root_mean_squared_error: 0.5567\n",
      "Epoch 9/30\n",
      "200/200 [==============================] - 1s 7ms/step - loss: 0.0798 - accuracy: 1.0000 - root_mean_squared_error: 0.2825 - val_loss: 0.3323 - val_accuracy: 0.4638 - val_root_mean_squared_error: 0.5764\n",
      "Epoch 10/30\n",
      "200/200 [==============================] - 1s 7ms/step - loss: 0.0618 - accuracy: 1.0000 - root_mean_squared_error: 0.2486 - val_loss: 0.3532 - val_accuracy: 0.4638 - val_root_mean_squared_error: 0.5943\n",
      "Epoch 11/30\n",
      "200/200 [==============================] - 1s 7ms/step - loss: 0.0479 - accuracy: 1.0000 - root_mean_squared_error: 0.2188 - val_loss: 0.3720 - val_accuracy: 0.4638 - val_root_mean_squared_error: 0.6099\n",
      "Epoch 12/30\n",
      "200/200 [==============================] - 1s 7ms/step - loss: 0.0376 - accuracy: 1.0000 - root_mean_squared_error: 0.1939 - val_loss: 0.3970 - val_accuracy: 0.4638 - val_root_mean_squared_error: 0.6301\n",
      "Epoch 13/30\n",
      "200/200 [==============================] - 1s 7ms/step - loss: 0.0302 - accuracy: 1.0000 - root_mean_squared_error: 0.1738 - val_loss: 0.4143 - val_accuracy: 0.4638 - val_root_mean_squared_error: 0.6437\n",
      "Epoch 14/30\n",
      "200/200 [==============================] - 1s 7ms/step - loss: 0.0244 - accuracy: 1.0000 - root_mean_squared_error: 0.1561 - val_loss: 0.4252 - val_accuracy: 0.4638 - val_root_mean_squared_error: 0.6521\n",
      "Epoch 15/30\n",
      "200/200 [==============================] - 1s 7ms/step - loss: 0.0207 - accuracy: 1.0000 - root_mean_squared_error: 0.1439 - val_loss: 0.4424 - val_accuracy: 0.4638 - val_root_mean_squared_error: 0.6652\n",
      "Epoch 16/30\n",
      "200/200 [==============================] - 1s 7ms/step - loss: 0.0176 - accuracy: 1.0000 - root_mean_squared_error: 0.1326 - val_loss: 0.4534 - val_accuracy: 0.4638 - val_root_mean_squared_error: 0.6734\n",
      "Epoch 17/30\n",
      "200/200 [==============================] - 1s 7ms/step - loss: 0.0164 - accuracy: 1.0000 - root_mean_squared_error: 0.1279 - val_loss: 0.4638 - val_accuracy: 0.4638 - val_root_mean_squared_error: 0.6810\n",
      "Epoch 18/30\n",
      "200/200 [==============================] - 1s 7ms/step - loss: 0.0143 - accuracy: 1.0000 - root_mean_squared_error: 0.1197 - val_loss: 0.4698 - val_accuracy: 0.4638 - val_root_mean_squared_error: 0.6854\n",
      "Epoch 19/30\n",
      "200/200 [==============================] - 1s 7ms/step - loss: 0.0141 - accuracy: 1.0000 - root_mean_squared_error: 0.1190 - val_loss: 0.4797 - val_accuracy: 0.4638 - val_root_mean_squared_error: 0.6926\n",
      "Epoch 20/30\n",
      "200/200 [==============================] - 1s 7ms/step - loss: 0.0122 - accuracy: 1.0000 - root_mean_squared_error: 0.1107 - val_loss: 0.4836 - val_accuracy: 0.4638 - val_root_mean_squared_error: 0.6954\n",
      "Epoch 21/30\n",
      "200/200 [==============================] - 1s 7ms/step - loss: 0.0106 - accuracy: 1.0000 - root_mean_squared_error: 0.1030 - val_loss: 0.4820 - val_accuracy: 0.4638 - val_root_mean_squared_error: 0.6942\n",
      "Epoch 22/30\n",
      "200/200 [==============================] - 1s 7ms/step - loss: 0.0109 - accuracy: 1.0000 - root_mean_squared_error: 0.1044 - val_loss: 0.4892 - val_accuracy: 0.4638 - val_root_mean_squared_error: 0.6994\n",
      "Epoch 23/30\n",
      "200/200 [==============================] - 1s 7ms/step - loss: 0.0109 - accuracy: 1.0000 - root_mean_squared_error: 0.1043 - val_loss: 0.5007 - val_accuracy: 0.4638 - val_root_mean_squared_error: 0.7076\n",
      "Epoch 24/30\n",
      "200/200 [==============================] - 1s 7ms/step - loss: 0.0109 - accuracy: 1.0000 - root_mean_squared_error: 0.1046 - val_loss: 0.4981 - val_accuracy: 0.4638 - val_root_mean_squared_error: 0.7058\n",
      "Epoch 25/30\n"
     ]
    },
    {
     "name": "stdout",
     "output_type": "stream",
     "text": [
      "200/200 [==============================] - 1s 7ms/step - loss: 0.0099 - accuracy: 1.0000 - root_mean_squared_error: 0.0996 - val_loss: 0.5039 - val_accuracy: 0.4638 - val_root_mean_squared_error: 0.7098\n",
      "Epoch 26/30\n",
      "200/200 [==============================] - 1s 7ms/step - loss: 0.0100 - accuracy: 1.0000 - root_mean_squared_error: 0.1001 - val_loss: 0.5063 - val_accuracy: 0.4638 - val_root_mean_squared_error: 0.7115\n",
      "Epoch 27/30\n",
      "200/200 [==============================] - 1s 7ms/step - loss: 0.0099 - accuracy: 1.0000 - root_mean_squared_error: 0.0997 - val_loss: 0.5090 - val_accuracy: 0.4638 - val_root_mean_squared_error: 0.7135\n",
      "Epoch 28/30\n",
      "200/200 [==============================] - 1s 7ms/step - loss: 0.0089 - accuracy: 1.0000 - root_mean_squared_error: 0.0943 - val_loss: 0.5120 - val_accuracy: 0.4638 - val_root_mean_squared_error: 0.7156\n",
      "Epoch 29/30\n",
      "200/200 [==============================] - 1s 7ms/step - loss: 0.0094 - accuracy: 1.0000 - root_mean_squared_error: 0.0970 - val_loss: 0.5096 - val_accuracy: 0.4638 - val_root_mean_squared_error: 0.7139\n",
      "Epoch 30/30\n",
      "200/200 [==============================] - 2s 8ms/step - loss: 0.0096 - accuracy: 1.0000 - root_mean_squared_error: 0.0980 - val_loss: 0.5182 - val_accuracy: 0.4638 - val_root_mean_squared_error: 0.7199\n"
     ]
    },
    {
     "data": {
      "text/html": [
       "<div>\n",
       "<style scoped>\n",
       "    .dataframe tbody tr th:only-of-type {\n",
       "        vertical-align: middle;\n",
       "    }\n",
       "\n",
       "    .dataframe tbody tr th {\n",
       "        vertical-align: top;\n",
       "    }\n",
       "\n",
       "    .dataframe thead th {\n",
       "        text-align: right;\n",
       "    }\n",
       "</style>\n",
       "<table border=\"1\" class=\"dataframe\">\n",
       "  <thead>\n",
       "    <tr style=\"text-align: right;\">\n",
       "      <th></th>\n",
       "      <th>0</th>\n",
       "      <th>1</th>\n",
       "      <th>2</th>\n",
       "      <th>3</th>\n",
       "    </tr>\n",
       "  </thead>\n",
       "  <tbody>\n",
       "    <tr>\n",
       "      <th>loss</th>\n",
       "      <td>[0.2339443415403366, 0.21350617706775665, 0.18...</td>\n",
       "      <td>[0.2704378068447113, 0.24188536405563354, 0.21...</td>\n",
       "      <td>[0.17879563570022583, 0.1493791937828064, 0.12...</td>\n",
       "      <td>[0.28456196188926697, 0.2560829222202301, 0.22...</td>\n",
       "    </tr>\n",
       "    <tr>\n",
       "      <th>accuracy</th>\n",
       "      <td>[0.9887499809265137, 1.0, 1.0, 1.0, 1.0, 1.0, ...</td>\n",
       "      <td>[0.046406250447034836, 0.7796875238418579, 0.9...</td>\n",
       "      <td>[0.9993749856948853, 1.0, 1.0, 1.0, 1.0, 1.0, ...</td>\n",
       "      <td>[0.03703124821186066, 0.3101562559604645, 0.98...</td>\n",
       "    </tr>\n",
       "    <tr>\n",
       "      <th>root_mean_squared_error</th>\n",
       "      <td>[0.4836779236793518, 0.46206727623939514, 0.43...</td>\n",
       "      <td>[0.5200363397598267, 0.4918184280395508, 0.462...</td>\n",
       "      <td>[0.4228423237800598, 0.38649603724479675, 0.34...</td>\n",
       "      <td>[0.5334435105323792, 0.5060463547706604, 0.477...</td>\n",
       "    </tr>\n",
       "    <tr>\n",
       "      <th>val_loss</th>\n",
       "      <td>[0.25273293256759644, 0.2578267455101013, 0.26...</td>\n",
       "      <td>[0.24916644394397736, 0.25287342071533203, 0.2...</td>\n",
       "      <td>[0.26572370529174805, 0.2784543037414551, 0.29...</td>\n",
       "      <td>[0.24913915991783142, 0.2506178915500641, 0.25...</td>\n",
       "    </tr>\n",
       "    <tr>\n",
       "      <th>val_accuracy</th>\n",
       "      <td>[0.4583333432674408, 0.4583333432674408, 0.458...</td>\n",
       "      <td>[0.5403226017951965, 0.4495967626571655, 0.450...</td>\n",
       "      <td>[0.46621620655059814, 0.46621620655059814, 0.4...</td>\n",
       "      <td>[0.5328947305679321, 0.4802631437778473, 0.463...</td>\n",
       "    </tr>\n",
       "    <tr>\n",
       "      <th>val_root_mean_squared_error</th>\n",
       "      <td>[0.5027254819869995, 0.5077664256095886, 0.513...</td>\n",
       "      <td>[0.49916574358940125, 0.502865195274353, 0.507...</td>\n",
       "      <td>[0.5154839158058167, 0.527687668800354, 0.5436...</td>\n",
       "      <td>[0.49913841485977173, 0.500617504119873, 0.504...</td>\n",
       "    </tr>\n",
       "  </tbody>\n",
       "</table>\n",
       "</div>"
      ],
      "text/plain": [
       "                                                                             0  \\\n",
       "loss                         [0.2339443415403366, 0.21350617706775665, 0.18...   \n",
       "accuracy                     [0.9887499809265137, 1.0, 1.0, 1.0, 1.0, 1.0, ...   \n",
       "root_mean_squared_error      [0.4836779236793518, 0.46206727623939514, 0.43...   \n",
       "val_loss                     [0.25273293256759644, 0.2578267455101013, 0.26...   \n",
       "val_accuracy                 [0.4583333432674408, 0.4583333432674408, 0.458...   \n",
       "val_root_mean_squared_error  [0.5027254819869995, 0.5077664256095886, 0.513...   \n",
       "\n",
       "                                                                             1  \\\n",
       "loss                         [0.2704378068447113, 0.24188536405563354, 0.21...   \n",
       "accuracy                     [0.046406250447034836, 0.7796875238418579, 0.9...   \n",
       "root_mean_squared_error      [0.5200363397598267, 0.4918184280395508, 0.462...   \n",
       "val_loss                     [0.24916644394397736, 0.25287342071533203, 0.2...   \n",
       "val_accuracy                 [0.5403226017951965, 0.4495967626571655, 0.450...   \n",
       "val_root_mean_squared_error  [0.49916574358940125, 0.502865195274353, 0.507...   \n",
       "\n",
       "                                                                             2  \\\n",
       "loss                         [0.17879563570022583, 0.1493791937828064, 0.12...   \n",
       "accuracy                     [0.9993749856948853, 1.0, 1.0, 1.0, 1.0, 1.0, ...   \n",
       "root_mean_squared_error      [0.4228423237800598, 0.38649603724479675, 0.34...   \n",
       "val_loss                     [0.26572370529174805, 0.2784543037414551, 0.29...   \n",
       "val_accuracy                 [0.46621620655059814, 0.46621620655059814, 0.4...   \n",
       "val_root_mean_squared_error  [0.5154839158058167, 0.527687668800354, 0.5436...   \n",
       "\n",
       "                                                                             3  \n",
       "loss                         [0.28456196188926697, 0.2560829222202301, 0.22...  \n",
       "accuracy                     [0.03703124821186066, 0.3101562559604645, 0.98...  \n",
       "root_mean_squared_error      [0.5334435105323792, 0.5060463547706604, 0.477...  \n",
       "val_loss                     [0.24913915991783142, 0.2506178915500641, 0.25...  \n",
       "val_accuracy                 [0.5328947305679321, 0.4802631437778473, 0.463...  \n",
       "val_root_mean_squared_error  [0.49913841485977173, 0.500617504119873, 0.504...  "
      ]
     },
     "execution_count": 16,
     "metadata": {},
     "output_type": "execute_result"
    }
   ],
   "source": [
    "cnnv1D_result = {}\n",
    "for i in range(NFOLD-1):\n",
    "    conv1D = Conv1D()\n",
    "    conv1D.compile(optimizer = tfk.optimizers.Adam(learning_rate=1e-6), \n",
    "                        metrics = ['accuracy', tfk.metrics.RootMeanSquaredError(),],\n",
    "                        loss = tfk.losses.MeanSquaredError(reduction= tfk.losses.Reduction.SUM_OVER_BATCH_SIZE)\n",
    "                       )\n",
    "    train_dataset, val_dataset, test_dataset = get_train_and_val_for_fold(folded_datasets=folded_datasets,fold = i)   \n",
    "    \n",
    "    result = conv1D.fit(train_dataset, epochs= EPOCHS,steps_per_epoch = STEPS_PER_EPOCH,validation_data= val_dataset,)\n",
    "    \n",
    "    cnnv1D_result[i] = result.history\n",
    "\n",
    "pd.DataFrame(cnnv1D_result)"
   ]
  },
  {
   "cell_type": "code",
   "execution_count": 17,
   "id": "13e7a6d8",
   "metadata": {
    "scrolled": true
   },
   "outputs": [
    {
     "data": {
      "image/png": "[encoded data removed]",
      "text/plain": [
       "<Figure size 432x288 with 1 Axes>"
      ]
     },
     "metadata": {
      "needs_background": "light"
     },
     "output_type": "display_data"
    }
   ],
   "source": [
    "for i in range(NFOLD-1):\n",
    "    loss = cnn1D_encoder_result[i]['loss']\n",
    "    plt.plot(loss)\n",
    "    plt.title('Training loss for Autoencoder')"
   ]
  },
  {
   "cell_type": "code",
   "execution_count": 18,
   "id": "5092996d",
   "metadata": {},
   "outputs": [
    {
     "data": {
      "image/png": "[encoded data removed]",
      "text/plain": [
       "<Figure size 432x288 with 1 Axes>"
      ]
     },
     "metadata": {
      "needs_background": "light"
     },
     "output_type": "display_data"
    }
   ],
   "source": [
    "for i in range(NFOLD-1):\n",
    "    loss = cnnv1D_result[i]['loss']\n",
    "    plt.plot(loss)\n",
    "    plt.title('Training loss for Conv1D')"
   ]
  },
  {
   "cell_type": "code",
   "execution_count": 19,
   "id": "19a54a15",
   "metadata": {},
   "outputs": [
    {
     "data": {
      "image/png": "[encoded data removed]",
      "text/plain": [
       "<Figure size 432x288 with 1 Axes>"
      ]
     },
     "metadata": {
      "needs_background": "light"
     },
     "output_type": "display_data"
    }
   ],
   "source": [
    "for i in range(NFOLD-1):\n",
    "    mse = cnn1D_encoder_result[i]['root_mean_squared_error']\n",
    "    plt.plot(mse)\n",
    "    plt.title('Training Mse for Autoencoder')"
   ]
  },
  {
   "cell_type": "code",
   "execution_count": 20,
   "id": "9239aa80",
   "metadata": {},
   "outputs": [
    {
     "data": {
      "image/png": "[encoded data removed]",
      "text/plain": [
       "<Figure size 432x288 with 1 Axes>"
      ]
     },
     "metadata": {
      "needs_background": "light"
     },
     "output_type": "display_data"
    }
   ],
   "source": [
    "for i in range(NFOLD-1):\n",
    "    mse = cnnv1D_result[i]['root_mean_squared_error']\n",
    "    plt.plot(mse)\n",
    "    plt.title('Training Mse for Conv1D')"
   ]
  },
  {
   "cell_type": "code",
   "execution_count": 21,
   "id": "1fb2a1f6",
   "metadata": {
    "scrolled": true
   },
   "outputs": [
    {
     "name": "stdout",
     "output_type": "stream",
     "text": [
      "26/26 [==============================] - 1s 3ms/step\n"
     ]
    },
    {
     "data": {
      "text/plain": [
       "[<matplotlib.lines.Line2D at 0x2611a0a0460>]"
      ]
     },
     "execution_count": 21,
     "metadata": {},
     "output_type": "execute_result"
    },
    {
     "data": {
      "image/png": "[encoded data removed]",
      "text/plain": [
       "<Figure size 432x288 with 1 Axes>"
      ]
     },
     "metadata": {
      "needs_background": "light"
     },
     "output_type": "display_data"
    }
   ],
   "source": [
    "cnn1D_enc_predict = autoencoder.predict(test_dataset, verbose = True)\n",
    "cnn1D_enc_predict = cnn1D_enc_predict.reshape(-1)\n",
    "plt.title(\"conv1D_enc_prediction\")\n",
    "plt.plot(cnn1D_enc_predict)"
   ]
  },
  {
   "cell_type": "code",
   "execution_count": 22,
   "id": "8744679a",
   "metadata": {
    "scrolled": true
   },
   "outputs": [
    {
     "name": "stdout",
     "output_type": "stream",
     "text": [
      "53248\n"
     ]
    },
    {
     "data": {
      "image/png": "[encoded data removed]",
      "text/plain": [
       "<Figure size 432x288 with 1 Axes>"
      ]
     },
     "metadata": {
      "needs_background": "light"
     },
     "output_type": "display_data"
    }
   ],
   "source": [
    "plt.title(\"conv1D_enc_prediction hist\")\n",
    "plt.hist(cnn1D_enc_predict)\n",
    "print(cnn1D_enc_predict.size)"
   ]
  },
  {
   "cell_type": "code",
   "execution_count": 23,
   "id": "626027f5",
   "metadata": {},
   "outputs": [
    {
     "name": "stdout",
     "output_type": "stream",
     "text": [
      "26/26 [==============================] - 0s 2ms/step\n"
     ]
    },
    {
     "data": {
      "text/plain": [
       "[<matplotlib.lines.Line2D at 0x263bb298ac0>]"
      ]
     },
     "execution_count": 23,
     "metadata": {},
     "output_type": "execute_result"
    },
    {
     "data": {
      "image/png": "[encoded data removed]",
      "text/plain": [
       "<Figure size 432x288 with 1 Axes>"
      ]
     },
     "metadata": {
      "needs_background": "light"
     },
     "output_type": "display_data"
    }
   ],
   "source": [
    "conv1D_predict = conv1D.predict(test_dataset, verbose = True)\n",
    "plt.title(\"conv1D_prediction\")\n",
    "plt.plot(conv1D_predict)"
   ]
  },
  {
   "cell_type": "code",
   "execution_count": 24,
   "id": "4bcd3ed6",
   "metadata": {
    "scrolled": false
   },
   "outputs": [
    {
     "name": "stdout",
     "output_type": "stream",
     "text": [
      "832\n"
     ]
    },
    {
     "data": {
      "image/png": "[encoded data removed]",
      "text/plain": [
       "<Figure size 432x288 with 1 Axes>"
      ]
     },
     "metadata": {
      "needs_background": "light"
     },
     "output_type": "display_data"
    }
   ],
   "source": [
    "plt.title(\"conv1D_predict hist\")\n",
    "plt.hist(conv1D_predict)\n",
    "print(conv1D_predict.size)"
   ]
  },
  {
   "cell_type": "code",
   "execution_count": null,
   "id": "4fb83682",
   "metadata": {},
   "outputs": [],
   "source": []
  }
 ],
 "metadata": {
  "kernelspec": {
   "display_name": "Python 3",
   "language": "python",
   "name": "python3"
  },
  "language_info": {
   "codemirror_mode": {
    "name": "ipython",
    "version": 3
   },
   "file_extension": ".py",
   "mimetype": "text/x-python",
   "name": "python",
   "nbconvert_exporter": "python",
   "pygments_lexer": "ipython3",
   "version": "3.9.7"
  }
 },
 "nbformat": 4,
 "nbformat_minor": 5
}
