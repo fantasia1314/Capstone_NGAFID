{
 "cells": [
  {
   "cell_type": "code",
   "execution_count": 1,
   "id": "a9032074",
   "metadata": {},
   "outputs": [
    {
     "name": "stdout",
     "output_type": "stream",
     "text": [
      "Num GPUs Available:  1\n"
     ]
    }
   ],
   "source": [
    "import tensorflow as tf\n",
    "print(\"Num GPUs Available: \", len(tf.config.list_physical_devices('GPU')))\n",
    "import pandas as pd \n",
    "import numpy as np \n",
    "import seaborn as sns\n",
    "import random \n",
    "import matplotlib.pyplot as plt\n",
    "%matplotlib inline\n",
    "from sklearn.model_selection import train_test_split, KFold\n",
    "from sklearn import preprocessing\n",
    "\n",
    "tfk = tf.keras\n",
    "tfkl = tf.keras.layers"
   ]
  },
  {
   "cell_type": "code",
   "execution_count": 2,
   "id": "c16f9cce",
   "metadata": {},
   "outputs": [],
   "source": [
    "BATCH_SIZE = 32\n",
    "SHAPE = (4096, 23)\n",
    "BLOCK_SHAPE = (64, 23)\n",
    "EPOCHS = 30\n",
    "VARIABLES = 23\n",
    "NFOLD = 5 \n",
    "STEPS_PER_EPOCH = 200\n",
    "ID = 28"
   ]
  },
  {
   "cell_type": "code",
   "execution_count": 3,
   "id": "9ad27f44",
   "metadata": {},
   "outputs": [],
   "source": [
    "if ID == 28:\n",
    "    file='D:/Document/DSCI-601/NGAFID/NGAFID_MC_C28.csv'\n",
    "elif ID == 37:\n",
    "    file='D:/Document/DSCI-601/NGAFID/NGAFID_MC_C37.csv'\n",
    "else:\n",
    "    print('Invalid ID')\n",
    "df_test = pd.read_csv(file, nrows=100)\n",
    "float_cols = [c for c in df_test if df_test[c].dtype == \"float64\"]\n",
    "float32_cols = {c: np.float16 for c in float_cols}\n",
    "\n",
    "df = pd.read_csv(file, dtype=float32_cols, engine='c')\n",
    "df['id'] = df.id.astype('int32')\n",
    "df = df.dropna()"
   ]
  },
  {
   "cell_type": "code",
   "execution_count": 4,
   "id": "d767f07f",
   "metadata": {
    "scrolled": false
   },
   "outputs": [
    {
     "data": {
      "text/html": [
       "<div>\n",
       "<style scoped>\n",
       "    .dataframe tbody tr th:only-of-type {\n",
       "        vertical-align: middle;\n",
       "    }\n",
       "\n",
       "    .dataframe tbody tr th {\n",
       "        vertical-align: top;\n",
       "    }\n",
       "\n",
       "    .dataframe thead th {\n",
       "        text-align: right;\n",
       "    }\n",
       "</style>\n",
       "<table border=\"1\" class=\"dataframe\">\n",
       "  <thead>\n",
       "    <tr style=\"text-align: right;\">\n",
       "      <th></th>\n",
       "      <th></th>\n",
       "      <th>id</th>\n",
       "    </tr>\n",
       "    <tr>\n",
       "      <th>split</th>\n",
       "      <th>before_after</th>\n",
       "      <th></th>\n",
       "    </tr>\n",
       "  </thead>\n",
       "  <tbody>\n",
       "    <tr>\n",
       "      <th rowspan=\"2\" valign=\"top\">0</th>\n",
       "      <th>0</th>\n",
       "      <td>589</td>\n",
       "    </tr>\n",
       "    <tr>\n",
       "      <th>1</th>\n",
       "      <td>484</td>\n",
       "    </tr>\n",
       "    <tr>\n",
       "      <th rowspan=\"2\" valign=\"top\">1</th>\n",
       "      <th>0</th>\n",
       "      <td>555</td>\n",
       "    </tr>\n",
       "    <tr>\n",
       "      <th>1</th>\n",
       "      <td>449</td>\n",
       "    </tr>\n",
       "    <tr>\n",
       "      <th rowspan=\"2\" valign=\"top\">2</th>\n",
       "      <th>0</th>\n",
       "      <td>641</td>\n",
       "    </tr>\n",
       "    <tr>\n",
       "      <th>1</th>\n",
       "      <td>552</td>\n",
       "    </tr>\n",
       "    <tr>\n",
       "      <th rowspan=\"2\" valign=\"top\">3</th>\n",
       "      <th>0</th>\n",
       "      <td>343</td>\n",
       "    </tr>\n",
       "    <tr>\n",
       "      <th>1</th>\n",
       "      <td>282</td>\n",
       "    </tr>\n",
       "    <tr>\n",
       "      <th rowspan=\"2\" valign=\"top\">4</th>\n",
       "      <th>0</th>\n",
       "      <td>456</td>\n",
       "    </tr>\n",
       "    <tr>\n",
       "      <th>1</th>\n",
       "      <td>382</td>\n",
       "    </tr>\n",
       "  </tbody>\n",
       "</table>\n",
       "</div>"
      ],
      "text/plain": [
       "                     id\n",
       "split before_after     \n",
       "0     0             589\n",
       "      1             484\n",
       "1     0             555\n",
       "      1             449\n",
       "2     0             641\n",
       "      1             552\n",
       "3     0             343\n",
       "      1             282\n",
       "4     0             456\n",
       "      1             382"
      ]
     },
     "execution_count": 4,
     "metadata": {},
     "output_type": "execute_result"
    }
   ],
   "source": [
    "sources = df[['id', 'plane_id', 'split', 'date_diff', 'before_after']].drop_duplicates()\n",
    "sources.loc[: , ['split', 'before_after', 'id']].groupby(['split', 'before_after']).count()"
   ]
  },
  {
   "cell_type": "code",
   "execution_count": 5,
   "id": "d03f75fd",
   "metadata": {},
   "outputs": [],
   "source": [
    "input_columns = ['volt1',\n",
    " 'volt2',\n",
    " 'amp1',\n",
    " 'amp2',\n",
    " 'FQtyL',\n",
    " 'FQtyR',\n",
    " 'E1 FFlow',\n",
    " 'E1 OilT',\n",
    " 'E1 OilP',\n",
    " 'E1 RPM',\n",
    " 'E1 CHT1',\n",
    " 'E1 CHT2',\n",
    " 'E1 CHT3',\n",
    " 'E1 CHT4',\n",
    " 'E1 EGT1',\n",
    " 'E1 EGT2',\n",
    " 'E1 EGT3',\n",
    " 'E1 EGT4',\n",
    " 'OAT',\n",
    " 'IAS',\n",
    " 'VSpd',\n",
    " 'NormAc',\n",
    " 'AltMSL']"
   ]
  },
  {
   "cell_type": "code",
   "execution_count": 6,
   "id": "724fc0cc",
   "metadata": {},
   "outputs": [
    {
     "name": "stderr",
     "output_type": "stream",
     "text": [
      "D:\\Python-Anaconda\\envs\\tf\\lib\\site-packages\\sklearn\\base.py:450: UserWarning: X does not have valid feature names, but MinMaxScaler was fitted with feature names\n",
      "  warnings.warn(\n"
     ]
    }
   ],
   "source": [
    "preprocess = preprocessing.MinMaxScaler()\n",
    "preprocess.fit(df.loc[:, input_columns].sample(100000, random_state = 0 ))\n",
    "org_value = df.loc[:, input_columns].values\n",
    "res = preprocess.transform(org_value)\n",
    "for i, col in enumerate(input_columns):\n",
    "    df.loc[:, col] = res[:, i]"
   ]
  },
  {
   "cell_type": "code",
   "execution_count": 7,
   "id": "03a94172",
   "metadata": {},
   "outputs": [],
   "source": [
    "def get_dataset(df): \n",
    "\n",
    "    ids = df.id.unique()\n",
    "\n",
    "    sensor_datas = []\n",
    "    afters = [] \n",
    "\n",
    "    for id in ids: \n",
    "        sensor_data = df[df.id == id].iloc[-SHAPE[0]:, :23].values\n",
    "\n",
    "        sensor_data = np.pad(sensor_data, [[0, SHAPE[0]- len(sensor_data)], [0,0]])\n",
    "\n",
    "        sensor_data = tf.convert_to_tensor(sensor_data, dtype = tf.float32) \n",
    "\n",
    "        after = df[df.id == id]['before_after'].iloc[0]\n",
    "\n",
    "        sensor_datas.append(sensor_data)\n",
    "        afters.append(after)\n",
    "\n",
    "\n",
    "    sensor_datas = tf.stack(sensor_datas)\n",
    "    afters = np.stack(afters)\n",
    "\n",
    "    ds = tf.data.Dataset.from_tensor_slices( (sensor_datas, afters))\n",
    "    \n",
    "    return ds"
   ]
  },
  {
   "cell_type": "code",
   "execution_count": 8,
   "id": "7b1ab448",
   "metadata": {},
   "outputs": [],
   "source": [
    "def slice_random(x, y):\n",
    "    start = tf.random.uniform(shape=[], minval=0, maxval=4096-BLOCK_SHAPE[0], dtype=tf.int64)\n",
    "    x = x[start: start + BLOCK_SHAPE[0]]\n",
    "    x = tf.reshape(x, (BLOCK_SHAPE))\n",
    "    return x, y "
   ]
  },
  {
   "cell_type": "code",
   "execution_count": 9,
   "id": "841df979",
   "metadata": {},
   "outputs": [],
   "source": [
    "def fix_type(x, y):\n",
    "\n",
    "    return tf.cast(x, tf.float32), tf.cast(y, tf.float32)"
   ]
  },
  {
   "cell_type": "code",
   "execution_count": 10,
   "id": "cb464957",
   "metadata": {},
   "outputs": [],
   "source": [
    "def prepare_for_training(ds, shuffle = False, repeat = False, predict= True):\n",
    "    \n",
    "    ds = ds.map(fix_type)\n",
    "    ds = ds.map(slice_random)\n",
    "\n",
    "    ds = ds.shuffle(512) if shuffle else ds \n",
    "    ds = ds.repeat() if repeat else ds \n",
    "    ds = ds.batch(BATCH_SIZE, drop_remainder=True)\n",
    "\n",
    "    if not predict: \n",
    "        ds = ds.map(lambda x, y : (x, x) ) \n",
    "    else: \n",
    "        ds = ds.map(lambda x, y : (x, tf.reshape(y, (-1, 1))) )\n",
    "         \n",
    "    return ds"
   ]
  },
  {
   "cell_type": "code",
   "execution_count": 11,
   "id": "c975ce51",
   "metadata": {},
   "outputs": [],
   "source": [
    "def get_train_and_val_for_fold(folded_datasets, fold):\n",
    "    predict = True\n",
    "\n",
    "    train = []\n",
    "    for i in range(NFOLD-1): \n",
    "        if i == fold:\n",
    "            val_ds = folded_datasets[i][0].concatenate(folded_datasets[i][1])\n",
    "        else: \n",
    "            train.append(folded_datasets[i][0])\n",
    "    \n",
    "    test_ds = folded_datasets[4][0].concatenate(folded_datasets[4][1])\n",
    "    \n",
    "    train_ds = None\n",
    "    for ds in train: \n",
    "        train_ds = ds if train_ds is None else train_ds.concatenate(ds)\n",
    "\n",
    "    test_ds = prepare_for_training(test_ds, shuffle=False)\n",
    "    train_ds = prepare_for_training(train_ds, shuffle=True, repeat = True)\n",
    "    val_ds = prepare_for_training(val_ds, shuffle=False)\n",
    "    \n",
    "    return train_ds, val_ds, test_ds"
   ]
  },
  {
   "cell_type": "code",
   "execution_count": 12,
   "id": "f6d0ced2",
   "metadata": {},
   "outputs": [],
   "source": [
    "folded_datasets = []\n",
    "\n",
    "for i in range(NFOLD):\n",
    "    after = get_dataset(df[(df.split == i) & (df.before_after == 1)])\n",
    "    before = get_dataset(df[(df.split == i) & (df.before_after == 0)])\n",
    "    folded_datasets.append((after, before))"
   ]
  },
  {
   "cell_type": "code",
   "execution_count": 13,
   "id": "af01f60a",
   "metadata": {},
   "outputs": [],
   "source": [
    "class Autoencoder(tfk.Model):\n",
    "    def __init__(self):\n",
    "        super(Autoencoder, self).__init__()\n",
    "        self.encoder = tfk.Sequential([\n",
    "            tfkl.Input(shape = BLOCK_SHAPE),\n",
    "            tfkl.Conv1D(512, kernel_size= 7, strides= 2, activation='relu', padding='same'),\n",
    "            tfkl.Dropout(0.5),\n",
    "            tfkl.Conv1D(256, kernel_size= 7, strides= 2, activation='relu', padding='same'),\n",
    "            tfkl.Dropout(0.5),\n",
    "            tfkl.Conv1D(128, kernel_size= 7, strides= 2, activation='relu', padding='same'),\n",
    "            tfkl.Dropout(0.5),\n",
    "            tfkl.Conv1D(64, kernel_size= 7, strides= 2, activation='relu', padding='same'),\n",
    "        ])\n",
    "        \n",
    "        self.decoder = tf.keras.Sequential([\n",
    "            tfkl.Conv1DTranspose(64, kernel_size= 7, strides= 2, activation='relu', padding='same'),\n",
    "            tfkl.Conv1DTranspose(128, kernel_size= 7, strides= 2, activation='relu', padding='same'),\n",
    "            tfkl.Conv1DTranspose(256, kernel_size= 7, strides= 2, activation='relu', padding='same'),\n",
    "            tfkl.Conv1DTranspose(512, kernel_size= 7, strides= 2, activation='relu', padding='same'),\n",
    "            tfkl.Conv1D(1, kernel_size = 3, activation='sigmoid', padding='same')\n",
    "        ])\n",
    "    \n",
    "    def call(self, x):\n",
    "        encoded = self.encoder(x)\n",
    "        decoded = self.decoder(encoded)\n",
    "        return decoded"
   ]
  },
  {
   "cell_type": "code",
   "execution_count": 14,
   "id": "3ea48038",
   "metadata": {},
   "outputs": [],
   "source": [
    "class Conv1D(tfk.Model):\n",
    "    def __init__(self):\n",
    "        super(Conv1D, self).__init__()\n",
    "        self.conv1D_model = tfk.Sequential([\n",
    "            tfkl.Input(shape = BLOCK_SHAPE),\n",
    "            tfkl.Conv1D(64, kernel_size= 7, strides=2, activation='relu', padding='same'),\n",
    "            tfkl.Conv1D(64, kernel_size= 7, strides=2, activation='relu', padding='same'),\n",
    "            tfkl.Conv1D(64, kernel_size= 7, strides=2, activation='relu', padding='same'),\n",
    "            tfkl.Conv1D(64, kernel_size= 7, strides=2, activation='relu', padding='same'),\n",
    "            tfkl.GlobalAveragePooling1D(),\n",
    "            tfkl.Dense(1, activation='sigmoid'),\n",
    "        ])\n",
    "            \n",
    "    def call(self, x):\n",
    "        conv1D = self.conv1D_model(x)\n",
    "        return conv1D"
   ]
  },
  {
   "cell_type": "code",
   "execution_count": 15,
   "id": "d119525b",
   "metadata": {
    "scrolled": false
   },
   "outputs": [
    {
     "name": "stdout",
     "output_type": "stream",
     "text": [
      "Epoch 1/30\n",
      "200/200 [==============================] - 24s 17ms/step - loss: 0.2461 - accuracy: 0.9632 - root_mean_squared_error: 0.4961 - val_loss: 0.2510 - val_accuracy: 0.4583 - val_root_mean_squared_error: 0.5010\n",
      "Epoch 2/30\n",
      "200/200 [==============================] - 3s 15ms/step - loss: 0.2125 - accuracy: 1.0000 - root_mean_squared_error: 0.4609 - val_loss: 0.2651 - val_accuracy: 0.4583 - val_root_mean_squared_error: 0.5149\n",
      "Epoch 3/30\n",
      "200/200 [==============================] - 3s 15ms/step - loss: 0.1031 - accuracy: 1.0000 - root_mean_squared_error: 0.3211 - val_loss: 0.3619 - val_accuracy: 0.4583 - val_root_mean_squared_error: 0.6016\n",
      "Epoch 4/30\n",
      "200/200 [==============================] - 3s 15ms/step - loss: 0.0332 - accuracy: 1.0000 - root_mean_squared_error: 0.1822 - val_loss: 0.4412 - val_accuracy: 0.4583 - val_root_mean_squared_error: 0.6643\n",
      "Epoch 5/30\n",
      "200/200 [==============================] - 3s 15ms/step - loss: 0.0181 - accuracy: 1.0000 - root_mean_squared_error: 0.1346 - val_loss: 0.4792 - val_accuracy: 0.4583 - val_root_mean_squared_error: 0.692284 - accuracy: 1.0000 - root_mean_squared_err\n",
      "Epoch 6/30\n",
      "200/200 [==============================] - 3s 15ms/step - loss: 0.0136 - accuracy: 1.0000 - root_mean_squared_error: 0.1165 - val_loss: 0.4892 - val_accuracy: 0.4583 - val_root_mean_squared_error: 0.6994ccuracy: 1.0000\n",
      "Epoch 7/30\n",
      "200/200 [==============================] - 3s 15ms/step - loss: 0.0123 - accuracy: 1.0000 - root_mean_squared_error: 0.1108 - val_loss: 0.5027 - val_accuracy: 0.4583 - val_root_mean_squared_error: 0.7090\n",
      "Epoch 8/30\n",
      "200/200 [==============================] - 3s 15ms/step - loss: 0.0102 - accuracy: 1.0000 - root_mean_squared_error: 0.1008 - val_loss: 0.5113 - val_accuracy: 0.4583 - val_root_mean_squared_error: 0.7150\n",
      "Epoch 9/30\n",
      "200/200 [==============================] - 3s 15ms/step - loss: 0.0102 - accuracy: 1.0000 - root_mean_squared_error: 0.1008 - val_loss: 0.5181 - val_accuracy: 0.4583 - val_root_mean_squared_error: 0.7198.0000 - root_mean_squared_error: 0.10 - ETA: 1s - loss: 0.0099 - accuracy\n",
      "Epoch 10/30\n",
      "200/200 [==============================] - 3s 15ms/step - loss: 0.0088 - accuracy: 1.0000 - root_mean_squared_error: 0.0938 - val_loss: 0.5170 - val_accuracy: 0.4583 - val_root_mean_squared_error: 0.7190\n",
      "Epoch 11/30\n",
      "200/200 [==============================] - 3s 15ms/step - loss: 0.0088 - accuracy: 1.0000 - root_mean_squared_error: 0.0937 - val_loss: 0.5206 - val_accuracy: 0.4583 - val_root_mean_squared_error: 0.7215\n",
      "Epoch 12/30\n",
      "200/200 [==============================] - 3s 15ms/step - loss: 0.0079 - accuracy: 1.0000 - root_mean_squared_error: 0.0890 - val_loss: 0.5280 - val_accuracy: 0.4583 - val_root_mean_squared_error: 0.7267\n",
      "Epoch 13/30\n",
      "200/200 [==============================] - 3s 15ms/step - loss: 0.0076 - accuracy: 1.0000 - root_mean_squared_error: 0.0869 - val_loss: 0.5266 - val_accuracy: 0.4583 - val_root_mean_squared_error: 0.7257\n",
      "Epoch 14/30\n",
      "200/200 [==============================] - 3s 15ms/step - loss: 0.0078 - accuracy: 1.0000 - root_mean_squared_error: 0.0882 - val_loss: 0.5292 - val_accuracy: 0.4583 - val_root_mean_squared_error: 0.7274\n",
      "Epoch 15/30\n",
      "200/200 [==============================] - 3s 15ms/step - loss: 0.0070 - accuracy: 1.0000 - root_mean_squared_error: 0.0838 - val_loss: 0.5250 - val_accuracy: 0.4583 - val_root_mean_squared_error: 0.7246\n",
      "Epoch 16/30\n",
      "200/200 [==============================] - 3s 15ms/step - loss: 0.0063 - accuracy: 1.0000 - root_mean_squared_error: 0.0791 - val_loss: 0.5298 - val_accuracy: 0.4583 - val_root_mean_squared_error: 0.7279\n",
      "Epoch 17/30\n",
      "200/200 [==============================] - 3s 15ms/step - loss: 0.0061 - accuracy: 1.0000 - root_mean_squared_error: 0.0782 - val_loss: 0.5320 - val_accuracy: 0.4583 - val_root_mean_squared_error: 0.7294\n",
      "Epoch 18/30\n",
      "200/200 [==============================] - 3s 15ms/step - loss: 0.0055 - accuracy: 1.0000 - root_mean_squared_error: 0.0741 - val_loss: 0.5281 - val_accuracy: 0.4583 - val_root_mean_squared_error: 0.7267ss: 0.005\n",
      "Epoch 19/30\n",
      "200/200 [==============================] - 3s 15ms/step - loss: 0.0049 - accuracy: 1.0000 - root_mean_squared_error: 0.0700 - val_loss: 0.5302 - val_accuracy: 0.4583 - val_root_mean_squared_error: 0.7281r\n",
      "Epoch 20/30\n",
      "200/200 [==============================] - 3s 15ms/step - loss: 0.0045 - accuracy: 1.0000 - root_mean_squared_error: 0.0671 - val_loss: 0.5318 - val_accuracy: 0.4583 - val_root_mean_squared_error: 0.7292\n",
      "Epoch 21/30\n",
      "200/200 [==============================] - 3s 15ms/step - loss: 0.0036 - accuracy: 1.0000 - root_mean_squared_error: 0.0599 - val_loss: 0.5325 - val_accuracy: 0.4583 - val_root_mean_squared_error: 0.7297\n",
      "Epoch 22/30\n",
      "200/200 [==============================] - 3s 15ms/step - loss: 0.0026 - accuracy: 1.0000 - root_mean_squared_error: 0.0506 - val_loss: 0.5333 - val_accuracy: 0.4583 - val_root_mean_squared_error: 0.7302\n",
      "Epoch 23/30\n",
      "200/200 [==============================] - 3s 15ms/step - loss: 0.0019 - accuracy: 1.0000 - root_mean_squared_error: 0.0432 - val_loss: 0.5319 - val_accuracy: 0.4583 - val_root_mean_squared_error: 0.7293\n",
      "Epoch 24/30\n",
      "200/200 [==============================] - 3s 15ms/step - loss: 0.0014 - accuracy: 1.0000 - root_mean_squared_error: 0.0377 - val_loss: 0.5372 - val_accuracy: 0.4583 - val_root_mean_squared_error: 0.7329\n",
      "Epoch 25/30\n",
      "200/200 [==============================] - 3s 15ms/step - loss: 9.7452e-04 - accuracy: 1.0000 - root_mean_squared_error: 0.0312 - val_loss: 0.5366 - val_accuracy: 0.4583 - val_root_mean_squared_error: 0.7325\n",
      "Epoch 26/30\n",
      "200/200 [==============================] - 3s 15ms/step - loss: 6.3738e-04 - accuracy: 1.0000 - root_mean_squared_error: 0.0252 - val_loss: 0.5378 - val_accuracy: 0.4583 - val_root_mean_squared_error: 0.7334\n",
      "Epoch 27/30\n",
      "200/200 [==============================] - 3s 15ms/step - loss: 4.9255e-04 - accuracy: 1.0000 - root_mean_squared_error: 0.0222 - val_loss: 0.5379 - val_accuracy: 0.4583 - val_root_mean_squared_error: 0.7334\n",
      "Epoch 28/30\n",
      "200/200 [==============================] - 3s 15ms/step - loss: 4.3721e-04 - accuracy: 1.0000 - root_mean_squared_error: 0.0209 - val_loss: 0.5384 - val_accuracy: 0.4583 - val_root_mean_squared_error: 0.7338\n",
      "Epoch 29/30\n",
      "200/200 [==============================] - 3s 15ms/step - loss: 3.3562e-04 - accuracy: 1.0000 - root_mean_squared_error: 0.0183 - val_loss: 0.5392 - val_accuracy: 0.4583 - val_root_mean_squared_error: 0.734304 - accuracy: 1.0000 - root_me\n",
      "Epoch 30/30\n",
      "200/200 [==============================] - 3s 15ms/step - loss: 3.1241e-04 - accuracy: 1.0000 - root_mean_squared_error: 0.0177 - val_loss: 0.5391 - val_accuracy: 0.4583 - val_root_mean_squared_error: 0.7343e-04 - accuracy: 1.0000 - root_mean\n",
      "Epoch 1/30\n",
      "200/200 [==============================] - 4s 16ms/step - loss: 0.2466 - accuracy: 0.9425 - root_mean_squared_error: 0.4966 - val_loss: 0.2509 - val_accuracy: 0.4526 - val_root_mean_squared_error: 0.5009\n",
      "Epoch 2/30\n",
      "200/200 [==============================] - 3s 15ms/step - loss: 0.2145 - accuracy: 1.0000 - root_mean_squared_error: 0.4631 - val_loss: 0.2646 - val_accuracy: 0.4526 - val_root_mean_squared_error: 0.5144\n",
      "Epoch 3/30\n",
      "200/200 [==============================] - 3s 15ms/step - loss: 0.1022 - accuracy: 1.0000 - root_mean_squared_error: 0.3196 - val_loss: 0.3662 - val_accuracy: 0.4526 - val_root_mean_squared_error: 0.60520.1124 - accuracy: 1.0000 - root_mean_squar\n",
      "Epoch 4/30\n",
      "200/200 [==============================] - 3s 15ms/step - loss: 0.0311 - accuracy: 1.0000 - root_mean_squared_error: 0.1763 - val_loss: 0.4521 - val_accuracy: 0.4526 - val_root_mean_squared_error: 0.6724 - accuracy: 1.0000 - root_mean_squared_error - ETA: 1s - loss: 0.0383 - accuracy: 1.0000 - root_mean_squared_error: 0.19 - ETA: 1s - loss: 0.0381 - accura\n",
      "Epoch 5/30\n",
      "200/200 [==============================] - 3s 15ms/step - loss: 0.0176 - accuracy: 1.0000 - root_mean_squared_error: 0.1327 - val_loss: 0.4820 - val_accuracy: 0.4526 - val_root_mean_squared_error: 0.6942: 0.0183 - accuracy: 1.0000 - root_mean_squared\n",
      "Epoch 6/30\n"
     ]
    },
    {
     "name": "stdout",
     "output_type": "stream",
     "text": [
      "200/200 [==============================] - 3s 15ms/step - loss: 0.0142 - accuracy: 1.0000 - root_mean_squared_error: 0.1190 - val_loss: 0.5036 - val_accuracy: 0.4526 - val_root_mean_squared_error: 0.7096\n",
      "Epoch 7/30\n",
      "200/200 [==============================] - 3s 15ms/step - loss: 0.0120 - accuracy: 1.0000 - root_mean_squared_error: 0.1094 - val_loss: 0.5098 - val_accuracy: 0.4526 - val_root_mean_squared_error: 0.7140uracy: 1.0000 - root_mean_squared_err\n",
      "Epoch 8/30\n",
      "200/200 [==============================] - 3s 15ms/step - loss: 0.0109 - accuracy: 1.0000 - root_mean_squared_error: 0.1044 - val_loss: 0.5204 - val_accuracy: 0.4526 - val_root_mean_squared_error: 0.7214\n",
      "Epoch 9/30\n",
      "200/200 [==============================] - 3s 15ms/step - loss: 0.0103 - accuracy: 1.0000 - root_mean_squared_error: 0.1015 - val_loss: 0.5215 - val_accuracy: 0.4526 - val_root_mean_squared_error: 0.7222: 0.0101 - accuracy: 1.0000 - root_mean_squ - ETA: 0s - loss: 0.0103 - accuracy: 1.0000 - root_mean_squared_err\n",
      "Epoch 10/30\n",
      "200/200 [==============================] - 3s 15ms/step - loss: 0.0098 - accuracy: 1.0000 - root_mean_squared_error: 0.0990 - val_loss: 0.5273 - val_accuracy: 0.4526 - val_root_mean_squared_error: 0.7261 accuracy: 1.0000 - root_mean_squared_err - ETA: 0s - loss: 0.0095 - accuracy: 1.0000 - root_mean_squar\n",
      "Epoch 11/30\n",
      "200/200 [==============================] - 3s 15ms/step - loss: 0.0096 - accuracy: 1.0000 - root_mean_squared_error: 0.0980 - val_loss: 0.5311 - val_accuracy: 0.4526 - val_root_mean_squared_error: 0.7287e\n",
      "Epoch 12/30\n",
      "200/200 [==============================] - 3s 15ms/step - loss: 0.0086 - accuracy: 1.0000 - root_mean_squared_error: 0.0928 - val_loss: 0.5296 - val_accuracy: 0.4526 - val_root_mean_squared_error: 0.7277ean_squared_e\n",
      "Epoch 13/30\n",
      "200/200 [==============================] - 3s 15ms/step - loss: 0.0082 - accuracy: 1.0000 - root_mean_squared_error: 0.0907 - val_loss: 0.5350 - val_accuracy: 0.4526 - val_root_mean_squared_error: 0.7315\n",
      "Epoch 14/30\n",
      "200/200 [==============================] - 3s 15ms/step - loss: 0.0077 - accuracy: 1.0000 - root_mean_squared_error: 0.0875 - val_loss: 0.5360 - val_accuracy: 0.4526 - val_root_mean_squared_error: 0.7321\n",
      "Epoch 15/30\n",
      "200/200 [==============================] - 3s 15ms/step - loss: 0.0081 - accuracy: 1.0000 - root_mean_squared_error: 0.0901 - val_loss: 0.5363 - val_accuracy: 0.4526 - val_root_mean_squared_error: 0.7323uracy: 1.0000 - root_mean_s - ETA: 0s - loss: 0.0085 - accuracy: 1.0000 - r\n",
      "Epoch 16/30\n",
      "200/200 [==============================] - 3s 15ms/step - loss: 0.0070 - accuracy: 1.0000 - root_mean_squared_error: 0.0835 - val_loss: 0.5363 - val_accuracy: 0.4526 - val_root_mean_squared_error: 0.7323 1.0000 - root_mean_squared_error: 0.\n",
      "Epoch 17/30\n",
      "200/200 [==============================] - 3s 15ms/step - loss: 0.0065 - accuracy: 1.0000 - root_mean_squared_error: 0.0803 - val_loss: 0.5366 - val_accuracy: 0.4526 - val_root_mean_squared_error: 0.7325\n",
      "Epoch 18/30\n",
      "200/200 [==============================] - 3s 15ms/step - loss: 0.0056 - accuracy: 1.0000 - root_mean_squared_error: 0.0749 - val_loss: 0.5379 - val_accuracy: 0.4526 - val_root_mean_squared_error: 0.733461 \n",
      "Epoch 19/30\n",
      "200/200 [==============================] - 3s 15ms/step - loss: 0.0049 - accuracy: 1.0000 - root_mean_squared_error: 0.0702 - val_loss: 0.5402 - val_accuracy: 0.4526 - val_root_mean_squared_error: 0.7350acy: 1.0000 - root_mean_s - ETA: 0s - loss: 0.0050 - accuracy: 1.0000 - root_mean_squared_error: 0.07 - ETA: 0s - loss: 0.0050 - accuracy: 1.0000 - root_mean_squared_error: 0.07 - ETA: 0s - loss: 0.0050 - accuracy: 1.0000 - root_mean_squared_error: \n",
      "Epoch 20/30\n",
      "200/200 [==============================] - 3s 15ms/step - loss: 0.0042 - accuracy: 1.0000 - root_mean_squared_error: 0.0647 - val_loss: 0.5375 - val_accuracy: 0.4526 - val_root_mean_squared_error: 0.7331\n",
      "Epoch 21/30\n",
      "200/200 [==============================] - 3s 15ms/step - loss: 0.0030 - accuracy: 1.0000 - root_mean_squared_error: 0.0544 - val_loss: 0.5405 - val_accuracy: 0.4526 - val_root_mean_squared_error: 0.7352\n",
      "Epoch 22/30\n",
      "200/200 [==============================] - 3s 15ms/step - loss: 0.0022 - accuracy: 1.0000 - root_mean_squared_error: 0.0474 - val_loss: 0.5403 - val_accuracy: 0.4526 - val_root_mean_squared_error: 0.7350\n",
      "Epoch 23/30\n",
      "200/200 [==============================] - 3s 15ms/step - loss: 0.0015 - accuracy: 1.0000 - root_mean_squared_error: 0.0393 - val_loss: 0.5420 - val_accuracy: 0.4526 - val_root_mean_squared_error: 0.7362\n",
      "Epoch 24/30\n",
      "200/200 [==============================] - 3s 15ms/step - loss: 0.0012 - accuracy: 1.0000 - root_mean_squared_error: 0.0348 - val_loss: 0.5439 - val_accuracy: 0.4526 - val_root_mean_squared_error: 0.7375loss: 0.0013 - accuracy: 1.0000 - root_mean_squ\n",
      "Epoch 25/30\n",
      "200/200 [==============================] - 3s 15ms/step - loss: 8.9130e-04 - accuracy: 1.0000 - root_mean_squared_error: 0.0299 - val_loss: 0.5431 - val_accuracy: 0.4526 - val_root_mean_squared_error: 0.7369\n",
      "Epoch 26/30\n",
      "200/200 [==============================] - 3s 15ms/step - loss: 6.7662e-04 - accuracy: 1.0000 - root_mean_squared_error: 0.0260 - val_loss: 0.5446 - val_accuracy: 0.4526 - val_root_mean_squared_error: 0.7380\n",
      "Epoch 27/30\n",
      "200/200 [==============================] - 3s 15ms/step - loss: 4.8190e-04 - accuracy: 1.0000 - root_mean_squared_error: 0.0220 - val_loss: 0.5441 - val_accuracy: 0.4526 - val_root_mean_squared_error: 0.7376acy: 1.0000 - root_mean_squared_e - ETA: 0s - loss: 4.8273e-04 - accuracy: 1.0000 - roo - ETA: 0s - loss: 4.8949e-04 - accuracy: 1.0000 - root_mean_squared_error: \n",
      "Epoch 28/30\n",
      "200/200 [==============================] - 3s 15ms/step - loss: 4.2005e-04 - accuracy: 1.0000 - root_mean_squared_error: 0.0205 - val_loss: 0.5452 - val_accuracy: 0.4526 - val_root_mean_squared_error: 0.7384\n",
      "Epoch 29/30\n",
      "200/200 [==============================] - 3s 15ms/step - loss: 3.6981e-04 - accuracy: 1.0000 - root_mean_squared_error: 0.0192 - val_loss: 0.5454 - val_accuracy: 0.4526 - val_root_mean_squared_error: 0.7385\n",
      "Epoch 30/30\n",
      "200/200 [==============================] - 3s 15ms/step - loss: 2.8656e-04 - accuracy: 1.0000 - root_mean_squared_error: 0.0169 - val_loss: 0.5458 - val_accuracy: 0.4526 - val_root_mean_squared_error: 0.7388\n",
      "Epoch 1/30\n",
      "200/200 [==============================] - 4s 16ms/step - loss: 0.2467 - accuracy: 0.9052 - root_mean_squared_error: 0.4967 - val_loss: 0.2506 - val_accuracy: 0.4662 - val_root_mean_squared_error: 0.5006uared_error: 0.\n",
      "Epoch 2/30\n",
      "200/200 [==============================] - 3s 15ms/step - loss: 0.2123 - accuracy: 1.0000 - root_mean_squared_error: 0.4607 - val_loss: 0.2642 - val_accuracy: 0.4662 - val_root_mean_squared_error: 0.5140\n",
      "Epoch 3/30\n",
      "200/200 [==============================] - 3s 15ms/step - loss: 0.0950 - accuracy: 1.0000 - root_mean_squared_error: 0.3083 - val_loss: 0.3636 - val_accuracy: 0.4662 - val_root_mean_squared_error: 0.6030\n",
      "Epoch 4/30\n",
      "200/200 [==============================] - 3s 15ms/step - loss: 0.0289 - accuracy: 1.0000 - root_mean_squared_error: 0.1700 - val_loss: 0.4393 - val_accuracy: 0.4662 - val_root_mean_squared_error: 0.6628\n",
      "Epoch 5/30\n",
      "200/200 [==============================] - 3s 15ms/step - loss: 0.0174 - accuracy: 1.0000 - root_mean_squared_error: 0.1320 - val_loss: 0.4728 - val_accuracy: 0.4662 - val_root_mean_squared_error: 0.6876 accuracy: 1.0000\n",
      "Epoch 6/30\n",
      "200/200 [==============================] - 3s 15ms/step - loss: 0.0129 - accuracy: 1.0000 - root_mean_squared_error: 0.1137 - val_loss: 0.4877 - val_accuracy: 0.4662 - val_root_mean_squared_error: 0.6984\n",
      "Epoch 7/30\n",
      "200/200 [==============================] - 3s 15ms/step - loss: 0.0121 - accuracy: 1.0000 - root_mean_squared_error: 0.1102 - val_loss: 0.5018 - val_accuracy: 0.4662 - val_root_mean_squared_error: 0.7084\n",
      "Epoch 8/30\n",
      "200/200 [==============================] - 3s 15ms/step - loss: 0.0112 - accuracy: 1.0000 - root_mean_squared_error: 0.1059 - val_loss: 0.5063 - val_accuracy: 0.4662 - val_root_mean_squared_error: 0.7116\n",
      "Epoch 9/30\n"
     ]
    },
    {
     "name": "stdout",
     "output_type": "stream",
     "text": [
      "200/200 [==============================] - 3s 15ms/step - loss: 0.0102 - accuracy: 1.0000 - root_mean_squared_error: 0.1012 - val_loss: 0.5095 - val_accuracy: 0.4662 - val_root_mean_squared_error: 0.7138\n",
      "Epoch 10/30\n",
      "200/200 [==============================] - 3s 15ms/step - loss: 0.0101 - accuracy: 1.0000 - root_mean_squared_error: 0.1004 - val_loss: 0.5133 - val_accuracy: 0.4662 - val_root_mean_squared_error: 0.7165\n",
      "Epoch 11/30\n",
      "200/200 [==============================] - 3s 15ms/step - loss: 0.0094 - accuracy: 1.0000 - root_mean_squared_error: 0.0970 - val_loss: 0.5149 - val_accuracy: 0.4662 - val_root_mean_squared_error: 0.7175\n",
      "Epoch 12/30\n",
      "200/200 [==============================] - 3s 15ms/step - loss: 0.0092 - accuracy: 1.0000 - root_mean_squared_error: 0.0959 - val_loss: 0.5207 - val_accuracy: 0.4662 - val_root_mean_squared_error: 0.7216\n",
      "Epoch 13/30\n",
      "200/200 [==============================] - 3s 15ms/step - loss: 0.0085 - accuracy: 1.0000 - root_mean_squared_error: 0.0921 - val_loss: 0.5177 - val_accuracy: 0.4662 - val_root_mean_squared_error: 0.7195\n",
      "Epoch 14/30\n",
      "200/200 [==============================] - 3s 15ms/step - loss: 0.0079 - accuracy: 1.0000 - root_mean_squared_error: 0.0890 - val_loss: 0.5167 - val_accuracy: 0.4662 - val_root_mean_squared_error: 0.7188 - accuracy: 1.0000 - ETA: 0s - loss: 0.0079 - accuracy: 1.0000 - root_mean_squared_error: 0.08\n",
      "Epoch 15/30\n",
      "200/200 [==============================] - 3s 15ms/step - loss: 0.0078 - accuracy: 1.0000 - root_mean_squared_error: 0.0882 - val_loss: 0.5216 - val_accuracy: 0.4662 - val_root_mean_squared_error: 0.7222ccuracy: 1.00\n",
      "Epoch 16/30\n",
      "200/200 [==============================] - 3s 15ms/step - loss: 0.0072 - accuracy: 1.0000 - root_mean_squared_error: 0.0846 - val_loss: 0.5231 - val_accuracy: 0.4662 - val_root_mean_squared_error: 0.7232000 - root_mean - ETA: 0s - loss: 0.0073 - accuracy: 1.0000 - root_mean_squared_error: 0.\n",
      "Epoch 17/30\n",
      "200/200 [==============================] - 3s 15ms/step - loss: 0.0064 - accuracy: 1.0000 - root_mean_squared_error: 0.0800 - val_loss: 0.5272 - val_accuracy: 0.4662 - val_root_mean_squared_error: 0.7261\n",
      "Epoch 18/30\n",
      "200/200 [==============================] - 3s 15ms/step - loss: 0.0054 - accuracy: 1.0000 - root_mean_squared_error: 0.0736 - val_loss: 0.5245 - val_accuracy: 0.4662 - val_root_mean_squared_error: 0.7242\n",
      "Epoch 19/30\n",
      "200/200 [==============================] - 3s 15ms/step - loss: 0.0050 - accuracy: 1.0000 - root_mean_squared_error: 0.0710 - val_loss: 0.5257 - val_accuracy: 0.4662 - val_root_mean_squared_error: 0.7251\n",
      "Epoch 20/30\n",
      "200/200 [==============================] - 3s 15ms/step - loss: 0.0038 - accuracy: 1.0000 - root_mean_squared_error: 0.0618 - val_loss: 0.5273 - val_accuracy: 0.4662 - val_root_mean_squared_error: 0.7262\n",
      "Epoch 21/30\n",
      "200/200 [==============================] - 3s 15ms/step - loss: 0.0026 - accuracy: 1.0000 - root_mean_squared_error: 0.0511 - val_loss: 0.5271 - val_accuracy: 0.4662 - val_root_mean_squared_error: 0.7260\n",
      "Epoch 22/30\n",
      "200/200 [==============================] - 3s 15ms/step - loss: 0.0018 - accuracy: 1.0000 - root_mean_squared_error: 0.0421 - val_loss: 0.5283 - val_accuracy: 0.4662 - val_root_mean_squared_error: 0.7269\n",
      "Epoch 23/30\n",
      "200/200 [==============================] - 3s 15ms/step - loss: 0.0011 - accuracy: 1.0000 - root_mean_squared_error: 0.0339 - val_loss: 0.5275 - val_accuracy: 0.4662 - val_root_mean_squared_error: 0.7263ot_mean_squar - ETA: 0s - loss: 0.0012 - accuracy: 1.0000 - root_mean_squared_error - ETA: 0s - loss: 0.0012 - accuracy: 1.0000 - root_mean_squared_e - ETA: 0s - loss: 0.0012 - accuracy: 1.0000 - root_mean_squared_error: 0.\n",
      "Epoch 24/30\n",
      "200/200 [==============================] - 3s 15ms/step - loss: 8.6672e-04 - accuracy: 1.0000 - root_mean_squared_error: 0.0294 - val_loss: 0.5307 - val_accuracy: 0.4662 - val_root_mean_squared_error: 0.7285e-04 - accuracy: 1.0000 - root_mean_squ\n",
      "Epoch 25/30\n",
      "200/200 [==============================] - 3s 15ms/step - loss: 6.3808e-04 - accuracy: 1.0000 - root_mean_squared_error: 0.0253 - val_loss: 0.5305 - val_accuracy: 0.4662 - val_root_mean_squared_error: 0.7283ccuracy: 1.0000 - root_mean_squared - ETA: 0s - loss: 6.7203e-04 - accuracy: 1.0000 - root_mean_squared_error - ETA: 0s - loss: 6.5022e-04 - accuracy: 1.0000 - root_mean_squared - ETA: 0s - loss: 6.2799e-04 - accuracy: 1.0000 - root_mean_squared_error: \n",
      "Epoch 26/30\n",
      "200/200 [==============================] - 3s 15ms/step - loss: 5.2874e-04 - accuracy: 1.0000 - root_mean_squared_error: 0.0230 - val_loss: 0.5308 - val_accuracy: 0.4662 - val_root_mean_squared_error: 0.7286\n",
      "Epoch 27/30\n",
      "200/200 [==============================] - 3s 15ms/step - loss: 4.1533e-04 - accuracy: 1.0000 - root_mean_squared_error: 0.0204 - val_loss: 0.5313 - val_accuracy: 0.4662 - val_root_mean_squared_error: 0.7289 accuracy: 1.0000 - root_mean_squared_err - ETA: 0s - loss: 4.2816e-04 - accuracy: 1.0000 - roo\n",
      "Epoch 28/30\n",
      "200/200 [==============================] - 3s 15ms/step - loss: 3.7089e-04 - accuracy: 1.0000 - root_mean_squared_error: 0.0193 - val_loss: 0.5314 - val_accuracy: 0.4662 - val_root_mean_squared_error: 0.7290ss: 4.6026e-04 - accura - ETA: 0s - loss: 3.8674e-04 - accuracy: 1.0000 - root_mean_s\n",
      "Epoch 29/30\n",
      "200/200 [==============================] - 3s 15ms/step - loss: 2.9869e-04 - accuracy: 1.0000 - root_mean_squared_error: 0.0173 - val_loss: 0.5320 - val_accuracy: 0.4662 - val_root_mean_squared_error: 0.7294ss: 2.9190e-04 - \n",
      "Epoch 30/30\n",
      "200/200 [==============================] - 3s 15ms/step - loss: 2.5257e-04 - accuracy: 1.0000 - root_mean_squared_error: 0.0159 - val_loss: 0.5319 - val_accuracy: 0.4662 - val_root_mean_squared_error: 0.7293 - accuracy: 1.0000 - root_mean_squared\n",
      "Epoch 1/30\n",
      "200/200 [==============================] - 4s 15ms/step - loss: 0.2488 - accuracy: 0.7728 - root_mean_squared_error: 0.4988 - val_loss: 0.2503 - val_accuracy: 0.4638 - val_root_mean_squared_error: 0.5003 0.5816 - - ETA: 0s - loss: 0.2490 - accuracy: 0.7543 - root_mean_squared_error\n",
      "Epoch 2/30\n",
      "200/200 [==============================] - 3s 14ms/step - loss: 0.2287 - accuracy: 1.0000 - root_mean_squared_error: 0.4783 - val_loss: 0.2573 - val_accuracy: 0.4638 - val_root_mean_squared_error: 0.5072\n",
      "Epoch 3/30\n",
      "200/200 [==============================] - 3s 14ms/step - loss: 0.1304 - accuracy: 1.0000 - root_mean_squared_error: 0.3611 - val_loss: 0.3363 - val_accuracy: 0.4638 - val_root_mean_squared_error: 0.5799\n",
      "Epoch 4/30\n",
      "200/200 [==============================] - 3s 14ms/step - loss: 0.0386 - accuracy: 1.0000 - root_mean_squared_error: 0.1964 - val_loss: 0.4324 - val_accuracy: 0.4638 - val_root_mean_squared_error: 0.6576\n",
      "Epoch 5/30\n",
      "200/200 [==============================] - 3s 14ms/step - loss: 0.0198 - accuracy: 1.0000 - root_mean_squared_error: 0.1406 - val_loss: 0.4732 - val_accuracy: 0.4638 - val_root_mean_squared_error: 0.6879000 - root_mean_squared_error\n",
      "Epoch 6/30\n",
      "200/200 [==============================] - 3s 14ms/step - loss: 0.0156 - accuracy: 1.0000 - root_mean_squared_error: 0.1250 - val_loss: 0.4936 - val_accuracy: 0.4638 - val_root_mean_squared_error: 0.7026\n",
      "Epoch 7/30\n",
      "200/200 [==============================] - 3s 14ms/step - loss: 0.0125 - accuracy: 1.0000 - root_mean_squared_error: 0.1119 - val_loss: 0.5000 - val_accuracy: 0.4638 - val_root_mean_squared_error: 0.7071\n",
      "Epoch 8/30\n",
      "200/200 [==============================] - 3s 14ms/step - loss: 0.0110 - accuracy: 1.0000 - root_mean_squared_error: 0.1049 - val_loss: 0.5064 - val_accuracy: 0.4638 - val_root_mean_squared_error: 0.7116\n",
      "Epoch 9/30\n",
      "200/200 [==============================] - 3s 14ms/step - loss: 0.0108 - accuracy: 1.0000 - root_mean_squared_error: 0.1039 - val_loss: 0.5118 - val_accuracy: 0.4638 - val_root_mean_squared_error: 0.7154\n",
      "Epoch 10/30\n",
      "200/200 [==============================] - 3s 14ms/step - loss: 0.0092 - accuracy: 1.0000 - root_mean_squared_error: 0.0958 - val_loss: 0.5229 - val_accuracy: 0.4638 - val_root_mean_squared_error: 0.7231\n",
      "Epoch 11/30\n",
      "200/200 [==============================] - 3s 14ms/step - loss: 0.0092 - accuracy: 1.0000 - root_mean_squared_error: 0.0958 - val_loss: 0.5284 - val_accuracy: 0.4638 - val_root_mean_squared_error: 0.7269\n",
      "Epoch 12/30\n"
     ]
    },
    {
     "name": "stdout",
     "output_type": "stream",
     "text": [
      "200/200 [==============================] - 3s 14ms/step - loss: 0.0085 - accuracy: 1.0000 - root_mean_squared_error: 0.0922 - val_loss: 0.5222 - val_accuracy: 0.4638 - val_root_mean_squared_error: 0.7226\n",
      "Epoch 13/30\n",
      "200/200 [==============================] - 3s 14ms/step - loss: 0.0081 - accuracy: 1.0000 - root_mean_squared_error: 0.0901 - val_loss: 0.5273 - val_accuracy: 0.4638 - val_root_mean_squared_error: 0.7261\n",
      "Epoch 14/30\n",
      "200/200 [==============================] - 3s 14ms/step - loss: 0.0075 - accuracy: 1.0000 - root_mean_squared_error: 0.0865 - val_loss: 0.5278 - val_accuracy: 0.4638 - val_root_mean_squared_error: 0.7265\n",
      "Epoch 15/30\n",
      "200/200 [==============================] - 3s 14ms/step - loss: 0.0072 - accuracy: 1.0000 - root_mean_squared_error: 0.0849 - val_loss: 0.5316 - val_accuracy: 0.4638 - val_root_mean_squared_error: 0.7291\n",
      "Epoch 16/30\n",
      "200/200 [==============================] - 3s 14ms/step - loss: 0.0068 - accuracy: 1.0000 - root_mean_squared_error: 0.0825 - val_loss: 0.5280 - val_accuracy: 0.4638 - val_root_mean_squared_error: 0.7266\n",
      "Epoch 17/30\n",
      "200/200 [==============================] - 3s 14ms/step - loss: 0.0063 - accuracy: 1.0000 - root_mean_squared_error: 0.0792 - val_loss: 0.5287 - val_accuracy: 0.4638 - val_root_mean_squared_error: 0.7271\n",
      "Epoch 18/30\n",
      "200/200 [==============================] - 3s 14ms/step - loss: 0.0054 - accuracy: 1.0000 - root_mean_squared_error: 0.0733 - val_loss: 0.5328 - val_accuracy: 0.4638 - val_root_mean_squared_error: 0.7299n_squared_e - ETA: 0s - loss: 0.0054 - accuracy: 1.0000 - root_mean_s\n",
      "Epoch 19/30\n",
      "200/200 [==============================] - 3s 14ms/step - loss: 0.0048 - accuracy: 1.0000 - root_mean_squared_error: 0.0695 - val_loss: 0.5262 - val_accuracy: 0.4638 - val_root_mean_squared_error: 0.7254e\n",
      "Epoch 20/30\n",
      "200/200 [==============================] - 3s 14ms/step - loss: 0.0042 - accuracy: 1.0000 - root_mean_squared_error: 0.0645 - val_loss: 0.5330 - val_accuracy: 0.4638 - val_root_mean_squared_error: 0.7300\n",
      "Epoch 21/30\n",
      "200/200 [==============================] - 3s 14ms/step - loss: 0.0029 - accuracy: 1.0000 - root_mean_squared_error: 0.0538 - val_loss: 0.5294 - val_accuracy: 0.4638 - val_root_mean_squared_error: 0.7276root_\n",
      "Epoch 22/30\n",
      "200/200 [==============================] - 3s 14ms/step - loss: 0.0021 - accuracy: 1.0000 - root_mean_squared_error: 0.0460 - val_loss: 0.5334 - val_accuracy: 0.4638 - val_root_mean_squared_error: 0.7303\n",
      "Epoch 23/30\n",
      "200/200 [==============================] - 3s 14ms/step - loss: 0.0015 - accuracy: 1.0000 - root_mean_squared_error: 0.0387 - val_loss: 0.5310 - val_accuracy: 0.4638 - val_root_mean_squared_error: 0.7287uracy: 1.00\n",
      "Epoch 24/30\n",
      "200/200 [==============================] - 3s 15ms/step - loss: 0.0012 - accuracy: 1.0000 - root_mean_squared_error: 0.0339 - val_loss: 0.5331 - val_accuracy: 0.4638 - val_root_mean_squared_error: 0.7301\n",
      "Epoch 25/30\n",
      "200/200 [==============================] - 3s 15ms/step - loss: 8.1330e-04 - accuracy: 1.0000 - root_mean_squared_error: 0.0285 - val_loss: 0.5338 - val_accuracy: 0.4638 - val_root_mean_squared_error: 0.7306\n",
      "Epoch 26/30\n",
      "200/200 [==============================] - 3s 14ms/step - loss: 6.3482e-04 - accuracy: 1.0000 - root_mean_squared_error: 0.0252 - val_loss: 0.5326 - val_accuracy: 0.4638 - val_root_mean_squared_error: 0.7298uracy: 1.0000 - root_ - ETA: 0s - loss: 6.6590e-04 - accuracy: 1.0000 - root_mean_squared_error: 0.02 - ETA: 0s - loss: 6.7675e-04 - accuracy: 1.0000 - root_mean_s\n",
      "Epoch 27/30\n",
      "200/200 [==============================] - 3s 14ms/step - loss: 4.8799e-04 - accuracy: 1.0000 - root_mean_squared_error: 0.0221 - val_loss: 0.5326 - val_accuracy: 0.4638 - val_root_mean_squared_error: 0.7298loss: 5.0688e-04 - accuracy: 1.00\n",
      "Epoch 28/30\n",
      "200/200 [==============================] - 3s 14ms/step - loss: 4.2253e-04 - accuracy: 1.0000 - root_mean_squared_error: 0.0206 - val_loss: 0.5349 - val_accuracy: 0.4638 - val_root_mean_squared_error: 0.7314 - accuracy: 1.0000 - r - ETA: 0s - loss: 4.3521e-04 - accuracy: 1.0000 - root_me\n",
      "Epoch 29/30\n",
      "200/200 [==============================] - 3s 14ms/step - loss: 3.8045e-04 - accuracy: 1.0000 - root_mean_squared_error: 0.0195 - val_loss: 0.5345 - val_accuracy: 0.4638 - val_root_mean_squared_error: 0.7311\n",
      "Epoch 30/30\n",
      "200/200 [==============================] - 3s 14ms/step - loss: 3.0025e-04 - accuracy: 1.0000 - root_mean_squared_error: 0.0173 - val_loss: 0.5338 - val_accuracy: 0.4638 - val_root_mean_squared_error: 0.7306uracy: 1.0000 - root_mean_squared_error: 0. - ETA: 0s - loss: 3.0515e-04 - accuracy: 1.0000 - root_mean_squared_e\n"
     ]
    },
    {
     "data": {
      "text/html": [
       "<div>\n",
       "<style scoped>\n",
       "    .dataframe tbody tr th:only-of-type {\n",
       "        vertical-align: middle;\n",
       "    }\n",
       "\n",
       "    .dataframe tbody tr th {\n",
       "        vertical-align: top;\n",
       "    }\n",
       "\n",
       "    .dataframe thead th {\n",
       "        text-align: right;\n",
       "    }\n",
       "</style>\n",
       "<table border=\"1\" class=\"dataframe\">\n",
       "  <thead>\n",
       "    <tr style=\"text-align: right;\">\n",
       "      <th></th>\n",
       "      <th>0</th>\n",
       "      <th>1</th>\n",
       "      <th>2</th>\n",
       "      <th>3</th>\n",
       "    </tr>\n",
       "  </thead>\n",
       "  <tbody>\n",
       "    <tr>\n",
       "      <th>loss</th>\n",
       "      <td>[0.24609646201133728, 0.21247047185897827, 0.1...</td>\n",
       "      <td>[0.2465948462486267, 0.21447797119617462, 0.10...</td>\n",
       "      <td>[0.2466634213924408, 0.21225105226039886, 0.09...</td>\n",
       "      <td>[0.2487950176000595, 0.2287336140871048, 0.130...</td>\n",
       "    </tr>\n",
       "    <tr>\n",
       "      <th>accuracy</th>\n",
       "      <td>[0.9631933569908142, 1.0, 1.0, 1.0, 1.0, 1.0, ...</td>\n",
       "      <td>[0.9424804449081421, 1.0, 1.0, 1.0, 1.0, 1.0, ...</td>\n",
       "      <td>[0.9052392840385437, 1.0, 1.0, 1.0, 1.0, 1.0, ...</td>\n",
       "      <td>[0.7727636694908142, 1.0, 1.0, 1.0, 1.0, 1.0, ...</td>\n",
       "    </tr>\n",
       "    <tr>\n",
       "      <th>root_mean_squared_error</th>\n",
       "      <td>[0.49608108401298523, 0.460945188999176, 0.321...</td>\n",
       "      <td>[0.49658316373825073, 0.46311765909194946, 0.3...</td>\n",
       "      <td>[0.496652215719223, 0.4607071280479431, 0.3082...</td>\n",
       "      <td>[0.4987935721874237, 0.4782610237598419, 0.361...</td>\n",
       "    </tr>\n",
       "    <tr>\n",
       "      <th>val_loss</th>\n",
       "      <td>[0.25095686316490173, 0.26507267355918884, 0.3...</td>\n",
       "      <td>[0.2508987784385681, 0.2645763158798218, 0.366...</td>\n",
       "      <td>[0.25056546926498413, 0.26415106654167175, 0.3...</td>\n",
       "      <td>[0.2503221333026886, 0.257272332906723, 0.3362...</td>\n",
       "    </tr>\n",
       "    <tr>\n",
       "      <th>val_accuracy</th>\n",
       "      <td>[0.4583333432674408, 0.4583333432674408, 0.458...</td>\n",
       "      <td>[0.4526209533214569, 0.4526209533214569, 0.452...</td>\n",
       "      <td>[0.46621620655059814, 0.46621620655059814, 0.4...</td>\n",
       "      <td>[0.4638157784938812, 0.4638157784938812, 0.463...</td>\n",
       "    </tr>\n",
       "    <tr>\n",
       "      <th>val_root_mean_squared_error</th>\n",
       "      <td>[0.5009559392929077, 0.5148520469665527, 0.601...</td>\n",
       "      <td>[0.5008979439735413, 0.5143698453903198, 0.605...</td>\n",
       "      <td>[0.5005651116371155, 0.5139562487602234, 0.603...</td>\n",
       "      <td>[0.5003219842910767, 0.5072202086448669, 0.579...</td>\n",
       "    </tr>\n",
       "  </tbody>\n",
       "</table>\n",
       "</div>"
      ],
      "text/plain": [
       "                                                                             0  \\\n",
       "loss                         [0.24609646201133728, 0.21247047185897827, 0.1...   \n",
       "accuracy                     [0.9631933569908142, 1.0, 1.0, 1.0, 1.0, 1.0, ...   \n",
       "root_mean_squared_error      [0.49608108401298523, 0.460945188999176, 0.321...   \n",
       "val_loss                     [0.25095686316490173, 0.26507267355918884, 0.3...   \n",
       "val_accuracy                 [0.4583333432674408, 0.4583333432674408, 0.458...   \n",
       "val_root_mean_squared_error  [0.5009559392929077, 0.5148520469665527, 0.601...   \n",
       "\n",
       "                                                                             1  \\\n",
       "loss                         [0.2465948462486267, 0.21447797119617462, 0.10...   \n",
       "accuracy                     [0.9424804449081421, 1.0, 1.0, 1.0, 1.0, 1.0, ...   \n",
       "root_mean_squared_error      [0.49658316373825073, 0.46311765909194946, 0.3...   \n",
       "val_loss                     [0.2508987784385681, 0.2645763158798218, 0.366...   \n",
       "val_accuracy                 [0.4526209533214569, 0.4526209533214569, 0.452...   \n",
       "val_root_mean_squared_error  [0.5008979439735413, 0.5143698453903198, 0.605...   \n",
       "\n",
       "                                                                             2  \\\n",
       "loss                         [0.2466634213924408, 0.21225105226039886, 0.09...   \n",
       "accuracy                     [0.9052392840385437, 1.0, 1.0, 1.0, 1.0, 1.0, ...   \n",
       "root_mean_squared_error      [0.496652215719223, 0.4607071280479431, 0.3082...   \n",
       "val_loss                     [0.25056546926498413, 0.26415106654167175, 0.3...   \n",
       "val_accuracy                 [0.46621620655059814, 0.46621620655059814, 0.4...   \n",
       "val_root_mean_squared_error  [0.5005651116371155, 0.5139562487602234, 0.603...   \n",
       "\n",
       "                                                                             3  \n",
       "loss                         [0.2487950176000595, 0.2287336140871048, 0.130...  \n",
       "accuracy                     [0.7727636694908142, 1.0, 1.0, 1.0, 1.0, 1.0, ...  \n",
       "root_mean_squared_error      [0.4987935721874237, 0.4782610237598419, 0.361...  \n",
       "val_loss                     [0.2503221333026886, 0.257272332906723, 0.3362...  \n",
       "val_accuracy                 [0.4638157784938812, 0.4638157784938812, 0.463...  \n",
       "val_root_mean_squared_error  [0.5003219842910767, 0.5072202086448669, 0.579...  "
      ]
     },
     "execution_count": 15,
     "metadata": {},
     "output_type": "execute_result"
    }
   ],
   "source": [
    "cnn1D_encoder_result = {}\n",
    "for i in range(NFOLD-1):\n",
    "    autoencoder = Autoencoder()\n",
    "    autoencoder.compile(optimizer = tfk.optimizers.Adam(learning_rate=1e-6), \n",
    "                        metrics = ['accuracy', \n",
    "                                   tfk.metrics.RootMeanSquaredError(),\n",
    "                                  ],\n",
    "                        loss = tfk.losses.MeanSquaredError(reduction= tfk.losses.Reduction.SUM_OVER_BATCH_SIZE)\n",
    "                       )\n",
    "    train_dataset, val_dataset, test_dataset = get_train_and_val_for_fold(folded_datasets=folded_datasets,fold = i)   \n",
    "    \n",
    "    result = autoencoder.fit(train_dataset, epochs= EPOCHS,steps_per_epoch = STEPS_PER_EPOCH,validation_data= val_dataset,)\n",
    "    \n",
    "    cnn1D_encoder_result[i] = result.history\n",
    "\n",
    "pd.DataFrame(cnn1D_encoder_result)"
   ]
  },
  {
   "cell_type": "code",
   "execution_count": 16,
   "id": "2ea41f5d",
   "metadata": {
    "scrolled": false
   },
   "outputs": [
    {
     "name": "stdout",
     "output_type": "stream",
     "text": [
      "Epoch 1/30\n",
      "200/200 [==============================] - 2s 7ms/step - loss: 0.2122 - accuracy: 0.9994 - root_mean_squared_error: 0.4607 - val_loss: 0.2575 - val_accuracy: 0.4583 - val_root_mean_squared_error: 0.5075\n",
      "Epoch 2/30\n",
      "200/200 [==============================] - 1s 7ms/step - loss: 0.1896 - accuracy: 1.0000 - root_mean_squared_error: 0.4354 - val_loss: 0.2638 - val_accuracy: 0.4583 - val_root_mean_squared_error: 0.5136\n",
      "Epoch 3/30\n",
      "200/200 [==============================] - 1s 7ms/step - loss: 0.1648 - accuracy: 1.0000 - root_mean_squared_error: 0.4059 - val_loss: 0.2726 - val_accuracy: 0.4583 - val_root_mean_squared_error: 0.5221\n",
      "Epoch 4/30\n",
      "200/200 [==============================] - 1s 7ms/step - loss: 0.1388 - accuracy: 1.0000 - root_mean_squared_error: 0.3725 - val_loss: 0.2859 - val_accuracy: 0.4583 - val_root_mean_squared_error: 0.5347\n",
      "Epoch 5/30\n",
      "200/200 [==============================] - 1s 7ms/step - loss: 0.1134 - accuracy: 1.0000 - root_mean_squared_error: 0.3367 - val_loss: 0.3009 - val_accuracy: 0.4583 - val_root_mean_squared_error: 0.5485\n",
      "Epoch 6/30\n",
      "200/200 [==============================] - 1s 7ms/step - loss: 0.0899 - accuracy: 1.0000 - root_mean_squared_error: 0.2998 - val_loss: 0.3242 - val_accuracy: 0.4583 - val_root_mean_squared_error: 0.5694\n",
      "Epoch 7/30\n",
      "200/200 [==============================] - 1s 7ms/step - loss: 0.0693 - accuracy: 1.0000 - root_mean_squared_error: 0.2632 - val_loss: 0.3427 - val_accuracy: 0.4583 - val_root_mean_squared_error: 0.5854\n",
      "Epoch 8/30\n",
      "200/200 [==============================] - 1s 7ms/step - loss: 0.0526 - accuracy: 1.0000 - root_mean_squared_error: 0.2292 - val_loss: 0.3657 - val_accuracy: 0.4583 - val_root_mean_squared_error: 0.6048\n",
      "Epoch 9/30\n",
      "200/200 [==============================] - 1s 7ms/step - loss: 0.0419 - accuracy: 1.0000 - root_mean_squared_error: 0.2046 - val_loss: 0.3917 - val_accuracy: 0.4583 - val_root_mean_squared_error: 0.6259\n",
      "Epoch 10/30\n",
      "200/200 [==============================] - 1s 7ms/step - loss: 0.0323 - accuracy: 1.0000 - root_mean_squared_error: 0.1798 - val_loss: 0.4021 - val_accuracy: 0.4583 - val_root_mean_squared_error: 0.6341\n",
      "Epoch 11/30\n",
      "200/200 [==============================] - 1s 7ms/step - loss: 0.0268 - accuracy: 1.0000 - root_mean_squared_error: 0.1636 - val_loss: 0.4239 - val_accuracy: 0.4583 - val_root_mean_squared_error: 0.6511\n",
      "Epoch 12/30\n",
      "200/200 [==============================] - 1s 7ms/step - loss: 0.0213 - accuracy: 1.0000 - root_mean_squared_error: 0.1459 - val_loss: 0.4351 - val_accuracy: 0.4583 - val_root_mean_squared_error: 0.6596\n",
      "Epoch 13/30\n",
      "200/200 [==============================] - 1s 7ms/step - loss: 0.0179 - accuracy: 1.0000 - root_mean_squared_error: 0.1337 - val_loss: 0.4489 - val_accuracy: 0.4583 - val_root_mean_squared_error: 0.6700\n",
      "Epoch 14/30\n",
      "200/200 [==============================] - 1s 7ms/step - loss: 0.0155 - accuracy: 1.0000 - root_mean_squared_error: 0.1244 - val_loss: 0.4548 - val_accuracy: 0.4583 - val_root_mean_squared_error: 0.6744\n",
      "Epoch 15/30\n",
      "200/200 [==============================] - 1s 7ms/step - loss: 0.0142 - accuracy: 1.0000 - root_mean_squared_error: 0.1191 - val_loss: 0.4636 - val_accuracy: 0.4583 - val_root_mean_squared_error: 0.6809\n",
      "Epoch 16/30\n",
      "200/200 [==============================] - 1s 7ms/step - loss: 0.0131 - accuracy: 1.0000 - root_mean_squared_error: 0.1143 - val_loss: 0.4753 - val_accuracy: 0.4583 - val_root_mean_squared_error: 0.6894\n",
      "Epoch 17/30\n",
      "200/200 [==============================] - 1s 7ms/step - loss: 0.0117 - accuracy: 1.0000 - root_mean_squared_error: 0.1083 - val_loss: 0.4863 - val_accuracy: 0.4583 - val_root_mean_squared_error: 0.6973\n",
      "Epoch 18/30\n",
      "200/200 [==============================] - 1s 7ms/step - loss: 0.0111 - accuracy: 1.0000 - root_mean_squared_error: 0.1055 - val_loss: 0.4883 - val_accuracy: 0.4583 - val_root_mean_squared_error: 0.6988\n",
      "Epoch 19/30\n",
      "200/200 [==============================] - 1s 7ms/step - loss: 0.0109 - accuracy: 1.0000 - root_mean_squared_error: 0.1045 - val_loss: 0.4922 - val_accuracy: 0.4583 - val_root_mean_squared_error: 0.7016\n",
      "Epoch 20/30\n",
      "200/200 [==============================] - 1s 7ms/step - loss: 0.0109 - accuracy: 1.0000 - root_mean_squared_error: 0.1044 - val_loss: 0.4967 - val_accuracy: 0.4583 - val_root_mean_squared_error: 0.7047\n",
      "Epoch 21/30\n",
      "200/200 [==============================] - 1s 7ms/step - loss: 0.0102 - accuracy: 1.0000 - root_mean_squared_error: 0.1011 - val_loss: 0.5028 - val_accuracy: 0.4583 - val_root_mean_squared_error: 0.7091\n",
      "Epoch 22/30\n",
      "200/200 [==============================] - 1s 7ms/step - loss: 0.0101 - accuracy: 1.0000 - root_mean_squared_error: 0.1005 - val_loss: 0.5111 - val_accuracy: 0.4583 - val_root_mean_squared_error: 0.7149\n",
      "Epoch 23/30\n",
      "200/200 [==============================] - 1s 7ms/step - loss: 0.0100 - accuracy: 1.0000 - root_mean_squared_error: 0.0999 - val_loss: 0.5063 - val_accuracy: 0.4583 - val_root_mean_squared_error: 0.7115\n",
      "Epoch 24/30\n",
      "200/200 [==============================] - 1s 7ms/step - loss: 0.0094 - accuracy: 1.0000 - root_mean_squared_error: 0.0969 - val_loss: 0.5096 - val_accuracy: 0.4583 - val_root_mean_squared_error: 0.7139\n",
      "Epoch 25/30\n",
      "200/200 [==============================] - 1s 7ms/step - loss: 0.0092 - accuracy: 1.0000 - root_mean_squared_error: 0.0958 - val_loss: 0.5134 - val_accuracy: 0.4583 - val_root_mean_squared_error: 0.7165\n",
      "Epoch 26/30\n",
      "200/200 [==============================] - 1s 7ms/step - loss: 0.0095 - accuracy: 1.0000 - root_mean_squared_error: 0.0973 - val_loss: 0.5146 - val_accuracy: 0.4583 - val_root_mean_squared_error: 0.7174\n",
      "Epoch 27/30\n",
      "200/200 [==============================] - 1s 7ms/step - loss: 0.0086 - accuracy: 1.0000 - root_mean_squared_error: 0.0926 - val_loss: 0.5246 - val_accuracy: 0.4583 - val_root_mean_squared_error: 0.7243\n",
      "Epoch 28/30\n",
      "200/200 [==============================] - 1s 7ms/step - loss: 0.0093 - accuracy: 1.0000 - root_mean_squared_error: 0.0963 - val_loss: 0.5205 - val_accuracy: 0.4583 - val_root_mean_squared_error: 0.7215\n",
      "Epoch 29/30\n",
      "200/200 [==============================] - 1s 7ms/step - loss: 0.0088 - accuracy: 1.0000 - root_mean_squared_error: 0.0938 - val_loss: 0.5209 - val_accuracy: 0.4583 - val_root_mean_squared_error: 0.7217\n",
      "Epoch 30/30\n",
      "200/200 [==============================] - 1s 7ms/step - loss: 0.0092 - accuracy: 1.0000 - root_mean_squared_error: 0.0958 - val_loss: 0.5168 - val_accuracy: 0.4583 - val_root_mean_squared_error: 0.7189\n",
      "Epoch 1/30\n",
      "200/200 [==============================] - 2s 7ms/step - loss: 0.2081 - accuracy: 0.9998 - root_mean_squared_error: 0.4562 - val_loss: 0.2594 - val_accuracy: 0.4526 - val_root_mean_squared_error: 0.5093\n",
      "Epoch 2/30\n",
      "200/200 [==============================] - 1s 7ms/step - loss: 0.1869 - accuracy: 1.0000 - root_mean_squared_error: 0.4324 - val_loss: 0.2647 - val_accuracy: 0.4526 - val_root_mean_squared_error: 0.5145\n",
      "Epoch 3/30\n",
      "200/200 [==============================] - 1s 7ms/step - loss: 0.1623 - accuracy: 1.0000 - root_mean_squared_error: 0.4029 - val_loss: 0.2759 - val_accuracy: 0.4526 - val_root_mean_squared_error: 0.5253\n",
      "Epoch 4/30\n",
      "200/200 [==============================] - 1s 7ms/step - loss: 0.1354 - accuracy: 1.0000 - root_mean_squared_error: 0.3679 - val_loss: 0.2920 - val_accuracy: 0.4526 - val_root_mean_squared_error: 0.5404\n",
      "Epoch 5/30\n",
      "200/200 [==============================] - 1s 7ms/step - loss: 0.1065 - accuracy: 1.0000 - root_mean_squared_error: 0.3263 - val_loss: 0.3119 - val_accuracy: 0.4526 - val_root_mean_squared_error: 0.5585\n",
      "Epoch 6/30\n",
      "200/200 [==============================] - 1s 7ms/step - loss: 0.0811 - accuracy: 1.0000 - root_mean_squared_error: 0.2848 - val_loss: 0.3381 - val_accuracy: 0.4526 - val_root_mean_squared_error: 0.5815\n",
      "Epoch 7/30\n",
      "200/200 [==============================] - 1s 7ms/step - loss: 0.0607 - accuracy: 1.0000 - root_mean_squared_error: 0.2464 - val_loss: 0.3627 - val_accuracy: 0.4526 - val_root_mean_squared_error: 0.6023\n",
      "Epoch 8/30\n",
      "200/200 [==============================] - 1s 7ms/step - loss: 0.0462 - accuracy: 1.0000 - root_mean_squared_error: 0.2150 - val_loss: 0.3820 - val_accuracy: 0.4526 - val_root_mean_squared_error: 0.6181\n",
      "Epoch 9/30\n"
     ]
    },
    {
     "name": "stdout",
     "output_type": "stream",
     "text": [
      "200/200 [==============================] - 1s 7ms/step - loss: 0.0359 - accuracy: 1.0000 - root_mean_squared_error: 0.1896 - val_loss: 0.4058 - val_accuracy: 0.4526 - val_root_mean_squared_error: 0.6370\n",
      "Epoch 10/30\n",
      "200/200 [==============================] - 1s 7ms/step - loss: 0.0284 - accuracy: 1.0000 - root_mean_squared_error: 0.1687 - val_loss: 0.4244 - val_accuracy: 0.4526 - val_root_mean_squared_error: 0.6515\n",
      "Epoch 11/30\n",
      "200/200 [==============================] - 1s 7ms/step - loss: 0.0231 - accuracy: 1.0000 - root_mean_squared_error: 0.1520 - val_loss: 0.4367 - val_accuracy: 0.4526 - val_root_mean_squared_error: 0.6608\n",
      "Epoch 12/30\n",
      "200/200 [==============================] - 1s 7ms/step - loss: 0.0207 - accuracy: 1.0000 - root_mean_squared_error: 0.1439 - val_loss: 0.4529 - val_accuracy: 0.4526 - val_root_mean_squared_error: 0.6730\n",
      "Epoch 13/30\n",
      "200/200 [==============================] - 1s 7ms/step - loss: 0.0169 - accuracy: 1.0000 - root_mean_squared_error: 0.1301 - val_loss: 0.4612 - val_accuracy: 0.4526 - val_root_mean_squared_error: 0.6791\n",
      "Epoch 14/30\n",
      "200/200 [==============================] - 1s 7ms/step - loss: 0.0160 - accuracy: 1.0000 - root_mean_squared_error: 0.1264 - val_loss: 0.4757 - val_accuracy: 0.4526 - val_root_mean_squared_error: 0.6897\n",
      "Epoch 15/30\n",
      "200/200 [==============================] - 1s 7ms/step - loss: 0.0128 - accuracy: 1.0000 - root_mean_squared_error: 0.1130 - val_loss: 0.4794 - val_accuracy: 0.4526 - val_root_mean_squared_error: 0.6924\n",
      "Epoch 16/30\n",
      "200/200 [==============================] - 1s 7ms/step - loss: 0.0123 - accuracy: 1.0000 - root_mean_squared_error: 0.1109 - val_loss: 0.4921 - val_accuracy: 0.4526 - val_root_mean_squared_error: 0.7015\n",
      "Epoch 17/30\n",
      "200/200 [==============================] - 1s 7ms/step - loss: 0.0124 - accuracy: 1.0000 - root_mean_squared_error: 0.1112 - val_loss: 0.4954 - val_accuracy: 0.4526 - val_root_mean_squared_error: 0.7039\n",
      "Epoch 18/30\n",
      "200/200 [==============================] - 1s 7ms/step - loss: 0.0111 - accuracy: 1.0000 - root_mean_squared_error: 0.1054 - val_loss: 0.4977 - val_accuracy: 0.4526 - val_root_mean_squared_error: 0.7055\n",
      "Epoch 19/30\n",
      "200/200 [==============================] - 1s 7ms/step - loss: 0.0114 - accuracy: 1.0000 - root_mean_squared_error: 0.1069 - val_loss: 0.5087 - val_accuracy: 0.4526 - val_root_mean_squared_error: 0.7132\n",
      "Epoch 20/30\n",
      "200/200 [==============================] - 1s 7ms/step - loss: 0.0116 - accuracy: 1.0000 - root_mean_squared_error: 0.1075 - val_loss: 0.5064 - val_accuracy: 0.4526 - val_root_mean_squared_error: 0.7117\n",
      "Epoch 21/30\n",
      "200/200 [==============================] - 1s 7ms/step - loss: 0.0103 - accuracy: 1.0000 - root_mean_squared_error: 0.1013 - val_loss: 0.5135 - val_accuracy: 0.4526 - val_root_mean_squared_error: 0.7166\n",
      "Epoch 22/30\n",
      "200/200 [==============================] - 1s 7ms/step - loss: 0.0101 - accuracy: 1.0000 - root_mean_squared_error: 0.1005 - val_loss: 0.5162 - val_accuracy: 0.4526 - val_root_mean_squared_error: 0.7185\n",
      "Epoch 23/30\n",
      "200/200 [==============================] - 1s 7ms/step - loss: 0.0105 - accuracy: 1.0000 - root_mean_squared_error: 0.1026 - val_loss: 0.5191 - val_accuracy: 0.4526 - val_root_mean_squared_error: 0.7205\n",
      "Epoch 24/30\n",
      "200/200 [==============================] - 2s 8ms/step - loss: 0.0100 - accuracy: 1.0000 - root_mean_squared_error: 0.1001 - val_loss: 0.5178 - val_accuracy: 0.4526 - val_root_mean_squared_error: 0.7196\n",
      "Epoch 25/30\n",
      "200/200 [==============================] - 1s 7ms/step - loss: 0.0099 - accuracy: 1.0000 - root_mean_squared_error: 0.0995 - val_loss: 0.5210 - val_accuracy: 0.4526 - val_root_mean_squared_error: 0.7218\n",
      "Epoch 26/30\n",
      "200/200 [==============================] - 1s 7ms/step - loss: 0.0096 - accuracy: 1.0000 - root_mean_squared_error: 0.0979 - val_loss: 0.5230 - val_accuracy: 0.4526 - val_root_mean_squared_error: 0.7232\n",
      "Epoch 27/30\n",
      "200/200 [==============================] - 1s 7ms/step - loss: 0.0091 - accuracy: 1.0000 - root_mean_squared_error: 0.0953 - val_loss: 0.5235 - val_accuracy: 0.4526 - val_root_mean_squared_error: 0.7235\n",
      "Epoch 28/30\n",
      "200/200 [==============================] - 1s 7ms/step - loss: 0.0089 - accuracy: 1.0000 - root_mean_squared_error: 0.0942 - val_loss: 0.5188 - val_accuracy: 0.4526 - val_root_mean_squared_error: 0.7203\n",
      "Epoch 29/30\n",
      "200/200 [==============================] - 2s 8ms/step - loss: 0.0096 - accuracy: 1.0000 - root_mean_squared_error: 0.0977 - val_loss: 0.5269 - val_accuracy: 0.4526 - val_root_mean_squared_error: 0.7259\n",
      "Epoch 30/30\n",
      "200/200 [==============================] - 1s 7ms/step - loss: 0.0085 - accuracy: 1.0000 - root_mean_squared_error: 0.0921 - val_loss: 0.5254 - val_accuracy: 0.4526 - val_root_mean_squared_error: 0.7248\n",
      "Epoch 1/30\n",
      "200/200 [==============================] - 2s 8ms/step - loss: 0.2697 - accuracy: 0.0434 - root_mean_squared_error: 0.5194 - val_loss: 0.2498 - val_accuracy: 0.5253 - val_root_mean_squared_error: 0.4998\n",
      "Epoch 2/30\n",
      "200/200 [==============================] - 1s 7ms/step - loss: 0.2379 - accuracy: 0.8789 - root_mean_squared_error: 0.4878 - val_loss: 0.2528 - val_accuracy: 0.4662 - val_root_mean_squared_error: 0.5028\n",
      "Epoch 3/30\n",
      "200/200 [==============================] - 1s 7ms/step - loss: 0.2047 - accuracy: 1.0000 - root_mean_squared_error: 0.4524 - val_loss: 0.2586 - val_accuracy: 0.4662 - val_root_mean_squared_error: 0.5085\n",
      "Epoch 4/30\n",
      "200/200 [==============================] - 1s 7ms/step - loss: 0.1734 - accuracy: 1.0000 - root_mean_squared_error: 0.4165 - val_loss: 0.2679 - val_accuracy: 0.4662 - val_root_mean_squared_error: 0.5176\n",
      "Epoch 5/30\n",
      "200/200 [==============================] - 2s 8ms/step - loss: 0.1420 - accuracy: 1.0000 - root_mean_squared_error: 0.3769 - val_loss: 0.2806 - val_accuracy: 0.4662 - val_root_mean_squared_error: 0.5297\n",
      "Epoch 6/30\n",
      "200/200 [==============================] - 1s 7ms/step - loss: 0.1119 - accuracy: 1.0000 - root_mean_squared_error: 0.3344 - val_loss: 0.3023 - val_accuracy: 0.4662 - val_root_mean_squared_error: 0.5498\n",
      "Epoch 7/30\n",
      "200/200 [==============================] - 2s 8ms/step - loss: 0.0866 - accuracy: 1.0000 - root_mean_squared_error: 0.2942 - val_loss: 0.3220 - val_accuracy: 0.4662 - val_root_mean_squared_error: 0.5675\n",
      "Epoch 8/30\n",
      "200/200 [==============================] - 1s 7ms/step - loss: 0.0658 - accuracy: 1.0000 - root_mean_squared_error: 0.2566 - val_loss: 0.3433 - val_accuracy: 0.4662 - val_root_mean_squared_error: 0.5859\n",
      "Epoch 9/30\n",
      "200/200 [==============================] - 1s 7ms/step - loss: 0.0503 - accuracy: 1.0000 - root_mean_squared_error: 0.2244 - val_loss: 0.3684 - val_accuracy: 0.4662 - val_root_mean_squared_error: 0.6070\n",
      "Epoch 10/30\n",
      "200/200 [==============================] - 1s 7ms/step - loss: 0.0374 - accuracy: 1.0000 - root_mean_squared_error: 0.1935 - val_loss: 0.3897 - val_accuracy: 0.4662 - val_root_mean_squared_error: 0.6243\n",
      "Epoch 11/30\n",
      "200/200 [==============================] - 1s 7ms/step - loss: 0.0300 - accuracy: 1.0000 - root_mean_squared_error: 0.1731 - val_loss: 0.4068 - val_accuracy: 0.4662 - val_root_mean_squared_error: 0.6378\n",
      "Epoch 12/30\n",
      "200/200 [==============================] - 1s 7ms/step - loss: 0.0247 - accuracy: 1.0000 - root_mean_squared_error: 0.1573 - val_loss: 0.4203 - val_accuracy: 0.4662 - val_root_mean_squared_error: 0.6483\n",
      "Epoch 13/30\n",
      "200/200 [==============================] - 1s 7ms/step - loss: 0.0215 - accuracy: 1.0000 - root_mean_squared_error: 0.1467 - val_loss: 0.4356 - val_accuracy: 0.4662 - val_root_mean_squared_error: 0.6600\n",
      "Epoch 14/30\n",
      "200/200 [==============================] - 1s 7ms/step - loss: 0.0178 - accuracy: 1.0000 - root_mean_squared_error: 0.1336 - val_loss: 0.4462 - val_accuracy: 0.4662 - val_root_mean_squared_error: 0.6680\n",
      "Epoch 15/30\n",
      "200/200 [==============================] - 1s 7ms/step - loss: 0.0159 - accuracy: 1.0000 - root_mean_squared_error: 0.1263 - val_loss: 0.4579 - val_accuracy: 0.4662 - val_root_mean_squared_error: 0.6767\n",
      "Epoch 16/30\n",
      "200/200 [==============================] - 1s 7ms/step - loss: 0.0152 - accuracy: 1.0000 - root_mean_squared_error: 0.1234 - val_loss: 0.4608 - val_accuracy: 0.4662 - val_root_mean_squared_error: 0.6788\n",
      "Epoch 17/30\n"
     ]
    },
    {
     "name": "stdout",
     "output_type": "stream",
     "text": [
      "200/200 [==============================] - 1s 7ms/step - loss: 0.0131 - accuracy: 1.0000 - root_mean_squared_error: 0.1144 - val_loss: 0.4678 - val_accuracy: 0.4662 - val_root_mean_squared_error: 0.6840\n",
      "Epoch 18/30\n",
      "200/200 [==============================] - 1s 7ms/step - loss: 0.0134 - accuracy: 1.0000 - root_mean_squared_error: 0.1157 - val_loss: 0.4774 - val_accuracy: 0.4662 - val_root_mean_squared_error: 0.6909\n",
      "Epoch 19/30\n",
      "200/200 [==============================] - 2s 8ms/step - loss: 0.0132 - accuracy: 1.0000 - root_mean_squared_error: 0.1149 - val_loss: 0.4814 - val_accuracy: 0.4662 - val_root_mean_squared_error: 0.6938\n",
      "Epoch 20/30\n",
      "200/200 [==============================] - 1s 7ms/step - loss: 0.0112 - accuracy: 1.0000 - root_mean_squared_error: 0.1059 - val_loss: 0.4844 - val_accuracy: 0.4662 - val_root_mean_squared_error: 0.6960\n",
      "Epoch 21/30\n",
      "200/200 [==============================] - 1s 7ms/step - loss: 0.0112 - accuracy: 1.0000 - root_mean_squared_error: 0.1059 - val_loss: 0.4901 - val_accuracy: 0.4662 - val_root_mean_squared_error: 0.7001\n",
      "Epoch 22/30\n",
      "200/200 [==============================] - 1s 7ms/step - loss: 0.0112 - accuracy: 1.0000 - root_mean_squared_error: 0.1060 - val_loss: 0.4977 - val_accuracy: 0.4662 - val_root_mean_squared_error: 0.7055\n",
      "Epoch 23/30\n",
      "200/200 [==============================] - 1s 7ms/step - loss: 0.0108 - accuracy: 1.0000 - root_mean_squared_error: 0.1037 - val_loss: 0.4973 - val_accuracy: 0.4662 - val_root_mean_squared_error: 0.7052\n",
      "Epoch 24/30\n",
      "200/200 [==============================] - 1s 7ms/step - loss: 0.0099 - accuracy: 1.0000 - root_mean_squared_error: 0.0994 - val_loss: 0.4973 - val_accuracy: 0.4662 - val_root_mean_squared_error: 0.7052\n",
      "Epoch 25/30\n",
      "200/200 [==============================] - 1s 7ms/step - loss: 0.0106 - accuracy: 1.0000 - root_mean_squared_error: 0.1027 - val_loss: 0.5015 - val_accuracy: 0.4662 - val_root_mean_squared_error: 0.7082\n",
      "Epoch 26/30\n",
      "200/200 [==============================] - 1s 7ms/step - loss: 0.0101 - accuracy: 1.0000 - root_mean_squared_error: 0.1006 - val_loss: 0.5033 - val_accuracy: 0.4662 - val_root_mean_squared_error: 0.7094\n",
      "Epoch 27/30\n",
      "200/200 [==============================] - 1s 7ms/step - loss: 0.0099 - accuracy: 1.0000 - root_mean_squared_error: 0.0994 - val_loss: 0.5052 - val_accuracy: 0.4662 - val_root_mean_squared_error: 0.7107\n",
      "Epoch 28/30\n",
      "200/200 [==============================] - 2s 8ms/step - loss: 0.0105 - accuracy: 1.0000 - root_mean_squared_error: 0.1025 - val_loss: 0.5061 - val_accuracy: 0.4662 - val_root_mean_squared_error: 0.7114\n",
      "Epoch 29/30\n",
      "200/200 [==============================] - 2s 8ms/step - loss: 0.0095 - accuracy: 1.0000 - root_mean_squared_error: 0.0975 - val_loss: 0.5094 - val_accuracy: 0.4662 - val_root_mean_squared_error: 0.7138\n",
      "Epoch 30/30\n",
      "200/200 [==============================] - 2s 8ms/step - loss: 0.0095 - accuracy: 1.0000 - root_mean_squared_error: 0.0977 - val_loss: 0.5092 - val_accuracy: 0.4662 - val_root_mean_squared_error: 0.7136\n",
      "Epoch 1/30\n",
      "200/200 [==============================] - 2s 7ms/step - loss: 0.1638 - accuracy: 0.9994 - root_mean_squared_error: 0.4048 - val_loss: 0.2715 - val_accuracy: 0.4638 - val_root_mean_squared_error: 0.5210\n",
      "Epoch 2/30\n",
      "200/200 [==============================] - 1s 6ms/step - loss: 0.1405 - accuracy: 1.0000 - root_mean_squared_error: 0.3748 - val_loss: 0.2849 - val_accuracy: 0.4638 - val_root_mean_squared_error: 0.5338\n",
      "Epoch 3/30\n",
      "200/200 [==============================] - 1s 6ms/step - loss: 0.1177 - accuracy: 1.0000 - root_mean_squared_error: 0.3431 - val_loss: 0.2959 - val_accuracy: 0.4638 - val_root_mean_squared_error: 0.5440\n",
      "Epoch 4/30\n",
      "200/200 [==============================] - 1s 6ms/step - loss: 0.0960 - accuracy: 1.0000 - root_mean_squared_error: 0.3099 - val_loss: 0.3132 - val_accuracy: 0.4638 - val_root_mean_squared_error: 0.5597\n",
      "Epoch 5/30\n",
      "200/200 [==============================] - 1s 7ms/step - loss: 0.0777 - accuracy: 1.0000 - root_mean_squared_error: 0.2788 - val_loss: 0.3339 - val_accuracy: 0.4638 - val_root_mean_squared_error: 0.5779\n",
      "Epoch 6/30\n",
      "200/200 [==============================] - 1s 6ms/step - loss: 0.0607 - accuracy: 1.0000 - root_mean_squared_error: 0.2463 - val_loss: 0.3512 - val_accuracy: 0.4638 - val_root_mean_squared_error: 0.5926\n",
      "Epoch 7/30\n",
      "200/200 [==============================] - 1s 6ms/step - loss: 0.0463 - accuracy: 1.0000 - root_mean_squared_error: 0.2151 - val_loss: 0.3767 - val_accuracy: 0.4638 - val_root_mean_squared_error: 0.6138\n",
      "Epoch 8/30\n",
      "200/200 [==============================] - 1s 6ms/step - loss: 0.0361 - accuracy: 1.0000 - root_mean_squared_error: 0.1900 - val_loss: 0.4013 - val_accuracy: 0.4638 - val_root_mean_squared_error: 0.6335\n",
      "Epoch 9/30\n",
      "200/200 [==============================] - 1s 6ms/step - loss: 0.0268 - accuracy: 1.0000 - root_mean_squared_error: 0.1638 - val_loss: 0.4179 - val_accuracy: 0.4638 - val_root_mean_squared_error: 0.6465\n",
      "Epoch 10/30\n",
      "200/200 [==============================] - 1s 7ms/step - loss: 0.0227 - accuracy: 1.0000 - root_mean_squared_error: 0.1507 - val_loss: 0.4334 - val_accuracy: 0.4638 - val_root_mean_squared_error: 0.6583\n",
      "Epoch 11/30\n",
      "200/200 [==============================] - 1s 6ms/step - loss: 0.0189 - accuracy: 1.0000 - root_mean_squared_error: 0.1376 - val_loss: 0.4498 - val_accuracy: 0.4638 - val_root_mean_squared_error: 0.6707\n",
      "Epoch 12/30\n",
      "200/200 [==============================] - 1s 6ms/step - loss: 0.0170 - accuracy: 1.0000 - root_mean_squared_error: 0.1304 - val_loss: 0.4647 - val_accuracy: 0.4638 - val_root_mean_squared_error: 0.6817\n",
      "Epoch 13/30\n",
      "200/200 [==============================] - 1s 6ms/step - loss: 0.0137 - accuracy: 1.0000 - root_mean_squared_error: 0.1169 - val_loss: 0.4695 - val_accuracy: 0.4638 - val_root_mean_squared_error: 0.6852\n",
      "Epoch 14/30\n",
      "200/200 [==============================] - 1s 6ms/step - loss: 0.0128 - accuracy: 1.0000 - root_mean_squared_error: 0.1132 - val_loss: 0.4842 - val_accuracy: 0.4638 - val_root_mean_squared_error: 0.6959\n",
      "Epoch 15/30\n",
      "200/200 [==============================] - 1s 6ms/step - loss: 0.0123 - accuracy: 1.0000 - root_mean_squared_error: 0.1109 - val_loss: 0.4782 - val_accuracy: 0.4638 - val_root_mean_squared_error: 0.6915\n",
      "Epoch 16/30\n",
      "200/200 [==============================] - 1s 6ms/step - loss: 0.0116 - accuracy: 1.0000 - root_mean_squared_error: 0.1078 - val_loss: 0.4891 - val_accuracy: 0.4638 - val_root_mean_squared_error: 0.6993\n",
      "Epoch 17/30\n",
      "200/200 [==============================] - 1s 6ms/step - loss: 0.0111 - accuracy: 1.0000 - root_mean_squared_error: 0.1053 - val_loss: 0.4934 - val_accuracy: 0.4638 - val_root_mean_squared_error: 0.7024\n",
      "Epoch 18/30\n",
      "200/200 [==============================] - 1s 6ms/step - loss: 0.0105 - accuracy: 1.0000 - root_mean_squared_error: 0.1027 - val_loss: 0.4904 - val_accuracy: 0.4638 - val_root_mean_squared_error: 0.7003\n",
      "Epoch 19/30\n",
      "200/200 [==============================] - 1s 6ms/step - loss: 0.0107 - accuracy: 1.0000 - root_mean_squared_error: 0.1034 - val_loss: 0.5031 - val_accuracy: 0.4638 - val_root_mean_squared_error: 0.7093\n",
      "Epoch 20/30\n",
      "200/200 [==============================] - 1s 6ms/step - loss: 0.0108 - accuracy: 1.0000 - root_mean_squared_error: 0.1041 - val_loss: 0.5069 - val_accuracy: 0.4638 - val_root_mean_squared_error: 0.7120\n",
      "Epoch 21/30\n",
      "200/200 [==============================] - 1s 6ms/step - loss: 0.0104 - accuracy: 1.0000 - root_mean_squared_error: 0.1018 - val_loss: 0.5108 - val_accuracy: 0.4638 - val_root_mean_squared_error: 0.7147\n",
      "Epoch 22/30\n",
      "200/200 [==============================] - 1s 6ms/step - loss: 0.0095 - accuracy: 1.0000 - root_mean_squared_error: 0.0972 - val_loss: 0.5100 - val_accuracy: 0.4638 - val_root_mean_squared_error: 0.7142\n",
      "Epoch 23/30\n",
      "200/200 [==============================] - 1s 6ms/step - loss: 0.0091 - accuracy: 1.0000 - root_mean_squared_error: 0.0952 - val_loss: 0.5118 - val_accuracy: 0.4638 - val_root_mean_squared_error: 0.7154\n",
      "Epoch 24/30\n",
      "200/200 [==============================] - 1s 6ms/step - loss: 0.0099 - accuracy: 1.0000 - root_mean_squared_error: 0.0994 - val_loss: 0.5162 - val_accuracy: 0.4638 - val_root_mean_squared_error: 0.7185\n",
      "Epoch 25/30\n"
     ]
    },
    {
     "name": "stdout",
     "output_type": "stream",
     "text": [
      "200/200 [==============================] - 1s 6ms/step - loss: 0.0091 - accuracy: 1.0000 - root_mean_squared_error: 0.0954 - val_loss: 0.5114 - val_accuracy: 0.4638 - val_root_mean_squared_error: 0.7151\n",
      "Epoch 26/30\n",
      "200/200 [==============================] - 1s 6ms/step - loss: 0.0094 - accuracy: 1.0000 - root_mean_squared_error: 0.0967 - val_loss: 0.5153 - val_accuracy: 0.4638 - val_root_mean_squared_error: 0.7179\n",
      "Epoch 27/30\n",
      "200/200 [==============================] - 1s 6ms/step - loss: 0.0099 - accuracy: 1.0000 - root_mean_squared_error: 0.0997 - val_loss: 0.5142 - val_accuracy: 0.4638 - val_root_mean_squared_error: 0.7171\n",
      "Epoch 28/30\n",
      "200/200 [==============================] - 1s 7ms/step - loss: 0.0084 - accuracy: 1.0000 - root_mean_squared_error: 0.0914 - val_loss: 0.5171 - val_accuracy: 0.4638 - val_root_mean_squared_error: 0.7191\n",
      "Epoch 29/30\n",
      "200/200 [==============================] - 1s 6ms/step - loss: 0.0091 - accuracy: 1.0000 - root_mean_squared_error: 0.0954 - val_loss: 0.5256 - val_accuracy: 0.4638 - val_root_mean_squared_error: 0.7250\n",
      "Epoch 30/30\n",
      "200/200 [==============================] - 1s 7ms/step - loss: 0.0089 - accuracy: 1.0000 - root_mean_squared_error: 0.0945 - val_loss: 0.5165 - val_accuracy: 0.4638 - val_root_mean_squared_error: 0.7187\n"
     ]
    },
    {
     "data": {
      "text/html": [
       "<div>\n",
       "<style scoped>\n",
       "    .dataframe tbody tr th:only-of-type {\n",
       "        vertical-align: middle;\n",
       "    }\n",
       "\n",
       "    .dataframe tbody tr th {\n",
       "        vertical-align: top;\n",
       "    }\n",
       "\n",
       "    .dataframe thead th {\n",
       "        text-align: right;\n",
       "    }\n",
       "</style>\n",
       "<table border=\"1\" class=\"dataframe\">\n",
       "  <thead>\n",
       "    <tr style=\"text-align: right;\">\n",
       "      <th></th>\n",
       "      <th>0</th>\n",
       "      <th>1</th>\n",
       "      <th>2</th>\n",
       "      <th>3</th>\n",
       "    </tr>\n",
       "  </thead>\n",
       "  <tbody>\n",
       "    <tr>\n",
       "      <th>loss</th>\n",
       "      <td>[0.2122398316860199, 0.18961136043071747, 0.16...</td>\n",
       "      <td>[0.20813149213790894, 0.18694829940795898, 0.1...</td>\n",
       "      <td>[0.2697455883026123, 0.2379133254289627, 0.204...</td>\n",
       "      <td>[0.16383926570415497, 0.14051060378551483, 0.1...</td>\n",
       "    </tr>\n",
       "    <tr>\n",
       "      <th>accuracy</th>\n",
       "      <td>[0.9993749856948853, 1.0, 1.0, 1.0, 1.0, 1.0, ...</td>\n",
       "      <td>[0.9998437762260437, 1.0, 1.0, 1.0, 1.0, 1.0, ...</td>\n",
       "      <td>[0.043437499552965164, 0.87890625, 1.0, 1.0, 1...</td>\n",
       "      <td>[0.9993749856948853, 1.0, 1.0, 1.0, 1.0, 1.0, ...</td>\n",
       "    </tr>\n",
       "    <tr>\n",
       "      <th>root_mean_squared_error</th>\n",
       "      <td>[0.46069493889808655, 0.43544384837150574, 0.4...</td>\n",
       "      <td>[0.4562143087387085, 0.4323751926422119, 0.402...</td>\n",
       "      <td>[0.5193703770637512, 0.48776358366012573, 0.45...</td>\n",
       "      <td>[0.4047706425189972, 0.3748474419116974, 0.343...</td>\n",
       "    </tr>\n",
       "    <tr>\n",
       "      <th>val_loss</th>\n",
       "      <td>[0.257519394159317, 0.2638096809387207, 0.2725...</td>\n",
       "      <td>[0.25939807295799255, 0.2647000253200531, 0.27...</td>\n",
       "      <td>[0.24978023767471313, 0.25284668803215027, 0.2...</td>\n",
       "      <td>[0.27145540714263916, 0.2848913371562958, 0.29...</td>\n",
       "    </tr>\n",
       "    <tr>\n",
       "      <th>val_accuracy</th>\n",
       "      <td>[0.4583333432674408, 0.4583333432674408, 0.458...</td>\n",
       "      <td>[0.4526209533214569, 0.4526209533214569, 0.452...</td>\n",
       "      <td>[0.525337815284729, 0.46621620655059814, 0.466...</td>\n",
       "      <td>[0.4638157784938812, 0.4638157784938812, 0.463...</td>\n",
       "    </tr>\n",
       "    <tr>\n",
       "      <th>val_root_mean_squared_error</th>\n",
       "      <td>[0.5074636936187744, 0.5136240720748901, 0.522...</td>\n",
       "      <td>[0.5093113780021667, 0.5144900679588318, 0.525...</td>\n",
       "      <td>[0.49978017807006836, 0.5028386116027832, 0.50...</td>\n",
       "      <td>[0.5210137963294983, 0.5337521433830261, 0.543...</td>\n",
       "    </tr>\n",
       "  </tbody>\n",
       "</table>\n",
       "</div>"
      ],
      "text/plain": [
       "                                                                             0  \\\n",
       "loss                         [0.2122398316860199, 0.18961136043071747, 0.16...   \n",
       "accuracy                     [0.9993749856948853, 1.0, 1.0, 1.0, 1.0, 1.0, ...   \n",
       "root_mean_squared_error      [0.46069493889808655, 0.43544384837150574, 0.4...   \n",
       "val_loss                     [0.257519394159317, 0.2638096809387207, 0.2725...   \n",
       "val_accuracy                 [0.4583333432674408, 0.4583333432674408, 0.458...   \n",
       "val_root_mean_squared_error  [0.5074636936187744, 0.5136240720748901, 0.522...   \n",
       "\n",
       "                                                                             1  \\\n",
       "loss                         [0.20813149213790894, 0.18694829940795898, 0.1...   \n",
       "accuracy                     [0.9998437762260437, 1.0, 1.0, 1.0, 1.0, 1.0, ...   \n",
       "root_mean_squared_error      [0.4562143087387085, 0.4323751926422119, 0.402...   \n",
       "val_loss                     [0.25939807295799255, 0.2647000253200531, 0.27...   \n",
       "val_accuracy                 [0.4526209533214569, 0.4526209533214569, 0.452...   \n",
       "val_root_mean_squared_error  [0.5093113780021667, 0.5144900679588318, 0.525...   \n",
       "\n",
       "                                                                             2  \\\n",
       "loss                         [0.2697455883026123, 0.2379133254289627, 0.204...   \n",
       "accuracy                     [0.043437499552965164, 0.87890625, 1.0, 1.0, 1...   \n",
       "root_mean_squared_error      [0.5193703770637512, 0.48776358366012573, 0.45...   \n",
       "val_loss                     [0.24978023767471313, 0.25284668803215027, 0.2...   \n",
       "val_accuracy                 [0.525337815284729, 0.46621620655059814, 0.466...   \n",
       "val_root_mean_squared_error  [0.49978017807006836, 0.5028386116027832, 0.50...   \n",
       "\n",
       "                                                                             3  \n",
       "loss                         [0.16383926570415497, 0.14051060378551483, 0.1...  \n",
       "accuracy                     [0.9993749856948853, 1.0, 1.0, 1.0, 1.0, 1.0, ...  \n",
       "root_mean_squared_error      [0.4047706425189972, 0.3748474419116974, 0.343...  \n",
       "val_loss                     [0.27145540714263916, 0.2848913371562958, 0.29...  \n",
       "val_accuracy                 [0.4638157784938812, 0.4638157784938812, 0.463...  \n",
       "val_root_mean_squared_error  [0.5210137963294983, 0.5337521433830261, 0.543...  "
      ]
     },
     "execution_count": 16,
     "metadata": {},
     "output_type": "execute_result"
    }
   ],
   "source": [
    "cnnv1D_result = {}\n",
    "for i in range(NFOLD-1):\n",
    "    conv1D = Conv1D()\n",
    "    conv1D.compile(optimizer = tfk.optimizers.Adam(learning_rate=1e-6), \n",
    "                        metrics = ['accuracy', tfk.metrics.RootMeanSquaredError(),],\n",
    "                        loss = tfk.losses.MeanSquaredError(reduction= tfk.losses.Reduction.SUM_OVER_BATCH_SIZE)\n",
    "                       )\n",
    "    train_dataset, val_dataset, test_dataset = get_train_and_val_for_fold(folded_datasets=folded_datasets,fold = i)   \n",
    "    \n",
    "    result = conv1D.fit(train_dataset, epochs= EPOCHS,steps_per_epoch = STEPS_PER_EPOCH,validation_data= val_dataset,)\n",
    "    \n",
    "    cnnv1D_result[i] = result.history\n",
    "\n",
    "pd.DataFrame(cnnv1D_result)"
   ]
  },
  {
   "cell_type": "code",
   "execution_count": 17,
   "id": "13e7a6d8",
   "metadata": {
    "scrolled": true
   },
   "outputs": [
    {
     "data": {
      "image/png": "[encoded data removed]",
      "text/plain": [
       "<Figure size 432x288 with 1 Axes>"
      ]
     },
     "metadata": {
      "needs_background": "light"
     },
     "output_type": "display_data"
    }
   ],
   "source": [
    "for i in range(NFOLD-1):\n",
    "    loss = cnn1D_encoder_result[i]['loss']\n",
    "    plt.plot(loss)\n",
    "    plt.title('Training and Validation loss for Autoencoder')"
   ]
  },
  {
   "cell_type": "code",
   "execution_count": 18,
   "id": "5092996d",
   "metadata": {},
   "outputs": [
    {
     "data": {
      "image/png": "[encoded data removed]",
      "text/plain": [
       "<Figure size 432x288 with 1 Axes>"
      ]
     },
     "metadata": {
      "needs_background": "light"
     },
     "output_type": "display_data"
    }
   ],
   "source": [
    "for i in range(NFOLD-1):\n",
    "    loss = cnnv1D_result[i]['loss']\n",
    "    plt.plot(loss)\n",
    "    plt.title('Training and Validation loss for Conv1D')"
   ]
  },
  {
   "cell_type": "code",
   "execution_count": 19,
   "id": "19a54a15",
   "metadata": {},
   "outputs": [
    {
     "data": {
      "image/png": "[encoded data removed]",
      "text/plain": [
       "<Figure size 432x288 with 1 Axes>"
      ]
     },
     "metadata": {
      "needs_background": "light"
     },
     "output_type": "display_data"
    }
   ],
   "source": [
    "for i in range(NFOLD-1):\n",
    "    mse = cnn1D_encoder_result[i]['root_mean_squared_error']\n",
    "    plt.plot(mse)\n",
    "    plt.title('Training and Validation Mse for Autoencoder')"
   ]
  },
  {
   "cell_type": "code",
   "execution_count": 20,
   "id": "9239aa80",
   "metadata": {},
   "outputs": [
    {
     "data": {
      "image/png": "[encoded data removed]",
      "text/plain": [
       "<Figure size 432x288 with 1 Axes>"
      ]
     },
     "metadata": {
      "needs_background": "light"
     },
     "output_type": "display_data"
    }
   ],
   "source": [
    "for i in range(NFOLD-1):\n",
    "    mse = cnnv1D_result[i]['root_mean_squared_error']\n",
    "    plt.plot(mse)\n",
    "    plt.title('Training and Validation Mse for Conv1D')"
   ]
  },
  {
   "cell_type": "code",
   "execution_count": 21,
   "id": "1fb2a1f6",
   "metadata": {},
   "outputs": [
    {
     "name": "stdout",
     "output_type": "stream",
     "text": [
      "26/26 [==============================] - 1s 5ms/step\n"
     ]
    },
    {
     "data": {
      "text/plain": [
       "[<matplotlib.lines.Line2D at 0x1bf0b6ffb80>]"
      ]
     },
     "execution_count": 21,
     "metadata": {},
     "output_type": "execute_result"
    },
    {
     "data": {
      "image/png": "[encoded data removed]",
      "text/plain": [
       "<Figure size 432x288 with 1 Axes>"
      ]
     },
     "metadata": {
      "needs_background": "light"
     },
     "output_type": "display_data"
    }
   ],
   "source": [
    "cnn1D_enc_predict = autoencoder.predict(test_dataset, verbose = True)\n",
    "cnn1D_enc_predict = cnn1D_enc_predict.reshape(-1)\n",
    "plt.title(\"conv1D_enc_prediction\")\n",
    "plt.plot(cnn1D_enc_predict)"
   ]
  },
  {
   "cell_type": "code",
   "execution_count": 22,
   "id": "8744679a",
   "metadata": {
    "scrolled": true
   },
   "outputs": [
    {
     "name": "stdout",
     "output_type": "stream",
     "text": [
      "53248\n"
     ]
    },
    {
     "data": {
      "image/png": "[encoded data removed]",
      "text/plain": [
       "<Figure size 432x288 with 1 Axes>"
      ]
     },
     "metadata": {
      "needs_background": "light"
     },
     "output_type": "display_data"
    }
   ],
   "source": [
    "plt.title(\"conv1D_enc_prediction hist\")\n",
    "plt.hist(cnn1D_enc_predict)\n",
    "print(cnn1D_enc_predict.size)"
   ]
  },
  {
   "cell_type": "code",
   "execution_count": 23,
   "id": "626027f5",
   "metadata": {},
   "outputs": [
    {
     "name": "stdout",
     "output_type": "stream",
     "text": [
      "26/26 [==============================] - 0s 2ms/step\n"
     ]
    },
    {
     "data": {
      "text/plain": [
       "[<matplotlib.lines.Line2D at 0x1bf0e927e50>]"
      ]
     },
     "execution_count": 23,
     "metadata": {},
     "output_type": "execute_result"
    },
    {
     "data": {
      "image/png": "[encoded data removed]",
      "text/plain": [
       "<Figure size 432x288 with 1 Axes>"
      ]
     },
     "metadata": {
      "needs_background": "light"
     },
     "output_type": "display_data"
    }
   ],
   "source": [
    "conv1D_predict = conv1D.predict(test_dataset, verbose = True)\n",
    "plt.title(\"conv1D_prediction\")\n",
    "plt.plot(conv1D_predict)"
   ]
  },
  {
   "cell_type": "code",
   "execution_count": 24,
   "id": "4bcd3ed6",
   "metadata": {
    "scrolled": true
   },
   "outputs": [
    {
     "name": "stdout",
     "output_type": "stream",
     "text": [
      "832\n"
     ]
    },
    {
     "data": {
      "image/png": "[encoded data removed]",
      "text/plain": [
       "<Figure size 432x288 with 1 Axes>"
      ]
     },
     "metadata": {
      "needs_background": "light"
     },
     "output_type": "display_data"
    }
   ],
   "source": [
    "plt.title(\"conv1D_predict hist\")\n",
    "plt.hist(conv1D_predict)\n",
    "print(conv1D_predict.size)"
   ]
  }
 ],
 "metadata": {
  "kernelspec": {
   "display_name": "Python 3",
   "language": "python",
   "name": "python3"
  },
  "language_info": {
   "codemirror_mode": {
    "name": "ipython",
    "version": 3
   },
   "file_extension": ".py",
   "mimetype": "text/x-python",
   "name": "python",
   "nbconvert_exporter": "python",
   "pygments_lexer": "ipython3",
   "version": "3.9.7"
  }
 },
 "nbformat": 4,
 "nbformat_minor": 5
}
