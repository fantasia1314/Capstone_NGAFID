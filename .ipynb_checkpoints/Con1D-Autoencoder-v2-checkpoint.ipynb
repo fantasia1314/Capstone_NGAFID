{
 "cells": [
  {
   "cell_type": "code",
   "execution_count": 1,
   "id": "a9032074",
   "metadata": {},
   "outputs": [
    {
     "name": "stdout",
     "output_type": "stream",
     "text": [
      "Num GPUs Available:  1\n"
     ]
    }
   ],
   "source": [
    "import tensorflow as tf\n",
    "print(\"Num GPUs Available: \", len(tf.config.list_physical_devices('GPU')))\n",
    "import pandas as pd \n",
    "import pydot\n",
    "import graphviz\n",
    "import numpy as np \n",
    "import seaborn as sns\n",
    "import random \n",
    "import matplotlib.pyplot as plt\n",
    "%matplotlib inline\n",
    "from sklearn.model_selection import train_test_split, KFold\n",
    "from sklearn import preprocessing\n",
    "\n",
    "tfku= tf.keras.utils\n",
    "tfk = tf.keras\n",
    "tfkl = tf.keras.layers"
   ]
  },
  {
   "cell_type": "code",
   "execution_count": 2,
   "id": "c16f9cce",
   "metadata": {},
   "outputs": [],
   "source": [
    "BATCH_SIZE = 32\n",
    "SHAPE = (4096, 23)\n",
    "BLOCK_SHAPE = (64, 23)\n",
    "EPOCHS = 30\n",
    "VARIABLES = 23\n",
    "NFOLD = 5 \n",
    "STEPS_PER_EPOCH = 200\n",
    "ID = 28"
   ]
  },
  {
   "cell_type": "code",
   "execution_count": 3,
   "id": "9ad27f44",
   "metadata": {},
   "outputs": [],
   "source": [
    "if ID == 28:\n",
    "    file='D:/Document/DSCI-601/NGAFID/NGAFID_MC_C28.csv'\n",
    "elif ID == 37:\n",
    "    file='D:/Document/DSCI-601/NGAFID/NGAFID_MC_C37.csv'\n",
    "else:\n",
    "    print('Invalid ID')\n",
    "df_test = pd.read_csv(file, nrows=100)\n",
    "float_cols = [c for c in df_test if df_test[c].dtype == \"float64\"]\n",
    "float32_cols = {c: np.float16 for c in float_cols}\n",
    "\n",
    "df = pd.read_csv(file, dtype=float32_cols, engine='c')\n",
    "df['id'] = df.id.astype('int32')\n",
    "df = df.dropna()"
   ]
  },
  {
   "cell_type": "code",
   "execution_count": 4,
   "id": "d767f07f",
   "metadata": {
    "scrolled": false
   },
   "outputs": [
    {
     "data": {
      "text/html": [
       "<div>\n",
       "<style scoped>\n",
       "    .dataframe tbody tr th:only-of-type {\n",
       "        vertical-align: middle;\n",
       "    }\n",
       "\n",
       "    .dataframe tbody tr th {\n",
       "        vertical-align: top;\n",
       "    }\n",
       "\n",
       "    .dataframe thead th {\n",
       "        text-align: right;\n",
       "    }\n",
       "</style>\n",
       "<table border=\"1\" class=\"dataframe\">\n",
       "  <thead>\n",
       "    <tr style=\"text-align: right;\">\n",
       "      <th></th>\n",
       "      <th></th>\n",
       "      <th>id</th>\n",
       "    </tr>\n",
       "    <tr>\n",
       "      <th>split</th>\n",
       "      <th>before_after</th>\n",
       "      <th></th>\n",
       "    </tr>\n",
       "  </thead>\n",
       "  <tbody>\n",
       "    <tr>\n",
       "      <th rowspan=\"2\" valign=\"top\">0</th>\n",
       "      <th>0</th>\n",
       "      <td>589</td>\n",
       "    </tr>\n",
       "    <tr>\n",
       "      <th>1</th>\n",
       "      <td>484</td>\n",
       "    </tr>\n",
       "    <tr>\n",
       "      <th rowspan=\"2\" valign=\"top\">1</th>\n",
       "      <th>0</th>\n",
       "      <td>555</td>\n",
       "    </tr>\n",
       "    <tr>\n",
       "      <th>1</th>\n",
       "      <td>449</td>\n",
       "    </tr>\n",
       "    <tr>\n",
       "      <th rowspan=\"2\" valign=\"top\">2</th>\n",
       "      <th>0</th>\n",
       "      <td>641</td>\n",
       "    </tr>\n",
       "    <tr>\n",
       "      <th>1</th>\n",
       "      <td>552</td>\n",
       "    </tr>\n",
       "    <tr>\n",
       "      <th rowspan=\"2\" valign=\"top\">3</th>\n",
       "      <th>0</th>\n",
       "      <td>343</td>\n",
       "    </tr>\n",
       "    <tr>\n",
       "      <th>1</th>\n",
       "      <td>282</td>\n",
       "    </tr>\n",
       "    <tr>\n",
       "      <th rowspan=\"2\" valign=\"top\">4</th>\n",
       "      <th>0</th>\n",
       "      <td>456</td>\n",
       "    </tr>\n",
       "    <tr>\n",
       "      <th>1</th>\n",
       "      <td>382</td>\n",
       "    </tr>\n",
       "  </tbody>\n",
       "</table>\n",
       "</div>"
      ],
      "text/plain": [
       "                     id\n",
       "split before_after     \n",
       "0     0             589\n",
       "      1             484\n",
       "1     0             555\n",
       "      1             449\n",
       "2     0             641\n",
       "      1             552\n",
       "3     0             343\n",
       "      1             282\n",
       "4     0             456\n",
       "      1             382"
      ]
     },
     "execution_count": 4,
     "metadata": {},
     "output_type": "execute_result"
    }
   ],
   "source": [
    "sources = df[['id', 'plane_id', 'split', 'date_diff', 'before_after']].drop_duplicates()\n",
    "sources.loc[: , ['split', 'before_after', 'id']].groupby(['split', 'before_after']).count()"
   ]
  },
  {
   "cell_type": "code",
   "execution_count": 5,
   "id": "d03f75fd",
   "metadata": {},
   "outputs": [],
   "source": [
    "input_columns = ['volt1',\n",
    " 'volt2',\n",
    " 'amp1',\n",
    " 'amp2',\n",
    " 'FQtyL',\n",
    " 'FQtyR',\n",
    " 'E1 FFlow',\n",
    " 'E1 OilT',\n",
    " 'E1 OilP',\n",
    " 'E1 RPM',\n",
    " 'E1 CHT1',\n",
    " 'E1 CHT2',\n",
    " 'E1 CHT3',\n",
    " 'E1 CHT4',\n",
    " 'E1 EGT1',\n",
    " 'E1 EGT2',\n",
    " 'E1 EGT3',\n",
    " 'E1 EGT4',\n",
    " 'OAT',\n",
    " 'IAS',\n",
    " 'VSpd',\n",
    " 'NormAc',\n",
    " 'AltMSL']"
   ]
  },
  {
   "cell_type": "code",
   "execution_count": 6,
   "id": "724fc0cc",
   "metadata": {},
   "outputs": [
    {
     "name": "stderr",
     "output_type": "stream",
     "text": [
      "D:\\Python-Anaconda\\envs\\tf\\lib\\site-packages\\sklearn\\base.py:450: UserWarning: X does not have valid feature names, but MinMaxScaler was fitted with feature names\n",
      "  warnings.warn(\n"
     ]
    }
   ],
   "source": [
    "preprocess = preprocessing.MinMaxScaler()\n",
    "preprocess.fit(df.loc[:, input_columns].sample(100000, random_state = 0 ))\n",
    "org_value = df.loc[:, input_columns].values\n",
    "res = preprocess.transform(org_value)\n",
    "for i, col in enumerate(input_columns):\n",
    "    df.loc[:, col] = res[:, i]"
   ]
  },
  {
   "cell_type": "code",
   "execution_count": 7,
   "id": "03a94172",
   "metadata": {},
   "outputs": [],
   "source": [
    "def get_dataset(df): \n",
    "\n",
    "    ids = df.id.unique()\n",
    "\n",
    "    sensor_datas = []\n",
    "    afters = [] \n",
    "\n",
    "    for id in ids: \n",
    "        sensor_data = df[df.id == id].iloc[-SHAPE[0]:, :23].values\n",
    "\n",
    "        sensor_data = np.pad(sensor_data, [[0, SHAPE[0]- len(sensor_data)], [0,0]])\n",
    "\n",
    "        sensor_data = tf.convert_to_tensor(sensor_data, dtype = tf.float32) \n",
    "\n",
    "        after = df[df.id == id]['before_after'].iloc[0]\n",
    "\n",
    "        sensor_datas.append(sensor_data)\n",
    "        afters.append(after)\n",
    "\n",
    "\n",
    "    sensor_datas = tf.stack(sensor_datas)\n",
    "    afters = np.stack(afters)\n",
    "\n",
    "    ds = tf.data.Dataset.from_tensor_slices( (sensor_datas, afters))\n",
    "    \n",
    "    return ds"
   ]
  },
  {
   "cell_type": "code",
   "execution_count": 8,
   "id": "7b1ab448",
   "metadata": {},
   "outputs": [],
   "source": [
    "def slice_random(x, y):\n",
    "    start = tf.random.uniform(shape=[], minval=0, maxval=4096-BLOCK_SHAPE[0], dtype=tf.int64)\n",
    "    x = x[start: start + BLOCK_SHAPE[0]]\n",
    "    x = tf.reshape(x, (BLOCK_SHAPE))\n",
    "    return x, y "
   ]
  },
  {
   "cell_type": "code",
   "execution_count": 9,
   "id": "464d1938",
   "metadata": {},
   "outputs": [],
   "source": [
    "def fix_type(x, y):\n",
    "\n",
    "    return tf.cast(x, tf.float32), tf.cast(y, tf.float32)"
   ]
  },
  {
   "cell_type": "code",
   "execution_count": 10,
   "id": "cb464957",
   "metadata": {},
   "outputs": [],
   "source": [
    "def prepare_for_training(ds, shuffle = False, repeat = False, predict= True):\n",
    "    \n",
    "    ds = ds.map(fix_type)\n",
    "    ds = ds.map(slice_random)\n",
    "\n",
    "    ds = ds.shuffle(512) if shuffle else ds \n",
    "    ds = ds.repeat() if repeat else ds \n",
    "    ds = ds.batch(BATCH_SIZE, drop_remainder=True)\n",
    "\n",
    "    if not predict: \n",
    "        ds = ds.map(lambda x, y : (x, x) ) \n",
    "    else: \n",
    "        ds = ds.map(lambda x, y : (x, tf.reshape(y, (-1, 1))) )\n",
    "         \n",
    "    return ds"
   ]
  },
  {
   "cell_type": "code",
   "execution_count": 11,
   "id": "c975ce51",
   "metadata": {},
   "outputs": [],
   "source": [
    "def get_train_and_val_for_fold(folded_datasets, fold):\n",
    "    predict = True\n",
    "\n",
    "    train = []\n",
    "    for i in range(NFOLD-1): \n",
    "        if i == fold:\n",
    "            val_ds = folded_datasets[i][0].concatenate(folded_datasets[i][1])\n",
    "        else: \n",
    "            train.append(folded_datasets[i][0])\n",
    "    \n",
    "    test_ds = folded_datasets[4][0].concatenate(folded_datasets[4][1])\n",
    "    \n",
    "    train_ds = None\n",
    "    for ds in train: \n",
    "        train_ds = ds if train_ds is None else train_ds.concatenate(ds)\n",
    "\n",
    "    test_ds = prepare_for_training(test_ds, shuffle=False)\n",
    "    train_ds = prepare_for_training(train_ds, shuffle=True, repeat = True)\n",
    "    val_ds = prepare_for_training(val_ds, shuffle=False)\n",
    "    \n",
    "    return train_ds, val_ds, test_ds"
   ]
  },
  {
   "cell_type": "code",
   "execution_count": 12,
   "id": "f6d0ced2",
   "metadata": {},
   "outputs": [],
   "source": [
    "folded_datasets = []\n",
    "\n",
    "for i in range(NFOLD):\n",
    "    after = get_dataset(df[(df.split == i) & (df.before_after == 1)])\n",
    "    before = get_dataset(df[(df.split == i) & (df.before_after == 0)])\n",
    "    folded_datasets.append((after, before))"
   ]
  },
  {
   "cell_type": "code",
   "execution_count": 13,
   "id": "af01f60a",
   "metadata": {},
   "outputs": [],
   "source": [
    "class Autoencoder(tfk.Model):\n",
    "    def __init__(self):\n",
    "        super(Autoencoder, self).__init__()\n",
    "        self.encoder = tfk.Sequential([\n",
    "            tfkl.Input(shape = BLOCK_SHAPE),\n",
    "            tfkl.Conv1D(64, kernel_size= 7, strides= 2, activation='relu', padding='same'),\n",
    "            tfkl.BatchNormalization(),\n",
    "            tfkl.Dropout(0.2),\n",
    "            tfkl.Conv1D(64, kernel_size= 7, strides= 2, activation='relu', padding='same'),\n",
    "            tfkl.BatchNormalization(),\n",
    "            tfkl.Dropout(0.2),\n",
    "            tfkl.Conv1D(64, kernel_size= 7, strides= 2, activation='relu', padding='same'),\n",
    "            tfkl.BatchNormalization(),\n",
    "            tfkl.Dropout(0.2),\n",
    "            tfkl.Conv1D(64, kernel_size= 7, strides= 2, activation='relu', padding='same'),\n",
    "            tfkl.BatchNormalization(),\n",
    "            tfkl.Dropout(0.2),\n",
    "        ])\n",
    "        \n",
    "        self.decoder = tf.keras.Sequential([\n",
    "            tfkl.Conv1DTranspose(64, kernel_size= 7, strides= 2, activation='relu', padding='same'),\n",
    "            tfkl.Conv1DTranspose(64, kernel_size= 7, strides= 2, activation='relu', padding='same'),\n",
    "            tfkl.Conv1DTranspose(64, kernel_size= 7, strides= 2, activation='relu', padding='same'),\n",
    "            tfkl.Conv1DTranspose(64, kernel_size= 7, strides= 2, activation='relu', padding='same'),\n",
    "            tfkl.GlobalAveragePooling1D(),\n",
    "            tfkl.Dense(1, activation='sigmoid'),\n",
    "        ])\n",
    "    \n",
    "    def call(self, x):\n",
    "        encoded = self.encoder(x)\n",
    "        decoded = self.decoder(encoded)\n",
    "        return decoded\n",
    "    \n",
    "    def build_graph(self):\n",
    "        x = tfkl.Input(shape=BLOCK_SHAPE)\n",
    "        return tfk.Model(inputs=[x], outputs=self.call(x))"
   ]
  },
  {
   "cell_type": "code",
   "execution_count": 14,
   "id": "ef934780",
   "metadata": {},
   "outputs": [
    {
     "data": {
      "text/plain": [
       "'def Autoencoder():\\n    model = tfk.Sequential([\\n        tfk.Input(shape=BLOCK_SHAPE),\\n        #encoder\\n        tfkl.Conv1D(filters=64, kernel_size=7, padding=\"same\", strides=2, activation=\"relu\"),\\n        tfkl.BatchNormalization(),\\n        tfkl.Dropout(0.2),\\n        tfkl.Conv1D(filters=64, kernel_size=7, padding=\"same\", strides=2, activation=\"relu\"),\\n        tfkl.BatchNormalization(),\\n        tfkl.Dropout(0.2),        \\n        tfkl.Conv1D(filters=64, kernel_size=7, padding=\"same\", strides=2, activation=\"relu\"),\\n        tfkl.BatchNormalization(),\\n        tfkl.Dropout(0.2),         \\n              \\n        #decoder\\n        tfkl.Conv1DTranspose(filters=64, kernel_size=7, padding=\"same\", strides=2, activation=\"relu\"),    \\n        tfkl.Conv1DTranspose(filters=64, kernel_size=7, padding=\"same\", strides=2, activation=\"relu\"),    \\n        tfkl.Conv1DTranspose(filters=64, kernel_size=7, padding=\"same\", strides=2, activation=\"relu\"),        \\n        tfkl.GlobalAveragePooling1D(),\\n        tfkl.Dense(1, activation=\\'sigmoid\\'),\\n    ])\\n    \\n    return model\\n'"
      ]
     },
     "execution_count": 14,
     "metadata": {},
     "output_type": "execute_result"
    }
   ],
   "source": [
    "\"\"\"def Autoencoder():\n",
    "    model = tfk.Sequential([\n",
    "        tfk.Input(shape=BLOCK_SHAPE),\n",
    "        #encoder\n",
    "        tfkl.Conv1D(filters=64, kernel_size=7, padding=\"same\", strides=2, activation=\"relu\"),\n",
    "        tfkl.BatchNormalization(),\n",
    "        tfkl.Dropout(0.2),\n",
    "        tfkl.Conv1D(filters=64, kernel_size=7, padding=\"same\", strides=2, activation=\"relu\"),\n",
    "        tfkl.BatchNormalization(),\n",
    "        tfkl.Dropout(0.2),        \n",
    "        tfkl.Conv1D(filters=64, kernel_size=7, padding=\"same\", strides=2, activation=\"relu\"),\n",
    "        tfkl.BatchNormalization(),\n",
    "        tfkl.Dropout(0.2),         \n",
    "              \n",
    "        #decoder\n",
    "        tfkl.Conv1DTranspose(filters=64, kernel_size=7, padding=\"same\", strides=2, activation=\"relu\"),    \n",
    "        tfkl.Conv1DTranspose(filters=64, kernel_size=7, padding=\"same\", strides=2, activation=\"relu\"),    \n",
    "        tfkl.Conv1DTranspose(filters=64, kernel_size=7, padding=\"same\", strides=2, activation=\"relu\"),        \n",
    "        tfkl.GlobalAveragePooling1D(),\n",
    "        tfkl.Dense(1, activation='sigmoid'),\n",
    "    ])\n",
    "    \n",
    "    return model\n",
    "\"\"\""
   ]
  },
  {
   "cell_type": "code",
   "execution_count": 15,
   "id": "3ea48038",
   "metadata": {},
   "outputs": [],
   "source": [
    "class Conv1D(tfk.Model):\n",
    "    def __init__(self):\n",
    "        super(Conv1D, self).__init__()\n",
    "        self.conv1D_model = tfk.Sequential([\n",
    "            tfkl.Input(shape = BLOCK_SHAPE),\n",
    "            tfkl.Conv1D(64, kernel_size= 7, strides=2, activation='relu', padding='same'),\n",
    "            tfkl.Dropout(0.2),\n",
    "            tfkl.Conv1D(64, kernel_size= 7, strides=2, activation='relu', padding='same'),\n",
    "            tfkl.Dropout(0.2),\n",
    "            tfkl.Conv1D(64, kernel_size= 7, strides=2, activation='relu', padding='same'),\n",
    "            tfkl.Dropout(0.2),\n",
    "            tfkl.Conv1D(64, kernel_size= 7, strides=2, activation='relu', padding='same'),\n",
    "            tfkl.Dropout(0.2),\n",
    "            tfkl.GlobalAveragePooling1D(),\n",
    "            tfkl.Dense(1, activation='sigmoid'),\n",
    "        ])\n",
    "            \n",
    "    def call(self, x):\n",
    "        conv1D = self.conv1D_model(x)\n",
    "        return conv1D\n",
    "    \n",
    "    def build_graph(self):\n",
    "        x = tfkl.Input(shape=BLOCK_SHAPE)\n",
    "        return tfk.Model(inputs=[x], outputs=self.call(x))"
   ]
  },
  {
   "cell_type": "code",
   "execution_count": 16,
   "id": "0065c5f7",
   "metadata": {},
   "outputs": [
    {
     "data": {
      "text/plain": [
       "'def Conv1D():\\n    model = tfk.Sequential([\\n        tfk.Input(shape=BLOCK_SHAPE),\\n        tfkl.Conv1D(filters=64, kernel_size=7, padding=\"same\", strides=2, activation=\"relu\"),\\n        tfkl.Dropout(0.2),\\n        tfkl.Conv1D(filters=64, kernel_size=7, padding=\"same\", strides=2, activation=\"relu\"),\\n        tfkl.Dropout(0.2),\\n        tfkl.Conv1D(filters=64, kernel_size=7, padding=\"same\", strides=2, activation=\"relu\"),\\n        tfkl.Dropout(0.2),\\n        tfkl.Conv1D(filters=64, kernel_size=7, padding=\"same\", strides=2, activation=\"relu\"),\\n        tfkl.Dropout(0.2),\\n        tfkl.GlobalAveragePooling1D(),\\n        tfkl.Dense(1, activation=\\'sigmoid\\'),\\n    ])\\n    \\n    return model\\n'"
      ]
     },
     "execution_count": 16,
     "metadata": {},
     "output_type": "execute_result"
    }
   ],
   "source": [
    "\"\"\"def Conv1D():\n",
    "    model = tfk.Sequential([\n",
    "        tfk.Input(shape=BLOCK_SHAPE),\n",
    "        tfkl.Conv1D(filters=64, kernel_size=7, padding=\"same\", strides=2, activation=\"relu\"),\n",
    "        tfkl.Dropout(0.2),\n",
    "        tfkl.Conv1D(filters=64, kernel_size=7, padding=\"same\", strides=2, activation=\"relu\"),\n",
    "        tfkl.Dropout(0.2),\n",
    "        tfkl.Conv1D(filters=64, kernel_size=7, padding=\"same\", strides=2, activation=\"relu\"),\n",
    "        tfkl.Dropout(0.2),\n",
    "        tfkl.Conv1D(filters=64, kernel_size=7, padding=\"same\", strides=2, activation=\"relu\"),\n",
    "        tfkl.Dropout(0.2),\n",
    "        tfkl.GlobalAveragePooling1D(),\n",
    "        tfkl.Dense(1, activation='sigmoid'),\n",
    "    ])\n",
    "    \n",
    "    return model\n",
    "\"\"\""
   ]
  },
  {
   "cell_type": "code",
   "execution_count": 17,
   "id": "d119525b",
   "metadata": {
    "scrolled": false
   },
   "outputs": [
    {
     "name": "stdout",
     "output_type": "stream",
     "text": [
      "Epoch 1/30\n",
      "200/200 [==============================] - 24s 16ms/step - loss: 0.2658 - accuracy: 0.0000e+00 - root_mean_squared_error: 0.5156 - val_loss: 0.2496 - val_accuracy: 0.5417 - val_root_mean_squared_error: 0.4996\n",
      "Epoch 2/30\n",
      "200/200 [==============================] - 3s 15ms/step - loss: 0.2582 - accuracy: 0.0000e+00 - root_mean_squared_error: 0.5082 - val_loss: 0.2498 - val_accuracy: 0.5426 - val_root_mean_squared_error: 0.4998\n",
      "Epoch 3/30\n",
      "200/200 [==============================] - 3s 15ms/step - loss: 0.2509 - accuracy: 0.3828 - root_mean_squared_error: 0.5009 - val_loss: 0.2502 - val_accuracy: 0.4583 - val_root_mean_squared_error: 0.5002\n",
      "Epoch 4/30\n",
      "200/200 [==============================] - 3s 15ms/step - loss: 0.2435 - accuracy: 0.9995 - root_mean_squared_error: 0.4935 - val_loss: 0.2507 - val_accuracy: 0.4583 - val_root_mean_squared_error: 0.5007\n",
      "Epoch 5/30\n",
      "200/200 [==============================] - 3s 15ms/step - loss: 0.2356 - accuracy: 1.0000 - root_mean_squared_error: 0.4854 - val_loss: 0.2514 - val_accuracy: 0.4583 - val_root_mean_squared_error: 0.5014\n",
      "Epoch 6/30\n",
      "200/200 [==============================] - 3s 15ms/step - loss: 0.2269 - accuracy: 1.0000 - root_mean_squared_error: 0.4764 - val_loss: 0.2523 - val_accuracy: 0.4583 - val_root_mean_squared_error: 0.5023\n",
      "Epoch 7/30\n",
      "200/200 [==============================] - 3s 15ms/step - loss: 0.2172 - accuracy: 1.0000 - root_mean_squared_error: 0.4660 - val_loss: 0.2533 - val_accuracy: 0.4583 - val_root_mean_squared_error: 0.5032\n",
      "Epoch 8/30\n",
      "200/200 [==============================] - 3s 15ms/step - loss: 0.2062 - accuracy: 1.0000 - root_mean_squared_error: 0.4541 - val_loss: 0.2548 - val_accuracy: 0.4583 - val_root_mean_squared_error: 0.5048\n",
      "Epoch 9/30\n",
      "200/200 [==============================] - 3s 15ms/step - loss: 0.1939 - accuracy: 1.0000 - root_mean_squared_error: 0.4403 - val_loss: 0.2570 - val_accuracy: 0.4583 - val_root_mean_squared_error: 0.5069\n",
      "Epoch 10/30\n",
      "200/200 [==============================] - 3s 15ms/step - loss: 0.1800 - accuracy: 1.0000 - root_mean_squared_error: 0.4243 - val_loss: 0.2596 - val_accuracy: 0.4583 - val_root_mean_squared_error: 0.5095\n",
      "Epoch 11/30\n",
      "200/200 [==============================] - 3s 15ms/step - loss: 0.1649 - accuracy: 1.0000 - root_mean_squared_error: 0.4061 - val_loss: 0.2628 - val_accuracy: 0.4583 - val_root_mean_squared_error: 0.5126\n",
      "Epoch 12/30\n",
      "200/200 [==============================] - 3s 15ms/step - loss: 0.1486 - accuracy: 1.0000 - root_mean_squared_error: 0.3855 - val_loss: 0.2681 - val_accuracy: 0.4583 - val_root_mean_squared_error: 0.5178\n",
      "Epoch 13/30\n",
      "200/200 [==============================] - 3s 15ms/step - loss: 0.1319 - accuracy: 1.0000 - root_mean_squared_error: 0.3631 - val_loss: 0.2740 - val_accuracy: 0.4583 - val_root_mean_squared_error: 0.5235\n",
      "Epoch 14/30\n",
      "200/200 [==============================] - 3s 15ms/step - loss: 0.1148 - accuracy: 1.0000 - root_mean_squared_error: 0.3388 - val_loss: 0.2828 - val_accuracy: 0.4583 - val_root_mean_squared_error: 0.5318\n",
      "Epoch 15/30\n",
      "200/200 [==============================] - 3s 15ms/step - loss: 0.0982 - accuracy: 1.0000 - root_mean_squared_error: 0.3134 - val_loss: 0.2921 - val_accuracy: 0.4583 - val_root_mean_squared_error: 0.5404\n",
      "Epoch 16/30\n",
      "200/200 [==============================] - 3s 15ms/step - loss: 0.0826 - accuracy: 1.0000 - root_mean_squared_error: 0.2874 - val_loss: 0.3033 - val_accuracy: 0.4583 - val_root_mean_squared_error: 0.5508\n",
      "Epoch 17/30\n",
      "200/200 [==============================] - 3s 15ms/step - loss: 0.0685 - accuracy: 1.0000 - root_mean_squared_error: 0.2617 - val_loss: 0.3164 - val_accuracy: 0.4583 - val_root_mean_squared_error: 0.5625\n",
      "Epoch 18/30\n",
      "200/200 [==============================] - 3s 15ms/step - loss: 0.0560 - accuracy: 1.0000 - root_mean_squared_error: 0.2366 - val_loss: 0.3320 - val_accuracy: 0.4583 - val_root_mean_squared_error: 0.5762\n",
      "Epoch 19/30\n",
      "200/200 [==============================] - 3s 15ms/step - loss: 0.0454 - accuracy: 1.0000 - root_mean_squared_error: 0.2130 - val_loss: 0.3461 - val_accuracy: 0.4583 - val_root_mean_squared_error: 0.5883\n",
      "Epoch 20/30\n",
      "200/200 [==============================] - 3s 15ms/step - loss: 0.0366 - accuracy: 1.0000 - root_mean_squared_error: 0.1912 - val_loss: 0.3604 - val_accuracy: 0.4583 - val_root_mean_squared_error: 0.6003\n",
      "Epoch 21/30\n",
      "200/200 [==============================] - 3s 15ms/step - loss: 0.0293 - accuracy: 1.0000 - root_mean_squared_error: 0.1711 - val_loss: 0.3722 - val_accuracy: 0.4583 - val_root_mean_squared_error: 0.6101\n",
      "Epoch 22/30\n",
      "200/200 [==============================] - 3s 15ms/step - loss: 0.0237 - accuracy: 1.0000 - root_mean_squared_error: 0.1538 - val_loss: 0.3889 - val_accuracy: 0.4583 - val_root_mean_squared_error: 0.6236\n",
      "Epoch 23/30\n",
      "200/200 [==============================] - 3s 15ms/step - loss: 0.0189 - accuracy: 1.0000 - root_mean_squared_error: 0.1376 - val_loss: 0.4003 - val_accuracy: 0.4583 - val_root_mean_squared_error: 0.6327\n",
      "Epoch 24/30\n",
      "200/200 [==============================] - 3s 15ms/step - loss: 0.0153 - accuracy: 1.0000 - root_mean_squared_error: 0.1236 - val_loss: 0.4108 - val_accuracy: 0.4583 - val_root_mean_squared_error: 0.6409\n",
      "Epoch 25/30\n",
      "200/200 [==============================] - 3s 15ms/step - loss: 0.0123 - accuracy: 1.0000 - root_mean_squared_error: 0.1109 - val_loss: 0.4213 - val_accuracy: 0.4583 - val_root_mean_squared_error: 0.6491\n",
      "Epoch 26/30\n",
      "200/200 [==============================] - 3s 15ms/step - loss: 0.0100 - accuracy: 1.0000 - root_mean_squared_error: 0.0999 - val_loss: 0.4328 - val_accuracy: 0.4583 - val_root_mean_squared_error: 0.6579red_error: 0.\n",
      "Epoch 27/30\n",
      "200/200 [==============================] - 3s 15ms/step - loss: 0.0081 - accuracy: 1.0000 - root_mean_squared_error: 0.0902 - val_loss: 0.4414 - val_accuracy: 0.4583 - val_root_mean_squared_error: 0.6644\n",
      "Epoch 28/30\n",
      "200/200 [==============================] - 3s 15ms/step - loss: 0.0067 - accuracy: 1.0000 - root_mean_squared_error: 0.0816 - val_loss: 0.4498 - val_accuracy: 0.4583 - val_root_mean_squared_error: 0.6707\n",
      "Epoch 29/30\n",
      "200/200 [==============================] - 3s 15ms/step - loss: 0.0055 - accuracy: 1.0000 - root_mean_squared_error: 0.0743 - val_loss: 0.4583 - val_accuracy: 0.4583 - val_root_mean_squared_error: 0.6770- root_mean_squared_e - ETA: 0s - loss: 0.0057 - accuracy: 1.0000\n",
      "Epoch 30/30\n",
      "200/200 [==============================] - 3s 14ms/step - loss: 0.0045 - accuracy: 1.0000 - root_mean_squared_error: 0.0672 - val_loss: 0.4658 - val_accuracy: 0.4583 - val_root_mean_squared_error: 0.6825\n",
      "Epoch 1/30\n",
      "200/200 [==============================] - 5s 16ms/step - loss: 0.2513 - accuracy: 0.3320 - root_mean_squared_error: 0.5013 - val_loss: 0.2501 - val_accuracy: 0.4556 - val_root_mean_squared_error: 0.5001\n",
      "Epoch 2/30\n",
      "200/200 [==============================] - 3s 15ms/step - loss: 0.2442 - accuracy: 0.9917 - root_mean_squared_error: 0.4942 - val_loss: 0.2506 - val_accuracy: 0.4526 - val_root_mean_squared_error: 0.5005\n",
      "Epoch 3/30\n",
      "200/200 [==============================] - 3s 15ms/step - loss: 0.2367 - accuracy: 1.0000 - root_mean_squared_error: 0.4865 - val_loss: 0.2511 - val_accuracy: 0.4526 - val_root_mean_squared_error: 0.5011\n",
      "Epoch 4/30\n",
      "200/200 [==============================] - 3s 15ms/step - loss: 0.2284 - accuracy: 1.0000 - root_mean_squared_error: 0.4779 - val_loss: 0.2523 - val_accuracy: 0.4526 - val_root_mean_squared_error: 0.5023\n",
      "Epoch 5/30\n",
      "200/200 [==============================] - 3s 15ms/step - loss: 0.2192 - accuracy: 1.0000 - root_mean_squared_error: 0.4682 - val_loss: 0.2529 - val_accuracy: 0.4526 - val_root_mean_squared_error: 0.5029\n",
      "Epoch 6/30\n",
      "200/200 [==============================] - 3s 15ms/step - loss: 0.2088 - accuracy: 1.0000 - root_mean_squared_error: 0.4570 - val_loss: 0.2542 - val_accuracy: 0.4526 - val_root_mean_squared_error: 0.5042\n",
      "Epoch 7/30\n",
      "200/200 [==============================] - 3s 15ms/step - loss: 0.1970 - accuracy: 1.0000 - root_mean_squared_error: 0.4439 - val_loss: 0.2559 - val_accuracy: 0.4526 - val_root_mean_squared_error: 0.5059\n",
      "Epoch 8/30\n",
      "200/200 [==============================] - 3s 15ms/step - loss: 0.1840 - accuracy: 1.0000 - root_mean_squared_error: 0.4290 - val_loss: 0.2589 - val_accuracy: 0.4526 - val_root_mean_squared_error: 0.5088\n"
     ]
    },
    {
     "name": "stdout",
     "output_type": "stream",
     "text": [
      "Epoch 9/30\n",
      "200/200 [==============================] - 3s 15ms/step - loss: 0.1695 - accuracy: 1.0000 - root_mean_squared_error: 0.4117 - val_loss: 0.2621 - val_accuracy: 0.4526 - val_root_mean_squared_error: 0.5119\n",
      "Epoch 10/30\n",
      "200/200 [==============================] - 3s 15ms/step - loss: 0.1540 - accuracy: 1.0000 - root_mean_squared_error: 0.3924 - val_loss: 0.2667 - val_accuracy: 0.4526 - val_root_mean_squared_error: 0.5164\n",
      "Epoch 11/30\n",
      "200/200 [==============================] - 3s 15ms/step - loss: 0.1377 - accuracy: 1.0000 - root_mean_squared_error: 0.3711 - val_loss: 0.2714 - val_accuracy: 0.4526 - val_root_mean_squared_error: 0.5210\n",
      "Epoch 12/30\n",
      "200/200 [==============================] - 3s 15ms/step - loss: 0.1207 - accuracy: 1.0000 - root_mean_squared_error: 0.3475 - val_loss: 0.2797 - val_accuracy: 0.4526 - val_root_mean_squared_error: 0.5289\n",
      "Epoch 13/30\n",
      "200/200 [==============================] - 3s 15ms/step - loss: 0.1041 - accuracy: 1.0000 - root_mean_squared_error: 0.3227 - val_loss: 0.2872 - val_accuracy: 0.4526 - val_root_mean_squared_error: 0.5359\n",
      "Epoch 14/30\n",
      "200/200 [==============================] - 3s 15ms/step - loss: 0.0881 - accuracy: 1.0000 - root_mean_squared_error: 0.2969 - val_loss: 0.2983 - val_accuracy: 0.4526 - val_root_mean_squared_error: 0.5462\n",
      "Epoch 15/30\n",
      "200/200 [==============================] - 3s 15ms/step - loss: 0.0733 - accuracy: 1.0000 - root_mean_squared_error: 0.2707 - val_loss: 0.3109 - val_accuracy: 0.4526 - val_root_mean_squared_error: 0.5576\n",
      "Epoch 16/30\n",
      "200/200 [==============================] - 3s 15ms/step - loss: 0.0600 - accuracy: 1.0000 - root_mean_squared_error: 0.2450 - val_loss: 0.3246 - val_accuracy: 0.4526 - val_root_mean_squared_error: 0.5697\n",
      "Epoch 17/30\n",
      "200/200 [==============================] - 3s 15ms/step - loss: 0.0483 - accuracy: 1.0000 - root_mean_squared_error: 0.2198 - val_loss: 0.3408 - val_accuracy: 0.4526 - val_root_mean_squared_error: 0.5838\n",
      "Epoch 18/30\n",
      "200/200 [==============================] - 3s 15ms/step - loss: 0.0386 - accuracy: 1.0000 - root_mean_squared_error: 0.1966 - val_loss: 0.3545 - val_accuracy: 0.4526 - val_root_mean_squared_error: 0.5954\n",
      "Epoch 19/30\n",
      "200/200 [==============================] - 3s 15ms/step - loss: 0.0308 - accuracy: 1.0000 - root_mean_squared_error: 0.1755 - val_loss: 0.3708 - val_accuracy: 0.4526 - val_root_mean_squared_error: 0.6089\n",
      "Epoch 20/30\n",
      "200/200 [==============================] - 3s 15ms/step - loss: 0.0243 - accuracy: 1.0000 - root_mean_squared_error: 0.1560 - val_loss: 0.3877 - val_accuracy: 0.4526 - val_root_mean_squared_error: 0.6227\n",
      "Epoch 21/30\n",
      "200/200 [==============================] - 3s 15ms/step - loss: 0.0192 - accuracy: 1.0000 - root_mean_squared_error: 0.1385 - val_loss: 0.4004 - val_accuracy: 0.4526 - val_root_mean_squared_error: 0.6327\n",
      "Epoch 22/30\n",
      "200/200 [==============================] - 3s 17ms/step - loss: 0.0153 - accuracy: 1.0000 - root_mean_squared_error: 0.1236 - val_loss: 0.4122 - val_accuracy: 0.4526 - val_root_mean_squared_error: 0.6420\n",
      "Epoch 23/30\n",
      "200/200 [==============================] - 4s 18ms/step - loss: 0.0123 - accuracy: 1.0000 - root_mean_squared_error: 0.1109 - val_loss: 0.4254 - val_accuracy: 0.4526 - val_root_mean_squared_error: 0.6522\n",
      "Epoch 24/30\n",
      "200/200 [==============================] - 3s 17ms/step - loss: 0.0098 - accuracy: 1.0000 - root_mean_squared_error: 0.0988 - val_loss: 0.4358 - val_accuracy: 0.4526 - val_root_mean_squared_error: 0.6602\n",
      "Epoch 25/30\n",
      "200/200 [==============================] - 3s 16ms/step - loss: 0.0079 - accuracy: 1.0000 - root_mean_squared_error: 0.0889 - val_loss: 0.4471 - val_accuracy: 0.4526 - val_root_mean_squared_error: 0.6687\n",
      "Epoch 26/30\n",
      "200/200 [==============================] - 4s 19ms/step - loss: 0.0064 - accuracy: 1.0000 - root_mean_squared_error: 0.0797 - val_loss: 0.4556 - val_accuracy: 0.4526 - val_root_mean_squared_error: 0.6750\n",
      "Epoch 27/30\n",
      "200/200 [==============================] - 3s 16ms/step - loss: 0.0052 - accuracy: 1.0000 - root_mean_squared_error: 0.0720 - val_loss: 0.4622 - val_accuracy: 0.4526 - val_root_mean_squared_error: 0.6799\n",
      "Epoch 28/30\n",
      "200/200 [==============================] - 3s 17ms/step - loss: 0.0042 - accuracy: 1.0000 - root_mean_squared_error: 0.0652 - val_loss: 0.4715 - val_accuracy: 0.4526 - val_root_mean_squared_error: 0.6867\n",
      "Epoch 29/30\n",
      "200/200 [==============================] - 3s 16ms/step - loss: 0.0035 - accuracy: 1.0000 - root_mean_squared_error: 0.0592 - val_loss: 0.4765 - val_accuracy: 0.4526 - val_root_mean_squared_error: 0.6903\n",
      "Epoch 30/30\n",
      "200/200 [==============================] - 4s 18ms/step - loss: 0.0029 - accuracy: 1.0000 - root_mean_squared_error: 0.0534 - val_loss: 0.4847 - val_accuracy: 0.4526 - val_root_mean_squared_error: 0.6962\n",
      "Epoch 1/30\n",
      "200/200 [==============================] - 6s 21ms/step - loss: 0.2397 - accuracy: 1.0000 - root_mean_squared_error: 0.4896 - val_loss: 0.2505 - val_accuracy: 0.4662 - val_root_mean_squared_error: 0.5005_mean_squared_e\n",
      "Epoch 2/30\n",
      "200/200 [==============================] - 4s 19ms/step - loss: 0.2329 - accuracy: 1.0000 - root_mean_squared_error: 0.4826 - val_loss: 0.2510 - val_accuracy: 0.4662 - val_root_mean_squared_error: 0.5010\n",
      "Epoch 3/30\n",
      "200/200 [==============================] - 3s 16ms/step - loss: 0.2253 - accuracy: 1.0000 - root_mean_squared_error: 0.4747 - val_loss: 0.2518 - val_accuracy: 0.4662 - val_root_mean_squared_error: 0.5018\n",
      "Epoch 4/30\n",
      "200/200 [==============================] - 3s 17ms/step - loss: 0.2167 - accuracy: 1.0000 - root_mean_squared_error: 0.4656 - val_loss: 0.2528 - val_accuracy: 0.4662 - val_root_mean_squared_error: 0.5028\n",
      "Epoch 5/30\n",
      "200/200 [==============================] - 3s 14ms/step - loss: 0.2071 - accuracy: 1.0000 - root_mean_squared_error: 0.4551 - val_loss: 0.2537 - val_accuracy: 0.4662 - val_root_mean_squared_error: 0.5037\n",
      "Epoch 6/30\n",
      "200/200 [==============================] - 3s 15ms/step - loss: 0.1961 - accuracy: 1.0000 - root_mean_squared_error: 0.4428 - val_loss: 0.2550 - val_accuracy: 0.4662 - val_root_mean_squared_error: 0.5050\n",
      "Epoch 7/30\n",
      "200/200 [==============================] - 3s 15ms/step - loss: 0.1840 - accuracy: 1.0000 - root_mean_squared_error: 0.4289 - val_loss: 0.2574 - val_accuracy: 0.4662 - val_root_mean_squared_error: 0.5074\n",
      "Epoch 8/30\n",
      "200/200 [==============================] - 3s 16ms/step - loss: 0.1703 - accuracy: 1.0000 - root_mean_squared_error: 0.4127 - val_loss: 0.2601 - val_accuracy: 0.4662 - val_root_mean_squared_error: 0.5100\n",
      "Epoch 9/30\n",
      "200/200 [==============================] - 3s 15ms/step - loss: 0.1555 - accuracy: 1.0000 - root_mean_squared_error: 0.3944 - val_loss: 0.2637 - val_accuracy: 0.4662 - val_root_mean_squared_error: 0.5135\n",
      "Epoch 10/30\n",
      "200/200 [==============================] - 3s 16ms/step - loss: 0.1398 - accuracy: 1.0000 - root_mean_squared_error: 0.3739 - val_loss: 0.2691 - val_accuracy: 0.4662 - val_root_mean_squared_error: 0.5188\n",
      "Epoch 11/30\n",
      "200/200 [==============================] - 3s 16ms/step - loss: 0.1234 - accuracy: 1.0000 - root_mean_squared_error: 0.3513 - val_loss: 0.2751 - val_accuracy: 0.4662 - val_root_mean_squared_error: 0.5245\n",
      "Epoch 12/30\n",
      "200/200 [==============================] - 3s 16ms/step - loss: 0.1069 - accuracy: 1.0000 - root_mean_squared_error: 0.3269 - val_loss: 0.2847 - val_accuracy: 0.4662 - val_root_mean_squared_error: 0.5336\n",
      "Epoch 13/30\n",
      "200/200 [==============================] - 3s 16ms/step - loss: 0.0911 - accuracy: 1.0000 - root_mean_squared_error: 0.3018 - val_loss: 0.2938 - val_accuracy: 0.4662 - val_root_mean_squared_error: 0.5420\n",
      "Epoch 14/30\n",
      "200/200 [==============================] - 3s 16ms/step - loss: 0.0761 - accuracy: 1.0000 - root_mean_squared_error: 0.2758 - val_loss: 0.3060 - val_accuracy: 0.4662 - val_root_mean_squared_error: 0.5532\n",
      "Epoch 15/30\n",
      "200/200 [==============================] - 3s 16ms/step - loss: 0.0627 - accuracy: 1.0000 - root_mean_squared_error: 0.2504 - val_loss: 0.3190 - val_accuracy: 0.4662 - val_root_mean_squared_error: 0.5648\n",
      "Epoch 16/30\n",
      "200/200 [==============================] - 3s 16ms/step - loss: 0.0509 - accuracy: 1.0000 - root_mean_squared_error: 0.2255 - val_loss: 0.3330 - val_accuracy: 0.4662 - val_root_mean_squared_error: 0.5770\n"
     ]
    },
    {
     "name": "stdout",
     "output_type": "stream",
     "text": [
      "Epoch 17/30\n",
      "200/200 [==============================] - 3s 16ms/step - loss: 0.0409 - accuracy: 1.0000 - root_mean_squared_error: 0.2023 - val_loss: 0.3486 - val_accuracy: 0.4662 - val_root_mean_squared_error: 0.5904\n",
      "Epoch 18/30\n",
      "200/200 [==============================] - 3s 16ms/step - loss: 0.0326 - accuracy: 1.0000 - root_mean_squared_error: 0.1806 - val_loss: 0.3650 - val_accuracy: 0.4662 - val_root_mean_squared_error: 0.6041\n",
      "Epoch 19/30\n",
      "200/200 [==============================] - 3s 16ms/step - loss: 0.0261 - accuracy: 1.0000 - root_mean_squared_error: 0.1615 - val_loss: 0.3770 - val_accuracy: 0.4662 - val_root_mean_squared_error: 0.6140\n",
      "Epoch 20/30\n",
      "200/200 [==============================] - 3s 15ms/step - loss: 0.0207 - accuracy: 1.0000 - root_mean_squared_error: 0.1439 - val_loss: 0.3910 - val_accuracy: 0.4662 - val_root_mean_squared_error: 0.6253\n",
      "Epoch 21/30\n",
      "200/200 [==============================] - 3s 15ms/step - loss: 0.0164 - accuracy: 1.0000 - root_mean_squared_error: 0.1282 - val_loss: 0.4038 - val_accuracy: 0.4662 - val_root_mean_squared_error: 0.6355\n",
      "Epoch 22/30\n",
      "200/200 [==============================] - 3s 15ms/step - loss: 0.0133 - accuracy: 1.0000 - root_mean_squared_error: 0.1152 - val_loss: 0.4158 - val_accuracy: 0.4662 - val_root_mean_squared_error: 0.6448\n",
      "Epoch 23/30\n",
      "200/200 [==============================] - 3s 15ms/step - loss: 0.0106 - accuracy: 1.0000 - root_mean_squared_error: 0.1028 - val_loss: 0.4279 - val_accuracy: 0.4662 - val_root_mean_squared_error: 0.6542\n",
      "Epoch 24/30\n",
      "200/200 [==============================] - 3s 15ms/step - loss: 0.0086 - accuracy: 1.0000 - root_mean_squared_error: 0.0925 - val_loss: 0.4359 - val_accuracy: 0.4662 - val_root_mean_squared_error: 0.6602 accuracy: 1.0000 - root_mean_squared\n",
      "Epoch 25/30\n",
      "200/200 [==============================] - 3s 15ms/step - loss: 0.0069 - accuracy: 1.0000 - root_mean_squared_error: 0.0831 - val_loss: 0.4459 - val_accuracy: 0.4662 - val_root_mean_squared_error: 0.6678\n",
      "Epoch 26/30\n",
      "200/200 [==============================] - 3s 15ms/step - loss: 0.0056 - accuracy: 1.0000 - root_mean_squared_error: 0.0749 - val_loss: 0.4528 - val_accuracy: 0.4662 - val_root_mean_squared_error: 0.6729\n",
      "Epoch 27/30\n",
      "200/200 [==============================] - 3s 15ms/step - loss: 0.0046 - accuracy: 1.0000 - root_mean_squared_error: 0.0682 - val_loss: 0.4605 - val_accuracy: 0.4662 - val_root_mean_squared_error: 0.6786\n",
      "Epoch 28/30\n",
      "200/200 [==============================] - 3s 15ms/step - loss: 0.0038 - accuracy: 1.0000 - root_mean_squared_error: 0.0617 - val_loss: 0.4669 - val_accuracy: 0.4662 - val_root_mean_squared_error: 0.6833\n",
      "Epoch 29/30\n",
      "200/200 [==============================] - 3s 15ms/step - loss: 0.0032 - accuracy: 1.0000 - root_mean_squared_error: 0.0562 - val_loss: 0.4738 - val_accuracy: 0.4662 - val_root_mean_squared_error: 0.6883\n",
      "Epoch 30/30\n",
      "200/200 [==============================] - 3s 15ms/step - loss: 0.0026 - accuracy: 1.0000 - root_mean_squared_error: 0.0509 - val_loss: 0.4794 - val_accuracy: 0.4662 - val_root_mean_squared_error: 0.6924\n",
      "Epoch 1/30\n",
      "200/200 [==============================] - 5s 16ms/step - loss: 0.2363 - accuracy: 1.0000 - root_mean_squared_error: 0.4861 - val_loss: 0.2504 - val_accuracy: 0.4638 - val_root_mean_squared_error: 0.5004\n",
      "Epoch 2/30\n",
      "200/200 [==============================] - 3s 14ms/step - loss: 0.2304 - accuracy: 1.0000 - root_mean_squared_error: 0.4800 - val_loss: 0.2510 - val_accuracy: 0.4638 - val_root_mean_squared_error: 0.5010\n",
      "Epoch 3/30\n",
      "200/200 [==============================] - 3s 14ms/step - loss: 0.2238 - accuracy: 1.0000 - root_mean_squared_error: 0.4730 - val_loss: 0.2516 - val_accuracy: 0.4638 - val_root_mean_squared_error: 0.5016\n",
      "Epoch 4/30\n",
      "200/200 [==============================] - 3s 14ms/step - loss: 0.2161 - accuracy: 1.0000 - root_mean_squared_error: 0.4648 - val_loss: 0.2525 - val_accuracy: 0.4638 - val_root_mean_squared_error: 0.5025\n",
      "Epoch 5/30\n",
      "200/200 [==============================] - 3s 15ms/step - loss: 0.2071 - accuracy: 1.0000 - root_mean_squared_error: 0.4550 - val_loss: 0.2538 - val_accuracy: 0.4638 - val_root_mean_squared_error: 0.5038\n",
      "Epoch 6/30\n",
      "200/200 [==============================] - 3s 14ms/step - loss: 0.1968 - accuracy: 1.0000 - root_mean_squared_error: 0.4436 - val_loss: 0.2550 - val_accuracy: 0.4638 - val_root_mean_squared_error: 0.5050\n",
      "Epoch 7/30\n",
      "200/200 [==============================] - 3s 15ms/step - loss: 0.1850 - accuracy: 1.0000 - root_mean_squared_error: 0.4301 - val_loss: 0.2575 - val_accuracy: 0.4638 - val_root_mean_squared_error: 0.5074\n",
      "Epoch 8/30\n",
      "200/200 [==============================] - 3s 14ms/step - loss: 0.1719 - accuracy: 1.0000 - root_mean_squared_error: 0.4147 - val_loss: 0.2599 - val_accuracy: 0.4638 - val_root_mean_squared_error: 0.5098\n",
      "Epoch 9/30\n",
      "200/200 [==============================] - 3s 15ms/step - loss: 0.1575 - accuracy: 1.0000 - root_mean_squared_error: 0.3969 - val_loss: 0.2645 - val_accuracy: 0.4638 - val_root_mean_squared_error: 0.5142\n",
      "Epoch 10/30\n",
      "200/200 [==============================] - 3s 14ms/step - loss: 0.1419 - accuracy: 1.0000 - root_mean_squared_error: 0.3767 - val_loss: 0.2698 - val_accuracy: 0.4638 - val_root_mean_squared_error: 0.5194\n",
      "Epoch 11/30\n",
      "200/200 [==============================] - 3s 14ms/step - loss: 0.1258 - accuracy: 1.0000 - root_mean_squared_error: 0.3547 - val_loss: 0.2754 - val_accuracy: 0.4638 - val_root_mean_squared_error: 0.5248\n",
      "Epoch 12/30\n",
      "200/200 [==============================] - 3s 15ms/step - loss: 0.1095 - accuracy: 1.0000 - root_mean_squared_error: 0.3309 - val_loss: 0.2848 - val_accuracy: 0.4638 - val_root_mean_squared_error: 0.5337\n",
      "Epoch 13/30\n",
      "200/200 [==============================] - 3s 14ms/step - loss: 0.0939 - accuracy: 1.0000 - root_mean_squared_error: 0.3064 - val_loss: 0.2948 - val_accuracy: 0.4638 - val_root_mean_squared_error: 0.5429\n",
      "Epoch 14/30\n",
      "200/200 [==============================] - 3s 14ms/step - loss: 0.0786 - accuracy: 1.0000 - root_mean_squared_error: 0.2803 - val_loss: 0.3085 - val_accuracy: 0.4638 - val_root_mean_squared_error: 0.5555\n",
      "Epoch 15/30\n",
      "200/200 [==============================] - 3s 14ms/step - loss: 0.0648 - accuracy: 1.0000 - root_mean_squared_error: 0.2546 - val_loss: 0.3195 - val_accuracy: 0.4638 - val_root_mean_squared_error: 0.5652\n",
      "Epoch 16/30\n",
      "200/200 [==============================] - 3s 14ms/step - loss: 0.0528 - accuracy: 1.0000 - root_mean_squared_error: 0.2297 - val_loss: 0.3372 - val_accuracy: 0.4638 - val_root_mean_squared_error: 0.5807\n",
      "Epoch 17/30\n",
      "200/200 [==============================] - 3s 14ms/step - loss: 0.0426 - accuracy: 1.0000 - root_mean_squared_error: 0.2065 - val_loss: 0.3500 - val_accuracy: 0.4638 - val_root_mean_squared_error: 0.5916 accuracy: 1.0000 -\n",
      "Epoch 18/30\n",
      "200/200 [==============================] - 3s 13ms/step - loss: 0.0341 - accuracy: 1.0000 - root_mean_squared_error: 0.1847 - val_loss: 0.3662 - val_accuracy: 0.4638 - val_root_mean_squared_error: 0.6051\n",
      "Epoch 19/30\n",
      "200/200 [==============================] - 3s 14ms/step - loss: 0.0272 - accuracy: 1.0000 - root_mean_squared_error: 0.1650 - val_loss: 0.3781 - val_accuracy: 0.4638 - val_root_mean_squared_error: 0.6149\n",
      "Epoch 20/30\n",
      "200/200 [==============================] - 3s 14ms/step - loss: 0.0218 - accuracy: 1.0000 - root_mean_squared_error: 0.1477 - val_loss: 0.3931 - val_accuracy: 0.4638 - val_root_mean_squared_error: 0.6270\n",
      "Epoch 21/30\n",
      "200/200 [==============================] - 3s 15ms/step - loss: 0.0172 - accuracy: 1.0000 - root_mean_squared_error: 0.1312 - val_loss: 0.4096 - val_accuracy: 0.4638 - val_root_mean_squared_error: 0.6400\n",
      "Epoch 22/30\n",
      "200/200 [==============================] - 3s 14ms/step - loss: 0.0137 - accuracy: 1.0000 - root_mean_squared_error: 0.1172 - val_loss: 0.4190 - val_accuracy: 0.4638 - val_root_mean_squared_error: 0.6473\n",
      "Epoch 23/30\n",
      "200/200 [==============================] - 3s 14ms/step - loss: 0.0110 - accuracy: 1.0000 - root_mean_squared_error: 0.1050 - val_loss: 0.4299 - val_accuracy: 0.4638 - val_root_mean_squared_error: 0.6556\n",
      "Epoch 24/30\n",
      "200/200 [==============================] - 3s 14ms/step - loss: 0.0088 - accuracy: 1.0000 - root_mean_squared_error: 0.0940 - val_loss: 0.4383 - val_accuracy: 0.4638 - val_root_mean_squared_error: 0.6620\n"
     ]
    },
    {
     "name": "stdout",
     "output_type": "stream",
     "text": [
      "Epoch 25/30\n",
      "200/200 [==============================] - 3s 14ms/step - loss: 0.0072 - accuracy: 1.0000 - root_mean_squared_error: 0.0846 - val_loss: 0.4481 - val_accuracy: 0.4638 - val_root_mean_squared_error: 0.6694\n",
      "Epoch 26/30\n",
      "200/200 [==============================] - 3s 15ms/step - loss: 0.0058 - accuracy: 1.0000 - root_mean_squared_error: 0.0762 - val_loss: 0.4579 - val_accuracy: 0.4638 - val_root_mean_squared_error: 0.6767\n",
      "Epoch 27/30\n",
      "200/200 [==============================] - 3s 14ms/step - loss: 0.0047 - accuracy: 1.0000 - root_mean_squared_error: 0.0686 - val_loss: 0.4614 - val_accuracy: 0.4638 - val_root_mean_squared_error: 0.6793\n",
      "Epoch 28/30\n",
      "200/200 [==============================] - 3s 14ms/step - loss: 0.0039 - accuracy: 1.0000 - root_mean_squared_error: 0.0622 - val_loss: 0.4698 - val_accuracy: 0.4638 - val_root_mean_squared_error: 0.6854\n",
      "Epoch 29/30\n",
      "200/200 [==============================] - 3s 14ms/step - loss: 0.0032 - accuracy: 1.0000 - root_mean_squared_error: 0.0564 - val_loss: 0.4753 - val_accuracy: 0.4638 - val_root_mean_squared_error: 0.6894\n",
      "Epoch 30/30\n",
      "200/200 [==============================] - 3s 14ms/step - loss: 0.0026 - accuracy: 1.0000 - root_mean_squared_error: 0.0513 - val_loss: 0.4817 - val_accuracy: 0.4638 - val_root_mean_squared_error: 0.6941\n"
     ]
    },
    {
     "data": {
      "text/html": [
       "<div>\n",
       "<style scoped>\n",
       "    .dataframe tbody tr th:only-of-type {\n",
       "        vertical-align: middle;\n",
       "    }\n",
       "\n",
       "    .dataframe tbody tr th {\n",
       "        vertical-align: top;\n",
       "    }\n",
       "\n",
       "    .dataframe thead th {\n",
       "        text-align: right;\n",
       "    }\n",
       "</style>\n",
       "<table border=\"1\" class=\"dataframe\">\n",
       "  <thead>\n",
       "    <tr style=\"text-align: right;\">\n",
       "      <th></th>\n",
       "      <th>0</th>\n",
       "      <th>1</th>\n",
       "      <th>2</th>\n",
       "      <th>3</th>\n",
       "    </tr>\n",
       "  </thead>\n",
       "  <tbody>\n",
       "    <tr>\n",
       "      <th>loss</th>\n",
       "      <td>[0.26584476232528687, 0.2582414448261261, 0.25...</td>\n",
       "      <td>[0.25132665038108826, 0.24421626329421997, 0.2...</td>\n",
       "      <td>[0.2397383451461792, 0.23291832208633423, 0.22...</td>\n",
       "      <td>[0.23632606863975525, 0.23043695092201233, 0.2...</td>\n",
       "    </tr>\n",
       "    <tr>\n",
       "      <th>accuracy</th>\n",
       "      <td>[0.0, 0.0, 0.3828125, 0.9995312690734863, 1.0,...</td>\n",
       "      <td>[0.33203125, 0.9917187690734863, 1.0, 1.0, 1.0...</td>\n",
       "      <td>[1.0, 1.0, 1.0, 1.0, 1.0, 1.0, 1.0, 1.0, 1.0, ...</td>\n",
       "      <td>[1.0, 1.0, 1.0, 1.0, 1.0, 1.0, 1.0, 1.0, 1.0, ...</td>\n",
       "    </tr>\n",
       "    <tr>\n",
       "      <th>root_mean_squared_error</th>\n",
       "      <td>[0.5156013369560242, 0.5081745982170105, 0.500...</td>\n",
       "      <td>[0.5013248920440674, 0.49418240785598755, 0.48...</td>\n",
       "      <td>[0.4896308183670044, 0.482616126537323, 0.4746...</td>\n",
       "      <td>[0.48613378405570984, 0.48003846406936646, 0.4...</td>\n",
       "    </tr>\n",
       "    <tr>\n",
       "      <th>val_loss</th>\n",
       "      <td>[0.24957185983657837, 0.2498054802417755, 0.25...</td>\n",
       "      <td>[0.2501319944858551, 0.25055021047592163, 0.25...</td>\n",
       "      <td>[0.25045162439346313, 0.25099804997444153, 0.2...</td>\n",
       "      <td>[0.2504347860813141, 0.25095701217651367, 0.25...</td>\n",
       "    </tr>\n",
       "    <tr>\n",
       "      <th>val_accuracy</th>\n",
       "      <td>[0.5416666865348816, 0.5426136255264282, 0.458...</td>\n",
       "      <td>[0.4556451737880707, 0.4526209533214569, 0.452...</td>\n",
       "      <td>[0.46621620655059814, 0.46621620655059814, 0.4...</td>\n",
       "      <td>[0.4638157784938812, 0.4638157784938812, 0.463...</td>\n",
       "    </tr>\n",
       "    <tr>\n",
       "      <th>val_root_mean_squared_error</th>\n",
       "      <td>[0.49957168102264404, 0.4998054504394531, 0.50...</td>\n",
       "      <td>[0.5001319646835327, 0.5005499124526978, 0.501...</td>\n",
       "      <td>[0.500451385974884, 0.500997006893158, 0.50178...</td>\n",
       "      <td>[0.5004345774650574, 0.5009560585021973, 0.501...</td>\n",
       "    </tr>\n",
       "  </tbody>\n",
       "</table>\n",
       "</div>"
      ],
      "text/plain": [
       "                                                                             0  \\\n",
       "loss                         [0.26584476232528687, 0.2582414448261261, 0.25...   \n",
       "accuracy                     [0.0, 0.0, 0.3828125, 0.9995312690734863, 1.0,...   \n",
       "root_mean_squared_error      [0.5156013369560242, 0.5081745982170105, 0.500...   \n",
       "val_loss                     [0.24957185983657837, 0.2498054802417755, 0.25...   \n",
       "val_accuracy                 [0.5416666865348816, 0.5426136255264282, 0.458...   \n",
       "val_root_mean_squared_error  [0.49957168102264404, 0.4998054504394531, 0.50...   \n",
       "\n",
       "                                                                             1  \\\n",
       "loss                         [0.25132665038108826, 0.24421626329421997, 0.2...   \n",
       "accuracy                     [0.33203125, 0.9917187690734863, 1.0, 1.0, 1.0...   \n",
       "root_mean_squared_error      [0.5013248920440674, 0.49418240785598755, 0.48...   \n",
       "val_loss                     [0.2501319944858551, 0.25055021047592163, 0.25...   \n",
       "val_accuracy                 [0.4556451737880707, 0.4526209533214569, 0.452...   \n",
       "val_root_mean_squared_error  [0.5001319646835327, 0.5005499124526978, 0.501...   \n",
       "\n",
       "                                                                             2  \\\n",
       "loss                         [0.2397383451461792, 0.23291832208633423, 0.22...   \n",
       "accuracy                     [1.0, 1.0, 1.0, 1.0, 1.0, 1.0, 1.0, 1.0, 1.0, ...   \n",
       "root_mean_squared_error      [0.4896308183670044, 0.482616126537323, 0.4746...   \n",
       "val_loss                     [0.25045162439346313, 0.25099804997444153, 0.2...   \n",
       "val_accuracy                 [0.46621620655059814, 0.46621620655059814, 0.4...   \n",
       "val_root_mean_squared_error  [0.500451385974884, 0.500997006893158, 0.50178...   \n",
       "\n",
       "                                                                             3  \n",
       "loss                         [0.23632606863975525, 0.23043695092201233, 0.2...  \n",
       "accuracy                     [1.0, 1.0, 1.0, 1.0, 1.0, 1.0, 1.0, 1.0, 1.0, ...  \n",
       "root_mean_squared_error      [0.48613378405570984, 0.48003846406936646, 0.4...  \n",
       "val_loss                     [0.2504347860813141, 0.25095701217651367, 0.25...  \n",
       "val_accuracy                 [0.4638157784938812, 0.4638157784938812, 0.463...  \n",
       "val_root_mean_squared_error  [0.5004345774650574, 0.5009560585021973, 0.501...  "
      ]
     },
     "execution_count": 17,
     "metadata": {},
     "output_type": "execute_result"
    }
   ],
   "source": [
    "cnn1D_encoder_result = {}\n",
    "\n",
    "for i in range(NFOLD-1):\n",
    "    autoencoder = Autoencoder()\n",
    "    tfku.plot_model(\n",
    "        autoencoder.build_graph(),\n",
    "        to_file='autoencoder_model.png', dpi=96,\n",
    "        show_shapes=True, show_layer_names=True,\n",
    "        expand_nested=False\n",
    "    )\n",
    "\n",
    "    autoencoder.compile(optimizer = tfk.optimizers.Adam(learning_rate=1e-6), \n",
    "                        metrics = ['accuracy', \n",
    "                                   tfk.metrics.RootMeanSquaredError(),\n",
    "                                  ],\n",
    "                        loss = tfk.losses.MeanSquaredError(reduction= tfk.losses.Reduction.SUM_OVER_BATCH_SIZE)\n",
    "                       )\n",
    "    train_dataset, val_dataset, test_dataset = get_train_and_val_for_fold(folded_datasets=folded_datasets,fold = i)   \n",
    "    \n",
    "    result = autoencoder.fit(train_dataset, epochs= EPOCHS,steps_per_epoch = STEPS_PER_EPOCH,validation_data= val_dataset,)\n",
    "    \n",
    "    cnn1D_encoder_result[i] = result.history\n",
    "\n",
    "pd.DataFrame(cnn1D_encoder_result).to_csv('enc_result.csv')\n",
    "pd.DataFrame(cnn1D_encoder_result)"
   ]
  },
  {
   "cell_type": "code",
   "execution_count": 18,
   "id": "2ea41f5d",
   "metadata": {
    "scrolled": false
   },
   "outputs": [
    {
     "name": "stdout",
     "output_type": "stream",
     "text": [
      "Epoch 1/30\n",
      "200/200 [==============================] - 2s 9ms/step - loss: 0.2762 - accuracy: 0.0787 - root_mean_squared_error: 0.5256 - val_loss: 0.2490 - val_accuracy: 0.5417 - val_root_mean_squared_error: 0.4990\n",
      "Epoch 2/30\n",
      "200/200 [==============================] - 2s 8ms/step - loss: 0.2588 - accuracy: 0.3016 - root_mean_squared_error: 0.5087 - val_loss: 0.2502 - val_accuracy: 0.4801 - val_root_mean_squared_error: 0.5002\n",
      "Epoch 3/30\n",
      "200/200 [==============================] - 2s 8ms/step - loss: 0.2422 - accuracy: 0.7191 - root_mean_squared_error: 0.4922 - val_loss: 0.2523 - val_accuracy: 0.4593 - val_root_mean_squared_error: 0.5023\n",
      "Epoch 4/30\n",
      "200/200 [==============================] - 2s 8ms/step - loss: 0.2241 - accuracy: 0.9530 - root_mean_squared_error: 0.4733 - val_loss: 0.2554 - val_accuracy: 0.4583 - val_root_mean_squared_error: 0.5054\n",
      "Epoch 5/30\n",
      "200/200 [==============================] - 2s 8ms/step - loss: 0.2038 - accuracy: 0.9981 - root_mean_squared_error: 0.4514 - val_loss: 0.2592 - val_accuracy: 0.4583 - val_root_mean_squared_error: 0.5091\n",
      "Epoch 6/30\n",
      "200/200 [==============================] - 2s 8ms/step - loss: 0.1815 - accuracy: 0.9995 - root_mean_squared_error: 0.4261 - val_loss: 0.2665 - val_accuracy: 0.4583 - val_root_mean_squared_error: 0.5162\n",
      "Epoch 7/30\n",
      "200/200 [==============================] - 2s 8ms/step - loss: 0.1564 - accuracy: 1.0000 - root_mean_squared_error: 0.3955 - val_loss: 0.2759 - val_accuracy: 0.4583 - val_root_mean_squared_error: 0.5252\n",
      "Epoch 8/30\n",
      "200/200 [==============================] - 2s 8ms/step - loss: 0.1303 - accuracy: 1.0000 - root_mean_squared_error: 0.3609 - val_loss: 0.2896 - val_accuracy: 0.4583 - val_root_mean_squared_error: 0.5382\n",
      "Epoch 9/30\n",
      "200/200 [==============================] - 2s 8ms/step - loss: 0.1056 - accuracy: 1.0000 - root_mean_squared_error: 0.3249 - val_loss: 0.3072 - val_accuracy: 0.4583 - val_root_mean_squared_error: 0.5542\n",
      "Epoch 10/30\n",
      "200/200 [==============================] - 2s 8ms/step - loss: 0.0788 - accuracy: 1.0000 - root_mean_squared_error: 0.2808 - val_loss: 0.3303 - val_accuracy: 0.4583 - val_root_mean_squared_error: 0.5747\n",
      "Epoch 11/30\n",
      "200/200 [==============================] - 2s 8ms/step - loss: 0.0599 - accuracy: 1.0000 - root_mean_squared_error: 0.2448 - val_loss: 0.3593 - val_accuracy: 0.4583 - val_root_mean_squared_error: 0.5994\n",
      "Epoch 12/30\n",
      "200/200 [==============================] - 2s 8ms/step - loss: 0.0452 - accuracy: 1.0000 - root_mean_squared_error: 0.2125 - val_loss: 0.3830 - val_accuracy: 0.4583 - val_root_mean_squared_error: 0.6189\n",
      "Epoch 13/30\n",
      "200/200 [==============================] - 2s 8ms/step - loss: 0.0345 - accuracy: 1.0000 - root_mean_squared_error: 0.1858 - val_loss: 0.4028 - val_accuracy: 0.4583 - val_root_mean_squared_error: 0.6347\n",
      "Epoch 14/30\n",
      "200/200 [==============================] - 2s 8ms/step - loss: 0.0271 - accuracy: 1.0000 - root_mean_squared_error: 0.1645 - val_loss: 0.4215 - val_accuracy: 0.4583 - val_root_mean_squared_error: 0.6492\n",
      "Epoch 15/30\n",
      "200/200 [==============================] - 2s 8ms/step - loss: 0.0228 - accuracy: 1.0000 - root_mean_squared_error: 0.1510 - val_loss: 0.4336 - val_accuracy: 0.4583 - val_root_mean_squared_error: 0.6585\n",
      "Epoch 16/30\n",
      "200/200 [==============================] - 2s 8ms/step - loss: 0.0188 - accuracy: 1.0000 - root_mean_squared_error: 0.1373 - val_loss: 0.4505 - val_accuracy: 0.4583 - val_root_mean_squared_error: 0.6712\n",
      "Epoch 17/30\n",
      "200/200 [==============================] - 2s 8ms/step - loss: 0.0166 - accuracy: 1.0000 - root_mean_squared_error: 0.1290 - val_loss: 0.4603 - val_accuracy: 0.4583 - val_root_mean_squared_error: 0.6785\n",
      "Epoch 18/30\n",
      "200/200 [==============================] - 2s 8ms/step - loss: 0.0148 - accuracy: 1.0000 - root_mean_squared_error: 0.1217 - val_loss: 0.4726 - val_accuracy: 0.4583 - val_root_mean_squared_error: 0.6875\n",
      "Epoch 19/30\n",
      "200/200 [==============================] - 2s 8ms/step - loss: 0.0137 - accuracy: 1.0000 - root_mean_squared_error: 0.1170 - val_loss: 0.4820 - val_accuracy: 0.4583 - val_root_mean_squared_error: 0.6942\n",
      "Epoch 20/30\n",
      "200/200 [==============================] - 2s 8ms/step - loss: 0.0128 - accuracy: 1.0000 - root_mean_squared_error: 0.1131 - val_loss: 0.4811 - val_accuracy: 0.4583 - val_root_mean_squared_error: 0.6936\n",
      "Epoch 21/30\n",
      "200/200 [==============================] - 2s 8ms/step - loss: 0.0115 - accuracy: 1.0000 - root_mean_squared_error: 0.1073 - val_loss: 0.4895 - val_accuracy: 0.4583 - val_root_mean_squared_error: 0.6996\n",
      "Epoch 22/30\n",
      "200/200 [==============================] - 2s 8ms/step - loss: 0.0116 - accuracy: 1.0000 - root_mean_squared_error: 0.1077 - val_loss: 0.4914 - val_accuracy: 0.4583 - val_root_mean_squared_error: 0.7010\n",
      "Epoch 23/30\n",
      "200/200 [==============================] - 2s 8ms/step - loss: 0.0109 - accuracy: 1.0000 - root_mean_squared_error: 0.1044 - val_loss: 0.5012 - val_accuracy: 0.4583 - val_root_mean_squared_error: 0.7080\n",
      "Epoch 24/30\n",
      "200/200 [==============================] - 2s 8ms/step - loss: 0.0113 - accuracy: 1.0000 - root_mean_squared_error: 0.1064 - val_loss: 0.5045 - val_accuracy: 0.4583 - val_root_mean_squared_error: 0.7103\n",
      "Epoch 25/30\n",
      "200/200 [==============================] - 2s 8ms/step - loss: 0.0101 - accuracy: 1.0000 - root_mean_squared_error: 0.1004 - val_loss: 0.5087 - val_accuracy: 0.4583 - val_root_mean_squared_error: 0.7132\n",
      "Epoch 26/30\n",
      "200/200 [==============================] - 2s 8ms/step - loss: 0.0097 - accuracy: 1.0000 - root_mean_squared_error: 0.0986 - val_loss: 0.5094 - val_accuracy: 0.4583 - val_root_mean_squared_error: 0.7137\n",
      "Epoch 27/30\n",
      "200/200 [==============================] - 2s 8ms/step - loss: 0.0099 - accuracy: 1.0000 - root_mean_squared_error: 0.0996 - val_loss: 0.5045 - val_accuracy: 0.4583 - val_root_mean_squared_error: 0.7103\n",
      "Epoch 28/30\n",
      "200/200 [==============================] - 2s 8ms/step - loss: 0.0097 - accuracy: 1.0000 - root_mean_squared_error: 0.0985 - val_loss: 0.5129 - val_accuracy: 0.4583 - val_root_mean_squared_error: 0.7161\n",
      "Epoch 29/30\n",
      "200/200 [==============================] - 2s 8ms/step - loss: 0.0090 - accuracy: 1.0000 - root_mean_squared_error: 0.0947 - val_loss: 0.5136 - val_accuracy: 0.4583 - val_root_mean_squared_error: 0.7166\n",
      "Epoch 30/30\n",
      "200/200 [==============================] - 2s 8ms/step - loss: 0.0099 - accuracy: 1.0000 - root_mean_squared_error: 0.0994 - val_loss: 0.5181 - val_accuracy: 0.4583 - val_root_mean_squared_error: 0.7198\n",
      "Epoch 1/30\n",
      "200/200 [==============================] - 2s 9ms/step - loss: 0.2832 - accuracy: 0.1245 - root_mean_squared_error: 0.5322 - val_loss: 0.2496 - val_accuracy: 0.5383 - val_root_mean_squared_error: 0.4996\n",
      "Epoch 2/30\n",
      "200/200 [==============================] - 2s 8ms/step - loss: 0.2585 - accuracy: 0.3928 - root_mean_squared_error: 0.5084 - val_loss: 0.2517 - val_accuracy: 0.4536 - val_root_mean_squared_error: 0.5017\n",
      "Epoch 3/30\n",
      "200/200 [==============================] - 2s 8ms/step - loss: 0.2358 - accuracy: 0.7623 - root_mean_squared_error: 0.4856 - val_loss: 0.2551 - val_accuracy: 0.4526 - val_root_mean_squared_error: 0.5050\n",
      "Epoch 4/30\n",
      "200/200 [==============================] - 2s 8ms/step - loss: 0.2118 - accuracy: 0.9572 - root_mean_squared_error: 0.4603 - val_loss: 0.2601 - val_accuracy: 0.4526 - val_root_mean_squared_error: 0.5100\n",
      "Epoch 5/30\n",
      "200/200 [==============================] - 2s 8ms/step - loss: 0.1862 - accuracy: 0.9950 - root_mean_squared_error: 0.4316 - val_loss: 0.2686 - val_accuracy: 0.4526 - val_root_mean_squared_error: 0.5182\n",
      "Epoch 6/30\n",
      "200/200 [==============================] - 2s 8ms/step - loss: 0.1587 - accuracy: 0.9998 - root_mean_squared_error: 0.3983 - val_loss: 0.2815 - val_accuracy: 0.4526 - val_root_mean_squared_error: 0.5306\n",
      "Epoch 7/30\n",
      "200/200 [==============================] - 2s 8ms/step - loss: 0.1300 - accuracy: 1.0000 - root_mean_squared_error: 0.3605 - val_loss: 0.2991 - val_accuracy: 0.4526 - val_root_mean_squared_error: 0.5469\n",
      "Epoch 8/30\n",
      "200/200 [==============================] - 2s 8ms/step - loss: 0.1025 - accuracy: 0.9998 - root_mean_squared_error: 0.3201 - val_loss: 0.3180 - val_accuracy: 0.4526 - val_root_mean_squared_error: 0.5639\n",
      "Epoch 9/30\n"
     ]
    },
    {
     "name": "stdout",
     "output_type": "stream",
     "text": [
      "200/200 [==============================] - 2s 8ms/step - loss: 0.0780 - accuracy: 1.0000 - root_mean_squared_error: 0.2792 - val_loss: 0.3399 - val_accuracy: 0.4526 - val_root_mean_squared_error: 0.5830\n",
      "Epoch 10/30\n",
      "200/200 [==============================] - 2s 8ms/step - loss: 0.0600 - accuracy: 1.0000 - root_mean_squared_error: 0.2449 - val_loss: 0.3670 - val_accuracy: 0.4526 - val_root_mean_squared_error: 0.6058\n",
      "Epoch 11/30\n",
      "200/200 [==============================] - 2s 8ms/step - loss: 0.0459 - accuracy: 1.0000 - root_mean_squared_error: 0.2143 - val_loss: 0.3904 - val_accuracy: 0.4526 - val_root_mean_squared_error: 0.6248\n",
      "Epoch 12/30\n",
      "200/200 [==============================] - 2s 8ms/step - loss: 0.0361 - accuracy: 1.0000 - root_mean_squared_error: 0.1901 - val_loss: 0.4113 - val_accuracy: 0.4526 - val_root_mean_squared_error: 0.6413\n",
      "Epoch 13/30\n",
      "200/200 [==============================] - 2s 8ms/step - loss: 0.0281 - accuracy: 1.0000 - root_mean_squared_error: 0.1675 - val_loss: 0.4289 - val_accuracy: 0.4526 - val_root_mean_squared_error: 0.6549\n",
      "Epoch 14/30\n",
      "200/200 [==============================] - 2s 8ms/step - loss: 0.0239 - accuracy: 1.0000 - root_mean_squared_error: 0.1546 - val_loss: 0.4473 - val_accuracy: 0.4526 - val_root_mean_squared_error: 0.6688\n",
      "Epoch 15/30\n",
      "200/200 [==============================] - 2s 8ms/step - loss: 0.0201 - accuracy: 1.0000 - root_mean_squared_error: 0.1418 - val_loss: 0.4578 - val_accuracy: 0.4526 - val_root_mean_squared_error: 0.6766\n",
      "Epoch 16/30\n",
      "200/200 [==============================] - 2s 8ms/step - loss: 0.0182 - accuracy: 1.0000 - root_mean_squared_error: 0.1348 - val_loss: 0.4712 - val_accuracy: 0.4526 - val_root_mean_squared_error: 0.6864\n",
      "Epoch 17/30\n",
      "200/200 [==============================] - 2s 8ms/step - loss: 0.0161 - accuracy: 1.0000 - root_mean_squared_error: 0.1271 - val_loss: 0.4712 - val_accuracy: 0.4526 - val_root_mean_squared_error: 0.6865\n",
      "Epoch 18/30\n",
      "200/200 [==============================] - 2s 8ms/step - loss: 0.0157 - accuracy: 1.0000 - root_mean_squared_error: 0.1253 - val_loss: 0.4835 - val_accuracy: 0.4526 - val_root_mean_squared_error: 0.6953\n",
      "Epoch 19/30\n",
      "200/200 [==============================] - 2s 8ms/step - loss: 0.0127 - accuracy: 1.0000 - root_mean_squared_error: 0.1126 - val_loss: 0.4879 - val_accuracy: 0.4526 - val_root_mean_squared_error: 0.6985\n",
      "Epoch 20/30\n",
      "200/200 [==============================] - 2s 8ms/step - loss: 0.0120 - accuracy: 1.0000 - root_mean_squared_error: 0.1096 - val_loss: 0.4916 - val_accuracy: 0.4526 - val_root_mean_squared_error: 0.7011\n",
      "Epoch 21/30\n",
      "200/200 [==============================] - 2s 8ms/step - loss: 0.0117 - accuracy: 1.0000 - root_mean_squared_error: 0.1080 - val_loss: 0.4990 - val_accuracy: 0.4526 - val_root_mean_squared_error: 0.7064\n",
      "Epoch 22/30\n",
      "200/200 [==============================] - 2s 8ms/step - loss: 0.0109 - accuracy: 1.0000 - root_mean_squared_error: 0.1044 - val_loss: 0.4987 - val_accuracy: 0.4526 - val_root_mean_squared_error: 0.7062\n",
      "Epoch 23/30\n",
      "200/200 [==============================] - 2s 8ms/step - loss: 0.0114 - accuracy: 1.0000 - root_mean_squared_error: 0.1069 - val_loss: 0.5045 - val_accuracy: 0.4526 - val_root_mean_squared_error: 0.7103\n",
      "Epoch 24/30\n",
      "200/200 [==============================] - 2s 8ms/step - loss: 0.0110 - accuracy: 1.0000 - root_mean_squared_error: 0.1048 - val_loss: 0.5092 - val_accuracy: 0.4526 - val_root_mean_squared_error: 0.7136\n",
      "Epoch 25/30\n",
      "200/200 [==============================] - 2s 8ms/step - loss: 0.0107 - accuracy: 1.0000 - root_mean_squared_error: 0.1036 - val_loss: 0.5071 - val_accuracy: 0.4526 - val_root_mean_squared_error: 0.7121\n",
      "Epoch 26/30\n",
      "200/200 [==============================] - 2s 8ms/step - loss: 0.0122 - accuracy: 1.0000 - root_mean_squared_error: 0.1105 - val_loss: 0.5191 - val_accuracy: 0.4526 - val_root_mean_squared_error: 0.7205\n",
      "Epoch 27/30\n",
      "200/200 [==============================] - 2s 8ms/step - loss: 0.0104 - accuracy: 1.0000 - root_mean_squared_error: 0.1022 - val_loss: 0.5191 - val_accuracy: 0.4526 - val_root_mean_squared_error: 0.7205\n",
      "Epoch 28/30\n",
      "200/200 [==============================] - 2s 8ms/step - loss: 0.0103 - accuracy: 1.0000 - root_mean_squared_error: 0.1014 - val_loss: 0.5180 - val_accuracy: 0.4526 - val_root_mean_squared_error: 0.7197\n",
      "Epoch 29/30\n",
      "200/200 [==============================] - 2s 8ms/step - loss: 0.0094 - accuracy: 1.0000 - root_mean_squared_error: 0.0967 - val_loss: 0.5223 - val_accuracy: 0.4526 - val_root_mean_squared_error: 0.7227\n",
      "Epoch 30/30\n",
      "200/200 [==============================] - 2s 8ms/step - loss: 0.0097 - accuracy: 1.0000 - root_mean_squared_error: 0.0982 - val_loss: 0.5223 - val_accuracy: 0.4526 - val_root_mean_squared_error: 0.7227\n",
      "Epoch 1/30\n",
      "200/200 [==============================] - 2s 9ms/step - loss: 0.2859 - accuracy: 0.0880 - root_mean_squared_error: 0.5347 - val_loss: 0.2493 - val_accuracy: 0.5262 - val_root_mean_squared_error: 0.4993\n",
      "Epoch 2/30\n",
      "200/200 [==============================] - 2s 8ms/step - loss: 0.2642 - accuracy: 0.2856 - root_mean_squared_error: 0.5140 - val_loss: 0.2502 - val_accuracy: 0.4688 - val_root_mean_squared_error: 0.5002\n",
      "Epoch 3/30\n",
      "200/200 [==============================] - 2s 8ms/step - loss: 0.2441 - accuracy: 0.6370 - root_mean_squared_error: 0.4941 - val_loss: 0.2521 - val_accuracy: 0.4679 - val_root_mean_squared_error: 0.5021\n",
      "Epoch 4/30\n",
      "200/200 [==============================] - 2s 8ms/step - loss: 0.2233 - accuracy: 0.9058 - root_mean_squared_error: 0.4725 - val_loss: 0.2550 - val_accuracy: 0.4662 - val_root_mean_squared_error: 0.5050\n",
      "Epoch 5/30\n",
      "200/200 [==============================] - 2s 8ms/step - loss: 0.2014 - accuracy: 0.9889 - root_mean_squared_error: 0.4488 - val_loss: 0.2602 - val_accuracy: 0.4671 - val_root_mean_squared_error: 0.5101\n",
      "Epoch 6/30\n",
      "200/200 [==============================] - 2s 8ms/step - loss: 0.1773 - accuracy: 0.9997 - root_mean_squared_error: 0.4210 - val_loss: 0.2674 - val_accuracy: 0.4662 - val_root_mean_squared_error: 0.5171\n",
      "Epoch 7/30\n",
      "200/200 [==============================] - 2s 8ms/step - loss: 0.1527 - accuracy: 0.9998 - root_mean_squared_error: 0.3908 - val_loss: 0.2770 - val_accuracy: 0.4662 - val_root_mean_squared_error: 0.5263\n",
      "Epoch 8/30\n",
      "200/200 [==============================] - 2s 8ms/step - loss: 0.1271 - accuracy: 1.0000 - root_mean_squared_error: 0.3565 - val_loss: 0.2905 - val_accuracy: 0.4662 - val_root_mean_squared_error: 0.5390\n",
      "Epoch 9/30\n",
      "200/200 [==============================] - 2s 8ms/step - loss: 0.1019 - accuracy: 1.0000 - root_mean_squared_error: 0.3192 - val_loss: 0.3080 - val_accuracy: 0.4662 - val_root_mean_squared_error: 0.5550\n",
      "Epoch 10/30\n",
      "200/200 [==============================] - 2s 8ms/step - loss: 0.0803 - accuracy: 1.0000 - root_mean_squared_error: 0.2833 - val_loss: 0.3285 - val_accuracy: 0.4662 - val_root_mean_squared_error: 0.5731\n",
      "Epoch 11/30\n",
      "200/200 [==============================] - 2s 8ms/step - loss: 0.0643 - accuracy: 1.0000 - root_mean_squared_error: 0.2537 - val_loss: 0.3511 - val_accuracy: 0.4662 - val_root_mean_squared_error: 0.5925\n",
      "Epoch 12/30\n",
      "200/200 [==============================] - 2s 8ms/step - loss: 0.0493 - accuracy: 1.0000 - root_mean_squared_error: 0.2219 - val_loss: 0.3710 - val_accuracy: 0.4662 - val_root_mean_squared_error: 0.6091\n",
      "Epoch 13/30\n",
      "200/200 [==============================] - 2s 8ms/step - loss: 0.0394 - accuracy: 1.0000 - root_mean_squared_error: 0.1985 - val_loss: 0.3930 - val_accuracy: 0.4662 - val_root_mean_squared_error: 0.6269\n",
      "Epoch 14/30\n",
      "200/200 [==============================] - 2s 8ms/step - loss: 0.0313 - accuracy: 1.0000 - root_mean_squared_error: 0.1770 - val_loss: 0.4085 - val_accuracy: 0.4662 - val_root_mean_squared_error: 0.6391\n",
      "Epoch 15/30\n",
      "200/200 [==============================] - 2s 8ms/step - loss: 0.0258 - accuracy: 1.0000 - root_mean_squared_error: 0.1607 - val_loss: 0.4236 - val_accuracy: 0.4662 - val_root_mean_squared_error: 0.6508\n",
      "Epoch 16/30\n",
      "200/200 [==============================] - 2s 8ms/step - loss: 0.0220 - accuracy: 1.0000 - root_mean_squared_error: 0.1485 - val_loss: 0.4396 - val_accuracy: 0.4662 - val_root_mean_squared_error: 0.6630\n",
      "Epoch 17/30\n"
     ]
    },
    {
     "name": "stdout",
     "output_type": "stream",
     "text": [
      "200/200 [==============================] - 2s 8ms/step - loss: 0.0192 - accuracy: 1.0000 - root_mean_squared_error: 0.1387 - val_loss: 0.4506 - val_accuracy: 0.4662 - val_root_mean_squared_error: 0.6712\n",
      "Epoch 18/30\n",
      "200/200 [==============================] - 2s 8ms/step - loss: 0.0166 - accuracy: 1.0000 - root_mean_squared_error: 0.1288 - val_loss: 0.4600 - val_accuracy: 0.4662 - val_root_mean_squared_error: 0.6782\n",
      "Epoch 19/30\n",
      "200/200 [==============================] - 2s 8ms/step - loss: 0.0147 - accuracy: 1.0000 - root_mean_squared_error: 0.1212 - val_loss: 0.4660 - val_accuracy: 0.4662 - val_root_mean_squared_error: 0.6826\n",
      "Epoch 20/30\n",
      "200/200 [==============================] - 2s 8ms/step - loss: 0.0141 - accuracy: 1.0000 - root_mean_squared_error: 0.1190 - val_loss: 0.4714 - val_accuracy: 0.4662 - val_root_mean_squared_error: 0.6866\n",
      "Epoch 21/30\n",
      "200/200 [==============================] - 2s 8ms/step - loss: 0.0126 - accuracy: 1.0000 - root_mean_squared_error: 0.1123 - val_loss: 0.4787 - val_accuracy: 0.4662 - val_root_mean_squared_error: 0.6919\n",
      "Epoch 22/30\n",
      "200/200 [==============================] - 2s 8ms/step - loss: 0.0129 - accuracy: 1.0000 - root_mean_squared_error: 0.1137 - val_loss: 0.4804 - val_accuracy: 0.4662 - val_root_mean_squared_error: 0.6931\n",
      "Epoch 23/30\n",
      "200/200 [==============================] - 2s 8ms/step - loss: 0.0115 - accuracy: 1.0000 - root_mean_squared_error: 0.1072 - val_loss: 0.4922 - val_accuracy: 0.4662 - val_root_mean_squared_error: 0.7015\n",
      "Epoch 24/30\n",
      "200/200 [==============================] - 2s 8ms/step - loss: 0.0116 - accuracy: 1.0000 - root_mean_squared_error: 0.1076 - val_loss: 0.4929 - val_accuracy: 0.4662 - val_root_mean_squared_error: 0.7021\n",
      "Epoch 25/30\n",
      "200/200 [==============================] - 2s 8ms/step - loss: 0.0114 - accuracy: 1.0000 - root_mean_squared_error: 0.1070 - val_loss: 0.4910 - val_accuracy: 0.4662 - val_root_mean_squared_error: 0.7007\n",
      "Epoch 26/30\n",
      "200/200 [==============================] - 2s 8ms/step - loss: 0.0115 - accuracy: 1.0000 - root_mean_squared_error: 0.1070 - val_loss: 0.5004 - val_accuracy: 0.4662 - val_root_mean_squared_error: 0.7074\n",
      "Epoch 27/30\n",
      "200/200 [==============================] - 2s 8ms/step - loss: 0.0106 - accuracy: 1.0000 - root_mean_squared_error: 0.1029 - val_loss: 0.5022 - val_accuracy: 0.4662 - val_root_mean_squared_error: 0.7087\n",
      "Epoch 28/30\n",
      "200/200 [==============================] - 2s 8ms/step - loss: 0.0104 - accuracy: 1.0000 - root_mean_squared_error: 0.1021 - val_loss: 0.5007 - val_accuracy: 0.4662 - val_root_mean_squared_error: 0.7076\n",
      "Epoch 29/30\n",
      "200/200 [==============================] - 2s 8ms/step - loss: 0.0105 - accuracy: 1.0000 - root_mean_squared_error: 0.1024 - val_loss: 0.5036 - val_accuracy: 0.4662 - val_root_mean_squared_error: 0.7096\n",
      "Epoch 30/30\n",
      "200/200 [==============================] - 2s 8ms/step - loss: 0.0104 - accuracy: 1.0000 - root_mean_squared_error: 0.1022 - val_loss: 0.5021 - val_accuracy: 0.4662 - val_root_mean_squared_error: 0.7086\n",
      "Epoch 1/30\n",
      "200/200 [==============================] - 2s 7ms/step - loss: 0.2485 - accuracy: 0.5514 - root_mean_squared_error: 0.4985 - val_loss: 0.2510 - val_accuracy: 0.4507 - val_root_mean_squared_error: 0.5010\n",
      "Epoch 2/30\n",
      "200/200 [==============================] - 1s 7ms/step - loss: 0.2254 - accuracy: 0.9142 - root_mean_squared_error: 0.4748 - val_loss: 0.2541 - val_accuracy: 0.4638 - val_root_mean_squared_error: 0.5041\n",
      "Epoch 3/30\n",
      "200/200 [==============================] - 1s 7ms/step - loss: 0.2006 - accuracy: 0.9942 - root_mean_squared_error: 0.4478 - val_loss: 0.2586 - val_accuracy: 0.4638 - val_root_mean_squared_error: 0.5085\n",
      "Epoch 4/30\n",
      "200/200 [==============================] - 1s 7ms/step - loss: 0.1737 - accuracy: 0.9998 - root_mean_squared_error: 0.4168 - val_loss: 0.2664 - val_accuracy: 0.4638 - val_root_mean_squared_error: 0.5162\n",
      "Epoch 5/30\n",
      "200/200 [==============================] - 1s 7ms/step - loss: 0.1459 - accuracy: 1.0000 - root_mean_squared_error: 0.3819 - val_loss: 0.2777 - val_accuracy: 0.4638 - val_root_mean_squared_error: 0.5270\n",
      "Epoch 6/30\n",
      "200/200 [==============================] - 1s 7ms/step - loss: 0.1186 - accuracy: 1.0000 - root_mean_squared_error: 0.3444 - val_loss: 0.2918 - val_accuracy: 0.4638 - val_root_mean_squared_error: 0.5402\n",
      "Epoch 7/30\n",
      "200/200 [==============================] - 1s 7ms/step - loss: 0.0940 - accuracy: 1.0000 - root_mean_squared_error: 0.3065 - val_loss: 0.3134 - val_accuracy: 0.4638 - val_root_mean_squared_error: 0.5598\n",
      "Epoch 8/30\n",
      "200/200 [==============================] - 1s 7ms/step - loss: 0.0726 - accuracy: 1.0000 - root_mean_squared_error: 0.2695 - val_loss: 0.3341 - val_accuracy: 0.4638 - val_root_mean_squared_error: 0.5780\n",
      "Epoch 9/30\n",
      "200/200 [==============================] - 1s 7ms/step - loss: 0.0557 - accuracy: 1.0000 - root_mean_squared_error: 0.2360 - val_loss: 0.3573 - val_accuracy: 0.4638 - val_root_mean_squared_error: 0.5977\n",
      "Epoch 10/30\n",
      "200/200 [==============================] - 1s 7ms/step - loss: 0.0423 - accuracy: 1.0000 - root_mean_squared_error: 0.2057 - val_loss: 0.3783 - val_accuracy: 0.4638 - val_root_mean_squared_error: 0.6151\n",
      "Epoch 11/30\n",
      "200/200 [==============================] - 1s 7ms/step - loss: 0.0329 - accuracy: 1.0000 - root_mean_squared_error: 0.1815 - val_loss: 0.3960 - val_accuracy: 0.4638 - val_root_mean_squared_error: 0.6293\n",
      "Epoch 12/30\n",
      "200/200 [==============================] - 1s 7ms/step - loss: 0.0264 - accuracy: 1.0000 - root_mean_squared_error: 0.1623 - val_loss: 0.4149 - val_accuracy: 0.4638 - val_root_mean_squared_error: 0.6442\n",
      "Epoch 13/30\n",
      "200/200 [==============================] - 1s 7ms/step - loss: 0.0222 - accuracy: 1.0000 - root_mean_squared_error: 0.1489 - val_loss: 0.4299 - val_accuracy: 0.4638 - val_root_mean_squared_error: 0.6557\n",
      "Epoch 14/30\n",
      "200/200 [==============================] - 1s 7ms/step - loss: 0.0187 - accuracy: 1.0000 - root_mean_squared_error: 0.1367 - val_loss: 0.4466 - val_accuracy: 0.4638 - val_root_mean_squared_error: 0.6683\n",
      "Epoch 15/30\n",
      "200/200 [==============================] - 1s 7ms/step - loss: 0.0164 - accuracy: 1.0000 - root_mean_squared_error: 0.1282 - val_loss: 0.4591 - val_accuracy: 0.4638 - val_root_mean_squared_error: 0.6776\n",
      "Epoch 16/30\n",
      "200/200 [==============================] - 1s 7ms/step - loss: 0.0145 - accuracy: 1.0000 - root_mean_squared_error: 0.1204 - val_loss: 0.4649 - val_accuracy: 0.4638 - val_root_mean_squared_error: 0.6819\n",
      "Epoch 17/30\n",
      "200/200 [==============================] - 1s 7ms/step - loss: 0.0143 - accuracy: 1.0000 - root_mean_squared_error: 0.1196 - val_loss: 0.4793 - val_accuracy: 0.4638 - val_root_mean_squared_error: 0.6923\n",
      "Epoch 18/30\n",
      "200/200 [==============================] - 1s 7ms/step - loss: 0.0127 - accuracy: 1.0000 - root_mean_squared_error: 0.1126 - val_loss: 0.4834 - val_accuracy: 0.4638 - val_root_mean_squared_error: 0.6952\n",
      "Epoch 19/30\n",
      "200/200 [==============================] - 1s 7ms/step - loss: 0.0122 - accuracy: 1.0000 - root_mean_squared_error: 0.1104 - val_loss: 0.4866 - val_accuracy: 0.4638 - val_root_mean_squared_error: 0.6976\n",
      "Epoch 20/30\n",
      "200/200 [==============================] - 1s 7ms/step - loss: 0.0114 - accuracy: 1.0000 - root_mean_squared_error: 0.1066 - val_loss: 0.4956 - val_accuracy: 0.4638 - val_root_mean_squared_error: 0.7040\n",
      "Epoch 21/30\n",
      "200/200 [==============================] - 1s 7ms/step - loss: 0.0112 - accuracy: 1.0000 - root_mean_squared_error: 0.1058 - val_loss: 0.4914 - val_accuracy: 0.4638 - val_root_mean_squared_error: 0.7010\n",
      "Epoch 22/30\n",
      "200/200 [==============================] - 1s 7ms/step - loss: 0.0102 - accuracy: 1.0000 - root_mean_squared_error: 0.1011 - val_loss: 0.4981 - val_accuracy: 0.4638 - val_root_mean_squared_error: 0.7058\n",
      "Epoch 23/30\n",
      "200/200 [==============================] - 1s 7ms/step - loss: 0.0105 - accuracy: 1.0000 - root_mean_squared_error: 0.1026 - val_loss: 0.5045 - val_accuracy: 0.4638 - val_root_mean_squared_error: 0.7103\n",
      "Epoch 24/30\n",
      "200/200 [==============================] - 1s 7ms/step - loss: 0.0106 - accuracy: 1.0000 - root_mean_squared_error: 0.1028 - val_loss: 0.5049 - val_accuracy: 0.4638 - val_root_mean_squared_error: 0.7106\n",
      "Epoch 25/30\n"
     ]
    },
    {
     "name": "stdout",
     "output_type": "stream",
     "text": [
      "200/200 [==============================] - 1s 7ms/step - loss: 0.0101 - accuracy: 1.0000 - root_mean_squared_error: 0.1005 - val_loss: 0.5153 - val_accuracy: 0.4638 - val_root_mean_squared_error: 0.7179\n",
      "Epoch 26/30\n",
      "200/200 [==============================] - 1s 7ms/step - loss: 0.0101 - accuracy: 1.0000 - root_mean_squared_error: 0.1006 - val_loss: 0.5101 - val_accuracy: 0.4638 - val_root_mean_squared_error: 0.7142\n",
      "Epoch 27/30\n",
      "200/200 [==============================] - 1s 7ms/step - loss: 0.0092 - accuracy: 1.0000 - root_mean_squared_error: 0.0958 - val_loss: 0.5148 - val_accuracy: 0.4638 - val_root_mean_squared_error: 0.7175\n",
      "Epoch 28/30\n",
      "200/200 [==============================] - 1s 7ms/step - loss: 0.0104 - accuracy: 1.0000 - root_mean_squared_error: 0.1020 - val_loss: 0.5172 - val_accuracy: 0.4638 - val_root_mean_squared_error: 0.7191\n",
      "Epoch 29/30\n",
      "200/200 [==============================] - 1s 7ms/step - loss: 0.0094 - accuracy: 1.0000 - root_mean_squared_error: 0.0971 - val_loss: 0.5141 - val_accuracy: 0.4638 - val_root_mean_squared_error: 0.7170\n",
      "Epoch 30/30\n",
      "200/200 [==============================] - 1s 7ms/step - loss: 0.0099 - accuracy: 1.0000 - root_mean_squared_error: 0.0993 - val_loss: 0.5174 - val_accuracy: 0.4638 - val_root_mean_squared_error: 0.7193\n"
     ]
    },
    {
     "data": {
      "text/html": [
       "<div>\n",
       "<style scoped>\n",
       "    .dataframe tbody tr th:only-of-type {\n",
       "        vertical-align: middle;\n",
       "    }\n",
       "\n",
       "    .dataframe tbody tr th {\n",
       "        vertical-align: top;\n",
       "    }\n",
       "\n",
       "    .dataframe thead th {\n",
       "        text-align: right;\n",
       "    }\n",
       "</style>\n",
       "<table border=\"1\" class=\"dataframe\">\n",
       "  <thead>\n",
       "    <tr style=\"text-align: right;\">\n",
       "      <th></th>\n",
       "      <th>0</th>\n",
       "      <th>1</th>\n",
       "      <th>2</th>\n",
       "      <th>3</th>\n",
       "    </tr>\n",
       "  </thead>\n",
       "  <tbody>\n",
       "    <tr>\n",
       "      <th>loss</th>\n",
       "      <td>[0.2762031853199005, 0.25877028703689575, 0.24...</td>\n",
       "      <td>[0.2832001745700836, 0.2584998607635498, 0.235...</td>\n",
       "      <td>[0.28586721420288086, 0.2642142176628113, 0.24...</td>\n",
       "      <td>[0.2485397756099701, 0.2254430055618286, 0.200...</td>\n",
       "    </tr>\n",
       "    <tr>\n",
       "      <th>accuracy</th>\n",
       "      <td>[0.07874999940395355, 0.30156248807907104, 0.7...</td>\n",
       "      <td>[0.12453124672174454, 0.39281249046325684, 0.7...</td>\n",
       "      <td>[0.08796875178813934, 0.28562501072883606, 0.6...</td>\n",
       "      <td>[0.5514062643051147, 0.9142187237739563, 0.994...</td>\n",
       "    </tr>\n",
       "    <tr>\n",
       "      <th>root_mean_squared_error</th>\n",
       "      <td>[0.525550365447998, 0.5086946487426758, 0.4921...</td>\n",
       "      <td>[0.53216552734375, 0.5084288120269775, 0.48556...</td>\n",
       "      <td>[0.5346655249595642, 0.5140177011489868, 0.494...</td>\n",
       "      <td>[0.4985376298427582, 0.47480836510658264, 0.44...</td>\n",
       "    </tr>\n",
       "    <tr>\n",
       "      <th>val_loss</th>\n",
       "      <td>[0.2490357756614685, 0.25015178322792053, 0.25...</td>\n",
       "      <td>[0.24956680834293365, 0.251703143119812, 0.255...</td>\n",
       "      <td>[0.2493436634540558, 0.25018033385276794, 0.25...</td>\n",
       "      <td>[0.25102734565734863, 0.25410008430480957, 0.2...</td>\n",
       "    </tr>\n",
       "    <tr>\n",
       "      <th>val_accuracy</th>\n",
       "      <td>[0.5416666865348816, 0.4801136255264282, 0.459...</td>\n",
       "      <td>[0.538306474685669, 0.4536290466785431, 0.4526...</td>\n",
       "      <td>[0.5261824131011963, 0.46875, 0.46790540218353...</td>\n",
       "      <td>[0.4506579041481018, 0.4638157784938812, 0.463...</td>\n",
       "    </tr>\n",
       "    <tr>\n",
       "      <th>val_root_mean_squared_error</th>\n",
       "      <td>[0.4990348517894745, 0.5001517534255981, 0.502...</td>\n",
       "      <td>[0.49956661462783813, 0.501700222492218, 0.505...</td>\n",
       "      <td>[0.49934321641921997, 0.5001803040504456, 0.50...</td>\n",
       "      <td>[0.5010262727737427, 0.5040833950042725, 0.508...</td>\n",
       "    </tr>\n",
       "  </tbody>\n",
       "</table>\n",
       "</div>"
      ],
      "text/plain": [
       "                                                                             0  \\\n",
       "loss                         [0.2762031853199005, 0.25877028703689575, 0.24...   \n",
       "accuracy                     [0.07874999940395355, 0.30156248807907104, 0.7...   \n",
       "root_mean_squared_error      [0.525550365447998, 0.5086946487426758, 0.4921...   \n",
       "val_loss                     [0.2490357756614685, 0.25015178322792053, 0.25...   \n",
       "val_accuracy                 [0.5416666865348816, 0.4801136255264282, 0.459...   \n",
       "val_root_mean_squared_error  [0.4990348517894745, 0.5001517534255981, 0.502...   \n",
       "\n",
       "                                                                             1  \\\n",
       "loss                         [0.2832001745700836, 0.2584998607635498, 0.235...   \n",
       "accuracy                     [0.12453124672174454, 0.39281249046325684, 0.7...   \n",
       "root_mean_squared_error      [0.53216552734375, 0.5084288120269775, 0.48556...   \n",
       "val_loss                     [0.24956680834293365, 0.251703143119812, 0.255...   \n",
       "val_accuracy                 [0.538306474685669, 0.4536290466785431, 0.4526...   \n",
       "val_root_mean_squared_error  [0.49956661462783813, 0.501700222492218, 0.505...   \n",
       "\n",
       "                                                                             2  \\\n",
       "loss                         [0.28586721420288086, 0.2642142176628113, 0.24...   \n",
       "accuracy                     [0.08796875178813934, 0.28562501072883606, 0.6...   \n",
       "root_mean_squared_error      [0.5346655249595642, 0.5140177011489868, 0.494...   \n",
       "val_loss                     [0.2493436634540558, 0.25018033385276794, 0.25...   \n",
       "val_accuracy                 [0.5261824131011963, 0.46875, 0.46790540218353...   \n",
       "val_root_mean_squared_error  [0.49934321641921997, 0.5001803040504456, 0.50...   \n",
       "\n",
       "                                                                             3  \n",
       "loss                         [0.2485397756099701, 0.2254430055618286, 0.200...  \n",
       "accuracy                     [0.5514062643051147, 0.9142187237739563, 0.994...  \n",
       "root_mean_squared_error      [0.4985376298427582, 0.47480836510658264, 0.44...  \n",
       "val_loss                     [0.25102734565734863, 0.25410008430480957, 0.2...  \n",
       "val_accuracy                 [0.4506579041481018, 0.4638157784938812, 0.463...  \n",
       "val_root_mean_squared_error  [0.5010262727737427, 0.5040833950042725, 0.508...  "
      ]
     },
     "execution_count": 18,
     "metadata": {},
     "output_type": "execute_result"
    }
   ],
   "source": [
    "cnnv1D_result = {}\n",
    "\n",
    "for i in range(NFOLD-1):\n",
    "    conv1D = Conv1D()\n",
    "    tfku.plot_model(\n",
    "        conv1D.build_graph(),\n",
    "        to_file='conv1D_model.png', dpi=96,\n",
    "        show_shapes=True, show_layer_names=True,\n",
    "        expand_nested=False\n",
    "    )\n",
    "\n",
    "    conv1D.compile(optimizer = tfk.optimizers.Adam(learning_rate=1e-6), \n",
    "                        metrics = ['accuracy', tfk.metrics.RootMeanSquaredError(),],\n",
    "                        loss = tfk.losses.MeanSquaredError(reduction= tfk.losses.Reduction.SUM_OVER_BATCH_SIZE)\n",
    "                       )\n",
    "    train_dataset, val_dataset, test_dataset = get_train_and_val_for_fold(folded_datasets=folded_datasets,fold = i)   \n",
    "    \n",
    "    result = conv1D.fit(train_dataset, epochs= EPOCHS,steps_per_epoch = STEPS_PER_EPOCH,validation_data= val_dataset,)\n",
    "    \n",
    "    cnnv1D_result[i] = result.history\n",
    "\n",
    "pd.DataFrame(cnnv1D_result).to_csv('enc_result.csv')\n",
    "pd.DataFrame(cnnv1D_result)"
   ]
  },
  {
   "cell_type": "code",
   "execution_count": 19,
   "id": "13e7a6d8",
   "metadata": {
    "scrolled": true
   },
   "outputs": [
    {
     "data": {
      "image/png": "[encoded data removed]",
      "text/plain": [
       "<Figure size 432x288 with 1 Axes>"
      ]
     },
     "metadata": {
      "needs_background": "light"
     },
     "output_type": "display_data"
    }
   ],
   "source": [
    "for i in range(NFOLD-1):\n",
    "    loss = cnn1D_encoder_result[i]['loss']\n",
    "    val_loss = cnn1D_encoder_result[i]['val_loss']\n",
    "    plt.plot(loss)\n",
    "    plt.plot(val_loss)\n",
    "    plt.title('Training loss for Autoencoder')"
   ]
  },
  {
   "cell_type": "code",
   "execution_count": 20,
   "id": "5092996d",
   "metadata": {},
   "outputs": [
    {
     "data": {
      "image/png": "[encoded data removed]",
      "text/plain": [
       "<Figure size 432x288 with 1 Axes>"
      ]
     },
     "metadata": {
      "needs_background": "light"
     },
     "output_type": "display_data"
    }
   ],
   "source": [
    "for i in range(NFOLD-1):\n",
    "    loss = cnnv1D_result[i]['loss']\n",
    "    val_loss = cnnv1D_result[i]['val_loss']\n",
    "    plt.plot(loss)\n",
    "    plt.plot(val_loss)\n",
    "    plt.title('Training loss for Conv1D')"
   ]
  },
  {
   "cell_type": "code",
   "execution_count": 21,
   "id": "19a54a15",
   "metadata": {},
   "outputs": [
    {
     "data": {
      "image/png": "[encoded data removed]",
      "text/plain": [
       "<Figure size 432x288 with 1 Axes>"
      ]
     },
     "metadata": {
      "needs_background": "light"
     },
     "output_type": "display_data"
    }
   ],
   "source": [
    "for i in range(NFOLD-1):\n",
    "    mse = cnn1D_encoder_result[i]['root_mean_squared_error']\n",
    "    plt.plot(mse)\n",
    "    plt.title('Training Mse for Autoencoder')"
   ]
  },
  {
   "cell_type": "code",
   "execution_count": 22,
   "id": "163a65ad",
   "metadata": {},
   "outputs": [
    {
     "data": {
      "image/png": "[encoded data removed]",
      "text/plain": [
       "<Figure size 432x288 with 1 Axes>"
      ]
     },
     "metadata": {
      "needs_background": "light"
     },
     "output_type": "display_data"
    }
   ],
   "source": [
    "for i in range(NFOLD-1):\n",
    "    mse = cnnv1D_result[i]['root_mean_squared_error']\n",
    "    plt.plot(mse)\n",
    "    plt.title('Training Mse for Conv1D')"
   ]
  },
  {
   "cell_type": "code",
   "execution_count": 23,
   "id": "1fb2a1f6",
   "metadata": {
    "scrolled": false
   },
   "outputs": [
    {
     "name": "stdout",
     "output_type": "stream",
     "text": [
      "26/26 [==============================] - 1s 3ms/step\n"
     ]
    },
    {
     "data": {
      "text/plain": [
       "[<matplotlib.lines.Line2D at 0x1be9e2f6670>]"
      ]
     },
     "execution_count": 23,
     "metadata": {},
     "output_type": "execute_result"
    },
    {
     "data": {
      "image/png": "[encoded data removed]",
      "text/plain": [
       "<Figure size 432x288 with 1 Axes>"
      ]
     },
     "metadata": {
      "needs_background": "light"
     },
     "output_type": "display_data"
    }
   ],
   "source": [
    "cnn1D_enc_predict = autoencoder.predict(test_dataset, verbose = True)\n",
    "plt.title(\"conv1D_enc_prediction\")\n",
    "plt.plot(cnn1D_enc_predict)"
   ]
  },
  {
   "cell_type": "code",
   "execution_count": 24,
   "id": "8744679a",
   "metadata": {
    "scrolled": false
   },
   "outputs": [
    {
     "data": {
      "text/plain": [
       "(array([  5.,   8.,  17.,  28.,  63.,  58.,  78., 159., 318.,  98.]),\n",
       " array([0.8663528 , 0.8773022 , 0.8882516 , 0.89920104, 0.9101504 ,\n",
       "        0.92109984, 0.9320493 , 0.94299865, 0.9539481 , 0.96489745,\n",
       "        0.9758469 ], dtype=float32),\n",
       " <BarContainer object of 10 artists>)"
      ]
     },
     "execution_count": 24,
     "metadata": {},
     "output_type": "execute_result"
    },
    {
     "data": {
      "image/png": "[encoded data removed]",
      "text/plain": [
       "<Figure size 432x288 with 1 Axes>"
      ]
     },
     "metadata": {
      "needs_background": "light"
     },
     "output_type": "display_data"
    }
   ],
   "source": [
    "plt.title(\"conv1D_enc_prediction hist\")\n",
    "plt.hist(cnn1D_enc_predict)"
   ]
  },
  {
   "cell_type": "code",
   "execution_count": 25,
   "id": "626027f5",
   "metadata": {},
   "outputs": [
    {
     "name": "stdout",
     "output_type": "stream",
     "text": [
      "26/26 [==============================] - 0s 2ms/step\n"
     ]
    },
    {
     "data": {
      "text/plain": [
       "[<matplotlib.lines.Line2D at 0x1be9e4411c0>]"
      ]
     },
     "execution_count": 25,
     "metadata": {},
     "output_type": "execute_result"
    },
    {
     "data": {
      "image/png": "[encoded data removed]",
      "text/plain": [
       "<Figure size 432x288 with 1 Axes>"
      ]
     },
     "metadata": {
      "needs_background": "light"
     },
     "output_type": "display_data"
    }
   ],
   "source": [
    "conv1D_predict = conv1D.predict(test_dataset, verbose = True)\n",
    "plt.title(\"conv1D_prediction\")\n",
    "plt.plot(conv1D_predict)"
   ]
  },
  {
   "cell_type": "code",
   "execution_count": 26,
   "id": "4bcd3ed6",
   "metadata": {
    "scrolled": false
   },
   "outputs": [
    {
     "data": {
      "text/plain": [
       "(array([ 26.,   0.,   0.,   0.,   0.,   1.,   0.,   2.,   4., 799.]),\n",
       " array([0.52961993, 0.5761733 , 0.6227267 , 0.6692801 , 0.7158335 ,\n",
       "        0.76238686, 0.80894023, 0.8554936 , 0.90204704, 0.9486004 ,\n",
       "        0.9951538 ], dtype=float32),\n",
       " <BarContainer object of 10 artists>)"
      ]
     },
     "execution_count": 26,
     "metadata": {},
     "output_type": "execute_result"
    },
    {
     "data": {
      "image/png": "[encoded data removed]",
      "text/plain": [
       "<Figure size 432x288 with 1 Axes>"
      ]
     },
     "metadata": {
      "needs_background": "light"
     },
     "output_type": "display_data"
    }
   ],
   "source": [
    "plt.title(\"conv1D_predict hist\")\n",
    "plt.hist(conv1D_predict)"
   ]
  },
  {
   "cell_type": "code",
   "execution_count": null,
   "id": "6f519054",
   "metadata": {},
   "outputs": [],
   "source": []
  },
  {
   "cell_type": "code",
   "execution_count": null,
   "id": "dc05464c",
   "metadata": {},
   "outputs": [],
   "source": []
  },
  {
   "cell_type": "code",
   "execution_count": null,
   "id": "b49e0d50",
   "metadata": {},
   "outputs": [],
   "source": []
  }
 ],
 "metadata": {
  "kernelspec": {
   "display_name": "Python 3",
   "language": "python",
   "name": "python3"
  },
  "language_info": {
   "codemirror_mode": {
    "name": "ipython",
    "version": 3
   },
   "file_extension": ".py",
   "mimetype": "text/x-python",
   "name": "python",
   "nbconvert_exporter": "python",
   "pygments_lexer": "ipython3",
   "version": "3.9.7"
  }
 },
 "nbformat": 4,
 "nbformat_minor": 5
}
