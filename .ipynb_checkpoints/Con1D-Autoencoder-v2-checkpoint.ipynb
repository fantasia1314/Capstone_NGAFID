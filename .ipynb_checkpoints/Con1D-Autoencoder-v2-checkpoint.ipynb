{
 "cells": [
  {
   "cell_type": "code",
   "execution_count": 1,
   "id": "a9032074",
   "metadata": {},
   "outputs": [
    {
     "name": "stdout",
     "output_type": "stream",
     "text": [
      "Num GPUs Available:  1\n"
     ]
    }
   ],
   "source": [
    "import tensorflow as tf\n",
    "print(\"Num GPUs Available: \", len(tf.config.list_physical_devices('GPU')))\n",
    "import pandas as pd \n",
    "import pydot\n",
    "import graphviz\n",
    "import numpy as np \n",
    "import seaborn as sns\n",
    "import random \n",
    "import matplotlib.pyplot as plt\n",
    "%matplotlib inline\n",
    "from sklearn.model_selection import train_test_split, KFold\n",
    "from sklearn import preprocessing\n",
    "\n",
    "tfku= tf.keras.utils\n",
    "tfk = tf.keras\n",
    "tfkl = tf.keras.layers"
   ]
  },
  {
   "cell_type": "code",
   "execution_count": 2,
   "id": "c16f9cce",
   "metadata": {},
   "outputs": [],
   "source": [
    "BATCH_SIZE = 32\n",
    "SHAPE = (4096, 23)\n",
    "BLOCK_SHAPE = (64, 23)\n",
    "EPOCHS = 30\n",
    "VARIABLES = 23\n",
    "NFOLD = 5 \n",
    "STEPS_PER_EPOCH = 200\n",
    "ID = 28"
   ]
  },
  {
   "cell_type": "code",
   "execution_count": 3,
   "id": "9ad27f44",
   "metadata": {},
   "outputs": [],
   "source": [
    "if ID == 28:\n",
    "    file='D:/Document/DSCI-601/NGAFID/NGAFID_MC_C28.csv'\n",
    "elif ID == 37:\n",
    "    file='D:/Document/DSCI-601/NGAFID/NGAFID_MC_C37.csv'\n",
    "else:\n",
    "    print('Invalid ID')\n",
    "df_test = pd.read_csv(file, nrows=100)\n",
    "float_cols = [c for c in df_test if df_test[c].dtype == \"float64\"]\n",
    "float32_cols = {c: np.float16 for c in float_cols}\n",
    "\n",
    "df = pd.read_csv(file, dtype=float32_cols, engine='c')\n",
    "df['id'] = df.id.astype('int32')\n",
    "df = df.dropna()"
   ]
  },
  {
   "cell_type": "code",
   "execution_count": 4,
   "id": "d767f07f",
   "metadata": {
    "scrolled": false
   },
   "outputs": [
    {
     "data": {
      "text/html": [
       "<div>\n",
       "<style scoped>\n",
       "    .dataframe tbody tr th:only-of-type {\n",
       "        vertical-align: middle;\n",
       "    }\n",
       "\n",
       "    .dataframe tbody tr th {\n",
       "        vertical-align: top;\n",
       "    }\n",
       "\n",
       "    .dataframe thead th {\n",
       "        text-align: right;\n",
       "    }\n",
       "</style>\n",
       "<table border=\"1\" class=\"dataframe\">\n",
       "  <thead>\n",
       "    <tr style=\"text-align: right;\">\n",
       "      <th></th>\n",
       "      <th></th>\n",
       "      <th>id</th>\n",
       "    </tr>\n",
       "    <tr>\n",
       "      <th>split</th>\n",
       "      <th>before_after</th>\n",
       "      <th></th>\n",
       "    </tr>\n",
       "  </thead>\n",
       "  <tbody>\n",
       "    <tr>\n",
       "      <th rowspan=\"2\" valign=\"top\">0</th>\n",
       "      <th>0</th>\n",
       "      <td>589</td>\n",
       "    </tr>\n",
       "    <tr>\n",
       "      <th>1</th>\n",
       "      <td>484</td>\n",
       "    </tr>\n",
       "    <tr>\n",
       "      <th rowspan=\"2\" valign=\"top\">1</th>\n",
       "      <th>0</th>\n",
       "      <td>555</td>\n",
       "    </tr>\n",
       "    <tr>\n",
       "      <th>1</th>\n",
       "      <td>449</td>\n",
       "    </tr>\n",
       "    <tr>\n",
       "      <th rowspan=\"2\" valign=\"top\">2</th>\n",
       "      <th>0</th>\n",
       "      <td>641</td>\n",
       "    </tr>\n",
       "    <tr>\n",
       "      <th>1</th>\n",
       "      <td>552</td>\n",
       "    </tr>\n",
       "    <tr>\n",
       "      <th rowspan=\"2\" valign=\"top\">3</th>\n",
       "      <th>0</th>\n",
       "      <td>343</td>\n",
       "    </tr>\n",
       "    <tr>\n",
       "      <th>1</th>\n",
       "      <td>282</td>\n",
       "    </tr>\n",
       "    <tr>\n",
       "      <th rowspan=\"2\" valign=\"top\">4</th>\n",
       "      <th>0</th>\n",
       "      <td>456</td>\n",
       "    </tr>\n",
       "    <tr>\n",
       "      <th>1</th>\n",
       "      <td>382</td>\n",
       "    </tr>\n",
       "  </tbody>\n",
       "</table>\n",
       "</div>"
      ],
      "text/plain": [
       "                     id\n",
       "split before_after     \n",
       "0     0             589\n",
       "      1             484\n",
       "1     0             555\n",
       "      1             449\n",
       "2     0             641\n",
       "      1             552\n",
       "3     0             343\n",
       "      1             282\n",
       "4     0             456\n",
       "      1             382"
      ]
     },
     "execution_count": 4,
     "metadata": {},
     "output_type": "execute_result"
    }
   ],
   "source": [
    "sources = df[['id', 'plane_id', 'split', 'date_diff', 'before_after']].drop_duplicates()\n",
    "sources.loc[: , ['split', 'before_after', 'id']].groupby(['split', 'before_after']).count()"
   ]
  },
  {
   "cell_type": "code",
   "execution_count": 5,
   "id": "d03f75fd",
   "metadata": {},
   "outputs": [],
   "source": [
    "input_columns = ['volt1',\n",
    " 'volt2',\n",
    " 'amp1',\n",
    " 'amp2',\n",
    " 'FQtyL',\n",
    " 'FQtyR',\n",
    " 'E1 FFlow',\n",
    " 'E1 OilT',\n",
    " 'E1 OilP',\n",
    " 'E1 RPM',\n",
    " 'E1 CHT1',\n",
    " 'E1 CHT2',\n",
    " 'E1 CHT3',\n",
    " 'E1 CHT4',\n",
    " 'E1 EGT1',\n",
    " 'E1 EGT2',\n",
    " 'E1 EGT3',\n",
    " 'E1 EGT4',\n",
    " 'OAT',\n",
    " 'IAS',\n",
    " 'VSpd',\n",
    " 'NormAc',\n",
    " 'AltMSL']"
   ]
  },
  {
   "cell_type": "code",
   "execution_count": 6,
   "id": "724fc0cc",
   "metadata": {},
   "outputs": [
    {
     "name": "stderr",
     "output_type": "stream",
     "text": [
      "D:\\Python-Anaconda\\envs\\tf\\lib\\site-packages\\sklearn\\base.py:450: UserWarning: X does not have valid feature names, but MinMaxScaler was fitted with feature names\n",
      "  warnings.warn(\n"
     ]
    }
   ],
   "source": [
    "preprocess = preprocessing.MinMaxScaler()\n",
    "preprocess.fit(df.loc[:, input_columns].sample(100000, random_state = 0 ))\n",
    "org_value = df.loc[:, input_columns].values\n",
    "res = preprocess.transform(org_value)\n",
    "for i, col in enumerate(input_columns):\n",
    "    df.loc[:, col] = res[:, i]"
   ]
  },
  {
   "cell_type": "code",
   "execution_count": 7,
   "id": "03a94172",
   "metadata": {},
   "outputs": [],
   "source": [
    "def get_dataset(df): \n",
    "\n",
    "    ids = df.id.unique()\n",
    "\n",
    "    sensor_datas = []\n",
    "    afters = [] \n",
    "\n",
    "    for id in ids: \n",
    "        sensor_data = df[df.id == id].iloc[-SHAPE[0]:, :23].values\n",
    "\n",
    "        sensor_data = np.pad(sensor_data, [[0, SHAPE[0]- len(sensor_data)], [0,0]])\n",
    "\n",
    "        sensor_data = tf.convert_to_tensor(sensor_data, dtype = tf.float32) \n",
    "\n",
    "        after = df[df.id == id]['before_after'].iloc[0]\n",
    "\n",
    "        sensor_datas.append(sensor_data)\n",
    "        afters.append(after)\n",
    "\n",
    "\n",
    "    sensor_datas = tf.stack(sensor_datas)\n",
    "    afters = np.stack(afters)\n",
    "\n",
    "    ds = tf.data.Dataset.from_tensor_slices( (sensor_datas, afters))\n",
    "    \n",
    "    return ds"
   ]
  },
  {
   "cell_type": "code",
   "execution_count": 8,
   "id": "7b1ab448",
   "metadata": {},
   "outputs": [],
   "source": [
    "def slice_random(x, y):\n",
    "    start = tf.random.uniform(shape=[], minval=0, maxval=4096-BLOCK_SHAPE[0], dtype=tf.int64)\n",
    "    x = x[start: start + BLOCK_SHAPE[0]]\n",
    "    x = tf.reshape(x, (BLOCK_SHAPE))\n",
    "    return x, y "
   ]
  },
  {
   "cell_type": "code",
   "execution_count": 9,
   "id": "016c01c9",
   "metadata": {},
   "outputs": [],
   "source": [
    "def fix_type(x, y):\n",
    "\n",
    "    return tf.cast(x, tf.float32), tf.cast(y, tf.float32)"
   ]
  },
  {
   "cell_type": "code",
   "execution_count": 10,
   "id": "cb464957",
   "metadata": {},
   "outputs": [],
   "source": [
    "def prepare_for_training(ds, shuffle = False, repeat = False, predict= True):\n",
    "    \n",
    "    ds = ds.map(fix_type)\n",
    "    ds = ds.map(slice_random)\n",
    "\n",
    "    ds = ds.shuffle(512) if shuffle else ds \n",
    "    ds = ds.repeat() if repeat else ds \n",
    "    ds = ds.batch(BATCH_SIZE, drop_remainder=True)\n",
    "\n",
    "    if not predict: \n",
    "        ds = ds.map(lambda x, y : (x, x) ) \n",
    "    else: \n",
    "        ds = ds.map(lambda x, y : (x, tf.reshape(y, (-1, 1))) )\n",
    "         \n",
    "    return ds"
   ]
  },
  {
   "cell_type": "code",
   "execution_count": 11,
   "id": "c975ce51",
   "metadata": {},
   "outputs": [],
   "source": [
    "def get_train_and_val_for_fold(folded_datasets, fold):\n",
    "    predict = True\n",
    "\n",
    "    train = []\n",
    "    for i in range(NFOLD-1): \n",
    "        if i == fold:\n",
    "            val_ds = folded_datasets[i][0].concatenate(folded_datasets[i][1])\n",
    "        else: \n",
    "            train.append(folded_datasets[i][0])\n",
    "    \n",
    "    test_ds = folded_datasets[4][0].concatenate(folded_datasets[4][1])\n",
    "    \n",
    "    train_ds = None\n",
    "    for ds in train: \n",
    "        train_ds = ds if train_ds is None else train_ds.concatenate(ds)\n",
    "\n",
    "    test_ds = prepare_for_training(test_ds, shuffle=False)\n",
    "    train_ds = prepare_for_training(train_ds, shuffle=True, repeat = True)\n",
    "    val_ds = prepare_for_training(val_ds, shuffle=False)\n",
    "    \n",
    "    return train_ds, val_ds, test_ds"
   ]
  },
  {
   "cell_type": "code",
   "execution_count": 12,
   "id": "f6d0ced2",
   "metadata": {},
   "outputs": [],
   "source": [
    "folded_datasets = []\n",
    "\n",
    "for i in range(NFOLD):\n",
    "    after = get_dataset(df[(df.split == i) & (df.before_after == 1)])\n",
    "    before = get_dataset(df[(df.split == i) & (df.before_after == 0)])\n",
    "    folded_datasets.append((after, before))"
   ]
  },
  {
   "cell_type": "code",
   "execution_count": 13,
   "id": "d1c13c7e",
   "metadata": {},
   "outputs": [],
   "source": [
    "def get_train_and_val(datasets):\n",
    "    predict = True\n",
    "    \n",
    "    train = []\n",
    "    "
   ]
  },
  {
   "cell_type": "code",
   "execution_count": 14,
   "id": "af01f60a",
   "metadata": {},
   "outputs": [],
   "source": [
    "class Autoencoder(tfk.Model):\n",
    "    def __init__(self):\n",
    "        super(Autoencoder, self).__init__()\n",
    "        self.encoder = tfk.Sequential([\n",
    "            tfkl.Input(shape = BLOCK_SHAPE),\n",
    "            tfkl.Conv1D(64, kernel_size= 7, strides= 2, activation='relu', padding='same'),\n",
    "            tfkl.BatchNormalization(),\n",
    "            tfkl.Dropout(0.2),\n",
    "            tfkl.Conv1D(64, kernel_size= 7, strides= 2, activation='relu', padding='same'),\n",
    "            tfkl.BatchNormalization(),\n",
    "            tfkl.Dropout(0.2),\n",
    "            tfkl.Conv1D(64, kernel_size= 7, strides= 2, activation='relu', padding='same'),\n",
    "            tfkl.BatchNormalization(),\n",
    "            tfkl.Dropout(0.2),\n",
    "            tfkl.Conv1D(64, kernel_size= 7, strides= 2, activation='relu', padding='same'),\n",
    "            tfkl.BatchNormalization(),\n",
    "            tfkl.Dropout(0.2),\n",
    "        ])\n",
    "        \n",
    "        self.decoder = tf.keras.Sequential([\n",
    "            tfkl.Conv1DTranspose(64, kernel_size= 7, strides= 2, activation='relu', padding='same'),\n",
    "            tfkl.Conv1DTranspose(64, kernel_size= 7, strides= 2, activation='relu', padding='same'),\n",
    "            tfkl.Conv1DTranspose(64, kernel_size= 7, strides= 2, activation='relu', padding='same'),\n",
    "            tfkl.Conv1DTranspose(64, kernel_size= 7, strides= 2, activation='relu', padding='same'),\n",
    "            tfkl.GlobalAveragePooling1D(),\n",
    "            tfkl.Dense(1, activation='sigmoid'),\n",
    "        ])\n",
    "    \n",
    "    def call(self, x):\n",
    "        encoded = self.encoder(x)\n",
    "        decoded = self.decoder(encoded)\n",
    "        return decoded\n",
    "    \n",
    "    def build_graph(self):\n",
    "        x = tfkl.Input(shape=BLOCK_SHAPE)\n",
    "        return tfk.Model(inputs=[x], outputs=self.call(x))"
   ]
  },
  {
   "cell_type": "code",
   "execution_count": 15,
   "id": "ef934780",
   "metadata": {},
   "outputs": [
    {
     "data": {
      "text/plain": [
       "'def Autoencoder():\\n    model = tfk.Sequential([\\n        tfk.Input(shape=BLOCK_SHAPE),\\n        #encoder\\n        tfkl.Conv1D(filters=64, kernel_size=7, padding=\"same\", strides=2, activation=\"relu\"),\\n        tfkl.BatchNormalization(),\\n        tfkl.Dropout(0.2),\\n        tfkl.Conv1D(filters=64, kernel_size=7, padding=\"same\", strides=2, activation=\"relu\"),\\n        tfkl.BatchNormalization(),\\n        tfkl.Dropout(0.2),        \\n        tfkl.Conv1D(filters=64, kernel_size=7, padding=\"same\", strides=2, activation=\"relu\"),\\n        tfkl.BatchNormalization(),\\n        tfkl.Dropout(0.2),         \\n              \\n        #decoder\\n        tfkl.Conv1DTranspose(filters=64, kernel_size=7, padding=\"same\", strides=2, activation=\"relu\"),    \\n        tfkl.Conv1DTranspose(filters=64, kernel_size=7, padding=\"same\", strides=2, activation=\"relu\"),    \\n        tfkl.Conv1DTranspose(filters=64, kernel_size=7, padding=\"same\", strides=2, activation=\"relu\"),        \\n        tfkl.GlobalAveragePooling1D(),\\n        tfkl.Dense(1, activation=\\'sigmoid\\'),\\n    ])\\n    \\n    return model\\n'"
      ]
     },
     "execution_count": 15,
     "metadata": {},
     "output_type": "execute_result"
    }
   ],
   "source": [
    "\"\"\"def Autoencoder():\n",
    "    model = tfk.Sequential([\n",
    "        tfk.Input(shape=BLOCK_SHAPE),\n",
    "        #encoder\n",
    "        tfkl.Conv1D(filters=64, kernel_size=7, padding=\"same\", strides=2, activation=\"relu\"),\n",
    "        tfkl.BatchNormalization(),\n",
    "        tfkl.Dropout(0.2),\n",
    "        tfkl.Conv1D(filters=64, kernel_size=7, padding=\"same\", strides=2, activation=\"relu\"),\n",
    "        tfkl.BatchNormalization(),\n",
    "        tfkl.Dropout(0.2),        \n",
    "        tfkl.Conv1D(filters=64, kernel_size=7, padding=\"same\", strides=2, activation=\"relu\"),\n",
    "        tfkl.BatchNormalization(),\n",
    "        tfkl.Dropout(0.2),         \n",
    "              \n",
    "        #decoder\n",
    "        tfkl.Conv1DTranspose(filters=64, kernel_size=7, padding=\"same\", strides=2, activation=\"relu\"),    \n",
    "        tfkl.Conv1DTranspose(filters=64, kernel_size=7, padding=\"same\", strides=2, activation=\"relu\"),    \n",
    "        tfkl.Conv1DTranspose(filters=64, kernel_size=7, padding=\"same\", strides=2, activation=\"relu\"),        \n",
    "        tfkl.GlobalAveragePooling1D(),\n",
    "        tfkl.Dense(1, activation='sigmoid'),\n",
    "    ])\n",
    "    \n",
    "    return model\n",
    "\"\"\""
   ]
  },
  {
   "cell_type": "code",
   "execution_count": 16,
   "id": "3ea48038",
   "metadata": {},
   "outputs": [],
   "source": [
    "class Conv1D(tfk.Model):\n",
    "    def __init__(self):\n",
    "        super(Conv1D, self).__init__()\n",
    "        self.conv1D_model = tfk.Sequential([\n",
    "            tfkl.Input(shape = BLOCK_SHAPE),\n",
    "            tfkl.Conv1D(64, kernel_size= 7, strides=2, activation='relu', padding='same'),\n",
    "            tfkl.Dropout(0.2),\n",
    "            tfkl.Conv1D(64, kernel_size= 7, strides=2, activation='relu', padding='same'),\n",
    "            tfkl.Dropout(0.2),\n",
    "            tfkl.Conv1D(64, kernel_size= 7, strides=2, activation='relu', padding='same'),\n",
    "            tfkl.Dropout(0.2),\n",
    "            tfkl.Conv1D(64, kernel_size= 7, strides=2, activation='relu', padding='same'),\n",
    "            tfkl.Dropout(0.2),\n",
    "            tfkl.GlobalAveragePooling1D(),\n",
    "            tfkl.Dense(1, activation='sigmoid'),\n",
    "        ])\n",
    "            \n",
    "    def call(self, x):\n",
    "        conv1D = self.conv1D_model(x)\n",
    "        return conv1D\n",
    "    \n",
    "    def build_graph(self):\n",
    "        x = tfkl.Input(shape=BLOCK_SHAPE)\n",
    "        return tfk.Model(inputs=[x], outputs=self.call(x))"
   ]
  },
  {
   "cell_type": "code",
   "execution_count": 17,
   "id": "0065c5f7",
   "metadata": {},
   "outputs": [
    {
     "data": {
      "text/plain": [
       "'def Conv1D():\\n    model = tfk.Sequential([\\n        tfk.Input(shape=BLOCK_SHAPE),\\n        tfkl.Conv1D(filters=64, kernel_size=7, padding=\"same\", strides=2, activation=\"relu\"),\\n        tfkl.Dropout(0.2),\\n        tfkl.Conv1D(filters=64, kernel_size=7, padding=\"same\", strides=2, activation=\"relu\"),\\n        tfkl.Dropout(0.2),\\n        tfkl.Conv1D(filters=64, kernel_size=7, padding=\"same\", strides=2, activation=\"relu\"),\\n        tfkl.Dropout(0.2),\\n        tfkl.Conv1D(filters=64, kernel_size=7, padding=\"same\", strides=2, activation=\"relu\"),\\n        tfkl.Dropout(0.2),\\n        tfkl.GlobalAveragePooling1D(),\\n        tfkl.Dense(1, activation=\\'sigmoid\\'),\\n    ])\\n    \\n    return model\\n'"
      ]
     },
     "execution_count": 17,
     "metadata": {},
     "output_type": "execute_result"
    }
   ],
   "source": [
    "\"\"\"def Conv1D():\n",
    "    model = tfk.Sequential([\n",
    "        tfk.Input(shape=BLOCK_SHAPE),\n",
    "        tfkl.Conv1D(filters=64, kernel_size=7, padding=\"same\", strides=2, activation=\"relu\"),\n",
    "        tfkl.Dropout(0.2),\n",
    "        tfkl.Conv1D(filters=64, kernel_size=7, padding=\"same\", strides=2, activation=\"relu\"),\n",
    "        tfkl.Dropout(0.2),\n",
    "        tfkl.Conv1D(filters=64, kernel_size=7, padding=\"same\", strides=2, activation=\"relu\"),\n",
    "        tfkl.Dropout(0.2),\n",
    "        tfkl.Conv1D(filters=64, kernel_size=7, padding=\"same\", strides=2, activation=\"relu\"),\n",
    "        tfkl.Dropout(0.2),\n",
    "        tfkl.GlobalAveragePooling1D(),\n",
    "        tfkl.Dense(1, activation='sigmoid'),\n",
    "    ])\n",
    "    \n",
    "    return model\n",
    "\"\"\""
   ]
  },
  {
   "cell_type": "code",
   "execution_count": 18,
   "id": "d119525b",
   "metadata": {
    "scrolled": false
   },
   "outputs": [
    {
     "name": "stdout",
     "output_type": "stream",
     "text": [
      "Epoch 1/30\n",
      "200/200 [==============================] - 24s 23ms/step - loss: 0.2351 - accuracy: 1.0000 - root_mean_squared_error: 0.4849 - val_loss: 0.2508 - val_accuracy: 0.4583 - val_root_mean_squared_error: 0.50081.0000 - root_mean_squar\n",
      "Epoch 2/30\n",
      "200/200 [==============================] - 4s 21ms/step - loss: 0.2255 - accuracy: 1.0000 - root_mean_squared_error: 0.4749 - val_loss: 0.2518 - val_accuracy: 0.4583 - val_root_mean_squared_error: 0.5018\n",
      "Epoch 3/30\n",
      "200/200 [==============================] - 4s 20ms/step - loss: 0.2152 - accuracy: 1.0000 - root_mean_squared_error: 0.4639 - val_loss: 0.2534 - val_accuracy: 0.4583 - val_root_mean_squared_error: 0.5034\n",
      "Epoch 4/30\n",
      "200/200 [==============================] - 4s 19ms/step - loss: 0.2038 - accuracy: 1.0000 - root_mean_squared_error: 0.4514 - val_loss: 0.2551 - val_accuracy: 0.4583 - val_root_mean_squared_error: 0.5051\n",
      "Epoch 5/30\n",
      "200/200 [==============================] - 3s 17ms/step - loss: 0.1914 - accuracy: 1.0000 - root_mean_squared_error: 0.4375 - val_loss: 0.2577 - val_accuracy: 0.4583 - val_root_mean_squared_error: 0.5077\n",
      "Epoch 6/30\n",
      "200/200 [==============================] - 3s 17ms/step - loss: 0.1776 - accuracy: 1.0000 - root_mean_squared_error: 0.4214 - val_loss: 0.2597 - val_accuracy: 0.4583 - val_root_mean_squared_error: 0.5097\n",
      "Epoch 7/30\n",
      "200/200 [==============================] - 3s 17ms/step - loss: 0.1625 - accuracy: 1.0000 - root_mean_squared_error: 0.4032 - val_loss: 0.2634 - val_accuracy: 0.4583 - val_root_mean_squared_error: 0.5132\n",
      "Epoch 8/30\n",
      "200/200 [==============================] - 3s 17ms/step - loss: 0.1467 - accuracy: 1.0000 - root_mean_squared_error: 0.3830 - val_loss: 0.2686 - val_accuracy: 0.4583 - val_root_mean_squared_error: 0.5183\n",
      "Epoch 9/30\n",
      "200/200 [==============================] - 3s 17ms/step - loss: 0.1303 - accuracy: 1.0000 - root_mean_squared_error: 0.3609 - val_loss: 0.2745 - val_accuracy: 0.4583 - val_root_mean_squared_error: 0.5239\n",
      "Epoch 10/30\n",
      "200/200 [==============================] - 3s 17ms/step - loss: 0.1137 - accuracy: 1.0000 - root_mean_squared_error: 0.3373 - val_loss: 0.2829 - val_accuracy: 0.4583 - val_root_mean_squared_error: 0.5318\n",
      "Epoch 11/30\n",
      "200/200 [==============================] - 3s 17ms/step - loss: 0.0974 - accuracy: 1.0000 - root_mean_squared_error: 0.3121 - val_loss: 0.2899 - val_accuracy: 0.4583 - val_root_mean_squared_error: 0.5384\n",
      "Epoch 12/30\n",
      "200/200 [==============================] - 3s 17ms/step - loss: 0.0821 - accuracy: 1.0000 - root_mean_squared_error: 0.2865 - val_loss: 0.2997 - val_accuracy: 0.4583 - val_root_mean_squared_error: 0.5474\n",
      "Epoch 13/30\n",
      "200/200 [==============================] - 4s 19ms/step - loss: 0.0680 - accuracy: 1.0000 - root_mean_squared_error: 0.2607 - val_loss: 0.3113 - val_accuracy: 0.4583 - val_root_mean_squared_error: 0.5580\n",
      "Epoch 14/30\n",
      "200/200 [==============================] - 4s 19ms/step - loss: 0.0557 - accuracy: 1.0000 - root_mean_squared_error: 0.2361 - val_loss: 0.3244 - val_accuracy: 0.4583 - val_root_mean_squared_error: 0.5696\n",
      "Epoch 15/30\n",
      "200/200 [==============================] - 4s 19ms/step - loss: 0.0451 - accuracy: 1.0000 - root_mean_squared_error: 0.2123 - val_loss: 0.3381 - val_accuracy: 0.4583 - val_root_mean_squared_error: 0.5814\n",
      "Epoch 16/30\n",
      "200/200 [==============================] - 4s 19ms/step - loss: 0.0364 - accuracy: 1.0000 - root_mean_squared_error: 0.1907 - val_loss: 0.3505 - val_accuracy: 0.4583 - val_root_mean_squared_error: 0.5920\n",
      "Epoch 17/30\n",
      "200/200 [==============================] - 4s 19ms/step - loss: 0.0292 - accuracy: 1.0000 - root_mean_squared_error: 0.1708 - val_loss: 0.3676 - val_accuracy: 0.4583 - val_root_mean_squared_error: 0.606316 - accuracy: 1.0000 - root_mean_s - ETA: 1s - loss: 0.0309 - accuracy: 1.00 - ETA: 0s - loss: 0.0298 - accuracy: 1.0000 - root_mean_squared_error: 0. - ETA: 0s - loss: 0.0296 - accuracy: 1.0000 - root_mean_squ\n",
      "Epoch 18/30\n",
      "200/200 [==============================] - 4s 20ms/step - loss: 0.0232 - accuracy: 1.0000 - root_mean_squared_error: 0.1523 - val_loss: 0.3808 - val_accuracy: 0.4583 - val_root_mean_squared_error: 0.6171uracy: 1.0000 - root_mean_squared_error\n",
      "Epoch 19/30\n",
      "200/200 [==============================] - 4s 21ms/step - loss: 0.0186 - accuracy: 1.0000 - root_mean_squared_error: 0.1362 - val_loss: 0.3930 - val_accuracy: 0.4583 - val_root_mean_squared_error: 0.6269\n",
      "Epoch 20/30\n",
      "200/200 [==============================] - 4s 21ms/step - loss: 0.0150 - accuracy: 1.0000 - root_mean_squared_error: 0.1224 - val_loss: 0.4033 - val_accuracy: 0.4583 - val_root_mean_squared_error: 0.6351\n",
      "Epoch 21/30\n",
      "200/200 [==============================] - 4s 20ms/step - loss: 0.0120 - accuracy: 1.0000 - root_mean_squared_error: 0.1094 - val_loss: 0.4171 - val_accuracy: 0.4583 - val_root_mean_squared_error: 0.6458\n",
      "Epoch 22/30\n",
      "200/200 [==============================] - 4s 20ms/step - loss: 0.0097 - accuracy: 1.0000 - root_mean_squared_error: 0.0984 - val_loss: 0.4248 - val_accuracy: 0.4583 - val_root_mean_squared_error: 0.6518\n",
      "Epoch 23/30\n",
      "200/200 [==============================] - 4s 20ms/step - loss: 0.0079 - accuracy: 1.0000 - root_mean_squared_error: 0.0890 - val_loss: 0.4358 - val_accuracy: 0.4583 - val_root_mean_squared_error: 0.6602\n",
      "Epoch 24/30\n",
      "200/200 [==============================] - 4s 20ms/step - loss: 0.0064 - accuracy: 1.0000 - root_mean_squared_error: 0.0801 - val_loss: 0.4442 - val_accuracy: 0.4583 - val_root_mean_squared_error: 0.6665\n",
      "Epoch 25/30\n",
      "200/200 [==============================] - 4s 22ms/step - loss: 0.0053 - accuracy: 1.0000 - root_mean_squared_error: 0.0727 - val_loss: 0.4525 - val_accuracy: 0.4583 - val_root_mean_squared_error: 0.6727 - accuracy: \n",
      "Epoch 26/30\n",
      "200/200 [==============================] - 5s 23ms/step - loss: 0.0043 - accuracy: 1.0000 - root_mean_squared_error: 0.0658 - val_loss: 0.4606 - val_accuracy: 0.4583 - val_root_mean_squared_error: 0.6787\n",
      "Epoch 27/30\n",
      "200/200 [==============================] - 4s 19ms/step - loss: 0.0036 - accuracy: 1.0000 - root_mean_squared_error: 0.0602 - val_loss: 0.4667 - val_accuracy: 0.4583 - val_root_mean_squared_error: 0.6832\n",
      "Epoch 28/30\n",
      "200/200 [==============================] - 4s 20ms/step - loss: 0.0030 - accuracy: 1.0000 - root_mean_squared_error: 0.0546 - val_loss: 0.4714 - val_accuracy: 0.4583 - val_root_mean_squared_error: 0.6866\n",
      "Epoch 29/30\n",
      "200/200 [==============================] - 4s 22ms/step - loss: 0.0025 - accuracy: 1.0000 - root_mean_squared_error: 0.0498 - val_loss: 0.4770 - val_accuracy: 0.4583 - val_root_mean_squared_error: 0.6907\n",
      "Epoch 30/30\n",
      "200/200 [==============================] - 4s 20ms/step - loss: 0.0021 - accuracy: 1.0000 - root_mean_squared_error: 0.0459 - val_loss: 0.4817 - val_accuracy: 0.4583 - val_root_mean_squared_error: 0.6941\n",
      "Epoch 1/30\n",
      "200/200 [==============================] - 6s 21ms/step - loss: 0.2482 - accuracy: 0.7998 - root_mean_squared_error: 0.4982 - val_loss: 0.2503 - val_accuracy: 0.4526 - val_root_mean_squared_error: 0.5003\n",
      "Epoch 2/30\n",
      "200/200 [==============================] - 4s 20ms/step - loss: 0.2422 - accuracy: 1.0000 - root_mean_squared_error: 0.4922 - val_loss: 0.2508 - val_accuracy: 0.4526 - val_root_mean_squared_error: 0.5008\n",
      "Epoch 3/30\n",
      "200/200 [==============================] - 4s 20ms/step - loss: 0.2361 - accuracy: 1.0000 - root_mean_squared_error: 0.4859 - val_loss: 0.2513 - val_accuracy: 0.4526 - val_root_mean_squared_error: 0.5013\n",
      "Epoch 4/30\n",
      "200/200 [==============================] - 4s 20ms/step - loss: 0.2293 - accuracy: 1.0000 - root_mean_squared_error: 0.4788 - val_loss: 0.2519 - val_accuracy: 0.4526 - val_root_mean_squared_error: 0.5019\n",
      "Epoch 5/30\n",
      "200/200 [==============================] - 4s 19ms/step - loss: 0.2217 - accuracy: 1.0000 - root_mean_squared_error: 0.4709 - val_loss: 0.2529 - val_accuracy: 0.4526 - val_root_mean_squared_error: 0.5029\n",
      "Epoch 6/30\n",
      "200/200 [==============================] - 4s 19ms/step - loss: 0.2132 - accuracy: 1.0000 - root_mean_squared_error: 0.4617 - val_loss: 0.2541 - val_accuracy: 0.4526 - val_root_mean_squared_error: 0.5041000 - root_mean_squared_error\n",
      "Epoch 7/30\n"
     ]
    },
    {
     "name": "stdout",
     "output_type": "stream",
     "text": [
      "200/200 [==============================] - 4s 19ms/step - loss: 0.2034 - accuracy: 1.0000 - root_mean_squared_error: 0.4510 - val_loss: 0.2555 - val_accuracy: 0.4526 - val_root_mean_squared_error: 0.5055\n",
      "Epoch 8/30\n",
      "200/200 [==============================] - 4s 18ms/step - loss: 0.1925 - accuracy: 1.0000 - root_mean_squared_error: 0.4388 - val_loss: 0.2576 - val_accuracy: 0.4526 - val_root_mean_squared_error: 0.5075 - accura\n",
      "Epoch 9/30\n",
      "200/200 [==============================] - 4s 20ms/step - loss: 0.1800 - accuracy: 1.0000 - root_mean_squared_error: 0.4242 - val_loss: 0.2604 - val_accuracy: 0.4526 - val_root_mean_squared_error: 0.5103\n",
      "Epoch 10/30\n",
      "200/200 [==============================] - 4s 21ms/step - loss: 0.1663 - accuracy: 1.0000 - root_mean_squared_error: 0.4079 - val_loss: 0.2641 - val_accuracy: 0.4526 - val_root_mean_squared_error: 0.5139\n",
      "Epoch 11/30\n",
      "200/200 [==============================] - 4s 20ms/step - loss: 0.1513 - accuracy: 1.0000 - root_mean_squared_error: 0.3890 - val_loss: 0.2695 - val_accuracy: 0.4526 - val_root_mean_squared_error: 0.5191\n",
      "Epoch 12/30\n",
      "200/200 [==============================] - 4s 20ms/step - loss: 0.1354 - accuracy: 1.0000 - root_mean_squared_error: 0.3680 - val_loss: 0.2747 - val_accuracy: 0.4526 - val_root_mean_squared_error: 0.5241000 - roo\n",
      "Epoch 13/30\n",
      "200/200 [==============================] - 4s 20ms/step - loss: 0.1188 - accuracy: 1.0000 - root_mean_squared_error: 0.3447 - val_loss: 0.2842 - val_accuracy: 0.4526 - val_root_mean_squared_error: 0.5331\n",
      "Epoch 14/30\n",
      "200/200 [==============================] - 4s 20ms/step - loss: 0.1023 - accuracy: 1.0000 - root_mean_squared_error: 0.3198 - val_loss: 0.2935 - val_accuracy: 0.4526 - val_root_mean_squared_error: 0.5418\n",
      "Epoch 15/30\n",
      "200/200 [==============================] - 4s 22ms/step - loss: 0.0863 - accuracy: 1.0000 - root_mean_squared_error: 0.2938 - val_loss: 0.3056 - val_accuracy: 0.4526 - val_root_mean_squared_error: 0.5528d_e\n",
      "Epoch 16/30\n",
      "200/200 [==============================] - 4s 19ms/step - loss: 0.0714 - accuracy: 1.0000 - root_mean_squared_error: 0.2672 - val_loss: 0.3208 - val_accuracy: 0.4526 - val_root_mean_squared_error: 0.5664\n",
      "Epoch 17/30\n",
      "200/200 [==============================] - 3s 16ms/step - loss: 0.0584 - accuracy: 1.0000 - root_mean_squared_error: 0.2417 - val_loss: 0.3340 - val_accuracy: 0.4526 - val_root_mean_squared_error: 0.5779\n",
      "Epoch 18/30\n",
      "200/200 [==============================] - 3s 15ms/step - loss: 0.0468 - accuracy: 1.0000 - root_mean_squared_error: 0.2163 - val_loss: 0.3524 - val_accuracy: 0.4526 - val_root_mean_squared_error: 0.5936\n",
      "Epoch 19/30\n",
      "200/200 [==============================] - 3s 15ms/step - loss: 0.0372 - accuracy: 1.0000 - root_mean_squared_error: 0.1929 - val_loss: 0.3668 - val_accuracy: 0.4526 - val_root_mean_squared_error: 0.6056\n",
      "Epoch 20/30\n",
      "200/200 [==============================] - 3s 15ms/step - loss: 0.0293 - accuracy: 1.0000 - root_mean_squared_error: 0.1711 - val_loss: 0.3837 - val_accuracy: 0.4526 - val_root_mean_squared_error: 0.6194\n",
      "Epoch 21/30\n",
      "200/200 [==============================] - 3s 16ms/step - loss: 0.0231 - accuracy: 1.0000 - root_mean_squared_error: 0.1520 - val_loss: 0.3985 - val_accuracy: 0.4526 - val_root_mean_squared_error: 0.6313\n",
      "Epoch 22/30\n",
      "200/200 [==============================] - 3s 15ms/step - loss: 0.0183 - accuracy: 1.0000 - root_mean_squared_error: 0.1352 - val_loss: 0.4138 - val_accuracy: 0.4526 - val_root_mean_squared_error: 0.6433\n",
      "Epoch 23/30\n",
      "200/200 [==============================] - 3s 15ms/step - loss: 0.0143 - accuracy: 1.0000 - root_mean_squared_error: 0.1198 - val_loss: 0.4260 - val_accuracy: 0.4526 - val_root_mean_squared_error: 0.6527\n",
      "Epoch 24/30\n",
      "200/200 [==============================] - 3s 16ms/step - loss: 0.0114 - accuracy: 1.0000 - root_mean_squared_error: 0.1069 - val_loss: 0.4375 - val_accuracy: 0.4526 - val_root_mean_squared_error: 0.6614\n",
      "Epoch 25/30\n",
      "200/200 [==============================] - 3s 15ms/step - loss: 0.0092 - accuracy: 1.0000 - root_mean_squared_error: 0.0959 - val_loss: 0.4487 - val_accuracy: 0.4526 - val_root_mean_squared_error: 0.6698\n",
      "Epoch 26/30\n",
      "200/200 [==============================] - 3s 15ms/step - loss: 0.0073 - accuracy: 1.0000 - root_mean_squared_error: 0.0856 - val_loss: 0.4556 - val_accuracy: 0.4526 - val_root_mean_squared_error: 0.6750\n",
      "Epoch 27/30\n",
      "200/200 [==============================] - 3s 16ms/step - loss: 0.0059 - accuracy: 1.0000 - root_mean_squared_error: 0.0770 - val_loss: 0.4674 - val_accuracy: 0.4526 - val_root_mean_squared_error: 0.6837\n",
      "Epoch 28/30\n",
      "200/200 [==============================] - 3s 16ms/step - loss: 0.0048 - accuracy: 1.0000 - root_mean_squared_error: 0.0694 - val_loss: 0.4742 - val_accuracy: 0.4526 - val_root_mean_squared_error: 0.6886\n",
      "Epoch 29/30\n",
      "200/200 [==============================] - 4s 19ms/step - loss: 0.0040 - accuracy: 1.0000 - root_mean_squared_error: 0.0630 - val_loss: 0.4787 - val_accuracy: 0.4526 - val_root_mean_squared_error: 0.6919\n",
      "Epoch 30/30\n",
      "200/200 [==============================] - 4s 20ms/step - loss: 0.0032 - accuracy: 1.0000 - root_mean_squared_error: 0.0568 - val_loss: 0.4872 - val_accuracy: 0.4526 - val_root_mean_squared_error: 0.69800.0032 - accuracy: 1.0000 - root_mean_squared_error: 0.\n",
      "Epoch 1/30\n",
      "200/200 [==============================] - 6s 23ms/step - loss: 0.2445 - accuracy: 0.9958 - root_mean_squared_error: 0.4945 - val_loss: 0.2503 - val_accuracy: 0.4662 - val_root_mean_squared_error: 0.5003\n",
      "Epoch 2/30\n",
      "200/200 [==============================] - 4s 20ms/step - loss: 0.2375 - accuracy: 1.0000 - root_mean_squared_error: 0.4874 - val_loss: 0.2507 - val_accuracy: 0.4662 - val_root_mean_squared_error: 0.5007 - accuracy: 1.00\n",
      "Epoch 3/30\n",
      "200/200 [==============================] - 4s 20ms/step - loss: 0.2300 - accuracy: 1.0000 - root_mean_squared_error: 0.4796 - val_loss: 0.2513 - val_accuracy: 0.4662 - val_root_mean_squared_error: 0.5013\n",
      "Epoch 4/30\n",
      "200/200 [==============================] - 4s 20ms/step - loss: 0.2216 - accuracy: 1.0000 - root_mean_squared_error: 0.4707 - val_loss: 0.2521 - val_accuracy: 0.4662 - val_root_mean_squared_error: 0.5021\n",
      "Epoch 5/30\n",
      "200/200 [==============================] - 4s 19ms/step - loss: 0.2121 - accuracy: 1.0000 - root_mean_squared_error: 0.4605 - val_loss: 0.2530 - val_accuracy: 0.4662 - val_root_mean_squared_error: 0.5030\n",
      "Epoch 6/30\n",
      "200/200 [==============================] - 4s 19ms/step - loss: 0.2012 - accuracy: 1.0000 - root_mean_squared_error: 0.4486 - val_loss: 0.2547 - val_accuracy: 0.4662 - val_root_mean_squared_error: 0.5046\n",
      "Epoch 7/30\n",
      "200/200 [==============================] - 4s 19ms/step - loss: 0.1890 - accuracy: 1.0000 - root_mean_squared_error: 0.4347 - val_loss: 0.2564 - val_accuracy: 0.4662 - val_root_mean_squared_error: 0.5064- ETA: 0s - loss: 0.1906 - accuracy: 1.0000 - root_mean_squared_error: 0.43 - ETA: 0s - loss: 0.1904 - accuracy: 1.0000 - root_me\n",
      "Epoch 8/30\n",
      "200/200 [==============================] - 4s 19ms/step - loss: 0.1754 - accuracy: 1.0000 - root_mean_squared_error: 0.4188 - val_loss: 0.2584 - val_accuracy: 0.4662 - val_root_mean_squared_error: 0.5083ss: 0.1755 - accuracy: 1.0000 - root_mean_squared_error: 0.41\n",
      "Epoch 9/30\n",
      "200/200 [==============================] - 4s 19ms/step - loss: 0.1604 - accuracy: 1.0000 - root_mean_squared_error: 0.4005 - val_loss: 0.2620 - val_accuracy: 0.4662 - val_root_mean_squared_error: 0.5119\n",
      "Epoch 10/30\n",
      "200/200 [==============================] - 4s 19ms/step - loss: 0.1445 - accuracy: 1.0000 - root_mean_squared_error: 0.3801 - val_loss: 0.2665 - val_accuracy: 0.4662 - val_root_mean_squared_error: 0.5163ETA: 0s - loss: 0.1463 - accuracy: 1.0000 - root_\n",
      "Epoch 11/30\n",
      "200/200 [==============================] - 4s 19ms/step - loss: 0.1280 - accuracy: 1.0000 - root_mean_squared_error: 0.3578 - val_loss: 0.2725 - val_accuracy: 0.4662 - val_root_mean_squared_error: 0.5220 - accuracy: 1.0000 - root_mean_squared_err - ETA: 1s - loss: 0.1326 - accuracy: 1.0000 - root_mean_s - ETA: 1s - loss: 0.1309 - accuracy: 1.0000\n",
      "Epoch 12/30\n"
     ]
    },
    {
     "name": "stdout",
     "output_type": "stream",
     "text": [
      "200/200 [==============================] - 4s 20ms/step - loss: 0.1112 - accuracy: 1.0000 - root_mean_squared_error: 0.3335 - val_loss: 0.2794 - val_accuracy: 0.4662 - val_root_mean_squared_error: 0.5285- loss: 0.1123 - accuracy: 1.0000 - root_mean_squar\n",
      "Epoch 13/30\n",
      "200/200 [==============================] - 3s 17ms/step - loss: 0.0948 - accuracy: 1.0000 - root_mean_squared_error: 0.3078 - val_loss: 0.2879 - val_accuracy: 0.4662 - val_root_mean_squared_error: 0.5365\n",
      "Epoch 14/30\n",
      "200/200 [==============================] - 3s 16ms/step - loss: 0.0794 - accuracy: 1.0000 - root_mean_squared_error: 0.2817 - val_loss: 0.2978 - val_accuracy: 0.4662 - val_root_mean_squared_error: 0.5457\n",
      "Epoch 15/30\n",
      "200/200 [==============================] - 4s 19ms/step - loss: 0.0655 - accuracy: 1.0000 - root_mean_squared_error: 0.2559 - val_loss: 0.3111 - val_accuracy: 0.4662 - val_root_mean_squared_error: 0.5577- loss: 0.0665 - accuracy: 1.0000 - root_mean_squared_error:  - ETA: 0s - loss: 0.0661 - accuracy: 1.0000 - root_mean_squared_err\n",
      "Epoch 16/30\n",
      "200/200 [==============================] - 4s 20ms/step - loss: 0.0533 - accuracy: 1.0000 - root_mean_squared_error: 0.2308 - val_loss: 0.3238 - val_accuracy: 0.4662 - val_root_mean_squared_error: 0.5690\n",
      "Epoch 17/30\n",
      "200/200 [==============================] - 4s 20ms/step - loss: 0.0427 - accuracy: 1.0000 - root_mean_squared_error: 0.2066 - val_loss: 0.3366 - val_accuracy: 0.4662 - val_root_mean_squared_error: 0.5802\n",
      "Epoch 18/30\n",
      "200/200 [==============================] - 4s 22ms/step - loss: 0.0343 - accuracy: 1.0000 - root_mean_squared_error: 0.1853 - val_loss: 0.3513 - val_accuracy: 0.4662 - val_root_mean_squared_error: 0.5927\n",
      "Epoch 19/30\n",
      "200/200 [==============================] - 5s 24ms/step - loss: 0.0271 - accuracy: 1.0000 - root_mean_squared_error: 0.1646 - val_loss: 0.3666 - val_accuracy: 0.4662 - val_root_mean_squared_error: 0.6054\n",
      "Epoch 20/30\n",
      "200/200 [==============================] - 5s 24ms/step - loss: 0.0217 - accuracy: 1.0000 - root_mean_squared_error: 0.1474 - val_loss: 0.3775 - val_accuracy: 0.4662 - val_root_mean_squared_error: 0.6144\n",
      "Epoch 21/30\n",
      "200/200 [==============================] - 4s 22ms/step - loss: 0.0173 - accuracy: 1.0000 - root_mean_squared_error: 0.1316 - val_loss: 0.3916 - val_accuracy: 0.4662 - val_root_mean_squared_error: 0.6257\n",
      "Epoch 22/30\n",
      "200/200 [==============================] - 4s 22ms/step - loss: 0.0138 - accuracy: 1.0000 - root_mean_squared_error: 0.1175 - val_loss: 0.4026 - val_accuracy: 0.4662 - val_root_mean_squared_error: 0.6345\n",
      "Epoch 23/30\n",
      "200/200 [==============================] - 4s 18ms/step - loss: 0.0111 - accuracy: 1.0000 - root_mean_squared_error: 0.1055 - val_loss: 0.4128 - val_accuracy: 0.4662 - val_root_mean_squared_error: 0.6425\n",
      "Epoch 24/30\n",
      "200/200 [==============================] - 4s 18ms/step - loss: 0.0090 - accuracy: 1.0000 - root_mean_squared_error: 0.0946 - val_loss: 0.4254 - val_accuracy: 0.4662 - val_root_mean_squared_error: 0.6522\n",
      "Epoch 25/30\n",
      "200/200 [==============================] - 4s 18ms/step - loss: 0.0073 - accuracy: 1.0000 - root_mean_squared_error: 0.0853 - val_loss: 0.4315 - val_accuracy: 0.4662 - val_root_mean_squared_error: 0.6569\n",
      "Epoch 26/30\n",
      "200/200 [==============================] - 4s 18ms/step - loss: 0.0059 - accuracy: 1.0000 - root_mean_squared_error: 0.0769 - val_loss: 0.4418 - val_accuracy: 0.4662 - val_root_mean_squared_error: 0.6647\n",
      "Epoch 27/30\n",
      "200/200 [==============================] - 4s 18ms/step - loss: 0.0049 - accuracy: 1.0000 - root_mean_squared_error: 0.0697 - val_loss: 0.4476 - val_accuracy: 0.4662 - val_root_mean_squared_error: 0.6690\n",
      "Epoch 28/30\n",
      "200/200 [==============================] - 3s 17ms/step - loss: 0.0040 - accuracy: 1.0000 - root_mean_squared_error: 0.0631 - val_loss: 0.4547 - val_accuracy: 0.4662 - val_root_mean_squared_error: 0.6743\n",
      "Epoch 29/30\n",
      "200/200 [==============================] - 3s 17ms/step - loss: 0.0033 - accuracy: 1.0000 - root_mean_squared_error: 0.0575 - val_loss: 0.4616 - val_accuracy: 0.4662 - val_root_mean_squared_error: 0.6794\n",
      "Epoch 30/30\n",
      "200/200 [==============================] - 4s 20ms/step - loss: 0.0027 - accuracy: 1.0000 - root_mean_squared_error: 0.0523 - val_loss: 0.4683 - val_accuracy: 0.4662 - val_root_mean_squared_error: 0.6843\n",
      "Epoch 1/30\n",
      "200/200 [==============================] - 6s 21ms/step - loss: 0.2494 - accuracy: 0.6012 - root_mean_squared_error: 0.4994 - val_loss: 0.2501 - val_accuracy: 0.4638 - val_root_mean_squared_error: 0.5001\n",
      "Epoch 2/30\n",
      "200/200 [==============================] - 4s 19ms/step - loss: 0.2433 - accuracy: 1.0000 - root_mean_squared_error: 0.4933 - val_loss: 0.2504 - val_accuracy: 0.4638 - val_root_mean_squared_error: 0.5004\n",
      "Epoch 3/30\n",
      "200/200 [==============================] - 3s 17ms/step - loss: 0.2367 - accuracy: 1.0000 - root_mean_squared_error: 0.4865 - val_loss: 0.2510 - val_accuracy: 0.4638 - val_root_mean_squared_error: 0.5010\n",
      "Epoch 4/30\n",
      "200/200 [==============================] - 3s 16ms/step - loss: 0.2292 - accuracy: 1.0000 - root_mean_squared_error: 0.4788 - val_loss: 0.2513 - val_accuracy: 0.4638 - val_root_mean_squared_error: 0.5013\n",
      "Epoch 5/30\n",
      "200/200 [==============================] - 3s 16ms/step - loss: 0.2205 - accuracy: 1.0000 - root_mean_squared_error: 0.4696 - val_loss: 0.2520 - val_accuracy: 0.4638 - val_root_mean_squared_error: 0.5020\n",
      "Epoch 6/30\n",
      "200/200 [==============================] - 3s 16ms/step - loss: 0.2106 - accuracy: 1.0000 - root_mean_squared_error: 0.4589 - val_loss: 0.2529 - val_accuracy: 0.4638 - val_root_mean_squared_error: 0.5029\n",
      "Epoch 7/30\n",
      "200/200 [==============================] - 3s 16ms/step - loss: 0.1990 - accuracy: 1.0000 - root_mean_squared_error: 0.4461 - val_loss: 0.2546 - val_accuracy: 0.4638 - val_root_mean_squared_error: 0.5046\n",
      "Epoch 8/30\n",
      "200/200 [==============================] - 3s 16ms/step - loss: 0.1860 - accuracy: 1.0000 - root_mean_squared_error: 0.4313 - val_loss: 0.2567 - val_accuracy: 0.4638 - val_root_mean_squared_error: 0.5066\n",
      "Epoch 9/30\n",
      "200/200 [==============================] - 3s 16ms/step - loss: 0.1717 - accuracy: 1.0000 - root_mean_squared_error: 0.4144 - val_loss: 0.2600 - val_accuracy: 0.4638 - val_root_mean_squared_error: 0.5099\n",
      "Epoch 10/30\n",
      "200/200 [==============================] - 3s 16ms/step - loss: 0.1561 - accuracy: 1.0000 - root_mean_squared_error: 0.3951 - val_loss: 0.2630 - val_accuracy: 0.4638 - val_root_mean_squared_error: 0.5128\n",
      "Epoch 11/30\n",
      "200/200 [==============================] - 3s 16ms/step - loss: 0.1396 - accuracy: 1.0000 - root_mean_squared_error: 0.3737 - val_loss: 0.2688 - val_accuracy: 0.4638 - val_root_mean_squared_error: 0.5184\n",
      "Epoch 12/30\n",
      "200/200 [==============================] - 3s 16ms/step - loss: 0.1228 - accuracy: 1.0000 - root_mean_squared_error: 0.3504 - val_loss: 0.2762 - val_accuracy: 0.4638 - val_root_mean_squared_error: 0.5255\n",
      "Epoch 13/30\n",
      "200/200 [==============================] - 3s 16ms/step - loss: 0.1060 - accuracy: 1.0000 - root_mean_squared_error: 0.3256 - val_loss: 0.2848 - val_accuracy: 0.4638 - val_root_mean_squared_error: 0.5336\n",
      "Epoch 14/30\n",
      "200/200 [==============================] - 4s 18ms/step - loss: 0.0897 - accuracy: 1.0000 - root_mean_squared_error: 0.2995 - val_loss: 0.2949 - val_accuracy: 0.4638 - val_root_mean_squared_error: 0.5430\n",
      "Epoch 15/30\n",
      "200/200 [==============================] - 4s 18ms/step - loss: 0.0747 - accuracy: 1.0000 - root_mean_squared_error: 0.2734 - val_loss: 0.3073 - val_accuracy: 0.4638 - val_root_mean_squared_error: 0.5544\n",
      "Epoch 16/30\n",
      "200/200 [==============================] - 4s 19ms/step - loss: 0.0612 - accuracy: 1.0000 - root_mean_squared_error: 0.2474 - val_loss: 0.3218 - val_accuracy: 0.4638 - val_root_mean_squared_error: 0.5672\n",
      "Epoch 17/30\n",
      "200/200 [==============================] - 4s 19ms/step - loss: 0.0497 - accuracy: 1.0000 - root_mean_squared_error: 0.2228 - val_loss: 0.3353 - val_accuracy: 0.4638 - val_root_mean_squared_error: 0.5791\n",
      "Epoch 18/30\n",
      "200/200 [==============================] - 4s 20ms/step - loss: 0.0397 - accuracy: 1.0000 - root_mean_squared_error: 0.1993 - val_loss: 0.3507 - val_accuracy: 0.4638 - val_root_mean_squared_error: 0.5922\n",
      "Epoch 19/30\n"
     ]
    },
    {
     "name": "stdout",
     "output_type": "stream",
     "text": [
      "200/200 [==============================] - 4s 19ms/step - loss: 0.0316 - accuracy: 1.0000 - root_mean_squared_error: 0.1776 - val_loss: 0.3647 - val_accuracy: 0.4638 - val_root_mean_squared_error: 0.6039\n",
      "Epoch 20/30\n",
      "200/200 [==============================] - 4s 21ms/step - loss: 0.0251 - accuracy: 1.0000 - root_mean_squared_error: 0.1586 - val_loss: 0.3790 - val_accuracy: 0.4638 - val_root_mean_squared_error: 0.6157\n",
      "Epoch 21/30\n",
      "200/200 [==============================] - 4s 19ms/step - loss: 0.0200 - accuracy: 1.0000 - root_mean_squared_error: 0.1414 - val_loss: 0.3939 - val_accuracy: 0.4638 - val_root_mean_squared_error: 0.62760206 - accuracy: 1.00\n",
      "Epoch 22/30\n",
      "200/200 [==============================] - 4s 19ms/step - loss: 0.0160 - accuracy: 1.0000 - root_mean_squared_error: 0.1265 - val_loss: 0.4054 - val_accuracy: 0.4638 - val_root_mean_squared_error: 0.6367\n",
      "Epoch 23/30\n",
      "200/200 [==============================] - 4s 19ms/step - loss: 0.0127 - accuracy: 1.0000 - root_mean_squared_error: 0.1127 - val_loss: 0.4198 - val_accuracy: 0.4638 - val_root_mean_squared_error: 0.6479\n",
      "Epoch 24/30\n",
      "200/200 [==============================] - 4s 19ms/step - loss: 0.0103 - accuracy: 1.0000 - root_mean_squared_error: 0.1013 - val_loss: 0.4280 - val_accuracy: 0.4638 - val_root_mean_squared_error: 0.6542\n",
      "Epoch 25/30\n",
      "200/200 [==============================] - 4s 19ms/step - loss: 0.0083 - accuracy: 1.0000 - root_mean_squared_error: 0.0909 - val_loss: 0.4388 - val_accuracy: 0.4638 - val_root_mean_squared_error: 0.6624\n",
      "Epoch 26/30\n",
      "200/200 [==============================] - 4s 19ms/step - loss: 0.0068 - accuracy: 1.0000 - root_mean_squared_error: 0.0822 - val_loss: 0.4490 - val_accuracy: 0.4638 - val_root_mean_squared_error: 0.6700\n",
      "Epoch 27/30\n",
      "200/200 [==============================] - 4s 19ms/step - loss: 0.0055 - accuracy: 1.0000 - root_mean_squared_error: 0.0740 - val_loss: 0.4541 - val_accuracy: 0.4638 - val_root_mean_squared_error: 0.6738\n",
      "Epoch 28/30\n",
      "200/200 [==============================] - 4s 19ms/step - loss: 0.0045 - accuracy: 1.0000 - root_mean_squared_error: 0.0670 - val_loss: 0.4625 - val_accuracy: 0.4638 - val_root_mean_squared_error: 0.6801\n",
      "Epoch 29/30\n",
      "200/200 [==============================] - 4s 20ms/step - loss: 0.0037 - accuracy: 1.0000 - root_mean_squared_error: 0.0611 - val_loss: 0.4693 - val_accuracy: 0.4638 - val_root_mean_squared_error: 0.6850\n",
      "Epoch 30/30\n",
      "200/200 [==============================] - 4s 19ms/step - loss: 0.0031 - accuracy: 1.0000 - root_mean_squared_error: 0.0557 - val_loss: 0.4721 - val_accuracy: 0.4638 - val_root_mean_squared_error: 0.6871\n"
     ]
    },
    {
     "data": {
      "text/html": [
       "<div>\n",
       "<style scoped>\n",
       "    .dataframe tbody tr th:only-of-type {\n",
       "        vertical-align: middle;\n",
       "    }\n",
       "\n",
       "    .dataframe tbody tr th {\n",
       "        vertical-align: top;\n",
       "    }\n",
       "\n",
       "    .dataframe thead th {\n",
       "        text-align: right;\n",
       "    }\n",
       "</style>\n",
       "<table border=\"1\" class=\"dataframe\">\n",
       "  <thead>\n",
       "    <tr style=\"text-align: right;\">\n",
       "      <th></th>\n",
       "      <th>0</th>\n",
       "      <th>1</th>\n",
       "      <th>2</th>\n",
       "      <th>3</th>\n",
       "    </tr>\n",
       "  </thead>\n",
       "  <tbody>\n",
       "    <tr>\n",
       "      <th>loss</th>\n",
       "      <td>[0.2351415753364563, 0.22553366422653198, 0.21...</td>\n",
       "      <td>[0.2481984943151474, 0.24224871397018433, 0.23...</td>\n",
       "      <td>[0.24449382722377777, 0.23752029240131378, 0.2...</td>\n",
       "      <td>[0.2493821680545807, 0.24334566295146942, 0.23...</td>\n",
       "    </tr>\n",
       "    <tr>\n",
       "      <th>accuracy</th>\n",
       "      <td>[1.0, 1.0, 1.0, 1.0, 1.0, 1.0, 1.0, 1.0, 1.0, ...</td>\n",
       "      <td>[0.7998437285423279, 1.0, 1.0, 1.0, 1.0, 1.0, ...</td>\n",
       "      <td>[0.9957812428474426, 1.0, 1.0, 1.0, 1.0, 1.0, ...</td>\n",
       "      <td>[0.6012499928474426, 1.0, 1.0, 1.0, 1.0, 1.0, ...</td>\n",
       "    </tr>\n",
       "    <tr>\n",
       "      <th>root_mean_squared_error</th>\n",
       "      <td>[0.48491397500038147, 0.4749038517475128, 0.46...</td>\n",
       "      <td>[0.49819523096084595, 0.4921876788139343, 0.48...</td>\n",
       "      <td>[0.494463175535202, 0.48736053705215454, 0.479...</td>\n",
       "      <td>[0.49938178062438965, 0.49330076575279236, 0.4...</td>\n",
       "    </tr>\n",
       "    <tr>\n",
       "      <th>val_loss</th>\n",
       "      <td>[0.2507633566856384, 0.2518458068370819, 0.253...</td>\n",
       "      <td>[0.2503288984298706, 0.2507515251636505, 0.251...</td>\n",
       "      <td>[0.25028905272483826, 0.2507358193397522, 0.25...</td>\n",
       "      <td>[0.250085711479187, 0.25039663910865784, 0.250...</td>\n",
       "    </tr>\n",
       "    <tr>\n",
       "      <th>val_accuracy</th>\n",
       "      <td>[0.4583333432674408, 0.4583333432674408, 0.458...</td>\n",
       "      <td>[0.4526209533214569, 0.4526209533214569, 0.452...</td>\n",
       "      <td>[0.46621620655059814, 0.46621620655059814, 0.4...</td>\n",
       "      <td>[0.4638157784938812, 0.4638157784938812, 0.463...</td>\n",
       "    </tr>\n",
       "    <tr>\n",
       "      <th>val_root_mean_squared_error</th>\n",
       "      <td>[0.5007627606391907, 0.5018423795700073, 0.503...</td>\n",
       "      <td>[0.500328779220581, 0.5007509589195251, 0.5012...</td>\n",
       "      <td>[0.5002889633178711, 0.5007352828979492, 0.501...</td>\n",
       "      <td>[0.500085711479187, 0.5003964900970459, 0.5009...</td>\n",
       "    </tr>\n",
       "  </tbody>\n",
       "</table>\n",
       "</div>"
      ],
      "text/plain": [
       "                                                                             0  \\\n",
       "loss                         [0.2351415753364563, 0.22553366422653198, 0.21...   \n",
       "accuracy                     [1.0, 1.0, 1.0, 1.0, 1.0, 1.0, 1.0, 1.0, 1.0, ...   \n",
       "root_mean_squared_error      [0.48491397500038147, 0.4749038517475128, 0.46...   \n",
       "val_loss                     [0.2507633566856384, 0.2518458068370819, 0.253...   \n",
       "val_accuracy                 [0.4583333432674408, 0.4583333432674408, 0.458...   \n",
       "val_root_mean_squared_error  [0.5007627606391907, 0.5018423795700073, 0.503...   \n",
       "\n",
       "                                                                             1  \\\n",
       "loss                         [0.2481984943151474, 0.24224871397018433, 0.23...   \n",
       "accuracy                     [0.7998437285423279, 1.0, 1.0, 1.0, 1.0, 1.0, ...   \n",
       "root_mean_squared_error      [0.49819523096084595, 0.4921876788139343, 0.48...   \n",
       "val_loss                     [0.2503288984298706, 0.2507515251636505, 0.251...   \n",
       "val_accuracy                 [0.4526209533214569, 0.4526209533214569, 0.452...   \n",
       "val_root_mean_squared_error  [0.500328779220581, 0.5007509589195251, 0.5012...   \n",
       "\n",
       "                                                                             2  \\\n",
       "loss                         [0.24449382722377777, 0.23752029240131378, 0.2...   \n",
       "accuracy                     [0.9957812428474426, 1.0, 1.0, 1.0, 1.0, 1.0, ...   \n",
       "root_mean_squared_error      [0.494463175535202, 0.48736053705215454, 0.479...   \n",
       "val_loss                     [0.25028905272483826, 0.2507358193397522, 0.25...   \n",
       "val_accuracy                 [0.46621620655059814, 0.46621620655059814, 0.4...   \n",
       "val_root_mean_squared_error  [0.5002889633178711, 0.5007352828979492, 0.501...   \n",
       "\n",
       "                                                                             3  \n",
       "loss                         [0.2493821680545807, 0.24334566295146942, 0.23...  \n",
       "accuracy                     [0.6012499928474426, 1.0, 1.0, 1.0, 1.0, 1.0, ...  \n",
       "root_mean_squared_error      [0.49938178062438965, 0.49330076575279236, 0.4...  \n",
       "val_loss                     [0.250085711479187, 0.25039663910865784, 0.250...  \n",
       "val_accuracy                 [0.4638157784938812, 0.4638157784938812, 0.463...  \n",
       "val_root_mean_squared_error  [0.500085711479187, 0.5003964900970459, 0.5009...  "
      ]
     },
     "execution_count": 18,
     "metadata": {},
     "output_type": "execute_result"
    }
   ],
   "source": [
    "cnn1D_encoder_result = {}\n",
    "\n",
    "for i in range(NFOLD-1):\n",
    "    autoencoder = Autoencoder()\n",
    "    tfku.plot_model(\n",
    "        autoencoder.build_graph(),\n",
    "        to_file='autoencoder_model.png', dpi=96,\n",
    "        show_shapes=True, show_layer_names=True,\n",
    "        expand_nested=False\n",
    "    )\n",
    "\n",
    "    autoencoder.compile(optimizer = tfk.optimizers.Adam(learning_rate=1e-6), \n",
    "                        metrics = ['accuracy', \n",
    "                                   tfk.metrics.RootMeanSquaredError(),\n",
    "                                  ],\n",
    "                        loss = tfk.losses.MeanSquaredError(reduction= tfk.losses.Reduction.SUM_OVER_BATCH_SIZE)\n",
    "                       )\n",
    "    train_dataset, val_dataset, test_dataset = get_train_and_val_for_fold(folded_datasets=folded_datasets,fold = i)   \n",
    "    \n",
    "    result = autoencoder.fit(train_dataset, epochs= EPOCHS,steps_per_epoch = STEPS_PER_EPOCH,validation_data= val_dataset,)\n",
    "    \n",
    "    cnn1D_encoder_result[i] = result.history\n",
    "\n",
    "pd.DataFrame(cnn1D_encoder_result).to_csv('enc_result.csv')\n",
    "pd.DataFrame(cnn1D_encoder_result)"
   ]
  },
  {
   "cell_type": "code",
   "execution_count": 19,
   "id": "2ea41f5d",
   "metadata": {
    "scrolled": false
   },
   "outputs": [
    {
     "name": "stdout",
     "output_type": "stream",
     "text": [
      "Epoch 1/30\n",
      "200/200 [==============================] - 3s 11ms/step - loss: 0.1958 - accuracy: 0.9995 - root_mean_squared_error: 0.4424 - val_loss: 0.2608 - val_accuracy: 0.4583 - val_root_mean_squared_error: 0.5106\n",
      "Epoch 2/30\n",
      "200/200 [==============================] - 2s 10ms/step - loss: 0.1744 - accuracy: 0.9998 - root_mean_squared_error: 0.4176 - val_loss: 0.2670 - val_accuracy: 0.4583 - val_root_mean_squared_error: 0.5167\n",
      "Epoch 3/30\n",
      "200/200 [==============================] - 2s 11ms/step - loss: 0.1501 - accuracy: 1.0000 - root_mean_squared_error: 0.3874 - val_loss: 0.2776 - val_accuracy: 0.4583 - val_root_mean_squared_error: 0.5269\n",
      "Epoch 4/30\n",
      "200/200 [==============================] - 2s 11ms/step - loss: 0.1246 - accuracy: 1.0000 - root_mean_squared_error: 0.3530 - val_loss: 0.2923 - val_accuracy: 0.4583 - val_root_mean_squared_error: 0.5407\n",
      "Epoch 5/30\n",
      "200/200 [==============================] - 2s 11ms/step - loss: 0.1002 - accuracy: 1.0000 - root_mean_squared_error: 0.3165 - val_loss: 0.3117 - val_accuracy: 0.4583 - val_root_mean_squared_error: 0.5583\n",
      "Epoch 6/30\n",
      "200/200 [==============================] - 2s 11ms/step - loss: 0.0774 - accuracy: 1.0000 - root_mean_squared_error: 0.2783 - val_loss: 0.3336 - val_accuracy: 0.4583 - val_root_mean_squared_error: 0.5776\n",
      "Epoch 7/30\n",
      "200/200 [==============================] - 2s 11ms/step - loss: 0.0578 - accuracy: 1.0000 - root_mean_squared_error: 0.2404 - val_loss: 0.3550 - val_accuracy: 0.4583 - val_root_mean_squared_error: 0.5958\n",
      "Epoch 8/30\n",
      "200/200 [==============================] - 2s 11ms/step - loss: 0.0424 - accuracy: 1.0000 - root_mean_squared_error: 0.2060 - val_loss: 0.3812 - val_accuracy: 0.4583 - val_root_mean_squared_error: 0.6174\n",
      "Epoch 9/30\n",
      "200/200 [==============================] - 2s 10ms/step - loss: 0.0327 - accuracy: 1.0000 - root_mean_squared_error: 0.1810 - val_loss: 0.4021 - val_accuracy: 0.4583 - val_root_mean_squared_error: 0.6341\n",
      "Epoch 10/30\n",
      "200/200 [==============================] - 2s 11ms/step - loss: 0.0261 - accuracy: 1.0000 - root_mean_squared_error: 0.1616 - val_loss: 0.4207 - val_accuracy: 0.4583 - val_root_mean_squared_error: 0.6486\n",
      "Epoch 11/30\n",
      "200/200 [==============================] - 2s 11ms/step - loss: 0.0208 - accuracy: 1.0000 - root_mean_squared_error: 0.1442 - val_loss: 0.4397 - val_accuracy: 0.4583 - val_root_mean_squared_error: 0.6631\n",
      "Epoch 12/30\n",
      "200/200 [==============================] - 2s 11ms/step - loss: 0.0180 - accuracy: 1.0000 - root_mean_squared_error: 0.1340 - val_loss: 0.4531 - val_accuracy: 0.4583 - val_root_mean_squared_error: 0.6731\n",
      "Epoch 13/30\n",
      "200/200 [==============================] - 2s 11ms/step - loss: 0.0157 - accuracy: 1.0000 - root_mean_squared_error: 0.1253 - val_loss: 0.4611 - val_accuracy: 0.4583 - val_root_mean_squared_error: 0.6791\n",
      "Epoch 14/30\n",
      "200/200 [==============================] - 2s 12ms/step - loss: 0.0135 - accuracy: 1.0000 - root_mean_squared_error: 0.1164 - val_loss: 0.4756 - val_accuracy: 0.4583 - val_root_mean_squared_error: 0.6897\n",
      "Epoch 15/30\n",
      "200/200 [==============================] - 2s 11ms/step - loss: 0.0126 - accuracy: 1.0000 - root_mean_squared_error: 0.1124 - val_loss: 0.4833 - val_accuracy: 0.4583 - val_root_mean_squared_error: 0.6952\n",
      "Epoch 16/30\n",
      "200/200 [==============================] - 2s 11ms/step - loss: 0.0122 - accuracy: 1.0000 - root_mean_squared_error: 0.1105 - val_loss: 0.4887 - val_accuracy: 0.4583 - val_root_mean_squared_error: 0.6991\n",
      "Epoch 17/30\n",
      "200/200 [==============================] - 2s 11ms/step - loss: 0.0116 - accuracy: 1.0000 - root_mean_squared_error: 0.1076 - val_loss: 0.4842 - val_accuracy: 0.4583 - val_root_mean_squared_error: 0.6959\n",
      "Epoch 18/30\n",
      "200/200 [==============================] - 2s 11ms/step - loss: 0.0103 - accuracy: 1.0000 - root_mean_squared_error: 0.1015 - val_loss: 0.4989 - val_accuracy: 0.4583 - val_root_mean_squared_error: 0.7064\n",
      "Epoch 19/30\n",
      "200/200 [==============================] - 2s 11ms/step - loss: 0.0102 - accuracy: 1.0000 - root_mean_squared_error: 0.1008 - val_loss: 0.5015 - val_accuracy: 0.4583 - val_root_mean_squared_error: 0.7081\n",
      "Epoch 20/30\n",
      "200/200 [==============================] - 2s 11ms/step - loss: 0.0101 - accuracy: 1.0000 - root_mean_squared_error: 0.1004 - val_loss: 0.5012 - val_accuracy: 0.4583 - val_root_mean_squared_error: 0.7080\n",
      "Epoch 21/30\n",
      "200/200 [==============================] - 2s 11ms/step - loss: 0.0088 - accuracy: 1.0000 - root_mean_squared_error: 0.0938 - val_loss: 0.5045 - val_accuracy: 0.4583 - val_root_mean_squared_error: 0.7103\n",
      "Epoch 22/30\n",
      "200/200 [==============================] - 2s 11ms/step - loss: 0.0097 - accuracy: 1.0000 - root_mean_squared_error: 0.0987 - val_loss: 0.5112 - val_accuracy: 0.4583 - val_root_mean_squared_error: 0.7150\n",
      "Epoch 23/30\n",
      "200/200 [==============================] - 2s 11ms/step - loss: 0.0080 - accuracy: 1.0000 - root_mean_squared_error: 0.0894 - val_loss: 0.5163 - val_accuracy: 0.4583 - val_root_mean_squared_error: 0.7186\n",
      "Epoch 24/30\n",
      "200/200 [==============================] - 2s 10ms/step - loss: 0.0094 - accuracy: 1.0000 - root_mean_squared_error: 0.0969 - val_loss: 0.5157 - val_accuracy: 0.4583 - val_root_mean_squared_error: 0.7182\n",
      "Epoch 25/30\n",
      "200/200 [==============================] - 2s 11ms/step - loss: 0.0094 - accuracy: 1.0000 - root_mean_squared_error: 0.0971 - val_loss: 0.5157 - val_accuracy: 0.4583 - val_root_mean_squared_error: 0.7181\n",
      "Epoch 26/30\n",
      "200/200 [==============================] - 2s 11ms/step - loss: 0.0084 - accuracy: 1.0000 - root_mean_squared_error: 0.0919 - val_loss: 0.5136 - val_accuracy: 0.4583 - val_root_mean_squared_error: 0.7166\n",
      "Epoch 27/30\n",
      "200/200 [==============================] - 2s 11ms/step - loss: 0.0093 - accuracy: 1.0000 - root_mean_squared_error: 0.0964 - val_loss: 0.5159 - val_accuracy: 0.4583 - val_root_mean_squared_error: 0.7183\n",
      "Epoch 28/30\n",
      "200/200 [==============================] - 2s 11ms/step - loss: 0.0086 - accuracy: 1.0000 - root_mean_squared_error: 0.0926 - val_loss: 0.5193 - val_accuracy: 0.4583 - val_root_mean_squared_error: 0.7206\n",
      "Epoch 29/30\n",
      "200/200 [==============================] - 2s 11ms/step - loss: 0.0095 - accuracy: 1.0000 - root_mean_squared_error: 0.0975 - val_loss: 0.5205 - val_accuracy: 0.4583 - val_root_mean_squared_error: 0.7214\n",
      "Epoch 30/30\n",
      "200/200 [==============================] - 2s 12ms/step - loss: 0.0090 - accuracy: 1.0000 - root_mean_squared_error: 0.0946 - val_loss: 0.5239 - val_accuracy: 0.4583 - val_root_mean_squared_error: 0.7238error: 0.\n",
      "Epoch 1/30\n",
      "200/200 [==============================] - 3s 11ms/step - loss: 0.2312 - accuracy: 0.8972 - root_mean_squared_error: 0.4808 - val_loss: 0.2545 - val_accuracy: 0.4526 - val_root_mean_squared_error: 0.5044\n",
      "Epoch 2/30\n",
      "200/200 [==============================] - 2s 10ms/step - loss: 0.2127 - accuracy: 0.9877 - root_mean_squared_error: 0.4612 - val_loss: 0.2590 - val_accuracy: 0.4526 - val_root_mean_squared_error: 0.5090\n",
      "Epoch 3/30\n",
      "200/200 [==============================] - 2s 11ms/step - loss: 0.1916 - accuracy: 0.9989 - root_mean_squared_error: 0.4377 - val_loss: 0.2654 - val_accuracy: 0.4526 - val_root_mean_squared_error: 0.5152\n",
      "Epoch 4/30\n",
      "200/200 [==============================] - 2s 10ms/step - loss: 0.1661 - accuracy: 1.0000 - root_mean_squared_error: 0.4075 - val_loss: 0.2772 - val_accuracy: 0.4526 - val_root_mean_squared_error: 0.5265\n",
      "Epoch 5/30\n",
      "200/200 [==============================] - 2s 10ms/step - loss: 0.1375 - accuracy: 1.0000 - root_mean_squared_error: 0.3708 - val_loss: 0.2942 - val_accuracy: 0.4526 - val_root_mean_squared_error: 0.5424\n",
      "Epoch 6/30\n",
      "200/200 [==============================] - 2s 11ms/step - loss: 0.1072 - accuracy: 1.0000 - root_mean_squared_error: 0.3274 - val_loss: 0.3154 - val_accuracy: 0.4526 - val_root_mean_squared_error: 0.5616\n",
      "Epoch 7/30\n",
      "200/200 [==============================] - 2s 11ms/step - loss: 0.0803 - accuracy: 1.0000 - root_mean_squared_error: 0.2834 - val_loss: 0.3408 - val_accuracy: 0.4526 - val_root_mean_squared_error: 0.5838\n",
      "Epoch 8/30\n",
      "200/200 [==============================] - 2s 11ms/step - loss: 0.0586 - accuracy: 1.0000 - root_mean_squared_error: 0.2421 - val_loss: 0.3723 - val_accuracy: 0.4526 - val_root_mean_squared_error: 0.6102\n"
     ]
    },
    {
     "name": "stdout",
     "output_type": "stream",
     "text": [
      "Epoch 9/30\n",
      "200/200 [==============================] - 2s 10ms/step - loss: 0.0435 - accuracy: 1.0000 - root_mean_squared_error: 0.2086 - val_loss: 0.3965 - val_accuracy: 0.4526 - val_root_mean_squared_error: 0.6297\n",
      "Epoch 10/30\n",
      "200/200 [==============================] - 2s 10ms/step - loss: 0.0324 - accuracy: 1.0000 - root_mean_squared_error: 0.1801 - val_loss: 0.4199 - val_accuracy: 0.4526 - val_root_mean_squared_error: 0.6480\n",
      "Epoch 11/30\n",
      "200/200 [==============================] - 2s 10ms/step - loss: 0.0262 - accuracy: 1.0000 - root_mean_squared_error: 0.1619 - val_loss: 0.4372 - val_accuracy: 0.4526 - val_root_mean_squared_error: 0.6612\n",
      "Epoch 12/30\n",
      "200/200 [==============================] - 2s 10ms/step - loss: 0.0218 - accuracy: 1.0000 - root_mean_squared_error: 0.1475 - val_loss: 0.4551 - val_accuracy: 0.4526 - val_root_mean_squared_error: 0.6746\n",
      "Epoch 13/30\n",
      "200/200 [==============================] - 2s 10ms/step - loss: 0.0192 - accuracy: 1.0000 - root_mean_squared_error: 0.1387 - val_loss: 0.4655 - val_accuracy: 0.4526 - val_root_mean_squared_error: 0.6823\n",
      "Epoch 14/30\n",
      "200/200 [==============================] - 2s 10ms/step - loss: 0.0162 - accuracy: 1.0000 - root_mean_squared_error: 0.1271 - val_loss: 0.4704 - val_accuracy: 0.4526 - val_root_mean_squared_error: 0.6859\n",
      "Epoch 15/30\n",
      "200/200 [==============================] - 2s 11ms/step - loss: 0.0136 - accuracy: 1.0000 - root_mean_squared_error: 0.1168 - val_loss: 0.4799 - val_accuracy: 0.4526 - val_root_mean_squared_error: 0.6928\n",
      "Epoch 16/30\n",
      "200/200 [==============================] - 2s 12ms/step - loss: 0.0137 - accuracy: 1.0000 - root_mean_squared_error: 0.1170 - val_loss: 0.4895 - val_accuracy: 0.4526 - val_root_mean_squared_error: 0.6996\n",
      "Epoch 17/30\n",
      "200/200 [==============================] - 2s 11ms/step - loss: 0.0133 - accuracy: 1.0000 - root_mean_squared_error: 0.1155 - val_loss: 0.4914 - val_accuracy: 0.4526 - val_root_mean_squared_error: 0.7010\n",
      "Epoch 18/30\n",
      "200/200 [==============================] - 2s 11ms/step - loss: 0.0134 - accuracy: 1.0000 - root_mean_squared_error: 0.1157 - val_loss: 0.5050 - val_accuracy: 0.4526 - val_root_mean_squared_error: 0.7106\n",
      "Epoch 19/30\n",
      "200/200 [==============================] - 2s 11ms/step - loss: 0.0109 - accuracy: 1.0000 - root_mean_squared_error: 0.1044 - val_loss: 0.5074 - val_accuracy: 0.4526 - val_root_mean_squared_error: 0.7123\n",
      "Epoch 20/30\n",
      "200/200 [==============================] - 2s 11ms/step - loss: 0.0113 - accuracy: 1.0000 - root_mean_squared_error: 0.1062 - val_loss: 0.5057 - val_accuracy: 0.4526 - val_root_mean_squared_error: 0.7111\n",
      "Epoch 21/30\n",
      "200/200 [==============================] - 2s 11ms/step - loss: 0.0106 - accuracy: 1.0000 - root_mean_squared_error: 0.1029 - val_loss: 0.5139 - val_accuracy: 0.4526 - val_root_mean_squared_error: 0.7169\n",
      "Epoch 22/30\n",
      "200/200 [==============================] - 2s 11ms/step - loss: 0.0104 - accuracy: 1.0000 - root_mean_squared_error: 0.1022 - val_loss: 0.5157 - val_accuracy: 0.4526 - val_root_mean_squared_error: 0.7181\n",
      "Epoch 23/30\n",
      "200/200 [==============================] - 2s 11ms/step - loss: 0.0101 - accuracy: 1.0000 - root_mean_squared_error: 0.1007 - val_loss: 0.5182 - val_accuracy: 0.4526 - val_root_mean_squared_error: 0.7199\n",
      "Epoch 24/30\n",
      "200/200 [==============================] - 2s 11ms/step - loss: 0.0107 - accuracy: 1.0000 - root_mean_squared_error: 0.1033 - val_loss: 0.5177 - val_accuracy: 0.4526 - val_root_mean_squared_error: 0.7195\n",
      "Epoch 25/30\n",
      "200/200 [==============================] - 2s 10ms/step - loss: 0.0097 - accuracy: 1.0000 - root_mean_squared_error: 0.0987 - val_loss: 0.5245 - val_accuracy: 0.4526 - val_root_mean_squared_error: 0.7242\n",
      "Epoch 26/30\n",
      "200/200 [==============================] - 2s 11ms/step - loss: 0.0094 - accuracy: 1.0000 - root_mean_squared_error: 0.0971 - val_loss: 0.5219 - val_accuracy: 0.4526 - val_root_mean_squared_error: 0.7224\n",
      "Epoch 27/30\n",
      "200/200 [==============================] - 2s 11ms/step - loss: 0.0091 - accuracy: 1.0000 - root_mean_squared_error: 0.0955 - val_loss: 0.5247 - val_accuracy: 0.4526 - val_root_mean_squared_error: 0.7243\n",
      "Epoch 28/30\n",
      "200/200 [==============================] - 2s 11ms/step - loss: 0.0099 - accuracy: 1.0000 - root_mean_squared_error: 0.0995 - val_loss: 0.5243 - val_accuracy: 0.4526 - val_root_mean_squared_error: 0.7241\n",
      "Epoch 29/30\n",
      "200/200 [==============================] - 2s 11ms/step - loss: 0.0089 - accuracy: 1.0000 - root_mean_squared_error: 0.0945 - val_loss: 0.5254 - val_accuracy: 0.4526 - val_root_mean_squared_error: 0.7249\n",
      "Epoch 30/30\n",
      "200/200 [==============================] - 2s 11ms/step - loss: 0.0090 - accuracy: 1.0000 - root_mean_squared_error: 0.0951 - val_loss: 0.5268 - val_accuracy: 0.4526 - val_root_mean_squared_error: 0.7258\n",
      "Epoch 1/30\n",
      "200/200 [==============================] - 3s 12ms/step - loss: 0.2225 - accuracy: 0.8984 - root_mean_squared_error: 0.4717 - val_loss: 0.2536 - val_accuracy: 0.4662 - val_root_mean_squared_error: 0.5035\n",
      "Epoch 2/30\n",
      "200/200 [==============================] - 2s 11ms/step - loss: 0.1945 - accuracy: 0.9941 - root_mean_squared_error: 0.4410 - val_loss: 0.2587 - val_accuracy: 0.4662 - val_root_mean_squared_error: 0.5087\n",
      "Epoch 3/30\n",
      "200/200 [==============================] - 2s 11ms/step - loss: 0.1660 - accuracy: 0.9995 - root_mean_squared_error: 0.4074 - val_loss: 0.2694 - val_accuracy: 0.4662 - val_root_mean_squared_error: 0.5190\n",
      "Epoch 4/30\n",
      "200/200 [==============================] - 2s 11ms/step - loss: 0.1373 - accuracy: 1.0000 - root_mean_squared_error: 0.3705 - val_loss: 0.2834 - val_accuracy: 0.4662 - val_root_mean_squared_error: 0.5324\n",
      "Epoch 5/30\n",
      "200/200 [==============================] - 2s 11ms/step - loss: 0.1097 - accuracy: 1.0000 - root_mean_squared_error: 0.3312 - val_loss: 0.3033 - val_accuracy: 0.4662 - val_root_mean_squared_error: 0.5507\n",
      "Epoch 6/30\n",
      "200/200 [==============================] - 2s 11ms/step - loss: 0.0857 - accuracy: 1.0000 - root_mean_squared_error: 0.2928 - val_loss: 0.3265 - val_accuracy: 0.4662 - val_root_mean_squared_error: 0.5714\n",
      "Epoch 7/30\n",
      "200/200 [==============================] - 2s 11ms/step - loss: 0.0640 - accuracy: 1.0000 - root_mean_squared_error: 0.2529 - val_loss: 0.3472 - val_accuracy: 0.4662 - val_root_mean_squared_error: 0.5893\n",
      "Epoch 8/30\n",
      "200/200 [==============================] - 2s 11ms/step - loss: 0.0489 - accuracy: 1.0000 - root_mean_squared_error: 0.2211 - val_loss: 0.3707 - val_accuracy: 0.4662 - val_root_mean_squared_error: 0.6088\n",
      "Epoch 9/30\n",
      "200/200 [==============================] - 2s 11ms/step - loss: 0.0384 - accuracy: 1.0000 - root_mean_squared_error: 0.1960 - val_loss: 0.3933 - val_accuracy: 0.4662 - val_root_mean_squared_error: 0.6272loss: 0.0416 - accuracy: 1.\n",
      "Epoch 10/30\n",
      "200/200 [==============================] - 2s 11ms/step - loss: 0.0305 - accuracy: 1.0000 - root_mean_squared_error: 0.1746 - val_loss: 0.4102 - val_accuracy: 0.4662 - val_root_mean_squared_error: 0.6405\n",
      "Epoch 11/30\n",
      "200/200 [==============================] - 2s 11ms/step - loss: 0.0249 - accuracy: 1.0000 - root_mean_squared_error: 0.1577 - val_loss: 0.4240 - val_accuracy: 0.4662 - val_root_mean_squared_error: 0.6511\n",
      "Epoch 12/30\n",
      "200/200 [==============================] - 2s 11ms/step - loss: 0.0212 - accuracy: 1.0000 - root_mean_squared_error: 0.1456 - val_loss: 0.4384 - val_accuracy: 0.4662 - val_root_mean_squared_error: 0.6621\n",
      "Epoch 13/30\n",
      "200/200 [==============================] - 2s 11ms/step - loss: 0.0184 - accuracy: 1.0000 - root_mean_squared_error: 0.1357 - val_loss: 0.4458 - val_accuracy: 0.4662 - val_root_mean_squared_error: 0.6676\n",
      "Epoch 14/30\n",
      "200/200 [==============================] - 2s 11ms/step - loss: 0.0164 - accuracy: 1.0000 - root_mean_squared_error: 0.1279 - val_loss: 0.4606 - val_accuracy: 0.4662 - val_root_mean_squared_error: 0.6787\n",
      "Epoch 15/30\n",
      "200/200 [==============================] - 2s 11ms/step - loss: 0.0149 - accuracy: 1.0000 - root_mean_squared_error: 0.1222 - val_loss: 0.4649 - val_accuracy: 0.4662 - val_root_mean_squared_error: 0.6818\n",
      "Epoch 16/30\n",
      "200/200 [==============================] - 2s 11ms/step - loss: 0.0138 - accuracy: 1.0000 - root_mean_squared_error: 0.1174 - val_loss: 0.4755 - val_accuracy: 0.4662 - val_root_mean_squared_error: 0.6896\n"
     ]
    },
    {
     "name": "stdout",
     "output_type": "stream",
     "text": [
      "Epoch 17/30\n",
      "200/200 [==============================] - 2s 11ms/step - loss: 0.0123 - accuracy: 1.0000 - root_mean_squared_error: 0.1110 - val_loss: 0.4794 - val_accuracy: 0.4662 - val_root_mean_squared_error: 0.6924\n",
      "Epoch 18/30\n",
      "200/200 [==============================] - 2s 11ms/step - loss: 0.0124 - accuracy: 1.0000 - root_mean_squared_error: 0.1116 - val_loss: 0.4834 - val_accuracy: 0.4662 - val_root_mean_squared_error: 0.6952\n",
      "Epoch 19/30\n",
      "200/200 [==============================] - 2s 11ms/step - loss: 0.0123 - accuracy: 1.0000 - root_mean_squared_error: 0.1110 - val_loss: 0.4874 - val_accuracy: 0.4662 - val_root_mean_squared_error: 0.6982\n",
      "Epoch 20/30\n",
      "200/200 [==============================] - 2s 11ms/step - loss: 0.0112 - accuracy: 1.0000 - root_mean_squared_error: 0.1057 - val_loss: 0.4895 - val_accuracy: 0.4662 - val_root_mean_squared_error: 0.6996\n",
      "Epoch 21/30\n",
      "200/200 [==============================] - 2s 11ms/step - loss: 0.0114 - accuracy: 1.0000 - root_mean_squared_error: 0.1068 - val_loss: 0.4978 - val_accuracy: 0.4662 - val_root_mean_squared_error: 0.7055\n",
      "Epoch 22/30\n",
      "200/200 [==============================] - 2s 11ms/step - loss: 0.0104 - accuracy: 1.0000 - root_mean_squared_error: 0.1018 - val_loss: 0.4964 - val_accuracy: 0.4662 - val_root_mean_squared_error: 0.7046\n",
      "Epoch 23/30\n",
      "200/200 [==============================] - 2s 10ms/step - loss: 0.0100 - accuracy: 1.0000 - root_mean_squared_error: 0.1000 - val_loss: 0.5014 - val_accuracy: 0.4662 - val_root_mean_squared_error: 0.7081\n",
      "Epoch 24/30\n",
      "200/200 [==============================] - 2s 11ms/step - loss: 0.0103 - accuracy: 1.0000 - root_mean_squared_error: 0.1013 - val_loss: 0.4998 - val_accuracy: 0.4662 - val_root_mean_squared_error: 0.7070\n",
      "Epoch 25/30\n",
      "200/200 [==============================] - 2s 11ms/step - loss: 0.0105 - accuracy: 1.0000 - root_mean_squared_error: 0.1022 - val_loss: 0.5049 - val_accuracy: 0.4662 - val_root_mean_squared_error: 0.7106\n",
      "Epoch 26/30\n",
      "200/200 [==============================] - 2s 10ms/step - loss: 0.0093 - accuracy: 1.0000 - root_mean_squared_error: 0.0966 - val_loss: 0.5101 - val_accuracy: 0.4662 - val_root_mean_squared_error: 0.7142\n",
      "Epoch 27/30\n",
      "200/200 [==============================] - 2s 11ms/step - loss: 0.0097 - accuracy: 1.0000 - root_mean_squared_error: 0.0983 - val_loss: 0.5053 - val_accuracy: 0.4662 - val_root_mean_squared_error: 0.7108\n",
      "Epoch 28/30\n",
      "200/200 [==============================] - 2s 11ms/step - loss: 0.0093 - accuracy: 1.0000 - root_mean_squared_error: 0.0964 - val_loss: 0.5079 - val_accuracy: 0.4662 - val_root_mean_squared_error: 0.7126\n",
      "Epoch 29/30\n",
      "200/200 [==============================] - 2s 11ms/step - loss: 0.0091 - accuracy: 1.0000 - root_mean_squared_error: 0.0954 - val_loss: 0.5145 - val_accuracy: 0.4662 - val_root_mean_squared_error: 0.7173\n",
      "Epoch 30/30\n",
      "200/200 [==============================] - 2s 11ms/step - loss: 0.0096 - accuracy: 1.0000 - root_mean_squared_error: 0.0981 - val_loss: 0.5135 - val_accuracy: 0.4662 - val_root_mean_squared_error: 0.7166\n",
      "Epoch 1/30\n",
      "200/200 [==============================] - 3s 10ms/step - loss: 0.2482 - accuracy: 0.5708 - root_mean_squared_error: 0.4982 - val_loss: 0.2515 - val_accuracy: 0.4638 - val_root_mean_squared_error: 0.5015\n",
      "Epoch 2/30\n",
      "200/200 [==============================] - 2s 10ms/step - loss: 0.2334 - accuracy: 0.8861 - root_mean_squared_error: 0.4831 - val_loss: 0.2534 - val_accuracy: 0.4638 - val_root_mean_squared_error: 0.5034\n",
      "Epoch 3/30\n",
      "200/200 [==============================] - 2s 10ms/step - loss: 0.2183 - accuracy: 0.9867 - root_mean_squared_error: 0.4672 - val_loss: 0.2559 - val_accuracy: 0.4638 - val_root_mean_squared_error: 0.5059\n",
      "Epoch 4/30\n",
      "200/200 [==============================] - 2s 10ms/step - loss: 0.2013 - accuracy: 0.9992 - root_mean_squared_error: 0.4487 - val_loss: 0.2598 - val_accuracy: 0.4638 - val_root_mean_squared_error: 0.5097\n",
      "Epoch 5/30\n",
      "200/200 [==============================] - 2s 10ms/step - loss: 0.1829 - accuracy: 0.9997 - root_mean_squared_error: 0.4277 - val_loss: 0.2643 - val_accuracy: 0.4638 - val_root_mean_squared_error: 0.5141\n",
      "Epoch 6/30\n",
      "200/200 [==============================] - 2s 11ms/step - loss: 0.1626 - accuracy: 1.0000 - root_mean_squared_error: 0.4032 - val_loss: 0.2721 - val_accuracy: 0.4638 - val_root_mean_squared_error: 0.5217\n",
      "Epoch 7/30\n",
      "200/200 [==============================] - 2s 10ms/step - loss: 0.1410 - accuracy: 1.0000 - root_mean_squared_error: 0.3756 - val_loss: 0.2819 - val_accuracy: 0.4638 - val_root_mean_squared_error: 0.5309\n",
      "Epoch 8/30\n",
      "200/200 [==============================] - 2s 10ms/step - loss: 0.1178 - accuracy: 1.0000 - root_mean_squared_error: 0.3432 - val_loss: 0.2943 - val_accuracy: 0.4638 - val_root_mean_squared_error: 0.5425\n",
      "Epoch 9/30\n",
      "200/200 [==============================] - 2s 10ms/step - loss: 0.0969 - accuracy: 1.0000 - root_mean_squared_error: 0.3113 - val_loss: 0.3111 - val_accuracy: 0.4638 - val_root_mean_squared_error: 0.5578\n",
      "Epoch 10/30\n",
      "200/200 [==============================] - 2s 10ms/step - loss: 0.0762 - accuracy: 1.0000 - root_mean_squared_error: 0.2760 - val_loss: 0.3307 - val_accuracy: 0.4638 - val_root_mean_squared_error: 0.5750\n",
      "Epoch 11/30\n",
      "200/200 [==============================] - 2s 10ms/step - loss: 0.0595 - accuracy: 1.0000 - root_mean_squared_error: 0.2440 - val_loss: 0.3527 - val_accuracy: 0.4638 - val_root_mean_squared_error: 0.5939\n",
      "Epoch 12/30\n",
      "200/200 [==============================] - 2s 10ms/step - loss: 0.0467 - accuracy: 1.0000 - root_mean_squared_error: 0.2162 - val_loss: 0.3718 - val_accuracy: 0.4638 - val_root_mean_squared_error: 0.6098\n",
      "Epoch 13/30\n",
      "200/200 [==============================] - 2s 10ms/step - loss: 0.0357 - accuracy: 1.0000 - root_mean_squared_error: 0.1889 - val_loss: 0.3949 - val_accuracy: 0.4638 - val_root_mean_squared_error: 0.6284\n",
      "Epoch 14/30\n",
      "200/200 [==============================] - 2s 9ms/step - loss: 0.0295 - accuracy: 1.0000 - root_mean_squared_error: 0.1717 - val_loss: 0.4099 - val_accuracy: 0.4638 - val_root_mean_squared_error: 0.6402\n",
      "Epoch 15/30\n",
      "200/200 [==============================] - 2s 10ms/step - loss: 0.0235 - accuracy: 1.0000 - root_mean_squared_error: 0.1534 - val_loss: 0.4258 - val_accuracy: 0.4638 - val_root_mean_squared_error: 0.6525\n",
      "Epoch 16/30\n",
      "200/200 [==============================] - 2s 10ms/step - loss: 0.0206 - accuracy: 1.0000 - root_mean_squared_error: 0.1436 - val_loss: 0.4387 - val_accuracy: 0.4638 - val_root_mean_squared_error: 0.6624\n",
      "Epoch 17/30\n",
      "200/200 [==============================] - 2s 10ms/step - loss: 0.0169 - accuracy: 1.0000 - root_mean_squared_error: 0.1298 - val_loss: 0.4569 - val_accuracy: 0.4638 - val_root_mean_squared_error: 0.6759\n",
      "Epoch 18/30\n",
      "200/200 [==============================] - 2s 9ms/step - loss: 0.0153 - accuracy: 1.0000 - root_mean_squared_error: 0.1236 - val_loss: 0.4607 - val_accuracy: 0.4638 - val_root_mean_squared_error: 0.6788\n",
      "Epoch 19/30\n",
      "200/200 [==============================] - 2s 10ms/step - loss: 0.0140 - accuracy: 1.0000 - root_mean_squared_error: 0.1184 - val_loss: 0.4646 - val_accuracy: 0.4638 - val_root_mean_squared_error: 0.6816\n",
      "Epoch 20/30\n",
      "200/200 [==============================] - 2s 10ms/step - loss: 0.0135 - accuracy: 1.0000 - root_mean_squared_error: 0.1164 - val_loss: 0.4720 - val_accuracy: 0.4638 - val_root_mean_squared_error: 0.6870ccuracy: 1.0000 - root_mean\n",
      "Epoch 21/30\n",
      "200/200 [==============================] - 2s 10ms/step - loss: 0.0119 - accuracy: 1.0000 - root_mean_squared_error: 0.1093 - val_loss: 0.4804 - val_accuracy: 0.4638 - val_root_mean_squared_error: 0.6931\n",
      "Epoch 22/30\n",
      "200/200 [==============================] - 2s 10ms/step - loss: 0.0109 - accuracy: 1.0000 - root_mean_squared_error: 0.1043 - val_loss: 0.4880 - val_accuracy: 0.4638 - val_root_mean_squared_error: 0.6986\n",
      "Epoch 23/30\n",
      "200/200 [==============================] - 2s 10ms/step - loss: 0.0110 - accuracy: 1.0000 - root_mean_squared_error: 0.1048 - val_loss: 0.4875 - val_accuracy: 0.4638 - val_root_mean_squared_error: 0.6982\n",
      "Epoch 24/30\n",
      "200/200 [==============================] - 2s 10ms/step - loss: 0.0104 - accuracy: 1.0000 - root_mean_squared_error: 0.1019 - val_loss: 0.4923 - val_accuracy: 0.4638 - val_root_mean_squared_error: 0.7016\n"
     ]
    },
    {
     "name": "stdout",
     "output_type": "stream",
     "text": [
      "Epoch 25/30\n",
      "200/200 [==============================] - 2s 10ms/step - loss: 0.0103 - accuracy: 1.0000 - root_mean_squared_error: 0.1016 - val_loss: 0.4979 - val_accuracy: 0.4638 - val_root_mean_squared_error: 0.7056\n",
      "Epoch 26/30\n",
      "200/200 [==============================] - 2s 10ms/step - loss: 0.0104 - accuracy: 1.0000 - root_mean_squared_error: 0.1018 - val_loss: 0.5077 - val_accuracy: 0.4638 - val_root_mean_squared_error: 0.7125\n",
      "Epoch 27/30\n",
      "200/200 [==============================] - 2s 9ms/step - loss: 0.0097 - accuracy: 1.0000 - root_mean_squared_error: 0.0987 - val_loss: 0.5094 - val_accuracy: 0.4638 - val_root_mean_squared_error: 0.7138\n",
      "Epoch 28/30\n",
      "200/200 [==============================] - 2s 10ms/step - loss: 0.0102 - accuracy: 1.0000 - root_mean_squared_error: 0.1009 - val_loss: 0.5094 - val_accuracy: 0.4638 - val_root_mean_squared_error: 0.7137\n",
      "Epoch 29/30\n",
      "200/200 [==============================] - 2s 10ms/step - loss: 0.0085 - accuracy: 1.0000 - root_mean_squared_error: 0.0922 - val_loss: 0.5103 - val_accuracy: 0.4638 - val_root_mean_squared_error: 0.7144\n",
      "Epoch 30/30\n",
      "200/200 [==============================] - 2s 10ms/step - loss: 0.0089 - accuracy: 1.0000 - root_mean_squared_error: 0.0945 - val_loss: 0.5111 - val_accuracy: 0.4638 - val_root_mean_squared_error: 0.7149\n"
     ]
    },
    {
     "data": {
      "text/html": [
       "<div>\n",
       "<style scoped>\n",
       "    .dataframe tbody tr th:only-of-type {\n",
       "        vertical-align: middle;\n",
       "    }\n",
       "\n",
       "    .dataframe tbody tr th {\n",
       "        vertical-align: top;\n",
       "    }\n",
       "\n",
       "    .dataframe thead th {\n",
       "        text-align: right;\n",
       "    }\n",
       "</style>\n",
       "<table border=\"1\" class=\"dataframe\">\n",
       "  <thead>\n",
       "    <tr style=\"text-align: right;\">\n",
       "      <th></th>\n",
       "      <th>0</th>\n",
       "      <th>1</th>\n",
       "      <th>2</th>\n",
       "      <th>3</th>\n",
       "    </tr>\n",
       "  </thead>\n",
       "  <tbody>\n",
       "    <tr>\n",
       "      <th>loss</th>\n",
       "      <td>[0.19575761258602142, 0.174358069896698, 0.150...</td>\n",
       "      <td>[0.2311629056930542, 0.21267388761043549, 0.19...</td>\n",
       "      <td>[0.22251524031162262, 0.19451452791690826, 0.1...</td>\n",
       "      <td>[0.2482149302959442, 0.233393594622612, 0.2183...</td>\n",
       "    </tr>\n",
       "    <tr>\n",
       "      <th>accuracy</th>\n",
       "      <td>[0.9995312690734863, 0.9998437762260437, 1.0, ...</td>\n",
       "      <td>[0.8971874713897705, 0.9876562356948853, 0.998...</td>\n",
       "      <td>[0.8984375, 0.9940624833106995, 0.999531269073...</td>\n",
       "      <td>[0.5707812309265137, 0.8860937356948853, 0.986...</td>\n",
       "    </tr>\n",
       "    <tr>\n",
       "      <th>root_mean_squared_error</th>\n",
       "      <td>[0.4424450397491455, 0.4175620377063751, 0.387...</td>\n",
       "      <td>[0.4807940423488617, 0.46116578578948975, 0.43...</td>\n",
       "      <td>[0.47171521186828613, 0.44103801250457764, 0.4...</td>\n",
       "      <td>[0.49821171164512634, 0.483108252286911, 0.467...</td>\n",
       "    </tr>\n",
       "    <tr>\n",
       "      <th>val_loss</th>\n",
       "      <td>[0.2607526183128357, 0.2669554650783539, 0.277...</td>\n",
       "      <td>[0.25445181131362915, 0.2590430676937103, 0.26...</td>\n",
       "      <td>[0.25355300307273865, 0.25872671604156494, 0.2...</td>\n",
       "      <td>[0.25151121616363525, 0.2533750534057617, 0.25...</td>\n",
       "    </tr>\n",
       "    <tr>\n",
       "      <th>val_accuracy</th>\n",
       "      <td>[0.4583333432674408, 0.4583333432674408, 0.458...</td>\n",
       "      <td>[0.4526209533214569, 0.4526209533214569, 0.452...</td>\n",
       "      <td>[0.46621620655059814, 0.46621620655059814, 0.4...</td>\n",
       "      <td>[0.4638157784938812, 0.4638157784938812, 0.463...</td>\n",
       "    </tr>\n",
       "    <tr>\n",
       "      <th>val_root_mean_squared_error</th>\n",
       "      <td>[0.5106394290924072, 0.5166773200035095, 0.526...</td>\n",
       "      <td>[0.5044321417808533, 0.5089626908302307, 0.515...</td>\n",
       "      <td>[0.5035404562950134, 0.508651852607727, 0.5190...</td>\n",
       "      <td>[0.5015089511871338, 0.5033637285232544, 0.505...</td>\n",
       "    </tr>\n",
       "  </tbody>\n",
       "</table>\n",
       "</div>"
      ],
      "text/plain": [
       "                                                                             0  \\\n",
       "loss                         [0.19575761258602142, 0.174358069896698, 0.150...   \n",
       "accuracy                     [0.9995312690734863, 0.9998437762260437, 1.0, ...   \n",
       "root_mean_squared_error      [0.4424450397491455, 0.4175620377063751, 0.387...   \n",
       "val_loss                     [0.2607526183128357, 0.2669554650783539, 0.277...   \n",
       "val_accuracy                 [0.4583333432674408, 0.4583333432674408, 0.458...   \n",
       "val_root_mean_squared_error  [0.5106394290924072, 0.5166773200035095, 0.526...   \n",
       "\n",
       "                                                                             1  \\\n",
       "loss                         [0.2311629056930542, 0.21267388761043549, 0.19...   \n",
       "accuracy                     [0.8971874713897705, 0.9876562356948853, 0.998...   \n",
       "root_mean_squared_error      [0.4807940423488617, 0.46116578578948975, 0.43...   \n",
       "val_loss                     [0.25445181131362915, 0.2590430676937103, 0.26...   \n",
       "val_accuracy                 [0.4526209533214569, 0.4526209533214569, 0.452...   \n",
       "val_root_mean_squared_error  [0.5044321417808533, 0.5089626908302307, 0.515...   \n",
       "\n",
       "                                                                             2  \\\n",
       "loss                         [0.22251524031162262, 0.19451452791690826, 0.1...   \n",
       "accuracy                     [0.8984375, 0.9940624833106995, 0.999531269073...   \n",
       "root_mean_squared_error      [0.47171521186828613, 0.44103801250457764, 0.4...   \n",
       "val_loss                     [0.25355300307273865, 0.25872671604156494, 0.2...   \n",
       "val_accuracy                 [0.46621620655059814, 0.46621620655059814, 0.4...   \n",
       "val_root_mean_squared_error  [0.5035404562950134, 0.508651852607727, 0.5190...   \n",
       "\n",
       "                                                                             3  \n",
       "loss                         [0.2482149302959442, 0.233393594622612, 0.2183...  \n",
       "accuracy                     [0.5707812309265137, 0.8860937356948853, 0.986...  \n",
       "root_mean_squared_error      [0.49821171164512634, 0.483108252286911, 0.467...  \n",
       "val_loss                     [0.25151121616363525, 0.2533750534057617, 0.25...  \n",
       "val_accuracy                 [0.4638157784938812, 0.4638157784938812, 0.463...  \n",
       "val_root_mean_squared_error  [0.5015089511871338, 0.5033637285232544, 0.505...  "
      ]
     },
     "execution_count": 19,
     "metadata": {},
     "output_type": "execute_result"
    }
   ],
   "source": [
    "cnnv1D_result = {}\n",
    "\n",
    "for i in range(NFOLD-1):\n",
    "    conv1D = Conv1D()\n",
    "    tfku.plot_model(\n",
    "        conv1D.build_graph(),\n",
    "        to_file='conv1D_model.png', dpi=96,\n",
    "        show_shapes=True, show_layer_names=True,\n",
    "        expand_nested=False\n",
    "    )\n",
    "\n",
    "    conv1D.compile(optimizer = tfk.optimizers.Adam(learning_rate=1e-6), \n",
    "                        metrics = ['accuracy', tfk.metrics.RootMeanSquaredError(),],\n",
    "                        loss = tfk.losses.MeanSquaredError(reduction= tfk.losses.Reduction.SUM_OVER_BATCH_SIZE)\n",
    "                       )\n",
    "    train_dataset, val_dataset, test_dataset = get_train_and_val_for_fold(folded_datasets=folded_datasets,fold = i)   \n",
    "    \n",
    "    result = conv1D.fit(train_dataset, epochs= EPOCHS,steps_per_epoch = STEPS_PER_EPOCH,validation_data= val_dataset,)\n",
    "    \n",
    "    cnnv1D_result[i] = result.history\n",
    "\n",
    "pd.DataFrame(cnnv1D_result).to_csv('enc_result.csv')\n",
    "pd.DataFrame(cnnv1D_result)"
   ]
  },
  {
   "cell_type": "code",
   "execution_count": 20,
   "id": "13e7a6d8",
   "metadata": {
    "scrolled": true
   },
   "outputs": [
    {
     "data": {
      "image/png": "[encoded data removed]",
      "text/plain": [
       "<Figure size 432x288 with 1 Axes>"
      ]
     },
     "metadata": {
      "needs_background": "light"
     },
     "output_type": "display_data"
    }
   ],
   "source": [
    "for i in range(NFOLD-1):\n",
    "    loss = cnn1D_encoder_result[i]['loss']\n",
    "    val_loss = cnn1D_encoder_result[i]['val_loss']\n",
    "    plt.plot(loss)\n",
    "    plt.plot(val_loss)\n",
    "    plt.title('Training loss for Autoencoder')"
   ]
  },
  {
   "cell_type": "code",
   "execution_count": 21,
   "id": "5092996d",
   "metadata": {},
   "outputs": [
    {
     "data": {
      "image/png": "[encoded data removed]",
      "text/plain": [
       "<Figure size 432x288 with 1 Axes>"
      ]
     },
     "metadata": {
      "needs_background": "light"
     },
     "output_type": "display_data"
    }
   ],
   "source": [
    "for i in range(NFOLD-1):\n",
    "    loss = cnnv1D_result[i]['loss']\n",
    "    val_loss = cnnv1D_result[i]['val_loss']\n",
    "    plt.plot(loss)\n",
    "    plt.plot(val_loss)\n",
    "    plt.title('Training loss for Conv1D')"
   ]
  },
  {
   "cell_type": "code",
   "execution_count": 22,
   "id": "19a54a15",
   "metadata": {},
   "outputs": [
    {
     "data": {
      "image/png": "[encoded data removed]",
      "text/plain": [
       "<Figure size 432x288 with 1 Axes>"
      ]
     },
     "metadata": {
      "needs_background": "light"
     },
     "output_type": "display_data"
    }
   ],
   "source": [
    "for i in range(NFOLD-1):\n",
    "    mse = cnn1D_encoder_result[i]['root_mean_squared_error']\n",
    "    plt.plot(mse)\n",
    "    plt.title('Training Mse for Autoencoder')"
   ]
  },
  {
   "cell_type": "code",
   "execution_count": 23,
   "id": "163a65ad",
   "metadata": {},
   "outputs": [
    {
     "data": {
      "image/png": "[encoded data removed]",
      "text/plain": [
       "<Figure size 432x288 with 1 Axes>"
      ]
     },
     "metadata": {
      "needs_background": "light"
     },
     "output_type": "display_data"
    }
   ],
   "source": [
    "for i in range(NFOLD-1):\n",
    "    mse = cnnv1D_result[i]['root_mean_squared_error']\n",
    "    plt.plot(mse)\n",
    "    plt.title('Training Mse for Conv1D')"
   ]
  },
  {
   "cell_type": "code",
   "execution_count": 24,
   "id": "1fb2a1f6",
   "metadata": {
    "scrolled": false
   },
   "outputs": [
    {
     "name": "stdout",
     "output_type": "stream",
     "text": [
      "26/26 [==============================] - 1s 4ms/step\n"
     ]
    },
    {
     "data": {
      "text/plain": [
       "[<matplotlib.lines.Line2D at 0x1c71e2035e0>]"
      ]
     },
     "execution_count": 24,
     "metadata": {},
     "output_type": "execute_result"
    },
    {
     "data": {
      "image/png": "[encoded data removed]",
      "text/plain": [
       "<Figure size 432x288 with 1 Axes>"
      ]
     },
     "metadata": {
      "needs_background": "light"
     },
     "output_type": "display_data"
    }
   ],
   "source": [
    "cnn1D_enc_predict = autoencoder.predict(test_dataset, verbose = True)\n",
    "plt.title(\"conv1D_enc_prediction\")\n",
    "plt.plot(cnn1D_enc_predict)"
   ]
  },
  {
   "cell_type": "code",
   "execution_count": 25,
   "id": "8744679a",
   "metadata": {
    "scrolled": false
   },
   "outputs": [
    {
     "data": {
      "text/plain": [
       "(array([  2.,  33.,   7.,  17.,  26.,  54.,  90., 198., 291., 114.]),\n",
       " array([0.85797966, 0.8687812 , 0.87958276, 0.8903843 , 0.90118587,\n",
       "        0.9119874 , 0.92278904, 0.9335906 , 0.94439214, 0.9551937 ,\n",
       "        0.96599525], dtype=float32),\n",
       " <BarContainer object of 10 artists>)"
      ]
     },
     "execution_count": 25,
     "metadata": {},
     "output_type": "execute_result"
    },
    {
     "data": {
      "image/png": "[encoded data removed]",
      "text/plain": [
       "<Figure size 432x288 with 1 Axes>"
      ]
     },
     "metadata": {
      "needs_background": "light"
     },
     "output_type": "display_data"
    }
   ],
   "source": [
    "plt.title(\"conv1D_enc_prediction hist\")\n",
    "plt.hist(cnn1D_enc_predict)"
   ]
  },
  {
   "cell_type": "code",
   "execution_count": 26,
   "id": "626027f5",
   "metadata": {},
   "outputs": [
    {
     "name": "stdout",
     "output_type": "stream",
     "text": [
      "26/26 [==============================] - 0s 2ms/step\n"
     ]
    },
    {
     "data": {
      "text/plain": [
       "[<matplotlib.lines.Line2D at 0x1c71e350160>]"
      ]
     },
     "execution_count": 26,
     "metadata": {},
     "output_type": "execute_result"
    },
    {
     "data": {
      "image/png": "[encoded data removed]",
      "text/plain": [
       "<Figure size 432x288 with 1 Axes>"
      ]
     },
     "metadata": {
      "needs_background": "light"
     },
     "output_type": "display_data"
    }
   ],
   "source": [
    "conv1D_predict = conv1D.predict(test_dataset, verbose = True)\n",
    "plt.title(\"conv1D_prediction\")\n",
    "plt.plot(conv1D_predict)"
   ]
  },
  {
   "cell_type": "code",
   "execution_count": 27,
   "id": "4bcd3ed6",
   "metadata": {
    "scrolled": false
   },
   "outputs": [
    {
     "data": {
      "text/plain": [
       "(array([ 25.,   0.,   0.,   0.,   0.,   0.,   0.,   0.,   7., 800.]),\n",
       " array([0.5308925 , 0.5769984 , 0.6231044 , 0.6692103 , 0.7153163 ,\n",
       "        0.7614222 , 0.80752814, 0.8536341 , 0.89974004, 0.945846  ,\n",
       "        0.99195194], dtype=float32),\n",
       " <BarContainer object of 10 artists>)"
      ]
     },
     "execution_count": 27,
     "metadata": {},
     "output_type": "execute_result"
    },
    {
     "data": {
      "image/png": "[encoded data removed]",
      "text/plain": [
       "<Figure size 432x288 with 1 Axes>"
      ]
     },
     "metadata": {
      "needs_background": "light"
     },
     "output_type": "display_data"
    }
   ],
   "source": [
    "plt.title(\"conv1D_predict hist\")\n",
    "plt.hist(conv1D_predict)"
   ]
  },
  {
   "cell_type": "code",
   "execution_count": 30,
   "id": "b49e0d50",
   "metadata": {},
   "outputs": [
    {
     "data": {
      "image/png": "[encoded data removed]",
      "text/plain": [
       "<Figure size 432x288 with 1 Axes>"
      ]
     },
     "metadata": {
      "needs_background": "light"
     },
     "output_type": "display_data"
    }
   ],
   "source": [
    "for i in range(NFOLD-1):\n",
    "    loss = cnnv1D_result[i]['loss']\n",
    "    plt.title(\"conv1D distribution loss\")\n",
    "    plt.hist(loss)"
   ]
  },
  {
   "cell_type": "code",
   "execution_count": 31,
   "id": "b5dc26a5",
   "metadata": {},
   "outputs": [
    {
     "data": {
      "image/png": "[encoded data removed]",
      "text/plain": [
       "<Figure size 432x288 with 1 Axes>"
      ]
     },
     "metadata": {
      "needs_background": "light"
     },
     "output_type": "display_data"
    }
   ],
   "source": [
    "for i in range(NFOLD-1):\n",
    "    loss = cnn1D_encoder_result[i]['loss']\n",
    "    plt.title(\"conv1D encoder  loss distribution\")\n",
    "    plt.hist(loss)"
   ]
  },
  {
   "cell_type": "code",
   "execution_count": null,
   "id": "55eaec38",
   "metadata": {},
   "outputs": [],
   "source": []
  }
 ],
 "metadata": {
  "kernelspec": {
   "display_name": "Python 3",
   "language": "python",
   "name": "python3"
  },
  "language_info": {
   "codemirror_mode": {
    "name": "ipython",
    "version": 3
   },
   "file_extension": ".py",
   "mimetype": "text/x-python",
   "name": "python",
   "nbconvert_exporter": "python",
   "pygments_lexer": "ipython3",
   "version": "3.9.7"
  }
 },
 "nbformat": 4,
 "nbformat_minor": 5
}
